{
 "metadata": {
  "name": "",
  "signature": "sha256:bdc86c95291b4c0088fd109e5f844d8e9e5ee4e03dac9e0961dc3eaffaba80d2"
 },
 "nbformat": 3,
 "nbformat_minor": 0,
 "worksheets": [
  {
   "cells": [
    {
     "cell_type": "code",
     "collapsed": false,
     "input": [
      "import ocgis\n",
      "from ocgis import RequestDataset , RequestDatasetCollection"
     ],
     "language": "python",
     "metadata": {},
     "outputs": [],
     "prompt_number": 1
    },
    {
     "cell_type": "code",
     "collapsed": false,
     "input": [
      "from shapely.geometry import Point\n",
      "import numpy as np\n",
      "import os\n",
      "import matplotlib.pyplot as plt\n",
      "import pandas as pd\n",
      "from pandas import DataFrame, read_csv\n",
      "import datetime as dt\n",
      "from IPython.display import display, clear_output"
     ],
     "language": "python",
     "metadata": {},
     "outputs": [],
     "prompt_number": 2
    },
    {
     "cell_type": "code",
     "collapsed": false,
     "input": [
      "\n",
      "if 'obelix' in os.uname()[1] or 'asterix' in os.uname()[1]:\n",
      "    env = '/home/estimr2/nhempelmann'\n",
      "else: \n",
      "    env = os.getenv('HOME')"
     ],
     "language": "python",
     "metadata": {},
     "outputs": [],
     "prompt_number": 3
    },
    {
     "cell_type": "code",
     "collapsed": false,
     "input": [
      "uk_st = ['Oxford_606','Rothamsted_471','Wisley_719','BognorRegis_782','CambridgeBG_454','Eastbourne_808','EastMalling_744','Goodhurst_742','Hampstead_695','HamptonWWks_711','Larkhill_888','OtterbourneWWks_855','WightShanklin_878','Woburn_458']\n",
      "brit_st = ['ID29082001', 'ID29075001', 'ID22168001', 'ID29018001', 'ID22266001', 'ID29168001']\n",
      "nor_st = ['ID61001001', 'ID14239001',  'ID76259001','ID27306001', 'ID14137001', 'ID61479001', 'ID61328001','ID50144001','ID76302002','ID76312001',  'ID14578001', 'ID27165001',  'ID27016001']\n",
      "\n",
      "# Bias adjusted Data: \n",
      "UKRAIN = '/home/estimr2/rvautard/UKRAIN/V1/pr'\n",
      "DRIAS  = '/home/estimr2/rvautard/DRIAS/V1/pr'\n",
      "temppath = '/home/estimr2/nhempelmann/data/euclia/temp/'\n",
      "temp2path = '/home/estimr2/nhempelmann/data/euclia/temp2/'"
     ],
     "language": "python",
     "metadata": {},
     "outputs": [],
     "prompt_number": 4
    },
    {
     "cell_type": "code",
     "collapsed": false,
     "input": [
      "c_brit = [('PERROS-GUIREC', [-3.2823, 48.4933]),\n",
      "          ('ROSTRENEN',[-3.1828, 48.1353]), \n",
      "          ('BRENNILIS',[-3.5107, 48.2137]),\n",
      "          ('GUIPAVAS', [-4.2443, 48.2639]), \n",
      "          ('ILE-DE-BATZ', [-4.0043, 48.4447]),\n",
      "          ('PLOGOFF',[-4.4355, 48.0220]),\n",
      "          ('BLERUAIS',[-2.0727,48.0641]),\n",
      "          ('ERBREE',[-1.0731,48.0556]),\n",
      "          ('MEZIERES-SUR-COUESNON',[-1.2619,48.1831]),         \n",
      "          ('AIGREFEUILLE-SUR-MAINE',[-1.2331,47.0359]),\n",
      "          ('GUEMENE-PENFAO',[-1.4956,47.3759]),\n",
      "          ('LA_HAIE-FOUASSIERE',[-1.2305,47.0943]),\n",
      "          ('NOZAY',[-1.3637,47.3411]),\n",
      "          ('PONTCHATEAU',[-2.0535,47.2635]),\n",
      "          ('SAINT-PHILBERT-DE-GRAND-LIEU',[-1.3910,47.0145])]\n",
      "\n",
      "c_nonsafran = [('AURAY',[47.3933,-2.5816]), \n",
      "               ('GROIX',[47.3908,-3.3008]), \n",
      "               ('QUEVEN',[47.4546,-3.2608])]\n",
      "\n",
      "c_uk = [('Oxford_606',[-1.2625, 51.7607]),\n",
      "        ('Rothamsted_471',[-0.3586,51.8062]),\n",
      "        ('Wisley_719',[-0.4748,51.3103]),\n",
      "        ('BognorRegis_782',[-0.6750,50.7810]),\n",
      "        ('CambridgeBG_454',[0.1310,52.1930]),\n",
      "        ('Eastbourne_808',[0.2850,50.7620]),\n",
      "        ('EastMalling_744',[-0.4500,51.2870]),\n",
      "        ('Goodhurst_742',[0.4610,51.0760]),\n",
      "        ('Hampstead_695',[-0.1780,51.5600]),\n",
      "        ('HamptonWWks_711',[-0.3780,51.4120]),\n",
      "        ('Larkhill_888',[-1.8040,51.2010]),\n",
      "        ('OtterbourneWWks_855',[-1.3340,51.0080]),\n",
      "        ('WightShanklin_878',[-1.1790,50.6230]),\n",
      "        ('Woburn_458',[-0.5950,52.0140])]\n",
      "\n",
      "c_nor = [('CARPIQUET', [-0.2722,49.1048]), \n",
      "         ('ENGLESQUEVILLE-LA-PERCEE',[-0.5722 , 49.2312]), \n",
      "         ('SAINT-GATIEN-DES-BOIS', [0.1001 , 49.2152]),\n",
      "         ('LES_ANDELYS', [1.2446, 49.1441]),\n",
      "         ('CONCHES-EN-OUCHE',[0.5616, 48.5719]),\n",
      "         ('GUICHAINVILLE',[1.1054,48.5837]),\n",
      "         ('COULOUVRAY-BOISBENATRE',[-1.0606, 48.4707]),\n",
      "         ('ALENCON',[0.0637 , 48.2644]),\n",
      "         ('LE_PIN-AU-HARAS',[0.1051, 48.4330]),\n",
      "         ('TANQUES',[-0.0444, 48.4031]), \n",
      "         ('FECAMP',[0.2209, 49.4602]),\n",
      "         ('GODERVILLE',[0.2213, 49.3841]), \n",
      "         ('GOURNAY-EN-BRAY',[1.4259, 49.2841])]"
     ],
     "language": "python",
     "metadata": {},
     "outputs": [],
     "prompt_number": 5
    },
    {
     "cell_type": "code",
     "collapsed": false,
     "input": [
      "# dir outputs for timeseries \n",
      "#os.path.join(env+'/data/euclia/ts_drias/uk')"
     ],
     "language": "python",
     "metadata": {},
     "outputs": [],
     "prompt_number": 6
    },
    {
     "cell_type": "code",
     "collapsed": false,
     "input": [
      "os.path.exists(os.path.join(env+'/data/euclia/ts_bc_cordex'))"
     ],
     "language": "python",
     "metadata": {},
     "outputs": [
      {
       "metadata": {},
       "output_type": "pyout",
       "prompt_number": 7,
       "text": [
        "True"
       ]
      }
     ],
     "prompt_number": 7
    },
    {
     "cell_type": "code",
     "collapsed": false,
     "input": [
      "# dir outputs for timeseries \n",
      "if not os.path.exists(os.path.join(env+'/data/euclia/ts_bc_cordex')): \n",
      "    os.makedirs(env+'/data/euclia/ts_bc_cordex')    "
     ],
     "language": "python",
     "metadata": {},
     "outputs": [],
     "prompt_number": 8
    },
    {
     "cell_type": "code",
     "collapsed": false,
     "input": [
      "# set up the workspace\n",
      "ocgis.env.OVERWRITE = True\n",
      "ocgis.env.USE_CFUNITS = True\n",
      "\n",
      "files_FRA = [f for f in os.listdir(DRIAS) if os.path.isfile(os.path.join(DRIAS,f))]\n",
      "files_UK = [f for f in os.listdir(UKRAIN) if os.path.isfile(os.path.join(UKRAIN,f))]"
     ],
     "language": "python",
     "metadata": {},
     "outputs": [],
     "prompt_number": 9
    },
    {
     "cell_type": "code",
     "collapsed": false,
     "input": [
      "# rds.inspect_as_dct()\n",
      "dir_output = os.path.join(env+'/data/euclia/ts_bc_cordex')\n",
      "calc = 'pr=pr_corr*86400'\n",
      "ocgis.env.OVERWRITE = True\n",
      "ocgis.env.DIR_OUTPUT = dir_output\n",
      "# geom = []"
     ],
     "language": "python",
     "metadata": {},
     "outputs": [],
     "prompt_number": 10
    },
    {
     "cell_type": "code",
     "collapsed": false,
     "input": [
      "#calculation for Brittany\n",
      "for nc in files_FRA:\n",
      "    if 'CM5A-MR_WRF331F' in nc: \n",
      "        dimension_map = {'X': {'variable': 'lon', 'dimension': 'x', 'pos': 2},\n",
      "                    'Y': {'variable': 'lat', 'dimension': 'y', 'pos': 1},\n",
      "                    'T': {'variable': 'time', 'dimension': 'time', 'pos': 0}}\n",
      "    elif 'CNRM-CM5_CNRM-ALADIN53' in nc: \n",
      "        dimension_map = {'X': {'variable': 'lon', 'dimension': 'x', 'pos': 2},\n",
      "                    'Y': {'variable': 'lat', 'dimension': 'y', 'pos': 1},\n",
      "                    'T': {'variable': 'time', 'dimension': 'time', 'pos': 0}}\n",
      "    elif 'MPI-ESM-LR_REMO019' in nc: \n",
      "        dimension_map = {'X': {'variable': 'lon', 'dimension': 'x', 'pos': 2},\n",
      "                    'Y': {'variable': 'lat', 'dimension': 'y', 'pos': 1},\n",
      "                    'T': {'variable': 'time', 'dimension': 'time', 'pos': 0}}\n",
      "    else:     \n",
      "        dimension_map = {'X': {'variable': 'lon', 'dimension': 'x', 'pos': 2},\n",
      "                    'Y': {'variable': 'lat', 'dimension': 'y', 'pos': 1},\n",
      "                    'T': {'variable': 'time', 'dimension': 'time', 'pos': 0, 'bounds': 'time_bnds'}}\n",
      "\n",
      "    if 'IPSL-IPSL-CM5A-MR_WRF331F' in nc: \n",
      "        rds = RequestDataset( os.path.join(temppath,nc), \n",
      "                             'pr_corr', dimension_map=dimension_map, time_region = {'month':[12,1,2]} )\n",
      "    elif 'MPI-ESM-LR_REMO019' in nc: \n",
      "        rds = RequestDataset( os.path.join(temppath,nc), \n",
      "                             'pr_corr', dimension_map=dimension_map, time_region = {'month':[12,1,2]} )\n",
      "    else: \n",
      "        rds = RequestDataset( os.path.join(DRIAS,nc), \n",
      "                             'pr_corr', dimension_map=dimension_map, time_region = {'month':[12,1,2]} )\n",
      "    \n",
      "    for ugid, c in enumerate(c_brit, start=1):\n",
      "        if os.path.exists(os.path.join(dir_output+'/%s_%s' % (c[0], nc))):\n",
      "            print '%s_%s allready exists'  % (c[0], nc)\n",
      "            clear_output(wait=True)\n",
      "        else:    \n",
      "            try: \n",
      "                point = Point(c[1][0], c[1][1])\n",
      "                prefix = '%s_%s' % (c[0], nc.replace('.nc',''))\n",
      "                print 'Calculation of %s' % (prefix)\n",
      "                # geom.append({'geom': point, 'properties': {'UGID': ugid, 'COUNTRY': c[0] }})\n",
      "                ops = ocgis.OcgOperations(dataset=rds, geom=point, prefix=prefix, calc=calc, \n",
      "                                      select_nearest=True, dir_output=dir_output, output_format='nc',\n",
      "                                      allow_empty=True, add_auxiliary_files=False)\n",
      "                ret = ops.execute()\n",
      "                clear_output(wait=True)\n",
      "            except Exception as e:\n",
      "                print 'failed for file : %s \\n %s ' % (nc, e )\n",
      " \n",
      "print '***** Finished'                "
     ],
     "language": "python",
     "metadata": {},
     "outputs": [
      {
       "output_type": "stream",
       "stream": "stdout",
       "text": [
        "***** Finished\n"
       ]
      }
     ],
     "prompt_number": 11
    },
    {
     "cell_type": "code",
     "collapsed": false,
     "input": [
      "for nc in files_FRA:\n",
      "    if 'CM5A-MR_WRF331F' in nc: \n",
      "        dimension_map = {'X': {'variable': 'lon', 'dimension': 'x', 'pos': 2},\n",
      "                    'Y': {'variable': 'lat', 'dimension': 'y', 'pos': 1},\n",
      "                    'T': {'variable': 'time', 'dimension': 'time', 'pos': 0}}\n",
      "    elif 'CNRM-CM5_CNRM-ALADIN53' in nc: \n",
      "        dimension_map = {'X': {'variable': 'lon', 'dimension': 'x', 'pos': 2},\n",
      "                    'Y': {'variable': 'lat', 'dimension': 'y', 'pos': 1},\n",
      "                    'T': {'variable': 'time', 'dimension': 'time', 'pos': 0}}\n",
      "    elif 'MPI-ESM-LR_REMO019' in nc: \n",
      "        dimension_map = {'X': {'variable': 'lon', 'dimension': 'x', 'pos': 2},\n",
      "                    'Y': {'variable': 'lat', 'dimension': 'y', 'pos': 1},\n",
      "                    'T': {'variable': 'time', 'dimension': 'time', 'pos': 0}}\n",
      "    else:     \n",
      "        dimension_map = {'X': {'variable': 'lon', 'dimension': 'x', 'pos': 2},\n",
      "                    'Y': {'variable': 'lat', 'dimension': 'y', 'pos': 1},\n",
      "                    'T': {'variable': 'time', 'dimension': 'time', 'pos': 0, 'bounds': 'time_bnds'}}\n",
      "    if 'IPSL-IPSL-CM5A-MR_WRF331F' in nc: \n",
      "        rds = RequestDataset( os.path.join(temppath,nc), \n",
      "                             'pr_corr', dimension_map=dimension_map, time_region = {'month':[12,1,2]} )\n",
      "    elif 'MPI-ESM-LR_REMO019' in nc: \n",
      "        rds = RequestDataset( os.path.join(temppath,nc), \n",
      "                             'pr_corr', dimension_map=dimension_map, time_region = {'month':[12,1,2]} )\n",
      "    else: \n",
      "        rds = RequestDataset( os.path.join(DRIAS,nc), \n",
      "                             'pr_corr', dimension_map=dimension_map, time_region = {'month':[12,1,2]} )\n",
      "    for ugid, c in enumerate(c_nor, start=1):        \n",
      "        if os.path.exists(os.path.join(dir_output+'/%s_%s' % (c[0], nc))):\n",
      "            print '%s_%s allready exists'  % (c[0], nc)\n",
      "            clear_output(wait=True)\n",
      "        else:    \n",
      "            try: \n",
      "                point = Point(c[1][0], c[1][1])\n",
      "                prefix = '%s_%s' % (c[0], nc.replace('.nc',''))\n",
      "                print 'Calculation of %s' % (prefix)\n",
      "                # geom.append({'geom': point, 'properties': {'UGID': ugid, 'COUNTRY': c[0] }})\n",
      "                ops = ocgis.OcgOperations(dataset=rds, geom=point, prefix=prefix, calc=calc, \n",
      "                                      select_nearest=True, dir_output=dir_output, output_format='nc',\n",
      "                                      allow_empty=True, add_auxiliary_files=False)\n",
      "                ret = ops.execute()\n",
      "                clear_output(wait=True)\n",
      "            except Exception as e:\n",
      "                print 'failed for file : %s \\n %s ' % (nc, e )\n",
      "print '***** finished'            "
     ],
     "language": "python",
     "metadata": {},
     "outputs": [
      {
       "output_type": "stream",
       "stream": "stdout",
       "text": [
        "***** finished\n"
       ]
      }
     ],
     "prompt_number": 14
    },
    {
     "cell_type": "code",
     "collapsed": false,
     "input": [
      "for nc in files_UK:\n",
      "    if 'CM5A-MR_WRF331F' in nc: \n",
      "        dimension_map = {'X': {'variable': 'lon', 'dimension': 'x', 'pos': 2},\n",
      "                    'Y': {'variable': 'lat', 'dimension': 'y', 'pos': 1},\n",
      "                    'T': {'variable': 'time', 'dimension': 'time', 'pos': 0}}\n",
      "    elif 'CNRM-CM5_CNRM-ALADIN53' in nc: \n",
      "        dimension_map = {'X': {'variable': 'lon', 'dimension': 'x', 'pos': 2},\n",
      "                    'Y': {'variable': 'lat', 'dimension': 'y', 'pos': 1},\n",
      "                    'T': {'variable': 'time', 'dimension': 'time', 'pos': 0}}\n",
      "    elif 'MPI-ESM-LR_REMO019' in nc: \n",
      "        dimension_map = {'X': {'variable': 'lon', 'dimension': 'x', 'pos': 2},\n",
      "                    'Y': {'variable': 'lat', 'dimension': 'y', 'pos': 1},\n",
      "                    'T': {'variable': 'time', 'dimension': 'time', 'pos': 0}}\n",
      "    else:     \n",
      "        dimension_map = {'X': {'variable': 'lon', 'dimension': 'x', 'pos': 2},\n",
      "                    'Y': {'variable': 'lat', 'dimension': 'y', 'pos': 1},\n",
      "                    'T': {'variable': 'time', 'dimension': 'time', 'pos': 0, 'bounds': 'time_bnds'}}\n",
      "    if 'IPSL-IPSL-CM5A-MR_WRF331F' in nc: \n",
      "        rds = RequestDataset( os.path.join(temp2path,nc), \n",
      "                             'pr_corr', dimension_map=dimension_map, time_region = {'month':[12,1,2]} )\n",
      "    elif 'MPI-ESM-LR_REMO019' in nc: \n",
      "        rds = RequestDataset( os.path.join(temp2path,nc), \n",
      "                             'pr_corr', dimension_map=dimension_map, time_region = {'month':[12,1,2]} )\n",
      "    else: \n",
      "        rds = RequestDataset( os.path.join(UKRAIN,nc), 'pr_corr', dimension_map=dimension_map, time_region = {'month':[12,1,2]} )\n",
      "    for ugid, c in enumerate(c_uk, start=1):\n",
      "        if os.path.exists(os.path.join(dir_output+'/%s_%s' % (c[0], nc))):\n",
      "            print '%s_%s allready exists'  % (c[0], nc)\n",
      "            clear_output(wait=True)\n",
      "        else:\n",
      "            try: \n",
      "                point = Point(c[1][0], c[1][1])\n",
      "                prefix = '%s_%s' % (c[0], nc.replace('.nc',''))\n",
      "                print 'Calculation of %s' % (prefix)\n",
      "                # geom.append({'geom': point, 'properties': {'UGID': ugid, 'COUNTRY': c[0] }})\n",
      "                ops = ocgis.OcgOperations(dataset=rds, geom=point, prefix=prefix, calc=calc, \n",
      "                                      select_nearest=True, dir_output=dir_output, output_format='nc',\n",
      "                                      allow_empty=True, add_auxiliary_files=False)\n",
      "                ret = ops.execute()\n",
      "                clear_output(wait=True)\n",
      "            except Exception as e:\n",
      "                print 'failed for file : %s \\n %s ' % (nc, e )\n",
      "print '***** finished'               "
     ],
     "language": "python",
     "metadata": {},
     "outputs": [
      {
       "output_type": "stream",
       "stream": "stdout",
       "text": [
        "***** finished\n"
       ]
      }
     ],
     "prompt_number": 15
    },
    {
     "cell_type": "code",
     "collapsed": false,
     "input": [],
     "language": "python",
     "metadata": {},
     "outputs": []
    }
   ],
   "metadata": {}
  }
 ]
}