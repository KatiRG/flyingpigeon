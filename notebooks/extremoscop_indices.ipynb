{
 "cells": [
  {
   "cell_type": "code",
   "execution_count": 11,
   "metadata": {
    "collapsed": false
   },
   "outputs": [],
   "source": [
    "#import tempfile\n",
    "import os\n",
    "import datetime\n",
    "import ocgis \n",
    "from ocgis.util.shp_process import ShpProcess\n",
    "from ocgis.util.shp_cabinet import ShpCabinetIterator\n",
    "from cdo import *   # python version\n",
    "cdo = Cdo()"
   ]
  },
  {
   "cell_type": "code",
   "execution_count": 2,
   "metadata": {
    "collapsed": true
   },
   "outputs": [],
   "source": [
    "# define the environment\n",
    "if 'obelix' in os.uname()[1] or 'asterix' in os.uname()[1]:\n",
    "    HOME = os.getenv('HOME')\n",
    "    OUT_PATH = '/home/estimr2/nhempelmann/data/extremoscop/'\n",
    "    IN_DIR = '/home/estimr2/rvautard/BCCORDEX/DRIAS/V1/'\n",
    "else: \n",
    "    HOME = os.getenv('HOME')\n",
    "    OUT_DIR = HOME+'/data/extremoscop/'"
   ]
  },
  {
   "cell_type": "code",
   "execution_count": 3,
   "metadata": {
    "collapsed": true
   },
   "outputs": [],
   "source": [
    "# define ocgis environment\n",
    "\n",
    "ocgis.env.OVERWRITE = True\n",
    "ocgis.env.USE_CFUNITS = True\n",
    "SHP_DIR = os.path.join(HOME + '/birdhouse/flyingpigeon/flyingpigeon/processes/shapefiles/FRA/')\n",
    "ocgis.env.DIR_SHPCABINET = SHP_DIR\n",
    "#ocgis.env.DIR_OUTPUT = OUT_DIR\n",
    "sc = ocgis.ShpCabinet()\n",
    "geoms = 'regions-2016'\n",
    "sci = ShpCabinetIterator(geoms)"
   ]
  },
  {
   "cell_type": "code",
   "execution_count": 4,
   "metadata": {
    "collapsed": false
   },
   "outputs": [],
   "source": [
    "ref_19611900 = [datetime.datetime(1961,1,1),datetime.datetime(1990,12,31)]\n",
    "ref_19712000 = [datetime.datetime(1971,1,1),datetime.datetime(2000,12,31)]\n",
    "ref_19762005 = [datetime.datetime(1976,1,1),datetime.datetime(2005,12,31)]\n",
    "vars = ['pr', 'tas', 'tasmin', 'tasmax']\n",
    "indices = ['R20mm']"
   ]
  },
  {
   "cell_type": "code",
   "execution_count": 5,
   "metadata": {
    "collapsed": false
   },
   "outputs": [],
   "source": [
    "# get list of files\n",
    "pr_files = os.listdir(IN_DIR +'pr/')\n",
    "tas_files = os.listdir(IN_DIR +'tas/')\n",
    "tasmin_files = os.listdir(IN_DIR +'tasmin/')\n",
    "tasmax_files = os.listdir(IN_DIR +'tasmax/')"
   ]
  },
  {
   "cell_type": "code",
   "execution_count": 15,
   "metadata": {
    "collapsed": false
   },
   "outputs": [
    {
     "data": {
      "text/plain": [
       "'/home/estimr2/rvautard/BCCORDEX/DRIAS/V1/'"
      ]
     },
     "execution_count": 15,
     "metadata": {},
     "output_type": "execute_result"
    }
   ],
   "source": [
    "IN_DIR"
   ]
  },
  {
   "cell_type": "code",
   "execution_count": 17,
   "metadata": {
    "collapsed": true
   },
   "outputs": [],
   "source": [
    "geom_select_sql_where = \"'name' = 'Alsace, Champagne-Ardenne et Lorraine'\"\n",
    "geom_select_uid = [1]"
   ]
  },
  {
   "cell_type": "code",
   "execution_count": 31,
   "metadata": {
    "collapsed": false
   },
   "outputs": [
    {
     "name": "stdout",
     "output_type": "stream",
     "text": [
      "R20mm_rcp85_ICHEC-EC-EARTH_HIRHAM5_1971-2100 already processed\n",
      "R20mm_rcp85_ICHEC-EC-EARTH_HIRHAM5_1971-2100 already processed\n",
      "R20mm_rcp85_ICHEC-EC-EARTH_HIRHAM5_1971-2100 already processed\n",
      "R20mm_rcp85_ICHEC-EC-EARTH_HIRHAM5_1971-2100 already processed\n",
      "R20mm_rcp85_ICHEC-EC-EARTH_HIRHAM5_1971-2100 already processed\n",
      "R20mm_rcp85_ICHEC-EC-EARTH_HIRHAM5_1971-2100 already processed\n",
      "R20mm_rcp85_ICHEC-EC-EARTH_HIRHAM5_1971-2100 already processed\n",
      "R20mm_rcp85_ICHEC-EC-EARTH_HIRHAM5_1971-2100 already processed\n",
      "R20mm_rcp85_ICHEC-EC-EARTH_HIRHAM5_1971-2100 already processed\n",
      "R20mm_rcp85_ICHEC-EC-EARTH_HIRHAM5_1971-2100 already processed\n",
      "R20mm_rcp85_ICHEC-EC-EARTH_HIRHAM5_1971-2100 already processed\n",
      "R20mm_rcp85_ICHEC-EC-EARTH_HIRHAM5_1971-2100 already processed\n",
      "R20mm_rcp85_ICHEC-EC-EARTH_HIRHAM5_1971-2100 already processed\n",
      "R20mm_rcp85_IPSL-IPSL-CM5A-MR_RCA4_1971-2100 already processed\n",
      "R20mm_rcp85_IPSL-IPSL-CM5A-MR_RCA4_1971-2100 already processed\n",
      "R20mm_rcp85_IPSL-IPSL-CM5A-MR_RCA4_1971-2100 already processed\n",
      "R20mm_rcp85_IPSL-IPSL-CM5A-MR_RCA4_1971-2100 already processed\n",
      "R20mm_rcp85_IPSL-IPSL-CM5A-MR_RCA4_1971-2100 already processed\n",
      "R20mm_rcp85_IPSL-IPSL-CM5A-MR_RCA4_1971-2100 already processed\n",
      "R20mm_rcp85_IPSL-IPSL-CM5A-MR_RCA4_1971-2100 already processed\n",
      "R20mm_rcp85_IPSL-IPSL-CM5A-MR_RCA4_1971-2100 already processed\n",
      "R20mm_rcp85_IPSL-IPSL-CM5A-MR_RCA4_1971-2100 already processed\n",
      "R20mm_rcp85_IPSL-IPSL-CM5A-MR_RCA4_1971-2100 already processed\n",
      "R20mm_rcp85_IPSL-IPSL-CM5A-MR_RCA4_1971-2100 already processed\n",
      "R20mm_rcp85_IPSL-IPSL-CM5A-MR_RCA4_1971-2100 already processed\n",
      "R20mm_rcp85_IPSL-IPSL-CM5A-MR_RCA4_1971-2100 already processed\n",
      "failed for file : R20mm_rcp85_IPSL-IPSL-CM5A-MR_WRF331F_1971-2100 \n",
      " Without a \"data\" object, \"value\" is required. \n",
      "failed for file : R20mm_rcp85_IPSL-IPSL-CM5A-MR_WRF331F_1971-2100 \n",
      " Without a \"data\" object, \"value\" is required. \n",
      "failed for file : R20mm_rcp85_IPSL-IPSL-CM5A-MR_WRF331F_1971-2100 \n",
      " Without a \"data\" object, \"value\" is required. \n",
      "failed for file : R20mm_rcp85_IPSL-IPSL-CM5A-MR_WRF331F_1971-2100 \n",
      " Without a \"data\" object, \"value\" is required. \n",
      "failed for file : R20mm_rcp85_IPSL-IPSL-CM5A-MR_WRF331F_1971-2100 \n",
      " Without a \"data\" object, \"value\" is required. \n",
      "failed for file : R20mm_rcp85_IPSL-IPSL-CM5A-MR_WRF331F_1971-2100 \n",
      " Without a \"data\" object, \"value\" is required. \n",
      "failed for file : R20mm_rcp85_IPSL-IPSL-CM5A-MR_WRF331F_1971-2100 \n",
      " Without a \"data\" object, \"value\" is required. \n",
      "failed for file : R20mm_rcp85_IPSL-IPSL-CM5A-MR_WRF331F_1971-2100 \n",
      " Without a \"data\" object, \"value\" is required. \n",
      "failed for file : R20mm_rcp85_IPSL-IPSL-CM5A-MR_WRF331F_1971-2100 \n",
      " Without a \"data\" object, \"value\" is required. \n",
      "failed for file : R20mm_rcp85_IPSL-IPSL-CM5A-MR_WRF331F_1971-2100 \n",
      " Without a \"data\" object, \"value\" is required. \n",
      "failed for file : R20mm_rcp85_IPSL-IPSL-CM5A-MR_WRF331F_1971-2100 \n",
      " Without a \"data\" object, \"value\" is required. \n",
      "failed for file : R20mm_rcp85_IPSL-IPSL-CM5A-MR_WRF331F_1971-2100 \n",
      " Without a \"data\" object, \"value\" is required. \n",
      "failed for file : R20mm_rcp85_IPSL-IPSL-CM5A-MR_WRF331F_1971-2100 \n",
      " Without a \"data\" object, \"value\" is required. \n",
      "1 R20mm_rcp85_MetEir-ECEARTH_RACMO22E_1971-2100\n",
      "2 R20mm_rcp85_MetEir-ECEARTH_RACMO22E_1971-2100\n",
      "3 R20mm_rcp85_MetEir-ECEARTH_RACMO22E_1971-2100\n",
      "4 R20mm_rcp85_MetEir-ECEARTH_RACMO22E_1971-2100\n",
      "5 R20mm_rcp85_MetEir-ECEARTH_RACMO22E_1971-2100\n",
      "6 R20mm_rcp85_MetEir-ECEARTH_RACMO22E_1971-2100\n",
      "7 R20mm_rcp85_MetEir-ECEARTH_RACMO22E_1971-2100\n",
      "11 R20mm_rcp85_MetEir-ECEARTH_RACMO22E_1971-2100\n",
      "13 R20mm_rcp85_MetEir-ECEARTH_RACMO22E_1971-2100\n",
      "14 R20mm_rcp85_MetEir-ECEARTH_RACMO22E_1971-2100\n",
      "15 R20mm_rcp85_MetEir-ECEARTH_RACMO22E_1971-2100\n",
      "16 R20mm_rcp85_MetEir-ECEARTH_RACMO22E_1971-2100\n",
      "17 R20mm_rcp85_MetEir-ECEARTH_RACMO22E_1971-2100\n",
      "1 R20mm_rcp85_CNRM-CM5_CNRM-ALADIN53_1971-2100\n",
      "2 R20mm_rcp85_CNRM-CM5_CNRM-ALADIN53_1971-2100\n",
      "3 R20mm_rcp85_CNRM-CM5_CNRM-ALADIN53_1971-2100\n",
      "4 R20mm_rcp85_CNRM-CM5_CNRM-ALADIN53_1971-2100\n",
      "5 R20mm_rcp85_CNRM-CM5_CNRM-ALADIN53_1971-2100\n",
      "6 R20mm_rcp85_CNRM-CM5_CNRM-ALADIN53_1971-2100\n",
      "7 R20mm_rcp85_CNRM-CM5_CNRM-ALADIN53_1971-2100\n",
      "11 R20mm_rcp85_CNRM-CM5_CNRM-ALADIN53_1971-2100\n",
      "13 R20mm_rcp85_CNRM-CM5_CNRM-ALADIN53_1971-2100\n",
      "14 R20mm_rcp85_CNRM-CM5_CNRM-ALADIN53_1971-2100\n",
      "15 R20mm_rcp85_CNRM-CM5_CNRM-ALADIN53_1971-2100\n",
      "16 R20mm_rcp85_CNRM-CM5_CNRM-ALADIN53_1971-2100\n",
      "17 R20mm_rcp85_CNRM-CM5_CNRM-ALADIN53_1971-2100\n",
      "1 R20mm_rcp45_CNRM-CM5_CCLM4-8-17_1971-2100\n",
      "2 R20mm_rcp45_CNRM-CM5_CCLM4-8-17_1971-2100\n",
      "3 R20mm_rcp45_CNRM-CM5_CCLM4-8-17_1971-2100\n",
      "4 R20mm_rcp45_CNRM-CM5_CCLM4-8-17_1971-2100\n",
      "5 R20mm_rcp45_CNRM-CM5_CCLM4-8-17_1971-2100\n",
      "6 R20mm_rcp45_CNRM-CM5_CCLM4-8-17_1971-2100\n",
      "7 R20mm_rcp45_CNRM-CM5_CCLM4-8-17_1971-2100\n",
      "11 R20mm_rcp45_CNRM-CM5_CCLM4-8-17_1971-2100\n",
      "13 R20mm_rcp45_CNRM-CM5_CCLM4-8-17_1971-2100\n",
      "14 R20mm_rcp45_CNRM-CM5_CCLM4-8-17_1971-2100\n",
      "15 R20mm_rcp45_CNRM-CM5_CCLM4-8-17_1971-2100\n",
      "16 R20mm_rcp45_CNRM-CM5_CCLM4-8-17_1971-2100\n",
      "17 R20mm_rcp45_CNRM-CM5_CCLM4-8-17_1971-2100\n",
      "1 R20mm_rcp45_CNRM-CM5_CNRM-ALADIN53_1971-2100\n",
      "2 R20mm_rcp45_CNRM-CM5_CNRM-ALADIN53_1971-2100\n",
      "3 R20mm_rcp45_CNRM-CM5_CNRM-ALADIN53_1971-2100\n",
      "4 R20mm_rcp45_CNRM-CM5_CNRM-ALADIN53_1971-2100\n",
      "5 R20mm_rcp45_CNRM-CM5_CNRM-ALADIN53_1971-2100\n",
      "6 R20mm_rcp45_CNRM-CM5_CNRM-ALADIN53_1971-2100\n",
      "7 R20mm_rcp45_CNRM-CM5_CNRM-ALADIN53_1971-2100\n",
      "11 R20mm_rcp45_CNRM-CM5_CNRM-ALADIN53_1971-2100\n",
      "13 R20mm_rcp45_CNRM-CM5_CNRM-ALADIN53_1971-2100\n",
      "14 R20mm_rcp45_CNRM-CM5_CNRM-ALADIN53_1971-2100\n",
      "15 R20mm_rcp45_CNRM-CM5_CNRM-ALADIN53_1971-2100\n",
      "16 R20mm_rcp45_CNRM-CM5_CNRM-ALADIN53_1971-2100\n",
      "17 R20mm_rcp45_CNRM-CM5_CNRM-ALADIN53_1971-2100\n",
      "1 R20mm_rcp45_ICHEC-EC-EARTH_RCA4_1971-2100\n",
      "2 R20mm_rcp45_ICHEC-EC-EARTH_RCA4_1971-2100\n",
      "3 R20mm_rcp45_ICHEC-EC-EARTH_RCA4_1971-2100\n",
      "4 R20mm_rcp45_ICHEC-EC-EARTH_RCA4_1971-2100\n",
      "5 R20mm_rcp45_ICHEC-EC-EARTH_RCA4_1971-2100\n",
      "6 R20mm_rcp45_ICHEC-EC-EARTH_RCA4_1971-2100\n",
      "7 R20mm_rcp45_ICHEC-EC-EARTH_RCA4_1971-2100\n",
      "11 R20mm_rcp45_ICHEC-EC-EARTH_RCA4_1971-2100\n",
      "13 R20mm_rcp45_ICHEC-EC-EARTH_RCA4_1971-2100\n",
      "14 R20mm_rcp45_ICHEC-EC-EARTH_RCA4_1971-2100\n",
      "15 R20mm_rcp45_ICHEC-EC-EARTH_RCA4_1971-2100\n",
      "16 R20mm_rcp45_ICHEC-EC-EARTH_RCA4_1971-2100\n",
      "17 R20mm_rcp45_ICHEC-EC-EARTH_RCA4_1971-2100\n",
      "failed for file : R20mm_rcp45_MPI-ESM-LR_REMO019_1971-2100 \n",
      " Without a \"data\" object, \"value\" is required. \n",
      "failed for file : R20mm_rcp45_MPI-ESM-LR_REMO019_1971-2100 \n",
      " Without a \"data\" object, \"value\" is required. \n",
      "failed for file : R20mm_rcp45_MPI-ESM-LR_REMO019_1971-2100 \n",
      " Without a \"data\" object, \"value\" is required. \n",
      "failed for file : R20mm_rcp45_MPI-ESM-LR_REMO019_1971-2100 \n",
      " Without a \"data\" object, \"value\" is required. \n",
      "failed for file : R20mm_rcp45_MPI-ESM-LR_REMO019_1971-2100 \n",
      " Without a \"data\" object, \"value\" is required. \n",
      "failed for file : R20mm_rcp45_MPI-ESM-LR_REMO019_1971-2100 \n",
      " Without a \"data\" object, \"value\" is required. \n",
      "failed for file : R20mm_rcp45_MPI-ESM-LR_REMO019_1971-2100 \n",
      " Without a \"data\" object, \"value\" is required. \n",
      "failed for file : R20mm_rcp45_MPI-ESM-LR_REMO019_1971-2100 \n",
      " Without a \"data\" object, \"value\" is required. \n",
      "failed for file : R20mm_rcp45_MPI-ESM-LR_REMO019_1971-2100 \n",
      " Without a \"data\" object, \"value\" is required. \n",
      "failed for file : R20mm_rcp45_MPI-ESM-LR_REMO019_1971-2100 \n",
      " Without a \"data\" object, \"value\" is required. \n",
      "failed for file : R20mm_rcp45_MPI-ESM-LR_REMO019_1971-2100 \n",
      " Without a \"data\" object, \"value\" is required. \n",
      "failed for file : R20mm_rcp45_MPI-ESM-LR_REMO019_1971-2100 \n",
      " Without a \"data\" object, \"value\" is required. \n",
      "failed for file : R20mm_rcp45_MPI-ESM-LR_REMO019_1971-2100 \n",
      " Without a \"data\" object, \"value\" is required. \n",
      "1 R20mm_rcp85_MPI-M-MPI-ESM-LR_RCA4_1971-2100\n",
      "2 R20mm_rcp85_MPI-M-MPI-ESM-LR_RCA4_1971-2100\n",
      "3 R20mm_rcp85_MPI-M-MPI-ESM-LR_RCA4_1971-2100\n",
      "4 R20mm_rcp85_MPI-M-MPI-ESM-LR_RCA4_1971-2100\n",
      "5 R20mm_rcp85_MPI-M-MPI-ESM-LR_RCA4_1971-2100\n",
      "6 R20mm_rcp85_MPI-M-MPI-ESM-LR_RCA4_1971-2100\n",
      "7 R20mm_rcp85_MPI-M-MPI-ESM-LR_RCA4_1971-2100\n",
      "11 R20mm_rcp85_MPI-M-MPI-ESM-LR_RCA4_1971-2100\n",
      "13 R20mm_rcp85_MPI-M-MPI-ESM-LR_RCA4_1971-2100\n",
      "14 R20mm_rcp85_MPI-M-MPI-ESM-LR_RCA4_1971-2100\n",
      "15 R20mm_rcp85_MPI-M-MPI-ESM-LR_RCA4_1971-2100\n",
      "16 R20mm_rcp85_MPI-M-MPI-ESM-LR_RCA4_1971-2100\n",
      "17 R20mm_rcp85_MPI-M-MPI-ESM-LR_RCA4_1971-2100\n",
      "1 R20mm_rcp45_ICHEC-EC-EARTH_HIRHAM5_1971-2100\n",
      "2 R20mm_rcp45_ICHEC-EC-EARTH_HIRHAM5_1971-2100\n",
      "3 R20mm_rcp45_ICHEC-EC-EARTH_HIRHAM5_1971-2100\n",
      "4 R20mm_rcp45_ICHEC-EC-EARTH_HIRHAM5_1971-2100\n",
      "5 R20mm_rcp45_ICHEC-EC-EARTH_HIRHAM5_1971-2100\n",
      "6 R20mm_rcp45_ICHEC-EC-EARTH_HIRHAM5_1971-2100\n",
      "7 R20mm_rcp45_ICHEC-EC-EARTH_HIRHAM5_1971-2100\n",
      "11 R20mm_rcp45_ICHEC-EC-EARTH_HIRHAM5_1971-2100\n",
      "13 R20mm_rcp45_ICHEC-EC-EARTH_HIRHAM5_1971-2100\n",
      "14 R20mm_rcp45_ICHEC-EC-EARTH_HIRHAM5_1971-2100\n",
      "15 R20mm_rcp45_ICHEC-EC-EARTH_HIRHAM5_1971-2100\n",
      "16 R20mm_rcp45_ICHEC-EC-EARTH_HIRHAM5_1971-2100\n",
      "17 R20mm_rcp45_ICHEC-EC-EARTH_HIRHAM5_1971-2100\n",
      "1 R20mm_rcp45_CNRM-CERFACS-CNRM-CM5_RCA4_1971-2100\n",
      "2 R20mm_rcp45_CNRM-CERFACS-CNRM-CM5_RCA4_1971-2100\n",
      "3 R20mm_rcp45_CNRM-CERFACS-CNRM-CM5_RCA4_1971-2100\n",
      "4 R20mm_rcp45_CNRM-CERFACS-CNRM-CM5_RCA4_1971-2100\n",
      "5 R20mm_rcp45_CNRM-CERFACS-CNRM-CM5_RCA4_1971-2100\n",
      "6 R20mm_rcp45_CNRM-CERFACS-CNRM-CM5_RCA4_1971-2100\n",
      "7 R20mm_rcp45_CNRM-CERFACS-CNRM-CM5_RCA4_1971-2100\n",
      "11 R20mm_rcp45_CNRM-CERFACS-CNRM-CM5_RCA4_1971-2100\n",
      "13 R20mm_rcp45_CNRM-CERFACS-CNRM-CM5_RCA4_1971-2100\n",
      "14 R20mm_rcp45_CNRM-CERFACS-CNRM-CM5_RCA4_1971-2100\n",
      "15 R20mm_rcp45_CNRM-CERFACS-CNRM-CM5_RCA4_1971-2100\n",
      "16 R20mm_rcp45_CNRM-CERFACS-CNRM-CM5_RCA4_1971-2100\n",
      "17 R20mm_rcp45_CNRM-CERFACS-CNRM-CM5_RCA4_1971-2100\n",
      "1 R20mm_rcp85_MPI-ESM-LR_CCLM4-8-17_1971-2100\n",
      "2 R20mm_rcp85_MPI-ESM-LR_CCLM4-8-17_1971-2100\n",
      "3 R20mm_rcp85_MPI-ESM-LR_CCLM4-8-17_1971-2100\n",
      "4 R20mm_rcp85_MPI-ESM-LR_CCLM4-8-17_1971-2100\n",
      "5 R20mm_rcp85_MPI-ESM-LR_CCLM4-8-17_1971-2100\n",
      "6 R20mm_rcp85_MPI-ESM-LR_CCLM4-8-17_1971-2100\n",
      "7 R20mm_rcp85_MPI-ESM-LR_CCLM4-8-17_1971-2100\n",
      "11 R20mm_rcp85_MPI-ESM-LR_CCLM4-8-17_1971-2100\n",
      "13 R20mm_rcp85_MPI-ESM-LR_CCLM4-8-17_1971-2100\n",
      "14 R20mm_rcp85_MPI-ESM-LR_CCLM4-8-17_1971-2100\n",
      "15 R20mm_rcp85_MPI-ESM-LR_CCLM4-8-17_1971-2100\n",
      "16 R20mm_rcp85_MPI-ESM-LR_CCLM4-8-17_1971-2100\n",
      "17 R20mm_rcp85_MPI-ESM-LR_CCLM4-8-17_1971-2100\n",
      "1 R20mm_rcp85_CNRM-CERFACS-CNRM-CM5_RCA4_1971-2100\n",
      "2 R20mm_rcp85_CNRM-CERFACS-CNRM-CM5_RCA4_1971-2100\n",
      "3 R20mm_rcp85_CNRM-CERFACS-CNRM-CM5_RCA4_1971-2100\n",
      "4 R20mm_rcp85_CNRM-CERFACS-CNRM-CM5_RCA4_1971-2100\n",
      "5 R20mm_rcp85_CNRM-CERFACS-CNRM-CM5_RCA4_1971-2100\n",
      "6 R20mm_rcp85_CNRM-CERFACS-CNRM-CM5_RCA4_1971-2100\n",
      "7 R20mm_rcp85_CNRM-CERFACS-CNRM-CM5_RCA4_1971-2100\n",
      "11 R20mm_rcp85_CNRM-CERFACS-CNRM-CM5_RCA4_1971-2100\n",
      "13 R20mm_rcp85_CNRM-CERFACS-CNRM-CM5_RCA4_1971-2100\n",
      "14 R20mm_rcp85_CNRM-CERFACS-CNRM-CM5_RCA4_1971-2100\n",
      "15 R20mm_rcp85_CNRM-CERFACS-CNRM-CM5_RCA4_1971-2100\n",
      "16 R20mm_rcp85_CNRM-CERFACS-CNRM-CM5_RCA4_1971-2100\n",
      "17 R20mm_rcp85_CNRM-CERFACS-CNRM-CM5_RCA4_1971-2100\n",
      "1 R20mm_rcp45_MPI-ESM-LR_CCLM4-8-17_1971-2100\n",
      "2 R20mm_rcp45_MPI-ESM-LR_CCLM4-8-17_1971-2100\n",
      "3 R20mm_rcp45_MPI-ESM-LR_CCLM4-8-17_1971-2100\n",
      "4 R20mm_rcp45_MPI-ESM-LR_CCLM4-8-17_1971-2100\n",
      "5 R20mm_rcp45_MPI-ESM-LR_CCLM4-8-17_1971-2100\n",
      "6 R20mm_rcp45_MPI-ESM-LR_CCLM4-8-17_1971-2100\n",
      "7 R20mm_rcp45_MPI-ESM-LR_CCLM4-8-17_1971-2100\n",
      "11 R20mm_rcp45_MPI-ESM-LR_CCLM4-8-17_1971-2100\n",
      "13 R20mm_rcp45_MPI-ESM-LR_CCLM4-8-17_1971-2100\n",
      "14 R20mm_rcp45_MPI-ESM-LR_CCLM4-8-17_1971-2100\n",
      "15 R20mm_rcp45_MPI-ESM-LR_CCLM4-8-17_1971-2100\n",
      "16 R20mm_rcp45_MPI-ESM-LR_CCLM4-8-17_1971-2100\n",
      "17 R20mm_rcp45_MPI-ESM-LR_CCLM4-8-17_1971-2100\n",
      "1 R20mm_rcp45_MetEir-ECEARTH_RACMO22E_1971-2100\n",
      "2 R20mm_rcp45_MetEir-ECEARTH_RACMO22E_1971-2100\n",
      "3 R20mm_rcp45_MetEir-ECEARTH_RACMO22E_1971-2100\n",
      "4 R20mm_rcp45_MetEir-ECEARTH_RACMO22E_1971-2100\n",
      "5 R20mm_rcp45_MetEir-ECEARTH_RACMO22E_1971-2100\n",
      "6 R20mm_rcp45_MetEir-ECEARTH_RACMO22E_1971-2100\n",
      "7 R20mm_rcp45_MetEir-ECEARTH_RACMO22E_1971-2100\n",
      "11 R20mm_rcp45_MetEir-ECEARTH_RACMO22E_1971-2100\n",
      "13 R20mm_rcp45_MetEir-ECEARTH_RACMO22E_1971-2100\n",
      "14 R20mm_rcp45_MetEir-ECEARTH_RACMO22E_1971-2100\n",
      "15 R20mm_rcp45_MetEir-ECEARTH_RACMO22E_1971-2100\n",
      "16 R20mm_rcp45_MetEir-ECEARTH_RACMO22E_1971-2100\n",
      "17 R20mm_rcp45_MetEir-ECEARTH_RACMO22E_1971-2100\n",
      "failed for file : R20mm_rcp45_IPSL-IPSL-CM5A-MR_WRF331F_1971-2100 \n",
      " Without a \"data\" object, \"value\" is required. \n",
      "failed for file : R20mm_rcp45_IPSL-IPSL-CM5A-MR_WRF331F_1971-2100 \n",
      " Without a \"data\" object, \"value\" is required. \n",
      "failed for file : R20mm_rcp45_IPSL-IPSL-CM5A-MR_WRF331F_1971-2100 \n",
      " Without a \"data\" object, \"value\" is required. \n",
      "failed for file : R20mm_rcp45_IPSL-IPSL-CM5A-MR_WRF331F_1971-2100 \n",
      " Without a \"data\" object, \"value\" is required. \n",
      "failed for file : R20mm_rcp45_IPSL-IPSL-CM5A-MR_WRF331F_1971-2100 \n",
      " Without a \"data\" object, \"value\" is required. \n",
      "failed for file : R20mm_rcp45_IPSL-IPSL-CM5A-MR_WRF331F_1971-2100 \n",
      " Without a \"data\" object, \"value\" is required. \n",
      "failed for file : R20mm_rcp45_IPSL-IPSL-CM5A-MR_WRF331F_1971-2100 \n",
      " Without a \"data\" object, \"value\" is required. \n",
      "failed for file : R20mm_rcp45_IPSL-IPSL-CM5A-MR_WRF331F_1971-2100 \n",
      " Without a \"data\" object, \"value\" is required. \n",
      "failed for file : R20mm_rcp45_IPSL-IPSL-CM5A-MR_WRF331F_1971-2100 \n",
      " Without a \"data\" object, \"value\" is required. \n",
      "failed for file : R20mm_rcp45_IPSL-IPSL-CM5A-MR_WRF331F_1971-2100 \n",
      " Without a \"data\" object, \"value\" is required. \n",
      "failed for file : R20mm_rcp45_IPSL-IPSL-CM5A-MR_WRF331F_1971-2100 \n",
      " Without a \"data\" object, \"value\" is required. \n",
      "failed for file : R20mm_rcp45_IPSL-IPSL-CM5A-MR_WRF331F_1971-2100 \n",
      " Without a \"data\" object, \"value\" is required. \n",
      "failed for file : R20mm_rcp45_IPSL-IPSL-CM5A-MR_WRF331F_1971-2100 \n",
      " Without a \"data\" object, \"value\" is required. \n",
      "1 R20mm_rcp45_MOHC-HadGEM2-ES_RCA4_1971-2100\n",
      "2 R20mm_rcp45_MOHC-HadGEM2-ES_RCA4_1971-2100\n",
      "3 R20mm_rcp45_MOHC-HadGEM2-ES_RCA4_1971-2100\n",
      "4 R20mm_rcp45_MOHC-HadGEM2-ES_RCA4_1971-2100\n",
      "5 R20mm_rcp45_MOHC-HadGEM2-ES_RCA4_1971-2100\n",
      "6 R20mm_rcp45_MOHC-HadGEM2-ES_RCA4_1971-2100\n",
      "7 R20mm_rcp45_MOHC-HadGEM2-ES_RCA4_1971-2100\n",
      "11 R20mm_rcp45_MOHC-HadGEM2-ES_RCA4_1971-2100\n",
      "13 R20mm_rcp45_MOHC-HadGEM2-ES_RCA4_1971-2100\n",
      "14 R20mm_rcp45_MOHC-HadGEM2-ES_RCA4_1971-2100\n",
      "15 R20mm_rcp45_MOHC-HadGEM2-ES_RCA4_1971-2100\n",
      "16 R20mm_rcp45_MOHC-HadGEM2-ES_RCA4_1971-2100\n",
      "17 R20mm_rcp45_MOHC-HadGEM2-ES_RCA4_1971-2100\n",
      "1 R20mm_rcp85_ICHEC-EC-EARTH_RCA4_1971-2100\n",
      "2 R20mm_rcp85_ICHEC-EC-EARTH_RCA4_1971-2100\n",
      "3 R20mm_rcp85_ICHEC-EC-EARTH_RCA4_1971-2100\n",
      "4 R20mm_rcp85_ICHEC-EC-EARTH_RCA4_1971-2100\n",
      "5 R20mm_rcp85_ICHEC-EC-EARTH_RCA4_1971-2100\n",
      "6 R20mm_rcp85_ICHEC-EC-EARTH_RCA4_1971-2100\n",
      "7 R20mm_rcp85_ICHEC-EC-EARTH_RCA4_1971-2100\n",
      "11 R20mm_rcp85_ICHEC-EC-EARTH_RCA4_1971-2100\n",
      "13 R20mm_rcp85_ICHEC-EC-EARTH_RCA4_1971-2100\n",
      "14 R20mm_rcp85_ICHEC-EC-EARTH_RCA4_1971-2100\n",
      "15 R20mm_rcp85_ICHEC-EC-EARTH_RCA4_1971-2100\n",
      "16 R20mm_rcp85_ICHEC-EC-EARTH_RCA4_1971-2100\n",
      "17 R20mm_rcp85_ICHEC-EC-EARTH_RCA4_1971-2100\n",
      "failed for file : R20mm_rcp85_MPI-ESM-LR_REMO019_1971-2100 \n",
      " Without a \"data\" object, \"value\" is required. \n",
      "failed for file : R20mm_rcp85_MPI-ESM-LR_REMO019_1971-2100 \n",
      " Without a \"data\" object, \"value\" is required. \n",
      "failed for file : R20mm_rcp85_MPI-ESM-LR_REMO019_1971-2100 \n",
      " Without a \"data\" object, \"value\" is required. \n",
      "failed for file : R20mm_rcp85_MPI-ESM-LR_REMO019_1971-2100 \n",
      " Without a \"data\" object, \"value\" is required. \n",
      "failed for file : R20mm_rcp85_MPI-ESM-LR_REMO019_1971-2100 \n",
      " Without a \"data\" object, \"value\" is required. \n",
      "failed for file : R20mm_rcp85_MPI-ESM-LR_REMO019_1971-2100 \n",
      " Without a \"data\" object, \"value\" is required. \n",
      "failed for file : R20mm_rcp85_MPI-ESM-LR_REMO019_1971-2100 \n",
      " Without a \"data\" object, \"value\" is required. \n",
      "failed for file : R20mm_rcp85_MPI-ESM-LR_REMO019_1971-2100 \n",
      " Without a \"data\" object, \"value\" is required. \n",
      "failed for file : R20mm_rcp85_MPI-ESM-LR_REMO019_1971-2100 \n",
      " Without a \"data\" object, \"value\" is required. \n",
      "failed for file : R20mm_rcp85_MPI-ESM-LR_REMO019_1971-2100 \n",
      " Without a \"data\" object, \"value\" is required. \n",
      "failed for file : R20mm_rcp85_MPI-ESM-LR_REMO019_1971-2100 \n",
      " Without a \"data\" object, \"value\" is required. \n",
      "failed for file : R20mm_rcp85_MPI-ESM-LR_REMO019_1971-2100 \n",
      " Without a \"data\" object, \"value\" is required. \n",
      "failed for file : R20mm_rcp85_MPI-ESM-LR_REMO019_1971-2100 \n",
      " Without a \"data\" object, \"value\" is required. \n",
      "1 R20mm_rcp85_MOHC-HadGEM2-ES_RCA4_1971-2100\n",
      "2 R20mm_rcp85_MOHC-HadGEM2-ES_RCA4_1971-2100\n",
      "3 R20mm_rcp85_MOHC-HadGEM2-ES_RCA4_1971-2100\n",
      "4 R20mm_rcp85_MOHC-HadGEM2-ES_RCA4_1971-2100\n",
      "5 R20mm_rcp85_MOHC-HadGEM2-ES_RCA4_1971-2100\n",
      "6 R20mm_rcp85_MOHC-HadGEM2-ES_RCA4_1971-2100\n",
      "7 R20mm_rcp85_MOHC-HadGEM2-ES_RCA4_1971-2100\n",
      "11 R20mm_rcp85_MOHC-HadGEM2-ES_RCA4_1971-2100\n",
      "13 R20mm_rcp85_MOHC-HadGEM2-ES_RCA4_1971-2100\n",
      "14 R20mm_rcp85_MOHC-HadGEM2-ES_RCA4_1971-2100\n",
      "15 R20mm_rcp85_MOHC-HadGEM2-ES_RCA4_1971-2100\n",
      "16 R20mm_rcp85_MOHC-HadGEM2-ES_RCA4_1971-2100\n",
      "17 R20mm_rcp85_MOHC-HadGEM2-ES_RCA4_1971-2100\n"
     ]
    }
   ],
   "source": [
    "## ocgis operation \n",
    "calc = [{'func': 'icclim_%s' %(indice), 'name': indice}]\n",
    "calc_group = ['year'] # [[12, 1, 2], 'unique'\n",
    "\n",
    "#select_ugid = [1]\n",
    "for nc in pr_files:\n",
    "    for indice in indices:\n",
    "        for ugid in [1, 2, 3, 4, 5, 6, 7, 11,  13, 14, 15, 16, 17]: #  8, 9, 10, 12,\n",
    "            rcp = nc.split('_')[1]\n",
    "            prefix = nc.replace('pr', indice).replace('.nc', '')\n",
    "            # create foulder structure and define output dir:\n",
    "            \n",
    "            if not os.path.exists(os.path.join(OUT_PATH , 'timeseries',  indice ,rcp , str(ugid))):\n",
    "                os.makedirs(os.path.join(OUT_PATH , 'timeseries', indice ,rcp , str(ugid)))\n",
    "            OUT_DIR = os.path.join(OUT_PATH , 'timeseries', indice ,rcp , str(ugid))\n",
    "            \n",
    "            if not os.path.exists(os.path.join(OUT_PATH , 'polygons',  indice ,rcp , str(ugid))):\n",
    "                os.makedirs(os.path.join(OUT_PATH , 'polygons', indice ,rcp , str(ugid)))\n",
    "            ocgis.env.DIR_OUTPUT = os.path.join(OUT_PATH , 'polygons', indice ,rcp , str(ugid))\n",
    "            \n",
    "            output = os.path.join(OUT_DIR,prefix+'.nc')\n",
    "            \n",
    "            if not os.path.exists(output):\n",
    "                try:\n",
    "                    if 'CM5A-MR_WRF331F' in nc: \n",
    "                        dimension_map = {'X': {'variable': 'lon', 'dimension': 'x', 'pos': 2},\n",
    "                                    'Y': {'variable': 'lat', 'dimension': 'y', 'pos': 1},\n",
    "                                    'T': {'variable': 'time', 'dimension': 'time', 'pos': 0}}\n",
    "                    elif 'CNRM-CM5_CNRM-ALADIN53' in nc: \n",
    "                        dimension_map = {'X': {'variable': 'lon', 'dimension': 'x', 'pos': 2},\n",
    "                                    'Y': {'variable': 'lat', 'dimension': 'y', 'pos': 1},\n",
    "                                    'T': {'variable': 'time', 'dimension': 'time', 'pos': 0}}\n",
    "                    elif 'MPI-ESM-LR_REMO019' in nc: \n",
    "                        dimension_map = {'X': {'variable': 'lon', 'dimension': 'x', 'pos': 2},\n",
    "                                    'Y': {'variable': 'lat', 'dimension': 'y', 'pos': 1},\n",
    "                                    'T': {'variable': 'time', 'dimension': 'time', 'pos': 0}}\n",
    "                    else:     \n",
    "                        dimension_map = {'X': {'variable': 'lon', 'dimension': 'x', 'pos': 2},\n",
    "                                    'Y': {'variable': 'lat', 'dimension': 'y', 'pos': 1},\n",
    "                                    'T': {'variable': 'time', 'dimension': 'time', 'pos': 0, 'bounds': 'time_bnds'}}\n",
    "\n",
    "                    rd = ocgis.RequestDataset(os.path.join(IN_DIR, 'pr', nc), 'pr', dimension_map=dimension_map)\n",
    "\n",
    "                    geom_nc = ocgis.OcgOperations(dataset=rd, geom=geoms, output_format='nc', \n",
    "                                                  select_ugid = ugid, prefix=prefix , \n",
    "                                                  add_auxiliary_files=False ,calc=calc, \n",
    "                                                  calc_grouping=calc_group).execute() #\n",
    "\n",
    "                    cdo.fldmean (input = str(geom_nc) , output = output )\n",
    "\n",
    "                    print ugid, prefix\n",
    "                except Exception as e:\n",
    "                    print 'failed for file : %s \\n %s ' % (prefix, e )\n",
    "            else: \n",
    "                print '%s \\t %s already processed' % (ugid, prefix)"
   ]
  },
  {
   "cell_type": "code",
   "execution_count": null,
   "metadata": {
    "collapsed": false
   },
   "outputs": [],
   "source": [
    "%bash \n",
    "ncview /home/estimr2/nhempelmann/data/extremoscop/R20mm_testfile.nc"
   ]
  },
  {
   "cell_type": "code",
   "execution_count": 76,
   "metadata": {
    "collapsed": false
   },
   "outputs": [],
   "source": [
    "for nc in pr_files:\n",
    "    rd = ocgis.RequestDataset(os.path.join(IN_DIR, 'pr' ,nc) , 'pr')"
   ]
  },
  {
   "cell_type": "code",
   "execution_count": 77,
   "metadata": {
    "collapsed": false
   },
   "outputs": [
    {
     "data": {
      "text/plain": [
       "'/home/estimr2/rvautard/BCCORDEX/DRIAS/V1/pr/pr_rcp85_MOHC-HadGEM2-ES_RCA4_1971-2100.nc'"
      ]
     },
     "execution_count": 77,
     "metadata": {},
     "output_type": "execute_result"
    }
   ],
   "source": [
    "os.path.join(IN_DIR,'pr',nc)"
   ]
  },
  {
   "cell_type": "code",
   "execution_count": 26,
   "metadata": {
    "collapsed": false
   },
   "outputs": [
    {
     "data": {
      "text/plain": [
       "'/home/estimr2/nhempelmann/data/extremoscop/R20mm/rcp85/1/R20mm_rcp85_ICHEC-EC-EARTH_HIRHAM5_1971-2100.nc'"
      ]
     },
     "execution_count": 26,
     "metadata": {},
     "output_type": "execute_result"
    }
   ],
   "source": [
    "os.path.join(OUT_DIR,prefix+'.nc')"
   ]
  },
  {
   "cell_type": "code",
   "execution_count": 24,
   "metadata": {
    "collapsed": false
   },
   "outputs": [],
   "source": [
    "for nc in pr_files[0:1]:\n",
    "    for indice in indices:\n",
    "        for ugid in range(1,2):\n",
    "            rcp = nc.split('_')[1]\n",
    "            prefix = nc.replace('pr', indice).replace('.nc', '')\n",
    "            # create foulder structure and define output dir:\n",
    "            \n",
    "            if not os.path.exists(os.path.join(OUT_PATH , indice ,rcp , str(ugid))):\n",
    "                os.makedirs(os.path.join(OUT_PATH , indice ,rcp , str(ugid)))\n",
    "            OUT_DIR = os.path.join(OUT_PATH , indice ,rcp , str(ugid))"
   ]
  },
  {
   "cell_type": "code",
   "execution_count": 29,
   "metadata": {
    "collapsed": false
   },
   "outputs": [
    {
     "data": {
      "text/plain": [
       "[1, 2, 3, 4, 5, 6, 7, 8, 9, 10, 11, 12, 13, 14, 15, 16, 17]"
      ]
     },
     "execution_count": 29,
     "metadata": {},
     "output_type": "execute_result"
    }
   ],
   "source": [
    "range(1,18)"
   ]
  },
  {
   "cell_type": "code",
   "execution_count": null,
   "metadata": {
    "collapsed": true
   },
   "outputs": [],
   "source": []
  }
 ],
 "metadata": {
  "kernelspec": {
   "display_name": "Python 2",
   "language": "python",
   "name": "python2"
  },
  "language_info": {
   "codemirror_mode": {
    "name": "ipython",
    "version": 2
   },
   "file_extension": ".py",
   "mimetype": "text/x-python",
   "name": "python",
   "nbconvert_exporter": "python",
   "pygments_lexer": "ipython2",
   "version": "2.7.8"
  }
 },
 "nbformat": 4,
 "nbformat_minor": 0
}
