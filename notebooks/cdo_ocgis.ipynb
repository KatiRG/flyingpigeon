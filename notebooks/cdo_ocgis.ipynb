{
 "cells": [
  {
   "cell_type": "code",
   "execution_count": 8,
   "metadata": {
    "collapsed": true
   },
   "outputs": [],
   "source": [
    "import numpy as np\n",
    "from cdo import *\n",
    "cdo = Cdo()\n",
    "from os import getenv\n",
    "\n",
    "HOME = getenv('HOME')\n",
    "\n",
    "bbox = '-20,20,-20,20'\n",
    "bbox_ocgis = [-20,-22,20,20]\n",
    "\n",
    "# global dataset CMIP5\n",
    "resources = HOME+'/.conda/envs/birdhouse/var/lib/cache/pywps/esgf1.dkrz.de/thredds/fileServer/cmip5/cmip5/output1/MPI-M/MPI-ESM-LR/historical/day/atmos/day/r1i1p1/v20111006/psl/psl_day_MPI-ESM-LR_historical_r1i1p1_20000101-20051231.nc'"
   ]
  },
  {
   "cell_type": "code",
   "execution_count": 9,
   "metadata": {
    "collapsed": false
   },
   "outputs": [],
   "source": [
    "# get the North Atlanic region form global dataset with cdo\n",
    "nc  = cdo.sellonlatbox( bbox, input=resources, output=HOME+'/data/tests/subset.nc' )"
   ]
  },
  {
   "cell_type": "code",
   "execution_count": 10,
   "metadata": {
    "collapsed": true
   },
   "outputs": [],
   "source": [
    "# read in the file\n",
    "from netCDF4 import Dataset, num2date\n",
    "from flyingpigeon.utils import get_variable\n",
    "\n",
    "var = get_variable(nc)\n",
    "#print 'variable name: %s' % var\n",
    "ds = Dataset(nc)\n",
    "psl = ds.variables[var]\n",
    "lat = ds.variables['lat']\n",
    "lon = ds.variables['lon']"
   ]
  },
  {
   "cell_type": "code",
   "execution_count": 11,
   "metadata": {
    "collapsed": false
   },
   "outputs": [
    {
     "name": "stdout",
     "output_type": "stream",
     "text": [
      "[-18.75  -16.875 -15.    -13.125 -11.25   -9.375  -7.5    -5.625  -3.75\n",
      "  -1.875   0.      1.875   3.75    5.625   7.5     9.375  11.25   13.125\n",
      "  15.     16.875  18.75 ]\n"
     ]
    }
   ],
   "source": [
    "print lon[:]"
   ]
  },
  {
   "cell_type": "code",
   "execution_count": 12,
   "metadata": {
    "collapsed": false
   },
   "outputs": [
    {
     "data": {
      "text/plain": [
       "<matplotlib.colorbar.Colorbar at 0x7f60e6bafb50>"
      ]
     },
     "execution_count": 12,
     "metadata": {},
     "output_type": "execute_result"
    },
    {
     "data": {
      "image/png": "[encoded data removed]",
      "text/plain": [
       "<matplotlib.figure.Figure at 0x7f60ee2dfe90>"
      ]
     },
     "metadata": {},
     "output_type": "display_data"
    }
   ],
   "source": [
    "from matplotlib import pyplot as plt\n",
    "from cartopy import config\n",
    "from cartopy.util import add_cyclic_point\n",
    "import cartopy.crs as ccrs\n",
    "from numpy import meshgrid\n",
    "# to show the plots inline\n",
    "%matplotlib inline\n",
    "\n",
    "lons, lats = meshgrid(lon, lat)\n",
    "\n",
    "# plot first time stepp:\n",
    "ax = plt.axes(projection=ccrs.Robinson(central_longitude=0))\n",
    "ax.coastlines()\n",
    "cs = plt.contourf(lons, lats, psl[0,:,:], 60, transform=ccrs.PlateCarree(), interpolation='nearest')\n",
    "plt.colorbar()\n"
   ]
  },
  {
   "cell_type": "code",
   "execution_count": 13,
   "metadata": {
    "collapsed": false
   },
   "outputs": [
    {
     "data": {
      "image/png": "[encoded data removed]",
      "text/plain": [
       "<matplotlib.figure.Figure at 0x7f61141aad10>"
      ]
     },
     "metadata": {},
     "output_type": "display_data"
    }
   ],
   "source": [
    "cs = plt.contourf(lons, lats, psl[0,:,:])"
   ]
  },
  {
   "cell_type": "code",
   "execution_count": 29,
   "metadata": {
    "collapsed": false
   },
   "outputs": [
    {
     "name": "stdout",
     "output_type": "stream",
     "text": [
      "/home/nils/data/tests/309c69c6-3a27-11e6-a51e-f5923da83940.nc\n"
     ]
    }
   ],
   "source": [
    "# same stepps with ocgis\n",
    "from flyingpigeon.ocgis_module import call \n",
    "\n",
    "#from ocgis import RequestDataset ,OcgOperations\n",
    "spatial_wrapping = 'wrap' # unwrap # None\n",
    "nc = call(resources, geom=bbox_ocgis, spatial_wrapping=spatial_wrapping, dir_output=HOME+'/data/tests')\n",
    "print nc"
   ]
  },
  {
   "cell_type": "code",
   "execution_count": 30,
   "metadata": {
    "collapsed": true
   },
   "outputs": [],
   "source": [
    "#read in the data \n",
    "var = get_variable(nc)\n",
    "#print 'variable name: %s' % var\n",
    "ds = Dataset(nc)\n",
    "psl = ds.variables[var]\n",
    "lat = ds.variables['lat']\n",
    "lon = ds.variables['lon']"
   ]
  },
  {
   "cell_type": "code",
   "execution_count": 39,
   "metadata": {
    "collapsed": false
   },
   "outputs": [
    {
     "name": "stdout",
     "output_type": "stream",
     "text": [
      "[   0.       1.875    3.75     5.625    7.5      9.375   11.25    13.125\n",
      "   15.      16.875   18.75    20.625   22.5     24.375   26.25    28.125\n",
      "   30.      31.875   33.75    35.625   37.5     39.375   41.25    43.125\n",
      "   45.      46.875   48.75    50.625   52.5     54.375   56.25    58.125\n",
      "   60.      61.875   63.75    65.625   67.5     69.375   71.25    73.125\n",
      "   75.      76.875   78.75    80.625   82.5     84.375   86.25    88.125\n",
      "   90.      91.875   93.75    95.625   97.5     99.375  101.25   103.125\n",
      "  105.     106.875  108.75   110.625  112.5    114.375  116.25   118.125\n",
      "  120.     121.875  123.75   125.625  127.5    129.375  131.25   133.125\n",
      "  135.     136.875  138.75   140.625  142.5    144.375  146.25   148.125\n",
      "  150.     151.875  153.75   155.625  157.5    159.375  161.25   163.125\n",
      "  165.     166.875  168.75   170.625  172.5    174.375  176.25   178.125\n",
      "  180.    -178.125 -176.25  -174.375 -172.5   -170.625 -168.75  -166.875\n",
      " -165.    -163.125 -161.25  -159.375 -157.5   -155.625 -153.75  -151.875\n",
      " -150.    -148.125 -146.25  -144.375 -142.5   -140.625 -138.75  -136.875\n",
      " -135.    -133.125 -131.25  -129.375 -127.5   -125.625 -123.75  -121.875\n",
      " -120.    -118.125 -116.25  -114.375 -112.5   -110.625 -108.75  -106.875\n",
      " -105.    -103.125 -101.25   -99.375  -97.5    -95.625  -93.75   -91.875\n",
      "  -90.     -88.125  -86.25   -84.375  -82.5    -80.625  -78.75   -76.875\n",
      "  -75.     -73.125  -71.25   -69.375  -67.5    -65.625  -63.75   -61.875\n",
      "  -60.     -58.125  -56.25   -54.375  -52.5    -50.625  -48.75   -46.875\n",
      "  -45.     -43.125  -41.25   -39.375  -37.5    -35.625  -33.75   -31.875\n",
      "  -30.     -28.125  -26.25   -24.375  -22.5    -20.625  -18.75   -16.875\n",
      "  -15.     -13.125  -11.25    -9.375   -7.5     -5.625   -3.75    -1.875]\n"
     ]
    }
   ],
   "source": [
    "print lon[:]"
   ]
  },
  {
   "cell_type": "code",
   "execution_count": 32,
   "metadata": {
    "collapsed": false
   },
   "outputs": [
    {
     "data": {
      "text/plain": [
       "<matplotlib.colorbar.Colorbar at 0x7f60e60a08d0>"
      ]
     },
     "execution_count": 32,
     "metadata": {},
     "output_type": "execute_result"
    },
    {
     "data": {
      "image/png": "[encoded data removed]",
      "text/plain": [
       "<matplotlib.figure.Figure at 0x7f60e5658d90>"
      ]
     },
     "metadata": {},
     "output_type": "display_data"
    }
   ],
   "source": [
    "lons, lats = meshgrid(lon, lat)\n",
    "\n",
    "# plot first time stepp:\n",
    "ax = plt.axes(projection=ccrs.Robinson(central_longitude=0))\n",
    "ax.coastlines()\n",
    "cs = plt.contourf(lons, lats, psl[0,:,:], 60, transform=ccrs.PlateCarree(), interpolation='nearest')\n",
    "plt.colorbar()"
   ]
  },
  {
   "cell_type": "code",
   "execution_count": 33,
   "metadata": {
    "collapsed": false
   },
   "outputs": [
    {
     "data": {
      "image/png": "[encoded data removed]",
      "text/plain": [
       "<matplotlib.figure.Figure at 0x7f60e6263e50>"
      ]
     },
     "metadata": {},
     "output_type": "display_data"
    }
   ],
   "source": [
    "# cartopy puts it together how I would like to have it ;-) \n",
    "# simple plot shows the 'problem'\n",
    "cs = plt.contourf(lons, lats, psl[0,:,:])"
   ]
  },
  {
   "cell_type": "code",
   "execution_count": 36,
   "metadata": {
    "collapsed": false
   },
   "outputs": [
    {
     "data": {
      "text/plain": [
       "array([   0.   ,    1.875,    3.75 ,    5.625,    7.5  ,    9.375,\n",
       "         11.25 ,   13.125,   15.   ,   16.875,   18.75 ,   20.625,\n",
       "         22.5  ,   24.375,   26.25 ,   28.125,   30.   ,   31.875,\n",
       "         33.75 ,   35.625,   37.5  ,   39.375,   41.25 ,   43.125,\n",
       "         45.   ,   46.875,   48.75 ,   50.625,   52.5  ,   54.375,\n",
       "         56.25 ,   58.125,   60.   ,   61.875,   63.75 ,   65.625,\n",
       "         67.5  ,   69.375,   71.25 ,   73.125,   75.   ,   76.875,\n",
       "         78.75 ,   80.625,   82.5  ,   84.375,   86.25 ,   88.125,\n",
       "         90.   ,   91.875,   93.75 ,   95.625,   97.5  ,   99.375,\n",
       "        101.25 ,  103.125,  105.   ,  106.875,  108.75 ,  110.625,\n",
       "        112.5  ,  114.375,  116.25 ,  118.125,  120.   ,  121.875,\n",
       "        123.75 ,  125.625,  127.5  ,  129.375,  131.25 ,  133.125,\n",
       "        135.   ,  136.875,  138.75 ,  140.625,  142.5  ,  144.375,\n",
       "        146.25 ,  148.125,  150.   ,  151.875,  153.75 ,  155.625,\n",
       "        157.5  ,  159.375,  161.25 ,  163.125,  165.   ,  166.875,\n",
       "        168.75 ,  170.625,  172.5  ,  174.375,  176.25 ,  178.125,\n",
       "        180.   , -178.125, -176.25 , -174.375, -172.5  , -170.625,\n",
       "       -168.75 , -166.875, -165.   , -163.125, -161.25 , -159.375,\n",
       "       -157.5  , -155.625, -153.75 , -151.875, -150.   , -148.125,\n",
       "       -146.25 , -144.375, -142.5  , -140.625, -138.75 , -136.875,\n",
       "       -135.   , -133.125, -131.25 , -129.375, -127.5  , -125.625,\n",
       "       -123.75 , -121.875, -120.   , -118.125, -116.25 , -114.375,\n",
       "       -112.5  , -110.625, -108.75 , -106.875, -105.   , -103.125,\n",
       "       -101.25 ,  -99.375,  -97.5  ,  -95.625,  -93.75 ,  -91.875,\n",
       "        -90.   ,  -88.125,  -86.25 ,  -84.375,  -82.5  ,  -80.625,\n",
       "        -78.75 ,  -76.875,  -75.   ,  -73.125,  -71.25 ,  -69.375,\n",
       "        -67.5  ,  -65.625,  -63.75 ,  -61.875,  -60.   ,  -58.125,\n",
       "        -56.25 ,  -54.375,  -52.5  ,  -50.625,  -48.75 ,  -46.875,\n",
       "        -45.   ,  -43.125,  -41.25 ,  -39.375,  -37.5  ,  -35.625,\n",
       "        -33.75 ,  -31.875,  -30.   ,  -28.125,  -26.25 ,  -24.375,\n",
       "        -22.5  ,  -20.625,  -18.75 ,  -16.875,  -15.   ,  -13.125,\n",
       "        -11.25 ,   -9.375,   -7.5  ,   -5.625,   -3.75 ,   -1.875])"
      ]
     },
     "execution_count": 36,
     "metadata": {},
     "output_type": "execute_result"
    }
   ],
   "source": [
    "lon[:]"
   ]
  },
  {
   "cell_type": "code",
   "execution_count": null,
   "metadata": {
    "collapsed": true
   },
   "outputs": [],
   "source": []
  }
 ],
 "metadata": {
  "kernelspec": {
   "display_name": "Python 2",
   "language": "python",
   "name": "python2"
  },
  "language_info": {
   "codemirror_mode": {
    "name": "ipython",
    "version": 2
   },
   "file_extension": ".py",
   "mimetype": "text/x-python",
   "name": "python",
   "nbconvert_exporter": "python",
   "pygments_lexer": "ipython2",
   "version": "2.7.11"
  }
 },
 "nbformat": 4,
 "nbformat_minor": 0
}
