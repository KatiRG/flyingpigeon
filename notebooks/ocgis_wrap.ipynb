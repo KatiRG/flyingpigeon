{
 "cells": [
  {
   "cell_type": "code",
   "execution_count": 21,
   "metadata": {
    "collapsed": true
   },
   "outputs": [],
   "source": [
    "import numpy as np\n",
    "from cdo import *\n",
    "cdo = Cdo()\n",
    "from os import getenv\n",
    "\n",
    "HOME = getenv('HOME')\n",
    "\n",
    "bbox = [-20,-20,20,20]\n",
    "\n",
    "#bbox = [-80,22.5,50,70]\n",
    "# global dataset CMIP5\n",
    "resources = HOME+'/.conda/envs/birdhouse/var/lib/cache/pywps/esgf1.dkrz.de/thredds/fileServer/cmip5/cmip5/output1/MPI-M/MPI-ESM-P/historical/day/atmos/day/r1i1p1/v20120315/psl/psl_day_MPI-ESM-P_historical_r1i1p1_20000101-20051231.nc'"
   ]
  },
  {
   "cell_type": "code",
   "execution_count": 22,
   "metadata": {
    "collapsed": true
   },
   "outputs": [],
   "source": [
    "from matplotlib import pyplot as plt\n",
    "from cartopy import config\n",
    "from cartopy.util import add_cyclic_point\n",
    "import cartopy.crs as ccrs\n",
    "from numpy import meshgrid\n",
    "# to show the plots inline\n",
    "%matplotlib inline"
   ]
  },
  {
   "cell_type": "code",
   "execution_count": 23,
   "metadata": {
    "collapsed": false
   },
   "outputs": [
    {
     "name": "stdout",
     "output_type": "stream",
     "text": [
      "/homel/nhempel/data/tests/7b0ed6bc-298b-11e6-96d5-9f19cbe7173e.nc\n"
     ]
    }
   ],
   "source": [
    "# same stepps with ocgis\n",
    "from flyingpigeon.ocgis_module import call \n",
    "\n",
    "nc = call(resources, geom=bbox, spatial_wrapping=None, dir_output=HOME+'/data/tests')\n",
    "print nc"
   ]
  },
  {
   "cell_type": "code",
   "execution_count": 24,
   "metadata": {
    "collapsed": false
   },
   "outputs": [],
   "source": [
    "from flyingpigeon.utils import get_variable\n",
    "from netCDF4 import Dataset\n",
    "\n",
    "#read in the data \n",
    "var = get_variable(nc)\n",
    "\n",
    "ds = Dataset(nc)\n",
    "psl = ds.variables[var]\n",
    "lat = ds.variables['lat']\n",
    "lon = ds.variables['lon']"
   ]
  },
  {
   "cell_type": "code",
   "execution_count": 25,
   "metadata": {
    "collapsed": false
   },
   "outputs": [
    {
     "name": "stdout",
     "output_type": "stream",
     "text": [
      "[   0.       1.875    3.75     5.625    7.5      9.375   11.25    13.125\n",
      "   15.      16.875   18.75    20.625   22.5     24.375   26.25    28.125\n",
      "   30.      31.875   33.75    35.625   37.5     39.375   41.25    43.125\n",
      "   45.      46.875   48.75    50.625   52.5     54.375   56.25    58.125\n",
      "   60.      61.875   63.75    65.625   67.5     69.375   71.25    73.125\n",
      "   75.      76.875   78.75    80.625   82.5     84.375   86.25    88.125\n",
      "   90.      91.875   93.75    95.625   97.5     99.375  101.25   103.125\n",
      "  105.     106.875  108.75   110.625  112.5    114.375  116.25   118.125\n",
      "  120.     121.875  123.75   125.625  127.5    129.375  131.25   133.125\n",
      "  135.     136.875  138.75   140.625  142.5    144.375  146.25   148.125\n",
      "  150.     151.875  153.75   155.625  157.5    159.375  161.25   163.125\n",
      "  165.     166.875  168.75   170.625  172.5    174.375  176.25   178.125\n",
      "  180.     181.875  183.75   185.625  187.5    189.375  191.25   193.125\n",
      "  195.     196.875  198.75   200.625  202.5    204.375  206.25   208.125\n",
      "  210.     211.875  213.75   215.625  217.5    219.375  221.25   223.125\n",
      "  225.     226.875  228.75   230.625  232.5    234.375  236.25   238.125\n",
      "  240.     241.875  243.75   245.625  247.5    249.375  251.25   253.125\n",
      "  255.     256.875  258.75   260.625  262.5    264.375  266.25   268.125\n",
      "  270.     271.875  273.75   275.625  277.5    279.375  281.25   283.125\n",
      "  285.     286.875  288.75   290.625  292.5    294.375  296.25   298.125\n",
      "  300.     301.875  303.75   305.625  307.5    309.375  311.25   313.125\n",
      "  315.     316.875  318.75   320.625  322.5    324.375  326.25   328.125\n",
      "  330.     331.875  333.75   335.625  337.5    339.375  341.25   343.125\n",
      "  345.     346.875  348.75   350.625  352.5    354.375  356.25   358.125]\n"
     ]
    }
   ],
   "source": [
    "print lon[:]"
   ]
  },
  {
   "cell_type": "code",
   "execution_count": 26,
   "metadata": {
    "collapsed": false
   },
   "outputs": [
    {
     "data": {
      "text/plain": [
       "<matplotlib.colorbar.Colorbar at 0x7f923186c650>"
      ]
     },
     "execution_count": 26,
     "metadata": {},
     "output_type": "execute_result"
    },
    {
     "data": {
      "image/png": "[encoded data removed]",
      "text/plain": [
       "<matplotlib.figure.Figure at 0x7f92380ca250>"
      ]
     },
     "metadata": {},
     "output_type": "display_data"
    }
   ],
   "source": [
    "lons, lats = meshgrid(lon, lat)\n",
    "\n",
    "# plot first time step:\n",
    "ax = plt.axes(projection=ccrs.Robinson(central_longitude=0))\n",
    "ax.coastlines()\n",
    "cs = plt.contourf(lons, lats, psl[0,:,:], 60, transform=ccrs.PlateCarree(), interpolation='nearest')\n",
    "plt.colorbar()\n"
   ]
  },
  {
   "cell_type": "code",
   "execution_count": 27,
   "metadata": {
    "collapsed": false
   },
   "outputs": [
    {
     "data": {
      "image/png": "[encoded data removed]",
      "text/plain": [
       "<matplotlib.figure.Figure at 0x7f923b744b10>"
      ]
     },
     "metadata": {},
     "output_type": "display_data"
    }
   ],
   "source": [
    "# cartoyp puts the data to the appropiate locations\n",
    "# a simple plot shows the organisation of the unwraped data \n",
    "cs = plt.contourf(lons, lats, psl[0,:,:])"
   ]
  },
  {
   "cell_type": "code",
   "execution_count": 28,
   "metadata": {
    "collapsed": false
   },
   "outputs": [
    {
     "data": {
      "text/plain": [
       "<matplotlib.colorbar.Colorbar at 0x7f923b6231d0>"
      ]
     },
     "execution_count": 28,
     "metadata": {},
     "output_type": "execute_result"
    },
    {
     "data": {
      "image/png": "[encoded data removed]",
      "text/plain": [
       "<matplotlib.figure.Figure at 0x7f923b5f5dd0>"
      ]
     },
     "metadata": {},
     "output_type": "display_data"
    }
   ],
   "source": [
    "# same with wrap option:\n",
    "nc = call(resources, geom=bbox, spatial_wrapping='wrap', dir_output=HOME+'/data/tests')\n",
    "\n",
    "var = get_variable(nc)\n",
    "\n",
    "ds = Dataset(nc)\n",
    "psl = ds.variables[var]\n",
    "lat = ds.variables['lat']\n",
    "lon = ds.variables['lon']\n",
    "\n",
    "lons, lats = meshgrid(lon, lat)\n",
    "\n",
    "# plot first time step:\n",
    "ax = plt.axes(projection=ccrs.Robinson(central_longitude=0))\n",
    "ax.coastlines()\n",
    "cs = plt.contourf(lons, lats, psl[0,:,:], 60, transform=ccrs.PlateCarree(), interpolation='nearest')\n",
    "plt.colorbar()"
   ]
  },
  {
   "cell_type": "code",
   "execution_count": 29,
   "metadata": {
    "collapsed": false
   },
   "outputs": [
    {
     "data": {
      "image/png": "[encoded data removed]",
      "text/plain": [
       "<matplotlib.figure.Figure at 0x7f923191b6d0>"
      ]
     },
     "metadata": {},
     "output_type": "display_data"
    }
   ],
   "source": [
    "cs = plt.contourf(lons, lats, psl[0,:,:])"
   ]
  },
  {
   "cell_type": "code",
   "execution_count": 30,
   "metadata": {
    "collapsed": false
   },
   "outputs": [
    {
     "name": "stdout",
     "output_type": "stream",
     "text": [
      "[   0.       1.875    3.75     5.625    7.5      9.375   11.25    13.125\n",
      "   15.      16.875   18.75    20.625   22.5     24.375   26.25    28.125\n",
      "   30.      31.875   33.75    35.625   37.5     39.375   41.25    43.125\n",
      "   45.      46.875   48.75    50.625   52.5     54.375   56.25    58.125\n",
      "   60.      61.875   63.75    65.625   67.5     69.375   71.25    73.125\n",
      "   75.      76.875   78.75    80.625   82.5     84.375   86.25    88.125\n",
      "   90.      91.875   93.75    95.625   97.5     99.375  101.25   103.125\n",
      "  105.     106.875  108.75   110.625  112.5    114.375  116.25   118.125\n",
      "  120.     121.875  123.75   125.625  127.5    129.375  131.25   133.125\n",
      "  135.     136.875  138.75   140.625  142.5    144.375  146.25   148.125\n",
      "  150.     151.875  153.75   155.625  157.5    159.375  161.25   163.125\n",
      "  165.     166.875  168.75   170.625  172.5    174.375  176.25   178.125\n",
      "  180.    -178.125 -176.25  -174.375 -172.5   -170.625 -168.75  -166.875\n",
      " -165.    -163.125 -161.25  -159.375 -157.5   -155.625 -153.75  -151.875\n",
      " -150.    -148.125 -146.25  -144.375 -142.5   -140.625 -138.75  -136.875\n",
      " -135.    -133.125 -131.25  -129.375 -127.5   -125.625 -123.75  -121.875\n",
      " -120.    -118.125 -116.25  -114.375 -112.5   -110.625 -108.75  -106.875\n",
      " -105.    -103.125 -101.25   -99.375  -97.5    -95.625  -93.75   -91.875\n",
      "  -90.     -88.125  -86.25   -84.375  -82.5    -80.625  -78.75   -76.875\n",
      "  -75.     -73.125  -71.25   -69.375  -67.5    -65.625  -63.75   -61.875\n",
      "  -60.     -58.125  -56.25   -54.375  -52.5    -50.625  -48.75   -46.875\n",
      "  -45.     -43.125  -41.25   -39.375  -37.5    -35.625  -33.75   -31.875\n",
      "  -30.     -28.125  -26.25   -24.375  -22.5    -20.625  -18.75   -16.875\n",
      "  -15.     -13.125  -11.25    -9.375   -7.5     -5.625   -3.75    -1.875]\n"
     ]
    }
   ],
   "source": [
    "print lon[:]"
   ]
  },
  {
   "cell_type": "code",
   "execution_count": 31,
   "metadata": {
    "collapsed": false
   },
   "outputs": [],
   "source": [
    "from flyingpigeon.subset import clipping"
   ]
  },
  {
   "cell_type": "code",
   "execution_count": null,
   "metadata": {
    "collapsed": false
   },
   "outputs": [],
   "source": [
    "europe_wraped = clipping(resource=resources, variable=None, dimension_map=None, historical_concatination=True, \n",
    "         prefix=None, spatial_wrapping='wrap', polygons='Europe')[0]"
   ]
  },
  {
   "cell_type": "code",
   "execution_count": null,
   "metadata": {
    "collapsed": false
   },
   "outputs": [],
   "source": [
    "var = get_variable(europe_wraped)\n",
    "\n",
    "ds = Dataset(europe_wraped)\n",
    "psl = ds.variables[var]\n",
    "lat = ds.variables['lat']\n",
    "lon = ds.variables['lon']\n",
    "\n",
    "lons, lats = meshgrid(lon, lat)\n",
    "\n",
    "# plot first time step:\n",
    "ax = plt.axes(projection=ccrs.Robinson(central_longitude=0))\n",
    "ax.coastlines()\n",
    "cs = plt.contourf(lons, lats, psl[0,:,:], 60, transform=ccrs.PlateCarree(), interpolation=None)\n",
    "plt.colorbar()"
   ]
  },
  {
   "cell_type": "code",
   "execution_count": 14,
   "metadata": {
    "collapsed": false
   },
   "outputs": [
    {
     "data": {
      "image/png": "[encoded data removed]",
      "text/plain": [
       "<matplotlib.figure.Figure at 0x7f92386ced50>"
      ]
     },
     "metadata": {},
     "output_type": "display_data"
    }
   ],
   "source": [
    "cs = plt.contourf(lons, lats, psl[0,:,:])"
   ]
  },
  {
   "cell_type": "code",
   "execution_count": null,
   "metadata": {
    "collapsed": true
   },
   "outputs": [],
   "source": []
  }
 ],
 "metadata": {
  "kernelspec": {
   "display_name": "Python 2",
   "language": "python",
   "name": "python2"
  },
  "language_info": {
   "codemirror_mode": {
    "name": "ipython",
    "version": 2
   },
   "file_extension": ".py",
   "mimetype": "text/x-python",
   "name": "python",
   "nbconvert_exporter": "python",
   "pygments_lexer": "ipython2",
   "version": "2.7.11"
  }
 },
 "nbformat": 4,
 "nbformat_minor": 0
}
