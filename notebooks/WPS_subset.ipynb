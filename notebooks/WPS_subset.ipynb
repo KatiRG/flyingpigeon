{
 "cells": [
  {
   "cell_type": "code",
   "execution_count": 1,
   "metadata": {
    "collapsed": true
   },
   "outputs": [],
   "source": [
    "\"\"\"Python WPS execute\"\"\"\n",
    "from owslib.wps import WebProcessingService, monitorExecution, printInputOutput\n",
    "from os import system"
   ]
  },
  {
   "cell_type": "code",
   "execution_count": 2,
   "metadata": {
    "collapsed": false
   },
   "outputs": [],
   "source": [
    "#import owslib\n",
    "#owslib.__version__ # version must be >=0.10.3"
   ]
  },
  {
   "cell_type": "code",
   "execution_count": 3,
   "metadata": {
    "collapsed": false
   },
   "outputs": [],
   "source": [
    "wps = WebProcessingService(url=\"http://birdhouse-lsce.extra.cea.fr:8093/wps\", verbose=False)\n",
    "# wps = WebProcessingService(url=\"http://localhost:8093/wps\", verbose=False)"
   ]
  },
  {
   "cell_type": "code",
   "execution_count": 4,
   "metadata": {
    "collapsed": false
   },
   "outputs": [
    {
     "name": "stdout",
     "output_type": "stream",
     "text": [
      "Flyingpigeon\n"
     ]
    }
   ],
   "source": [
    "print wps.identification.title"
   ]
  },
  {
   "cell_type": "code",
   "execution_count": 5,
   "metadata": {
    "collapsed": false
   },
   "outputs": [
    {
     "name": "stdout",
     "output_type": "stream",
     "text": [
      "visualisation : \t Just testing a nice script to visualise some variables\n",
      "extractpoints : \t Extract Timeseries for specified coordinates from grid data\n",
      "segetalflora : \t Species biodiversity of segetal flora. Imput files: variable:tas , domain: EUR-11 or EUR-44\n",
      "indices_single : \t This process calculates climate indices based on one single variable.\n",
      "subset_countries : \t This process returns only the given polygon from input netCDF files.\n",
      "eobs_to_cordex : \t downloades EOBS data in adaped CORDEX format\n",
      "modelUncertainty : \t Calculates the ensemble mean and uncertainty mask\n"
     ]
    }
   ],
   "source": [
    "for process in wps.processes:\n",
    "    print '%s : \\t %s' % (process.identifier, process.abstract, )"
   ]
  },
  {
   "cell_type": "code",
   "execution_count": 6,
   "metadata": {
    "collapsed": true
   },
   "outputs": [],
   "source": [
    "p = wps.describeprocess(identifier='subset_countries')"
   ]
  },
  {
   "cell_type": "code",
   "execution_count": 7,
   "metadata": {
    "collapsed": true
   },
   "outputs": [],
   "source": [
    "#for input in p.dataInputs:\n",
    "#    printInputOutput(input)\n",
    "    "
   ]
  },
  {
   "cell_type": "code",
   "execution_count": null,
   "metadata": {
    "collapsed": false
   },
   "outputs": [],
   "source": []
  },
  {
   "cell_type": "code",
   "execution_count": 11,
   "metadata": {
    "collapsed": true
   },
   "outputs": [],
   "source": [
    "#in_file1 = 'http://opendap.knmi.nl/knmi/thredds/dodsC/e-obs_0.22rotated/tg_0.22deg_rot_v12.0.nc'\n",
    "#in_file1 = 'file:///home/estimr1/EUCLEIA/gws-access.ceda.ac.uk/public/mohc_shared/EUCLEIA/MOHC/HadGEM3-A-N216/historical/r1i1p1/tas_day_HadGEM3-A-N216_historical_r1i1p1_19600101-19691230.nc'\n",
    "#in_file1 = 'file:///homel/birdhouse/flyingpigeon/tas_day_HadGEM3-A-N216_historical_r1i1p1_19600101-19691230.nc'\n",
    "in_file1 = 'file:///home/estimr2/yiou/NCEP/slp.1982_NHX.nc'"
   ]
  },
  {
   "cell_type": "code",
   "execution_count": 12,
   "metadata": {
    "collapsed": false,
    "scrolled": false
   },
   "outputs": [
    {
     "name": "stdout",
     "output_type": "stream",
     "text": [
      "ProcessSucceeded\n",
      "http://birdhouse-lsce.extra.cea.fr:8090/wpsoutputs/flyingpigeon/output-105f111e-baf1-11e5-b28b-49d7f4d740e2.tar\n"
     ]
    }
   ],
   "source": [
    "from os.path import join\n",
    "\n",
    "execute = wps.execute(\n",
    "    identifier=\"subset_countries\", #indices_clipping\",\n",
    "    inputs=[\n",
    "    (\"resource\",in_file1),\n",
    "      # (\"resource\",in_file2),\n",
    "    (\"region\",'FRA'),\n",
    "    #(\"country\",'DEU'),\n",
    "    #(\"mosaik\",'True'),\n",
    "           ])\n",
    "\n",
    "monitorExecution(execute, sleepSecs=5)\n",
    "\n",
    "print execute.getStatus()\n",
    "\n",
    "for o in execute.processOutputs:\n",
    "    print o.reference\n",
    "    "
   ]
  },
  {
   "cell_type": "code",
   "execution_count": null,
   "metadata": {
    "collapsed": false
   },
   "outputs": [],
   "source": []
  }
 ],
 "metadata": {
  "kernelspec": {
   "display_name": "Python 2",
   "language": "python",
   "name": "python2"
  },
  "language_info": {
   "codemirror_mode": {
    "name": "ipython",
    "version": 2
   },
   "file_extension": ".py",
   "mimetype": "text/x-python",
   "name": "python",
   "nbconvert_exporter": "python",
   "pygments_lexer": "ipython2",
   "version": "2.7.11"
  }
 },
 "nbformat": 4,
 "nbformat_minor": 0
}
