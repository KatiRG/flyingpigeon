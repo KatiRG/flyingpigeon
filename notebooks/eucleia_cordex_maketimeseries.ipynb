{
 "metadata": {
  "name": "",
  "signature": "sha256:596daa757dd1d4f791bee4fa8b3496bba3a7edfac83140711a1d7bdf067a1fb6"
 },
 "nbformat": 3,
 "nbformat_minor": 0,
 "worksheets": [
  {
   "cells": [
    {
     "cell_type": "code",
     "collapsed": false,
     "input": [],
     "language": "python",
     "metadata": {},
     "outputs": [],
     "prompt_number": 0
    },
    {
     "cell_type": "code",
     "collapsed": false,
     "input": [
      "import ocgis \n",
      "from ocgis import RequestDataset , RequestDatasetCollection\n",
      "from shapely.geometry import Point\n",
      "import numpy as np\n",
      "import os\n",
      "import matplotlib.pyplot as plt"
     ],
     "language": "python",
     "metadata": {},
     "outputs": [],
     "prompt_number": 1
    },
    {
     "cell_type": "code",
     "collapsed": false,
     "input": [
      "#path to data: \n",
      "env = os.getenv('HOME')\n",
      "path = os.path.join(env+'/anaconda/var/cache/pywps/')"
     ],
     "language": "python",
     "metadata": {},
     "outputs": [],
     "prompt_number": 2
    },
    {
     "cell_type": "code",
     "collapsed": false,
     "input": [
      "files = [f for f in os.listdir(path) if os.path.isfile(os.path.join(path,f))]"
     ],
     "language": "python",
     "metadata": {},
     "outputs": [],
     "prompt_number": 3
    },
    {
     "cell_type": "code",
     "collapsed": false,
     "input": [
      "#files"
     ],
     "language": "python",
     "metadata": {},
     "outputs": [],
     "prompt_number": 4
    },
    {
     "cell_type": "code",
     "collapsed": false,
     "input": [
      "pr_files = []\n",
      "sets = set()\n",
      "\n",
      "for f in files: \n",
      "    if ('pr_EUR-11_' in f and 'historical' in f and '_mon_' in f):\n",
      "        pr_files.append(f)\n",
      "        sets = sets.union([f[0:-16]])\n",
      "    if ('pr_EUR-11_' in f and '_rcp85_' in f and '_mon_' in f):\n",
      "        pr_files.append(f)\n",
      "        sets = sets.union([f[0:-16]])\n",
      "    if ('pr_EUR-11_' in f and '_rcp45_' in f and '_mon_' in f):\n",
      "        pr_files.append(f)\n",
      "        sets = sets.union([f[0:-16]])\n",
      "names = list(sets)"
     ],
     "language": "python",
     "metadata": {},
     "outputs": [],
     "prompt_number": 5
    },
    {
     "cell_type": "code",
     "collapsed": false,
     "input": [
      "#get the coordinates \n",
      "c_brit = [('PERROS-GUIREC', [-3.2823, 48.4933]),('ROSTRENEN',[-3.1828, 48.1353]),\\\n",
      "          ('BRENNILIS',[-3.5107, 48.2137]),('GUIPAVAS', [-4.2443, 48.2639]) ,\\\n",
      "           ('ILE-DE-BATZ', [-4.0043, 48.4447]),('PLOGOFF',[-4.4355, 48.0220])]"
     ],
     "language": "python",
     "metadata": {},
     "outputs": [],
     "prompt_number": 7
    },
    {
     "cell_type": "code",
     "collapsed": false,
     "input": [
      "# print len(names), len(pr_files)"
     ],
     "language": "python",
     "metadata": {},
     "outputs": [],
     "prompt_number": 8
    },
    {
     "cell_type": "code",
     "collapsed": false,
     "input": [
      "#calculation for Britanny\n",
      "dir_output = os.path.join(env,'data/euclia/ts_cordex/brit/')\n",
      "ocgis.env.OVERWRITE = True\n",
      "ocgis.env.DIR_OUTPUT = dir_output\n",
      "geom = []\n",
      "for ugid, c in enumerate(c_brit, start=1):\n",
      "    point = Point(c[1][0], c[1][1])\n",
      "    print point\n",
      "    geom.append({'geom': point, 'properties': {'UGID': ugid,'COUNTRY': c[0] }})"
     ],
     "language": "python",
     "metadata": {},
     "outputs": [
      {
       "output_type": "stream",
       "stream": "stdout",
       "text": [
        "POINT (-3.2823 48.4933)\n",
        "POINT (-3.1828 48.1353)\n",
        "POINT (-3.5107 48.2137)\n",
        "POINT (-4.2443 48.2639)\n",
        "POINT (-4.0043 48.4447)\n",
        "POINT (-4.4355 48.022)\n"
       ]
      }
     ],
     "prompt_number": 9
    },
    {
     "cell_type": "code",
     "collapsed": false,
     "input": [],
     "language": "python",
     "metadata": {},
     "outputs": []
    },
    {
     "cell_type": "code",
     "collapsed": false,
     "input": [
      "for n in names:\n",
      "    uris = []\n",
      "    for f in pr_files:\n",
      "        if n == f[0:-16]:\n",
      "            uris.append(os.path.join(path,f))\n",
      "    try:         \n",
      "        uris.sort()\n",
      "        rds = RequestDataset(uris, 'pr',time_region = {'month':[12,1,2]}) # \n",
      "        ops = ocgis.OcgOperations(dataset=rds, geom=geom, prefix=n, select_nearest=False, \\\n",
      "                                  dir_output=dir_output, output_format='nc', allow_empty=False, add_auxiliary_files=False)\n",
      "        ret = ops.execute()\n",
      "        print 'done for ', n \n",
      "    except Exception as e: \n",
      "        print 'failed for file : %s \\n %s ' % (n, e )"
     ],
     "language": "python",
     "metadata": {},
     "outputs": [
      {
       "output_type": "stream",
       "stream": "stdout",
       "text": [
        "done for  pr_EUR-11_MOHC-HadGEM2-ES_historical_r1i1p1_SMHI-RCA4_v1_mon_\n",
        "done for "
       ]
      },
      {
       "output_type": "stream",
       "stream": "stdout",
       "text": [
        " pr_EUR-11_IPSL-IPSL-CM5A-MR_rcp85_r1i1p1_SMHI-RCA4_v1_mon_\n",
        "done for "
       ]
      },
      {
       "output_type": "stream",
       "stream": "stdout",
       "text": [
        " pr_EUR-11_MPI-M-MPI-ESM-LR_rcp45_r1i1p1_SMHI-RCA4_v1_mon_\n",
        "done for "
       ]
      },
      {
       "output_type": "stream",
       "stream": "stdout",
       "text": [
        " pr_EUR-11_CNRM-CERFACS-CNRM-CM5_rcp45_r1i1p1_SMHI-RCA4_v1_mon_\n",
        "done for "
       ]
      },
      {
       "output_type": "stream",
       "stream": "stdout",
       "text": [
        " pr_EUR-11_CNRM-CERFACS-CNRM-CM5_historical_r1i1p1_SMHI-RCA4_v1_mon_\n",
        "done for "
       ]
      },
      {
       "output_type": "stream",
       "stream": "stdout",
       "text": [
        " pr_EUR-11_ICHEC-EC-EARTH_historical_r1i1p1_KNMI-RACMO22E_v1_mon_\n",
        "failed for file : pr_EUR-11_IPSL-IPSL-CM5A-MR_rcp45_r1i1p1_IPSL-INERIS-WRF331F_v1_mon_ \n",
        " A subset operation on dimension \"rlat\" returned empty. This typically means the selection geometry falls outside the spatial domain of the target dataset. "
       ]
      },
      {
       "output_type": "stream",
       "stream": "stdout",
       "text": [
        "\n",
        "done for "
       ]
      },
      {
       "output_type": "stream",
       "stream": "stdout",
       "text": [
        " pr_EUR-11_MPI-M-MPI-ESM-LR_historical_r1i1p1_CLMcom-CCLM4-8-17_v1_mon_\n",
        "done for "
       ]
      },
      {
       "output_type": "stream",
       "stream": "stdout",
       "text": [
        " pr_EUR-11_IPSL-IPSL-CM5A-MR_historical_r1i1p1_SMHI-RCA4_v1_mon_\n",
        "done for "
       ]
      },
      {
       "output_type": "stream",
       "stream": "stdout",
       "text": [
        " pr_EUR-11_MPI-M-MPI-ESM-LR_rcp85_r1i1p1_MPI-CSC-REMO2009_v1_mon_\n",
        "done for "
       ]
      },
      {
       "output_type": "stream",
       "stream": "stdout",
       "text": [
        " pr_EUR-11_ICHEC-EC-EARTH_historical_r12i1p1_CLMcom-CCLM4-8-17_v1_mon_\n",
        "done for "
       ]
      },
      {
       "output_type": "stream",
       "stream": "stdout",
       "text": [
        " pr_EUR-11_ICHEC-EC-EARTH_rcp85_r12i1p1_CLMcom-CCLM4-8-17_v1_mon_\n",
        "done for "
       ]
      },
      {
       "output_type": "stream",
       "stream": "stdout",
       "text": [
        " pr_EUR-11_ICHEC-EC-EARTH_historical_r12i1p1_SMHI-RCA4_v1_mon_\n",
        "done for "
       ]
      },
      {
       "output_type": "stream",
       "stream": "stdout",
       "text": [
        " pr_EUR-11_MPI-M-MPI-ESM-LR_rcp85_r1i1p1_SMHI-RCA4_v1_mon_\n",
        "done for "
       ]
      },
      {
       "output_type": "stream",
       "stream": "stdout",
       "text": [
        " pr_EUR-11_MPI-M-MPI-ESM-LR_historical_r1i1p1_MPI-CSC-REMO2009_v1_mon_\n",
        "done for "
       ]
      },
      {
       "output_type": "stream",
       "stream": "stdout",
       "text": [
        " pr_EUR-11_ICHEC-EC-EARTH_rcp45_r12i1p1_SMHI-RCA4_v1_mon_\n",
        "done for "
       ]
      },
      {
       "output_type": "stream",
       "stream": "stdout",
       "text": [
        " pr_EUR-11_MPI-M-MPI-ESM-LR_rcp45_r1i1p1_CLMcom-CCLM4-8-17_v1_mon_\n",
        "done for "
       ]
      },
      {
       "output_type": "stream",
       "stream": "stdout",
       "text": [
        " pr_EUR-11_MOHC-HadGEM2-ES_rcp45_r1i1p1_SMHI-RCA4_v1_mon_\n",
        "done for "
       ]
      },
      {
       "output_type": "stream",
       "stream": "stdout",
       "text": [
        " pr_EUR-11_ICHEC-EC-EARTH_rcp45_r12i1p1_CLMcom-CCLM4-8-17_v1_mon_\n",
        "done for "
       ]
      },
      {
       "output_type": "stream",
       "stream": "stdout",
       "text": [
        " pr_EUR-11_MPI-M-MPI-ESM-LR_rcp85_r1i1p1_CLMcom-CCLM4-8-17_v1_mon_\n",
        "done for "
       ]
      },
      {
       "output_type": "stream",
       "stream": "stdout",
       "text": [
        " pr_EUR-11_MPI-M-MPI-ESM-LR_historical_r1i1p1_SMHI-RCA4_v1_mon_\n",
        "done for "
       ]
      },
      {
       "output_type": "stream",
       "stream": "stdout",
       "text": [
        " pr_EUR-11_ICHEC-EC-EARTH_rcp85_r1i1p1_KNMI-RACMO22E_v1_mon_\n",
        "failed for file : pr_EUR-11_IPSL-IPSL-CM5A-MR_historical_r1i1p1_IPSL-INERIS-WRF331F_v1_mon_ \n",
        " A subset operation on dimension \"rlat\" returned empty. This typically means the selection geometry falls outside the spatial domain of the target dataset. "
       ]
      },
      {
       "output_type": "stream",
       "stream": "stdout",
       "text": [
        "\n",
        "done for "
       ]
      },
      {
       "output_type": "stream",
       "stream": "stdout",
       "text": [
        " pr_EUR-11_IPSL-IPSL-CM5A-MR_rcp45_r1i1p1_SMHI-RCA4_v1_mon_\n",
        "done for "
       ]
      },
      {
       "output_type": "stream",
       "stream": "stdout",
       "text": [
        " pr_EUR-11_ICHEC-EC-EARTH_rcp45_r1i1p1_KNMI-RACMO22E_v1_mon_\n",
        "failed for file : pr_EUR-11_IPSL-IPSL-CM5A-MR_rcp85_r1i1p1_IPSL-INERIS-WRF331F_v1_mon_ \n",
        " A subset operation on dimension \"rlat\" returned empty. This typically means the selection geometry falls outside the spatial domain of the target dataset. "
       ]
      },
      {
       "output_type": "stream",
       "stream": "stdout",
       "text": [
        "\n",
        "done for "
       ]
      },
      {
       "output_type": "stream",
       "stream": "stdout",
       "text": [
        " pr_EUR-11_CNRM-CERFACS-CNRM-CM5_rcp85_r1i1p1_CLMcom-CCLM4-8-17_v1_mon_\n",
        "done for "
       ]
      },
      {
       "output_type": "stream",
       "stream": "stdout",
       "text": [
        " pr_EUR-11_CNRM-CERFACS-CNRM-CM5_rcp85_r1i1p1_SMHI-RCA4_v1_mon_\n",
        "done for "
       ]
      },
      {
       "output_type": "stream",
       "stream": "stdout",
       "text": [
        " pr_EUR-11_ICHEC-EC-EARTH_historical_r3i1p1_DMI-HIRHAM5_v1_mon_\n",
        "done for "
       ]
      },
      {
       "output_type": "stream",
       "stream": "stdout",
       "text": [
        " pr_EUR-11_MOHC-HadGEM2-ES_rcp85_r1i1p1_SMHI-RCA4_v1_mon_\n",
        "done for "
       ]
      },
      {
       "output_type": "stream",
       "stream": "stdout",
       "text": [
        " pr_EUR-11_ICHEC-EC-EARTH_rcp85_r12i1p1_SMHI-RCA4_v1_mon_\n",
        "done for "
       ]
      },
      {
       "output_type": "stream",
       "stream": "stdout",
       "text": [
        " pr_EUR-11_CNRM-CERFACS-CNRM-CM5_historical_r1i1p1_CLMcom-CCLM4-8-17_v1_mon_\n",
        "done for "
       ]
      },
      {
       "output_type": "stream",
       "stream": "stdout",
       "text": [
        " pr_EUR-11_MPI-M-MPI-ESM-LR_rcp45_r1i1p1_MPI-CSC-REMO2009_v1_mon_\n",
        "done for "
       ]
      },
      {
       "output_type": "stream",
       "stream": "stdout",
       "text": [
        " pr_EUR-11_CNRM-CERFACS-CNRM-CM5_rcp45_r1i1p1_CLMcom-CCLM4-8-17_v1_mon_\n"
       ]
      }
     ],
     "prompt_number": 11
    },
    {
     "cell_type": "code",
     "collapsed": false,
     "input": [
      "field_dict = ret[1]\n",
      "field = field_dict[rds.variable]\n",
      "var = field.variables[rds.variable]\n",
      "var_value = np.squeeze(var.value.data)"
     ],
     "language": "python",
     "metadata": {},
     "outputs": [
      {
       "ename": "TypeError",
       "evalue": "string indices must be integers, not str",
       "output_type": "pyerr",
       "traceback": [
        "\u001b[1;31m---------------------------------------------------------------------------\u001b[0m\n\u001b[1;31mTypeError\u001b[0m                                 Traceback (most recent call last)",
        "\u001b[1;32m<ipython-input-12-3f5e363db312>\u001b[0m in \u001b[0;36m<module>\u001b[1;34m()\u001b[0m\n\u001b[0;32m      1\u001b[0m \u001b[0mfield_dict\u001b[0m \u001b[1;33m=\u001b[0m \u001b[0mret\u001b[0m\u001b[1;33m[\u001b[0m\u001b[1;36m1\u001b[0m\u001b[1;33m]\u001b[0m\u001b[1;33m\u001b[0m\u001b[0m\n\u001b[1;32m----> 2\u001b[1;33m \u001b[0mfield\u001b[0m \u001b[1;33m=\u001b[0m \u001b[0mfield_dict\u001b[0m\u001b[1;33m[\u001b[0m\u001b[0mrds\u001b[0m\u001b[1;33m.\u001b[0m\u001b[0mvariable\u001b[0m\u001b[1;33m]\u001b[0m\u001b[1;33m\u001b[0m\u001b[0m\n\u001b[0m\u001b[0;32m      3\u001b[0m \u001b[0mvar\u001b[0m \u001b[1;33m=\u001b[0m \u001b[0mfield\u001b[0m\u001b[1;33m.\u001b[0m\u001b[0mvariables\u001b[0m\u001b[1;33m[\u001b[0m\u001b[0mrds\u001b[0m\u001b[1;33m.\u001b[0m\u001b[0mvariable\u001b[0m\u001b[1;33m]\u001b[0m\u001b[1;33m\u001b[0m\u001b[0m\n\u001b[0;32m      4\u001b[0m \u001b[0mvar_value\u001b[0m \u001b[1;33m=\u001b[0m \u001b[0mnp\u001b[0m\u001b[1;33m.\u001b[0m\u001b[0msqueeze\u001b[0m\u001b[1;33m(\u001b[0m\u001b[0mvar\u001b[0m\u001b[1;33m.\u001b[0m\u001b[0mvalue\u001b[0m\u001b[1;33m.\u001b[0m\u001b[0mdata\u001b[0m\u001b[1;33m)\u001b[0m\u001b[1;33m\u001b[0m\u001b[0m\n",
        "\u001b[1;31mTypeError\u001b[0m: string indices must be integers, not str"
       ]
      }
     ],
     "prompt_number": 12
    },
    {
     "cell_type": "code",
     "collapsed": false,
     "input": [
      "var_value.shape\n",
      "\n",
      "\n",
      "#rdc = RequestDatasetCollection(rds)"
     ],
     "language": "python",
     "metadata": {},
     "outputs": []
    },
    {
     "cell_type": "code",
     "collapsed": false,
     "input": [
      "# COORDINATES = [('France', [2.8, 47.16]),('Germany', [10.5, 51.29]),('Italy', [12.2, 43.4])]\n"
     ],
     "language": "python",
     "metadata": {},
     "outputs": []
    },
    {
     "cell_type": "code",
     "collapsed": false,
     "input": [
      "# geom"
     ],
     "language": "python",
     "metadata": {},
     "outputs": []
    },
    {
     "cell_type": "code",
     "collapsed": false,
     "input": [
      "field_dict = ret[1]\n",
      "field = field_dict[rds.variable]\n",
      "var = field.variables[rds.variable]\n",
      "var_value = np.squeeze(var.value.data)"
     ],
     "language": "python",
     "metadata": {},
     "outputs": []
    },
    {
     "cell_type": "code",
     "collapsed": false,
     "input": [],
     "language": "python",
     "metadata": {},
     "outputs": []
    },
    {
     "cell_type": "code",
     "collapsed": false,
     "input": [
      "print ret"
     ],
     "language": "python",
     "metadata": {},
     "outputs": []
    },
    {
     "cell_type": "code",
     "collapsed": false,
     "input": [
      "field_dict = ret[1]\n",
      "field = field_dict[rds.variable]\n",
      "var = field.variables[rds.variable]\n",
      "var_value = np.squeeze(var.value.data)"
     ],
     "language": "python",
     "metadata": {},
     "outputs": []
    },
    {
     "cell_type": "code",
     "collapsed": false,
     "input": [
      "plt.plot(var_value * 86400 * 30 )\n",
      "plt.show()"
     ],
     "language": "python",
     "metadata": {},
     "outputs": []
    }
   ],
   "metadata": {}
  }
 ]
}