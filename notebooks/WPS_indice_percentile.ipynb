{
 "cells": [
  {
   "cell_type": "code",
   "execution_count": 1,
   "metadata": {
    "collapsed": true
   },
   "outputs": [],
   "source": [
    "# define some input data locations\n",
    "\n",
    "from os.path import join\n",
    "path = '/home/nils/data/EUR-44'\n",
    "files = ['tas_EUR-44_ICHEC-EC-EARTH_historical_r12i1p1_SMHI-RCA4_v1_day_19710101-19751231.nc',\n",
    "            'tas_EUR-44_ICHEC-EC-EARTH_historical_r12i1p1_SMHI-RCA4_v1_day_19760101-19801231.nc',\n",
    "            'tas_EUR-44_ICHEC-EC-EARTH_historical_r12i1p1_SMHI-RCA4_v1_day_19810101-19851231.nc',\n",
    "            'tas_EUR-44_ICHEC-EC-EARTH_historical_r12i1p1_SMHI-RCA4_v1_day_19860101-19901231.nc',\n",
    "            'tas_EUR-44_ICHEC-EC-EARTH_historical_r12i1p1_SMHI-RCA4_v1_day_19910101-19951231.nc',\n",
    "            'tas_EUR-44_ICHEC-EC-EARTH_historical_r12i1p1_SMHI-RCA4_v1_day_19960101-20001231.nc',]\n",
    "resource = [ join(path,nc) for nc in files ]"
   ]
  },
  {
   "cell_type": "markdown",
   "metadata": {},
   "source": [
    "Execution with plain python (no birdhouse components included )"
   ]
  },
  {
   "cell_type": "code",
   "execution_count": 16,
   "metadata": {
    "collapsed": false
   },
   "outputs": [
    {
     "name": "stdout",
     "output_type": "stream",
     "text": [
      "/home/nils/birdhouse/flyingpigeon/notebooks/ocgis_output/ocgis_output.nc\n"
     ]
    }
   ],
   "source": [
    "import icclim \n",
    "\n",
    "from ocgis import RequestDataset, OcgOperations, env\n",
    "from ocgis.contrib.library_icclim import IcclimTG90p\n",
    "\n",
    "env.OVERWRITE = True\n",
    "########################################################################################################################\n",
    "# Compute a custom percentile basis using ICCLIM. ######################################################################\n",
    "########################################################################################################################\n",
    "\n",
    "# Subset the input dataset to return the desired base period for the percentile basis.\n",
    "variable = 'tas'\n",
    "years = range(1971, 2001)\n",
    "time_region = {'year': years}\n",
    "rd = RequestDataset(uri=resource, variable=variable)\n",
    "field = rd.get()\n",
    "field.get_time_region(time_region)\n",
    "\n",
    "# Calculate the percentile basis. The data values must be a three-dimensional array.\n",
    "arr = field.variables[variable].value.squeeze()\n",
    "dt_arr = field.temporal.value_datetime\n",
    "percentile = 90\n",
    "window_width = 5\n",
    "percentile_dict = IcclimTG90p.get_percentile_dict(arr, dt_arr, percentile, window_width)\n",
    "\n",
    "calc = [{'func': 'icclim_TG90p', 'name': 'TG90p', 'kwds': {'percentile_dict': percentile_dict}}]\n",
    "calc_grouping = 'year'\n",
    "ops = OcgOperations(dataset=rd, calc=calc, calc_grouping=calc_grouping, output_format='nc')\n",
    "coll = ops.execute()\n",
    "print coll"
   ]
  },
  {
   "cell_type": "code",
   "execution_count": 29,
   "metadata": {
    "collapsed": true
   },
   "outputs": [],
   "source": [
    "from flyingpigeon import indices as ind\n",
    "#from flyingpigeon.indices import calc_indice_percentile"
   ]
  },
  {
   "cell_type": "code",
   "execution_count": 63,
   "metadata": {
    "collapsed": false
   },
   "outputs": [
    {
     "name": "stdout",
     "output_type": "stream",
     "text": [
      "start ocgis module\n",
      "start ocgis module\n",
      "['/', 'h', 'o', 'm', 'e', '/', 'n', 'i', 'l', 's', '/', 'b', 'i', 'r', 'd', 'h', 'o', 'u', 's', 'e', '/', 'f', 'l', 'y', 'i', 'n', 'g', 'p', 'i', 'g', 'e', 'o', 'n', '/', 'n', 'o', 't', 'e', 'b', 'o', 'o', 'k', 's', '/', 'T', 'G', '9', '0', 'p', '_', 'E', 'U', 'R', '-', '4', '4', '_', 'I', 'C', 'H', 'E', 'C', '-', 'E', 'C', '-', 'E', 'A', 'R', 'T', 'H', '_', 'h', 'i', 's', 't', 'o', 'r', 'i', 'c', 'a', 'l', '_', 'r', '1', '2', 'i', '1', 'p', '1', '_', 'S', 'M', 'H', 'I', '-', 'R', 'C', 'A', '4', '_', 'v', '1', '_', 'd', 'a', 'y', '_', '1', '9', '7', '1', '0', '1', '0', '1', '-', '2', '0', '0', '0', '1', '2', '3', '1', '.', 'n', 'c']\n"
     ]
    }
   ],
   "source": [
    "reload(ind)\n",
    "nc_indice = ind.calc_indice_percentile(resources=resource, variable='tas', indices='TG90p',\n",
    "                       period=(1971,2000), groupings='yr', dir_output=None)\n",
    "print nc_indice\n"
   ]
  },
  {
   "cell_type": "code",
   "execution_count": 59,
   "metadata": {
    "collapsed": false
   },
   "outputs": [
    {
     "name": "stdout",
     "output_type": "stream",
     "text": [
      "start ocgis module\n"
     ]
    },
    {
     "data": {
      "text/plain": [
       "'/home/nils/birdhouse/flyingpigeon/notebooks/nc_reference.nc'"
      ]
     },
     "execution_count": 59,
     "metadata": {},
     "output_type": "execute_result"
    }
   ],
   "source": [
    "call(resource=nc_indice, prefix='nc_reference', time_region=time_region, output_format='nc')"
   ]
  },
  {
   "cell_type": "code",
   "execution_count": null,
   "metadata": {
    "collapsed": true
   },
   "outputs": [],
   "source": [
    "from ocgis.contrib.library_icclim import IcclimTG90p\n",
    "from flyingpigeon.ocgis_module import call\n",
    "from flyingpigeon import utils as ut\n",
    "from numpy import ma \n",
    "    \n",
    "years = range(1971, 2001)\n",
    "time_region = {'year': years} \n",
    "\n",
    "nc_reference = call(resource=resource, prefix='nc_reference',time_region=time_region, output_format='nc')"
   ]
  },
  {
   "cell_type": "code",
   "execution_count": 50,
   "metadata": {
    "collapsed": true
   },
   "outputs": [],
   "source": [
    "arr = ut.get_values(nc_files=nc_reference)\n",
    "dt_arr = ut.get_time(nc_file=nc_reference)"
   ]
  },
  {
   "cell_type": "code",
   "execution_count": 51,
   "metadata": {
    "collapsed": true
   },
   "outputs": [],
   "source": [
    "arr = ma.masked_array(arr)\n",
    "dt_arr = ma.masked_array(dt_arr)\n",
    "\n",
    "percentile = 90\n",
    "window_width = 5\n",
    "percentile_dict = IcclimTG90p.get_percentile_dict(arr, dt_arr, percentile, window_width)"
   ]
  },
  {
   "cell_type": "code",
   "execution_count": 52,
   "metadata": {
    "collapsed": false
   },
   "outputs": [
    {
     "name": "stdout",
     "output_type": "stream",
     "text": [
      "start ocgis module\n",
      "/home/nils/birdhouse/flyingpigeon/notebooks/flyingpigeon_modules.nc\n"
     ]
    }
   ],
   "source": [
    "calc = [{'func': 'icclim_TG90p', 'name': 'TG90p', 'kwds': {'percentile_dict': percentile_dict}}]\n",
    "calc_grouping = 'year'\n",
    "coll = call(resource=resource, prefix='flyingpigeon_modules', calc=calc, calc_grouping=calc_grouping, output_format='nc')\n",
    "print coll"
   ]
  },
  {
   "cell_type": "code",
   "execution_count": null,
   "metadata": {
    "collapsed": true
   },
   "outputs": [],
   "source": []
  },
  {
   "cell_type": "code",
   "execution_count": 49,
   "metadata": {
    "collapsed": false
   },
   "outputs": [
    {
     "data": {
      "text/plain": [
       "'/home/nils/birdhouse/flyingpigeon/notebooks/nc_reference.nc'"
      ]
     },
     "execution_count": 49,
     "metadata": {},
     "output_type": "execute_result"
    }
   ],
   "source": [
    "nc_reference"
   ]
  },
  {
   "cell_type": "markdown",
   "metadata": {},
   "source": [
    "Execute WPS icclim processes with PHYTHON "
   ]
  },
  {
   "cell_type": "code",
   "execution_count": 1,
   "metadata": {
    "collapsed": false
   },
   "outputs": [],
   "source": [
    "from owslib.wps import WebProcessingService, monitorExecution\n",
    "wps = WebProcessingService(url=\"http://localhost:8093/wps\", verbose=False, skip_caps=False)"
   ]
  },
  {
   "cell_type": "markdown",
   "metadata": {},
   "source": [
    "Explore some informations:"
   ]
  },
  {
   "cell_type": "code",
   "execution_count": 2,
   "metadata": {
    "collapsed": false
   },
   "outputs": [
    {
     "data": {
      "text/plain": [
       "'Flyingpigeon'"
      ]
     },
     "execution_count": 2,
     "metadata": {},
     "output_type": "execute_result"
    }
   ],
   "source": [
    "wps.identification.title"
   ]
  },
  {
   "cell_type": "code",
   "execution_count": 3,
   "metadata": {
    "collapsed": false
   },
   "outputs": [],
   "source": [
    "for process in wps.processes:\n",
    "    process.identifier, process.title"
   ]
  },
  {
   "cell_type": "code",
   "execution_count": 4,
   "metadata": {
    "collapsed": false
   },
   "outputs": [
    {
     "name": "stdout",
     "output_type": "stream",
     "text": [
      "visualisation \t : Just testing a nice script to visualise some variables \n",
      "sdm \t : Species distribution model (SDM) \n",
      "weatherregimes \t : Weather Regimes based on pressure patterns (kmean method) \n",
      "extractpoints \t : Extract Timeseries for specified coordinates from grid data \n",
      "segetalflora \t : Species biodiversity of segetal flora. Imput files: variable:tas , domain: EUR-11 or EUR-44 \n",
      "indices_single \t : This process calculates climate indices based on one single variable. \n",
      "indices_percentile \t : This process calculates climate indices based on one single variable and based on percentils of a referece period. \n",
      "subset_countries \t : This process returns only the given polygon from input netCDF files. \n",
      "eobs_to_cordex \t : downloads EOBS data in adaped CORDEX format \n",
      "ensembleRobustness \t : Calculates the robustness as the ratio of noise to signal in an ensemle of timeseries \n",
      "analogs \t : Search for days with analog pressure pattern \n",
      "fetch \t : This process downloads resources (limited to 50GB)             to the local file system of the birdhouse compute provider \n"
     ]
    }
   ],
   "source": [
    "for process in wps.processes:\n",
    "    print '%s \\t : %s '% (process.identifier, process.abstract) "
   ]
  },
  {
   "cell_type": "code",
   "execution_count": 12,
   "metadata": {
    "collapsed": false
   },
   "outputs": [
    {
     "data": {
      "text/plain": [
       "<module 'flyingpigeon.indices' from '/home/nils/birdhouse/flyingpigeon/flyingpigeon/indices.pyc'>"
      ]
     },
     "execution_count": 12,
     "metadata": {},
     "output_type": "execute_result"
    }
   ],
   "source": [
    "from flyingpigeon import indices #import calc_indice_percentile as cip\n",
    "reload(indices)"
   ]
  },
  {
   "cell_type": "code",
   "execution_count": null,
   "metadata": {
    "collapsed": true
   },
   "outputs": [],
   "source": [
    "from flyingpigeon.utils import get_values, get_time\n",
    "\n",
    "arr = get_values(nc_ref_vals)\n",
    "dt_arr = get_time(nc_ref_vals)\n",
    "percentile = 90\n",
    "window_width = 5\n",
    "\n",
    "arr = np.ma.masked_array(arr)\n",
    "dt_arr = np.ma.masked_array(dt_arr)\n"
   ]
  },
  {
   "cell_type": "code",
   "execution_count": 54,
   "metadata": {
    "collapsed": true
   },
   "outputs": [],
   "source": []
  },
  {
   "cell_type": "code",
   "execution_count": 55,
   "metadata": {
    "collapsed": true
   },
   "outputs": [],
   "source": [
    "percentile_dict = IcclimTG90p.get_percentile_dict(arr, dt_arr, percentile, window_width)"
   ]
  },
  {
   "cell_type": "code",
   "execution_count": 63,
   "metadata": {
    "collapsed": false
   },
   "outputs": [
    {
     "name": "stdout",
     "output_type": "stream",
     "text": [
      "start ocgis module\n"
     ]
    }
   ],
   "source": [
    "nc_indices =  call(resource=resource, variable='tas',  prefix='indices', calc=calc, calc_grouping=calc_grouping, output_format='nc')"
   ]
  },
  {
   "cell_type": "code",
   "execution_count": null,
   "metadata": {
    "collapsed": true
   },
   "outputs": [],
   "source": [
    "import numpy as np"
   ]
  },
  {
   "cell_type": "code",
   "execution_count": null,
   "metadata": {
    "collapsed": false
   },
   "outputs": [],
   "source": []
  },
  {
   "cell_type": "code",
   "execution_count": 13,
   "metadata": {
    "collapsed": false,
    "scrolled": false
   },
   "outputs": [],
   "source": [
    "#np.ma.masked_array?\n",
    "\n",
    "\n",
    "#reload(indices)\n",
    "\n",
    "#indices.calc_indice_percentile(resource=resource, variable=None, prefix=None, indices='TG90p', period=None, groupings='yr')"
   ]
  },
  {
   "cell_type": "code",
   "execution_count": null,
   "metadata": {
    "collapsed": true
   },
   "outputs": [],
   "source": [
    "execute = wps.execute(\n",
    "    identifier=\"indices_percentile\",\n",
    "    inputs=[\n",
    "    ('indices','TG90p'),\n",
    "    ('groupings','yr'),\n",
    "    ('resource',resource[0]),\n",
    "    ('resource',resource[1]),\n",
    "    ('resource',resource[2]),\n",
    "    ('resource',resource[3]),\n",
    "    ('resource',resource[4]),\n",
    "    ('resource',resource[5]),\n",
    "    ])\n",
    "\n",
    "# check process if completed ...\n",
    "monitorExecution(execute, sleepSecs=5)\n",
    "\n",
    "o = execute.processOutputs[0]\n",
    "print o.reference"
   ]
  },
  {
   "cell_type": "code",
   "execution_count": null,
   "metadata": {
    "collapsed": false
   },
   "outputs": [],
   "source": []
  },
  {
   "cell_type": "code",
   "execution_count": null,
   "metadata": {
    "collapsed": true
   },
   "outputs": [],
   "source": []
  }
 ],
 "metadata": {
  "kernelspec": {
   "display_name": "Python 2",
   "language": "python",
   "name": "python2"
  },
  "language_info": {
   "codemirror_mode": {
    "name": "ipython",
    "version": 2
   },
   "file_extension": ".py",
   "mimetype": "text/x-python",
   "name": "python",
   "nbconvert_exporter": "python",
   "pygments_lexer": "ipython2",
   "version": "2.7.11"
  }
 },
 "nbformat": 4,
 "nbformat_minor": 0
}
