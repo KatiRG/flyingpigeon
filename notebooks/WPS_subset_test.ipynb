{
 "cells": [
  {
   "cell_type": "markdown",
   "metadata": {},
   "source": [
    "## run request with owslib"
   ]
  },
  {
   "cell_type": "code",
   "execution_count": 1,
   "metadata": {
    "collapsed": true
   },
   "outputs": [],
   "source": [
    "from owslib.wps import WebProcessingService, monitorExecution, printInputOutput\n"
   ]
  },
  {
   "cell_type": "code",
   "execution_count": 2,
   "metadata": {
    "collapsed": true
   },
   "outputs": [],
   "source": [
    "wps = WebProcessingService(url=\"http://localhost:8093/wps\", verbose=False)"
   ]
  },
  {
   "cell_type": "code",
   "execution_count": 3,
   "metadata": {
    "collapsed": false
   },
   "outputs": [
    {
     "name": "stdout",
     "output_type": "stream",
     "text": [
      "visualisation : \t Just testing a nice script to visualise some variables\n",
      "extractpoints : \t Extract Timeseries for specified coordinates from grid data\n",
      "segetalflora : \t Species biodiversity of segetal flora. Imput files: variable:tas , domain: EUR-11 or EUR-44\n",
      "indices_single : \t This process calculates climate indices based on one single variable.\n",
      "subset_countries : \t This process returns only the given polygon from input netCDF files.\n",
      "eobs_to_cordex : \t downloades EOBS data in adaped CORDEX format\n",
      "modelUncertainty : \t Calculates the ensemble mean and uncertainty mask\n"
     ]
    }
   ],
   "source": [
    "for process in wps.processes:\n",
    "    print '%s : \\t %s' % (process.identifier, process.abstract, )"
   ]
  },
  {
   "cell_type": "code",
   "execution_count": 4,
   "metadata": {
    "collapsed": true
   },
   "outputs": [],
   "source": [
    "in_file1 = 'file:///home/pingu/Public/data/esgf-archive/CORDEX/cordex/output/WAS-44/MPI-CSC/MPI-M-MPI-ESM-LR/historical/r1i1p1/MPI-CSC-REMO2009/v1/day/tasmax/v20140918/tasmax_WAS-44_MPI-M-MPI-ESM-LR_historical_r1i1p1_MPI-CSC-REMO2009_v1_day_20010101-20051231.nc'"
   ]
  },
  {
   "cell_type": "code",
   "execution_count": 5,
   "metadata": {
    "collapsed": false
   },
   "outputs": [
    {
     "name": "stdout",
     "output_type": "stream",
     "text": [
      "ProcessSucceeded\n",
      "http://localhost:8090/wpsoutputs/flyingpigeon/output-b185345e-baa8-11e5-bd0b-770bac7cc075.tar\n"
     ]
    }
   ],
   "source": [
    "execute = wps.execute(\n",
    "    identifier=\"subset_countries\", #indices_clipping\",\n",
    "    inputs=[\n",
    "    (\"resource\",in_file1),\n",
    "      # (\"resource\",in_file2),\n",
    "    (\"region\",'FRA'),\n",
    "      # (\"country\",'DEU'),\n",
    "    (\"mosaik\",'False'),\n",
    "           ])\n",
    "\n",
    "monitorExecution(execute, sleepSecs=5)\n",
    "\n",
    "print execute.getStatus()\n",
    "\n",
    "for o in execute.processOutputs:\n",
    "    print o.reference"
   ]
  },
  {
   "cell_type": "markdown",
   "metadata": {},
   "source": [
    "## run sync request with get parameters"
   ]
  },
  {
   "cell_type": "code",
   "execution_count": 6,
   "metadata": {
    "collapsed": true
   },
   "outputs": [],
   "source": [
    "sync_req_url = \"http://localhost:8093/wps?\" +\\\n",
    "    \"request=Execute\" +\\\n",
    "    \"&service=WPS\" +\\\n",
    "    \"&version=1.0.0\" +\\\n",
    "    \"&identifier=subset_countries\" +\\\n",
    "    \"&DataInputs=resource={resource};region={region}\" +\\\n",
    "    \"&storeExecuteResponse=false\" +\\\n",
    "    \"&status=false\""
   ]
  },
  {
   "cell_type": "code",
   "execution_count": 7,
   "metadata": {
    "collapsed": false
   },
   "outputs": [
    {
     "name": "stdout",
     "output_type": "stream",
     "text": [
      "http://localhost:8093/wps?request=Execute&service=WPS&version=1.0.0&identifier=subset_countries&DataInputs=resource=file:///home/pingu/Public/data/esgf-archive/CORDEX/cordex/output/WAS-44/MPI-CSC/MPI-M-MPI-ESM-LR/historical/r1i1p1/MPI-CSC-REMO2009/v1/day/tasmax/v20140918/tasmax_WAS-44_MPI-M-MPI-ESM-LR_historical_r1i1p1_MPI-CSC-REMO2009_v1_day_20010101-20051231.nc;region=FRA&storeExecuteResponse=false&status=false\n"
     ]
    }
   ],
   "source": [
    "url=sync_req_url.format(\n",
    "    resource=in_file1,\n",
    "    region='FRA')\n",
    "print url   "
   ]
  },
  {
   "cell_type": "code",
   "execution_count": 10,
   "metadata": {
    "collapsed": false
   },
   "outputs": [
    {
     "name": "stdout",
     "output_type": "stream",
     "text": [
      "200\n",
      "<?xml version=\"1.0\" encoding=\"utf-8\"?>\n",
      "<wps:ExecuteResponse xmlns:wps=\"http://www.opengis.net/wps/1.0.0\" xmlns:ows=\"http://www.opengis.net/ows/1.1\" xmlns:xlink=\"http://www.w3.org/1999/xlink\" xmlns:xsi=\"http://www.w3.org/2001/XMLSchema-instance\" xsi:schemaLocation=\"http://www.opengis.net/wps/1.0.0 http://schemas.opengis.net/wps/1.0.0/wpsExecute_response.xsd\" service=\"WPS\" version=\"1.0.0\" xml:lang=\"en-CA\" serviceInstance=\"http://localhost:8093/wps?service=WPS&amp;request=GetCapabilities&amp;version=1.0.0\">\n",
      "    <wps:Process wps:processVersion=\"0.1\">\n",
      "        <ows:Identifier>subset_countries</ows:Identifier>\n",
      "        <ows:Title>Subset netCDF files</ows:Title>\n",
      "        <ows:Abstract>This process returns only the given polygon from input netCDF files.</ows:Abstract>\n",
      "    </wps:Process>\n",
      "    <wps:Status creationTime=\"2016-01-14T11:26:11Z\">\n",
      "        <wps:ProcessSucceeded>PyWPS Process subset_countries successfully calculated</wps:ProcessSucceeded>\n",
      "    </wps:Status>\n",
      "    <wps:ProcessOutputs>\n",
      "        <wps:Output>\n",
      "            <ows:Identifier>output</ows:Identifier>\n",
      "            <ows:Title>Subsets</ows:Title>\n",
      "            <ows:Abstract>Tar archive containing the netCDF files</ows:Abstract>\n",
      "            <wps:Reference href=\"http://localhost:8090/wpsoutputs/flyingpigeon/output-3b5ab9a6-baa9-11e5-a5d4-03fe61ac90d8.tar\" mimeType=\"application/x-tar\" />\n",
      "        </wps:Output>\n",
      "    </wps:ProcessOutputs>\n",
      "</wps:ExecuteResponse>\n"
     ]
    }
   ],
   "source": [
    "import requests\n",
    "r = requests.get(url)\n",
    "print r.status_code\n",
    "print r.text"
   ]
  },
  {
   "cell_type": "markdown",
   "metadata": {},
   "source": [
    "## run async request with get parameters"
   ]
  },
  {
   "cell_type": "code",
   "execution_count": 11,
   "metadata": {
    "collapsed": true
   },
   "outputs": [],
   "source": [
    "async_req_url = \"http://localhost:8093/wps?\" +\\\n",
    "    \"request=Execute\" +\\\n",
    "    \"&service=WPS\" +\\\n",
    "    \"&version=1.0.0\" +\\\n",
    "    \"&identifier=subset_countries\" +\\\n",
    "    \"&DataInputs=resource={resource};region={region}\" +\\\n",
    "    \"&storeExecuteResponse=true\" +\\\n",
    "    \"&status=true\""
   ]
  },
  {
   "cell_type": "code",
   "execution_count": 12,
   "metadata": {
    "collapsed": false
   },
   "outputs": [
    {
     "name": "stdout",
     "output_type": "stream",
     "text": [
      "http://localhost:8093/wps?request=Execute&service=WPS&version=1.0.0&identifier=subset_countries&DataInputs=resource=file:///home/pingu/Public/data/esgf-archive/CORDEX/cordex/output/WAS-44/MPI-CSC/MPI-M-MPI-ESM-LR/historical/r1i1p1/MPI-CSC-REMO2009/v1/day/tasmax/v20140918/tasmax_WAS-44_MPI-M-MPI-ESM-LR_historical_r1i1p1_MPI-CSC-REMO2009_v1_day_20010101-20051231.nc;region=FRA&storeExecuteResponse=true&status=true\n"
     ]
    }
   ],
   "source": [
    "url=async_req_url.format(\n",
    "    resource=in_file1,\n",
    "    region='FRA')\n",
    "print url   "
   ]
  },
  {
   "cell_type": "code",
   "execution_count": 21,
   "metadata": {
    "collapsed": false
   },
   "outputs": [
    {
     "name": "stdout",
     "output_type": "stream",
     "text": [
      "http://localhost:8090/wpsoutputs/flyingpigeon/pywps-2ff48982-bab5-11e5-a5d4-03fe61ac90d8.xml\n"
     ]
    }
   ],
   "source": [
    "r = requests.get(url)\n",
    "from lxml import etree\n",
    "from io import BytesIO\n",
    "tree = etree.parse(BytesIO(r.content))\n",
    "#print etree.tostring(tree)\n",
    "status_url = tree.getroot().get(\"statusLocation\")\n",
    "print status_url"
   ]
  },
  {
   "cell_type": "code",
   "execution_count": 22,
   "metadata": {
    "collapsed": false
   },
   "outputs": [
    {
     "name": "stdout",
     "output_type": "stream",
     "text": [
      "200\n",
      "<?xml version=\"1.0\" encoding=\"utf-8\"?>\n",
      "<wps:ExecuteResponse xmlns:wps=\"http://www.opengis.net/wps/1.0.0\" xmlns:ows=\"http://www.opengis.net/ows/1.1\" xmlns:xlink=\"http://www.w3.org/1999/xlink\" xmlns:xsi=\"http://www.w3.org/2001/XMLSchema-instance\" xsi:schemaLocation=\"http://www.opengis.net/wps/1.0.0 http://schemas.opengis.net/wps/1.0.0/wpsExecute_response.xsd\" service=\"WPS\" version=\"1.0.0\" xml:lang=\"en-CA\" serviceInstance=\"http://localhost:8093/wps?service=WPS&amp;request=GetCapabilities&amp;version=1.0.0\" statusLocation=\"http://localhost:8090/wpsoutputs/flyingpigeon/pywps-2ff48982-bab5-11e5-a5d4-03fe61ac90d8.xml\">\n",
      "    <wps:Process wps:processVersion=\"0.1\">\n",
      "        <ows:Identifier>subset_countries</ows:Identifier>\n",
      "        <ows:Title>Subset netCDF files</ows:Title>\n",
      "        <ows:Abstract>This process returns only the given polygon from input netCDF files.</ows:Abstract>\n",
      "    </wps:Process>\n",
      "    <wps:Status creationTime=\"2016-01-14T12:51:47Z\">\n",
      "        <wps:ProcessSucceeded>PyWPS Process subset_countries successfully calculated</wps:ProcessSucceeded>\n",
      "    </wps:Status>\n",
      "    <wps:ProcessOutputs>\n",
      "        <wps:Output>\n",
      "            <ows:Identifier>output</ows:Identifier>\n",
      "            <ows:Title>Subsets</ows:Title>\n",
      "            <ows:Abstract>Tar archive containing the netCDF files</ows:Abstract>\n",
      "            <wps:Reference href=\"http://localhost:8090/wpsoutputs/flyingpigeon/output-2ff48982-bab5-11e5-a5d4-03fe61ac90d8.tar\" mimeType=\"application/x-tar\" />\n",
      "        </wps:Output>\n",
      "    </wps:ProcessOutputs>\n",
      "</wps:ExecuteResponse>\n"
     ]
    }
   ],
   "source": [
    "r = requests.get(status_url)\n",
    "print r.status_code\n",
    "print r.text"
   ]
  },
  {
   "cell_type": "code",
   "execution_count": null,
   "metadata": {
    "collapsed": true
   },
   "outputs": [],
   "source": []
  }
 ],
 "metadata": {
  "kernelspec": {
   "display_name": "Python 2",
   "language": "python",
   "name": "python2"
  },
  "language_info": {
   "codemirror_mode": {
    "name": "ipython",
    "version": 2
   },
   "file_extension": ".py",
   "mimetype": "text/x-python",
   "name": "python",
   "nbconvert_exporter": "python",
   "pygments_lexer": "ipython2",
   "version": "2.7.10"
  }
 },
 "nbformat": 4,
 "nbformat_minor": 0
}
