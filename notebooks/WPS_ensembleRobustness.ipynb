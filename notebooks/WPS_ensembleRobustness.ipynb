{
 "cells": [
  {
   "cell_type": "code",
   "execution_count": 1,
   "metadata": {
    "collapsed": true
   },
   "outputs": [],
   "source": [
    "\"\"\"Python WPS execute\"\"\"\n",
    "from owslib.wps import WebProcessingService, monitorExecution, printInputOutput\n",
    "from os import system"
   ]
  },
  {
   "cell_type": "code",
   "execution_count": null,
   "metadata": {
    "collapsed": false
   },
   "outputs": [],
   "source": [
    "#import owslib\n",
    "#owslib.__version__ # version must be >=0.10.3"
   ]
  },
  {
   "cell_type": "code",
   "execution_count": 85,
   "metadata": {
    "collapsed": false
   },
   "outputs": [],
   "source": [
    "wps_url = \"http://localhost:8093/wps\"\n",
    "#wps_url = \"http://birdhouse-lsce.extra.cea.fr:8093/wps\"\n",
    "wps = WebProcessingService(url=wps_url, verbose=False)\n",
    "\n",
    "#wps = WebProcessingService(url=\"http://birdhouse-lsce.extra.cea.fr:8093/wps\", verbose=False)\n",
    "#wps_url = WebProcessingService(url=\"http://localhost:8093/wps\", verbose=False)"
   ]
  },
  {
   "cell_type": "code",
   "execution_count": 86,
   "metadata": {
    "collapsed": false
   },
   "outputs": [
    {
     "name": "stdout",
     "output_type": "stream",
     "text": [
      "Flyingpigeon\n"
     ]
    }
   ],
   "source": [
    "print wps.identification.title"
   ]
  },
  {
   "cell_type": "code",
   "execution_count": 87,
   "metadata": {
    "collapsed": false
   },
   "outputs": [
    {
     "name": "stdout",
     "output_type": "stream",
     "text": [
      "visualisation : \t Just testing a nice script to visualise some variables\n",
      "extractpoints : \t Extract Timeseries for specified coordinates from grid data\n",
      "subset_countries : \t This process returns only the given polygon from input netCDF files.\n",
      "eobs_to_cordex : \t downloads EOBS data in adaped CORDEX format\n",
      "ensembleRobustness : \t Calculates the robustness as the ratio of noise to signal in an ensemle of timeseries\n"
     ]
    }
   ],
   "source": [
    "for process in wps.processes:\n",
    "    print '%s : \\t %s' % (process.identifier, process.abstract)"
   ]
  },
  {
   "cell_type": "code",
   "execution_count": 88,
   "metadata": {
    "collapsed": false
   },
   "outputs": [
    {
     "name": "stdout",
     "output_type": "stream",
     "text": [
      " identifier=resource, title=NetCDF Files, abstract=NetCDF Files, data type=ComplexData\n",
      " Supported Value: mimeType=application/x-netcdf, encoding=None, schema=None\n",
      " Default Value: mimeType=application/x-netcdf, encoding=None, schema=None \n",
      " minOccurs=1, maxOccurs=100\n",
      " identifier=start, title=Start Year, abstract=Beginn of the analysed period (e.g 1971; if not set, the first consistend year of the ensemble will be taken), data type=//www.w3.org/TR/xmlschema-2/#integer\n",
      " Any value allowed\n",
      " Default Value: 1971 \n",
      " minOccurs=0, maxOccurs=1\n",
      " identifier=end, title=End Year, abstract=End of the analysed period (e.g. 2050 if not set, the last consistend year of the ensemble will be taken), data type=//www.w3.org/TR/xmlschema-2/#integer\n",
      " Any value allowed\n",
      " Default Value: 2005 \n",
      " minOccurs=0, maxOccurs=1\n",
      " identifier=timeslice, title=Time slice, abstract=Time slice (in years) for robustness reference (default=10)), data type=//www.w3.org/TR/xmlschema-2/#integer\n",
      " Any value allowed\n",
      " Default Value: 10 \n",
      " minOccurs=0, maxOccurs=1\n"
     ]
    }
   ],
   "source": [
    "p = wps.describeprocess(identifier='ensembleRobustness')\n",
    "for input in p.dataInputs:\n",
    "    printInputOutput(input)"
   ]
  },
  {
   "cell_type": "code",
   "execution_count": 89,
   "metadata": {
    "collapsed": true
   },
   "outputs": [],
   "source": [
    "files = []\n",
    "\n",
    "for i in range(1,16): # \n",
    "    #files.append('file:///home/estimr1/EUCLEIA/indices/RX5day/DJF/RX5day_DJF_HadGEM3-A-N216_historical_r1i1p%s_19600101-20131230.nc' % (i))\n",
    "    files.append('file:///home/estimr1/EUCLEIA/indices/TG/yr/TG_yr_HadGEM3-A-N216_historical_r1i1p%s_19600101-20131230.nc' % (i))\n",
    "    #files.append('file:///home/nils/data/indices/TG_yr_HadGEM3-A-N216_historical_r1i1p%s_19600101-20131230.nc' % (i))"
   ]
  },
  {
   "cell_type": "code",
   "execution_count": 69,
   "metadata": {
    "collapsed": false
   },
   "outputs": [],
   "source": [
    "#from os.path import join\n",
    "\n",
    "#execute = wps.execute(\n",
    "#    identifier=\"ensembleRobustness\", #indices_clipping\",\n",
    "#    inputs=[\n",
    "#       (\"resource\",files[0]),\n",
    "#       (\"resource\",files[1]),\n",
    "#     #  (\"resource\",files[2]),\n",
    "     #  (\"resource\",files[3]),\n",
    "     #  (\"resource\",files[4]),\n",
    "     #  (\"resource\",files[5]),\n",
    "     #  (\"resource\",files[6]),\n",
    "     #  (\"resource\",files[7]),\n",
    "     #  (\"resource\",files[8]),\n",
    "     #  (\"resource\",files[9]),\n",
    "     #  (\"resource\",files[10]),\n",
    "     #  (\"resource\",files[11]),\n",
    "     #  (\"resource\",files[12]),\n",
    "     #  (\"resource\",files[13]),\n",
    "     #  (\"resource\",files[14])\n",
    "#           ])\n",
    "\n",
    "#monitorExecution(execute, sleepSecs=5)\n",
    "#print execute.getStatus()\n",
    "\n",
    "#for o in execute.processOutputs:\n",
    "#    print o.reference\n",
    "    "
   ]
  },
  {
   "cell_type": "code",
   "execution_count": null,
   "metadata": {
    "collapsed": false
   },
   "outputs": [],
   "source": []
  },
  {
   "cell_type": "code",
   "execution_count": 25,
   "metadata": {
    "collapsed": false
   },
   "outputs": [],
   "source": [
    "sync_req_url = \"{wps_url}?\" +\\\n",
    "    \"request=Execute\" +\\\n",
    "    \"&service=WPS\" +\\\n",
    "    \"&version=1.0.0\" +\\\n",
    "    \"&identifier=ensembleRobustness\" +\\\n",
    "    \"&DataInputs=resource={resource1};resource={resource2}\" +\\\n",
    "    \"&storeExecuteResponse=false\" +\\\n",
    "    \"&status=false\""
   ]
  },
  {
   "cell_type": "code",
   "execution_count": null,
   "metadata": {
    "collapsed": false
   },
   "outputs": [],
   "source": [
    "url=sync_req_url.format(\n",
    "    wps_url=wps_url,\n",
    "    resource1=files[0],\n",
    "    resource2=files[1],)\n",
    "print url   "
   ]
  },
  {
   "cell_type": "code",
   "execution_count": 90,
   "metadata": {
    "collapsed": false
   },
   "outputs": [],
   "source": [
    "import requests"
   ]
  },
  {
   "cell_type": "code",
   "execution_count": 91,
   "metadata": {
    "collapsed": false
   },
   "outputs": [
    {
     "name": "stdout",
     "output_type": "stream",
     "text": [
      "resource={resource1};resource={resource2};resource={resource3};resource={resource4};resource={resource5};resource={resource6};resource={resource7};resource={resource8};resource={resource9};resource={resource10};resource={resource11};resource={resource12};resource={resource13};resource={resource14};resource={resource15};\n"
     ]
    }
   ],
   "source": [
    "r = ''\n",
    "for i in range(1,16):\n",
    "    r= '%sresource={resource%s};' % (r,i)\n",
    "print r    "
   ]
  },
  {
   "cell_type": "code",
   "execution_count": 92,
   "metadata": {
    "collapsed": false
   },
   "outputs": [],
   "source": [
    "async_req_url = \"{wps_url}?\" +\\\n",
    "    \"request=Execute\" +\\\n",
    "    \"&service=WPS\" +\\\n",
    "    \"&version=1.0.0\" +\\\n",
    "    \"&identifier=ensembleRobustness\" +\\\n",
    "    \"&DataInputs=\"+r+\\\n",
    "    \"&storeExecuteResponse=true\" +\\\n",
    "    \"&status=true\""
   ]
  },
  {
   "cell_type": "code",
   "execution_count": 93,
   "metadata": {
    "collapsed": false
   },
   "outputs": [
    {
     "name": "stdout",
     "output_type": "stream",
     "text": [
      "http://localhost:8093/wps?request=Execute&service=WPS&version=1.0.0&identifier=ensembleRobustness&DataInputs=resource=file:///home/estimr1/EUCLEIA/indices/TG/yr/TG_yr_HadGEM3-A-N216_historical_r1i1p1_19600101-20131230.nc;resource=file:///home/estimr1/EUCLEIA/indices/TG/yr/TG_yr_HadGEM3-A-N216_historical_r1i1p2_19600101-20131230.nc;resource=file:///home/estimr1/EUCLEIA/indices/TG/yr/TG_yr_HadGEM3-A-N216_historical_r1i1p3_19600101-20131230.nc;resource=file:///home/estimr1/EUCLEIA/indices/TG/yr/TG_yr_HadGEM3-A-N216_historical_r1i1p4_19600101-20131230.nc;resource=file:///home/estimr1/EUCLEIA/indices/TG/yr/TG_yr_HadGEM3-A-N216_historical_r1i1p5_19600101-20131230.nc;resource=file:///home/estimr1/EUCLEIA/indices/TG/yr/TG_yr_HadGEM3-A-N216_historical_r1i1p6_19600101-20131230.nc;resource=file:///home/estimr1/EUCLEIA/indices/TG/yr/TG_yr_HadGEM3-A-N216_historical_r1i1p7_19600101-20131230.nc;resource=file:///home/estimr1/EUCLEIA/indices/TG/yr/TG_yr_HadGEM3-A-N216_historical_r1i1p8_19600101-20131230.nc;resource=file:///home/estimr1/EUCLEIA/indices/TG/yr/TG_yr_HadGEM3-A-N216_historical_r1i1p9_19600101-20131230.nc;resource=file:///home/estimr1/EUCLEIA/indices/TG/yr/TG_yr_HadGEM3-A-N216_historical_r1i1p10_19600101-20131230.nc;resource=file:///home/estimr1/EUCLEIA/indices/TG/yr/TG_yr_HadGEM3-A-N216_historical_r1i1p11_19600101-20131230.nc;resource=file:///home/estimr1/EUCLEIA/indices/TG/yr/TG_yr_HadGEM3-A-N216_historical_r1i1p12_19600101-20131230.nc;resource=file:///home/estimr1/EUCLEIA/indices/TG/yr/TG_yr_HadGEM3-A-N216_historical_r1i1p13_19600101-20131230.nc;resource=file:///home/estimr1/EUCLEIA/indices/TG/yr/TG_yr_HadGEM3-A-N216_historical_r1i1p14_19600101-20131230.nc;resource=file:///home/estimr1/EUCLEIA/indices/TG/yr/TG_yr_HadGEM3-A-N216_historical_r1i1p15_19600101-20131230.nc;&storeExecuteResponse=true&status=true\n"
     ]
    }
   ],
   "source": [
    "url=async_req_url.format(\n",
    "    wps_url=wps_url,\n",
    "    resource1=files[0],\n",
    "    resource2=files[1],\n",
    "    resource3=files[2],    \n",
    "    resource4=files[3],\n",
    "    resource5=files[4],\n",
    "    resource6=files[5],\n",
    "    resource7=files[6],\n",
    "    resource8=files[7],\n",
    "    resource9=files[8],\n",
    "    resource10=files[9],\n",
    "    resource11=files[10],\n",
    "    resource12=files[11],\n",
    "    resource13=files[12],\n",
    "    resource14=files[13],\n",
    "    resource15=files[14]\n",
    ")\n",
    "print url "
   ]
  },
  {
   "cell_type": "code",
   "execution_count": 94,
   "metadata": {
    "collapsed": false
   },
   "outputs": [
    {
     "name": "stdout",
     "output_type": "stream",
     "text": [
      "http://localhost:8090/wpsoutputs/flyingpigeon/pywps-51632026-cb61-11e5-9ea9-152ed057a8ad.xml\n"
     ]
    }
   ],
   "source": [
    "r = requests.get(url)\n",
    "from lxml import etree\n",
    "from io import BytesIO\n",
    "tree = etree.parse(BytesIO(r.content))\n",
    "#print etree.tostring(tree)\n",
    "status_url = tree.getroot().get(\"statusLocation\")\n",
    "print status_url"
   ]
  },
  {
   "cell_type": "code",
   "execution_count": 97,
   "metadata": {
    "collapsed": false
   },
   "outputs": [
    {
     "name": "stdout",
     "output_type": "stream",
     "text": [
      "200\n",
      "<?xml version=\"1.0\" encoding=\"utf-8\"?>\n",
      "<wps:ExecuteResponse xmlns:wps=\"http://www.opengis.net/wps/1.0.0\" xmlns:ows=\"http://www.opengis.net/ows/1.1\" xmlns:xlink=\"http://www.w3.org/1999/xlink\" xmlns:xsi=\"http://www.w3.org/2001/XMLSchema-instance\" xsi:schemaLocation=\"http://www.opengis.net/wps/1.0.0 http://schemas.opengis.net/wps/1.0.0/wpsExecute_response.xsd\" service=\"WPS\" version=\"1.0.0\" xml:lang=\"en-CA\" serviceInstance=\"http://localhost:8093/wps?service=WPS&amp;request=GetCapabilities&amp;version=1.0.0\" statusLocation=\"http://localhost:8090/wpsoutputs/flyingpigeon/pywps-51632026-cb61-11e5-9ea9-152ed057a8ad.xml\">\n",
      "    <wps:Process wps:processVersion=\"0.2\">\n",
      "        <ows:Identifier>ensembleRobustness</ows:Identifier>\n",
      "        <ows:Title>Calculation of the robustness of an ensemle</ows:Title>\n",
      "        <ows:Abstract>Calculates the robustness as the ratio of noise to signal in an ensemle of timeseries</ows:Abstract>\n",
      "        <ows:Metadata xlink:title=\"LSCE\" xlink:href=\"http://www.lsce.ipsl.fr/\" />\n",
      "    </wps:Process>\n",
      "    <wps:Status creationTime=\"2016-02-04T18:05:43Z\">\n",
      "        <wps:ProcessSucceeded>PyWPS Process ensembleRobustness successfully calculated</wps:ProcessSucceeded>\n",
      "    </wps:Status>\n",
      "    <wps:ProcessOutputs>\n",
      "        <wps:Output>\n",
      "            <ows:Identifier>output_graphic</ows:Identifier>\n",
      "            <ows:Title>Graphic</ows:Title>\n",
      "            <ows:Abstract>PNG graphic file showing the signal difference with high and low ensemble agreement marked out</ows:Abstract>\n",
      "            <wps:Reference href=\"http://localhost:8090/wpsoutputs/flyingpigeon/output_graphic-51632026-cb61-11e5-9ea9-152ed057a8ad.png\" mimeType=\"image/png\" />\n",
      "        </wps:Output>\n",
      "        <wps:Output>\n",
      "            <ows:Identifier>output_high</ows:Identifier>\n",
      "            <ows:Title>Mask for areas with high agreement</ows:Title>\n",
      "            <ows:Abstract>netCDF file containing calculated robustness mask</ows:Abstract>\n",
      "            <wps:Reference href=\"http://localhost:8090/wpsoutputs/flyingpigeon/output_high-51632026-cb61-11e5-9ea9-152ed057a8ad.nc\" mimeType=\"application/x-netcdf\" />\n",
      "        </wps:Output>\n",
      "        <wps:Output>\n",
      "            <ows:Identifier>output_low</ows:Identifier>\n",
      "            <ows:Title>Mask for areas with low agreement</ows:Title>\n",
      "            <ows:Abstract>netCDF file containing calculated robustness mask</ows:Abstract>\n",
      "            <wps:Reference href=\"http://localhost:8090/wpsoutputs/flyingpigeon/output_low-51632026-cb61-11e5-9ea9-152ed057a8ad.nc\" mimeType=\"application/x-netcdf\" />\n",
      "        </wps:Output>\n",
      "        <wps:Output>\n",
      "            <ows:Identifier>output_signal</ows:Identifier>\n",
      "            <ows:Title>Signal</ows:Title>\n",
      "            <ows:Abstract>netCDF file containing calculated change of mean over the timeperiod and ensemble members</ows:Abstract>\n",
      "            <wps:Reference href=\"http://localhost:8090/wpsoutputs/flyingpigeon/output_signal-51632026-cb61-11e5-9ea9-152ed057a8ad.nc\" mimeType=\"application/x-netcdf\" />\n",
      "        </wps:Output>\n",
      "    </wps:ProcessOutputs>\n",
      "</wps:ExecuteResponse>\n"
     ]
    }
   ],
   "source": [
    "r = requests.get(status_url)\n",
    "print r.status_code\n",
    "print r.text"
   ]
  },
  {
   "cell_type": "code",
   "execution_count": null,
   "metadata": {
    "collapsed": true
   },
   "outputs": [],
   "source": []
  }
 ],
 "metadata": {
  "kernelspec": {
   "display_name": "Python 2",
   "language": "python",
   "name": "python2"
  },
  "language_info": {
   "codemirror_mode": {
    "name": "ipython",
    "version": 2
   },
   "file_extension": ".py",
   "mimetype": "text/x-python",
   "name": "python",
   "nbconvert_exporter": "python",
   "pygments_lexer": "ipython2",
   "version": "2.7.11"
  }
 },
 "nbformat": 4,
 "nbformat_minor": 0
}
