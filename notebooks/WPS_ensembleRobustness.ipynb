{
 "cells": [
  {
   "cell_type": "code",
   "execution_count": 1,
   "metadata": {
    "collapsed": true
   },
   "outputs": [],
   "source": [
    "\"\"\"Python WPS execute\"\"\"\n",
    "from owslib.wps import WebProcessingService, monitorExecution, printInputOutput\n",
    "from os import system"
   ]
  },
  {
   "cell_type": "code",
   "execution_count": null,
   "metadata": {
    "collapsed": false
   },
   "outputs": [],
   "source": [
    "#import owslib\n",
    "#owslib.__version__ # version must be >=0.10.3"
   ]
  },
  {
   "cell_type": "code",
   "execution_count": 23,
   "metadata": {
    "collapsed": false
   },
   "outputs": [],
   "source": [
    "wps_url = \"http://localhost:8093/wps\"\n",
    "#wps_url = \"http://birdhouse-lsce.extra.cea.fr:8093/wps\"\n",
    "wps = WebProcessingService(url=wps_url, verbose=False)\n",
    "\n",
    "#wps = WebProcessingService(url=\"http://birdhouse-lsce.extra.cea.fr:8093/wps\", verbose=False)\n",
    "#wps_url = WebProcessingService(url=\"http://localhost:8093/wps\", verbose=False)"
   ]
  },
  {
   "cell_type": "code",
   "execution_count": 3,
   "metadata": {
    "collapsed": false
   },
   "outputs": [
    {
     "name": "stdout",
     "output_type": "stream",
     "text": [
      "Flyingpigeon\n"
     ]
    }
   ],
   "source": [
    "print wps.identification.title"
   ]
  },
  {
   "cell_type": "code",
   "execution_count": 4,
   "metadata": {
    "collapsed": false
   },
   "outputs": [
    {
     "name": "stdout",
     "output_type": "stream",
     "text": [
      "visualisation : \t Just testing a nice script to visualise some variables\n",
      "extractpoints : \t Extract Timeseries for specified coordinates from grid data\n",
      "segetalflora : \t Species biodiversity of segetal flora. Imput files: variable:tas , domain: EUR-11 or EUR-44\n",
      "indices_single : \t This process calculates climate indices based on one single variable.\n",
      "subset_countries : \t This process returns only the given polygon from input netCDF files.\n",
      "eobs_to_cordex : \t downloades EOBS data in adaped CORDEX format\n",
      "ensembleRobustness : \t Calculates the robustness as the ratio of noise to signal in an ensemle of timeseries\n"
     ]
    }
   ],
   "source": [
    "for process in wps.processes:\n",
    "    print '%s : \\t %s' % (process.identifier, process.abstract)"
   ]
  },
  {
   "cell_type": "code",
   "execution_count": null,
   "metadata": {
    "collapsed": false
   },
   "outputs": [],
   "source": [
    "p = wps.describeprocess(identifier='ensembleRobustness')\n",
    "for input in p.dataInputs:\n",
    "    printInputOutput(input)"
   ]
  },
  {
   "cell_type": "code",
   "execution_count": 5,
   "metadata": {
    "collapsed": true
   },
   "outputs": [],
   "source": [
    "files = []\n",
    "\n",
    "for i in range(1,16): \n",
    "    #files.append('file:///home/estimr1/EUCLEIA/indices/RX5day/DJF/RX5day_DJF_HadGEM3-A-N216_historical_r1i1p%s_19600101-20131230.nc' % (i))\n",
    "    files.append('file:///home/nils/data/indices/TG_yr_HadGEM3-A-N216_historical_r1i1p%s_19600101-20131230.nc' % (i))"
   ]
  },
  {
   "cell_type": "code",
   "execution_count": null,
   "metadata": {
    "collapsed": true
   },
   "outputs": [],
   "source": [
    "from os.path import join\n",
    "\n",
    "execute = wps.execute(\n",
    "    identifier=\"ensembleRobustness\", #indices_clipping\",\n",
    "    inputs=[\n",
    "       (\"resource\",files[0]),\n",
    "       (\"resource\",files[1]),\n",
    "       (\"resource\",files[2]),\n",
    "       # (\"resource\",files[3]),\n",
    "       # (\"resource\",files[4]),\n",
    "       # (\"resource\",files[5]),\n",
    "       # (\"resource\",files[6]),\n",
    "       # (\"resource\",files[7]),\n",
    "       # (\"resource\",files[8]),\n",
    "       # (\"resource\",files[9]),\n",
    "       # (\"resource\",files[10]),\n",
    "       # (\"resource\",files[11]),\n",
    "       # (\"resource\",files[12]),\n",
    "       # (\"resource\",files[13]),\n",
    "       # (\"resource\",files[14])\n",
    "           ])\n",
    "\n",
    "monitorExecution(execute, sleepSecs=5)\n",
    "\n",
    "print execute.getStatus()\n",
    "\n",
    "for o in execute.processOutputs:\n",
    "    print o.reference\n",
    "    "
   ]
  },
  {
   "cell_type": "code",
   "execution_count": 24,
   "metadata": {
    "collapsed": false
   },
   "outputs": [],
   "source": [
    "sync_req_url = \"{wps_url}?\" +\\\n",
    "    \"request=Execute\" +\\\n",
    "    \"&service=WPS\" +\\\n",
    "    \"&version=1.0.0\" +\\\n",
    "    \"&identifier=ensembleRobustness\" +\\\n",
    "    \"&DataInputs=resource={resource1};resource={resource2}\" +\\\n",
    "    \"&storeExecuteResponse=false\" +\\\n",
    "    \"&status=false\""
   ]
  },
  {
   "cell_type": "code",
   "execution_count": 25,
   "metadata": {
    "collapsed": false
   },
   "outputs": [
    {
     "name": "stdout",
     "output_type": "stream",
     "text": [
      "http://localhost:8093/wps?request=Execute&service=WPS&version=1.0.0&identifier=ensembleRobustness&DataInputs=resource=file:///home/nils/data/indices/TG_yr_HadGEM3-A-N216_historical_r1i1p1_19600101-20131230.nc;resource=file:///home/nils/data/indices/TG_yr_HadGEM3-A-N216_historical_r1i1p2_19600101-20131230.nc&storeExecuteResponse=false&status=false\n"
     ]
    }
   ],
   "source": [
    "url=sync_req_url.format(\n",
    "    wps_url=wps_url,\n",
    "    resource1=files[0],\n",
    "    resource2=files[1],)\n",
    "print url   "
   ]
  },
  {
   "cell_type": "code",
   "execution_count": 26,
   "metadata": {
    "collapsed": false
   },
   "outputs": [],
   "source": [
    "import requests"
   ]
  },
  {
   "cell_type": "code",
   "execution_count": 27,
   "metadata": {
    "collapsed": true
   },
   "outputs": [],
   "source": [
    "r = ''\n",
    "for i in range(1,16):\n",
    "    r= '%sresource={resource%s};' % (r,i)"
   ]
  },
  {
   "cell_type": "code",
   "execution_count": 28,
   "metadata": {
    "collapsed": false
   },
   "outputs": [],
   "source": [
    "async_req_url = \"{wps_url}?\" +\\\n",
    "    \"request=Execute\" +\\\n",
    "    \"&service=WPS\" +\\\n",
    "    \"&version=1.0.0\" +\\\n",
    "    \"&identifier=ensembleRobustness\" +\\\n",
    "    \"&DataInputs=resource={resource1};resource={resource2};resource={resource3}\"+\\\n",
    "    \"&storeExecuteResponse=true\" +\\\n",
    "    \"&status=true\""
   ]
  },
  {
   "cell_type": "code",
   "execution_count": 32,
   "metadata": {
    "collapsed": false
   },
   "outputs": [
    {
     "name": "stdout",
     "output_type": "stream",
     "text": [
      "http://localhost:8093/wps?request=Execute&service=WPS&version=1.0.0&identifier=ensembleRobustness&DataInputs=resource=file:///home/nils/data/indices/TG_yr_HadGEM3-A-N216_historical_r1i1p1_19600101-20131230.nc;resource=file:///home/nils/data/indices/TG_yr_HadGEM3-A-N216_historical_r1i1p2_19600101-20131230.nc;resource=file:///home/nils/data/indices/TG_yr_HadGEM3-A-N216_historical_r1i1p3_19600101-20131230.nc&storeExecuteResponse=true&status=true\n"
     ]
    }
   ],
   "source": [
    "url=async_req_url.format(\n",
    "    wps_url=wps_url,\n",
    "    resource1=files[0],\n",
    "    resource2=files[1],\n",
    "    resource3=files[2],    \n",
    "    #resource4=files[3],\n",
    "    #resource5=files[4],\n",
    "    #resource6=files[5],\n",
    "    #resource7=files[6],\n",
    "    #resource8=files[7],\n",
    "    #resource9=files[8],\n",
    "    #resource10=files[9],\n",
    "    #resource11=files[10],\n",
    "    #resource12=files[11],\n",
    "    #resource13=files[12],\n",
    "    #resource14=files[13],\n",
    "    #resource15=files[14]\n",
    ")\n",
    "print url "
   ]
  },
  {
   "cell_type": "code",
   "execution_count": null,
   "metadata": {
    "collapsed": false
   },
   "outputs": [],
   "source": [
    "wps"
   ]
  },
  {
   "cell_type": "code",
   "execution_count": 44,
   "metadata": {
    "collapsed": false
   },
   "outputs": [
    {
     "name": "stdout",
     "output_type": "stream",
     "text": [
      "http://localhost:8090/wpsoutputs/flyingpigeon/pywps-42112890-c065-11e5-b603-ecf4bb9a61a2.xml\n"
     ]
    }
   ],
   "source": [
    "r = requests.get(url)\n",
    "from lxml import etree\n",
    "from io import BytesIO\n",
    "tree = etree.parse(BytesIO(r.content))\n",
    "#print etree.tostring(tree)\n",
    "status_url = tree.getroot().get(\"statusLocation\")\n",
    "print status_url"
   ]
  },
  {
   "cell_type": "code",
   "execution_count": 46,
   "metadata": {
    "collapsed": false
   },
   "outputs": [
    {
     "name": "stdout",
     "output_type": "stream",
     "text": [
      "200\n",
      "<?xml version=\"1.0\" encoding=\"utf-8\"?>\n",
      "<wps:ExecuteResponse xmlns:wps=\"http://www.opengis.net/wps/1.0.0\" xmlns:ows=\"http://www.opengis.net/ows/1.1\" xmlns:xlink=\"http://www.w3.org/1999/xlink\" xmlns:xsi=\"http://www.w3.org/2001/XMLSchema-instance\" xsi:schemaLocation=\"http://www.opengis.net/wps/1.0.0 http://schemas.opengis.net/wps/1.0.0/wpsExecute_response.xsd\" service=\"WPS\" version=\"1.0.0\" xml:lang=\"en-CA\" serviceInstance=\"http://localhost:8093/wps?service=WPS&amp;request=GetCapabilities&amp;version=1.0.0\" statusLocation=\"http://localhost:8090/wpsoutputs/flyingpigeon/pywps-42112890-c065-11e5-b603-ecf4bb9a61a2.xml\">\n",
      "    <wps:Process wps:processVersion=\"0.1\">\n",
      "        <ows:Identifier>ensembleRobustness</ows:Identifier>\n",
      "        <ows:Title>Calculation of the robustness of an ensemle</ows:Title>\n",
      "        <ows:Abstract>Calculates the robustness as the ratio of noise to signal in an ensemle of timeseries</ows:Abstract>\n",
      "        <ows:Metadata xlink:title=\"LSCE\" xlink:href=\"http://www.lsce.ipsl.fr/\" />\n",
      "    </wps:Process>\n",
      "    <wps:Status creationTime=\"2016-01-21T18:34:49Z\">\n",
      "        <wps:ProcessSucceeded>PyWPS Process ensembleRobustness successfully calculated</wps:ProcessSucceeded>\n",
      "    </wps:Status>\n",
      "    <wps:ProcessOutputs>\n",
      "        <wps:Output>\n",
      "            <ows:Identifier>output_high</ows:Identifier>\n",
      "            <ows:Title>Mask for areas with high agreement</ows:Title>\n",
      "            <ows:Abstract>netCDF file containing calculated robustness mask</ows:Abstract>\n",
      "            <wps:Reference href=\"http://localhost:8090/wpsoutputs/flyingpigeon/output_high-42112890-c065-11e5-b603-ecf4bb9a61a2.nc\" mimeType=\"application/netcdf\" />\n",
      "        </wps:Output>\n",
      "        <wps:Output>\n",
      "            <ows:Identifier>output_low</ows:Identifier>\n",
      "            <ows:Title>Mask for areas with low agreement</ows:Title>\n",
      "            <ows:Abstract>netCDF file containing calculated robustness mask</ows:Abstract>\n",
      "            <wps:Reference href=\"http://localhost:8090/wpsoutputs/flyingpigeon/output_low-42112890-c065-11e5-b603-ecf4bb9a61a2.nc\" mimeType=\"application/netcdf\" />\n",
      "        </wps:Output>\n",
      "        <wps:Output>\n",
      "            <ows:Identifier>output_signal</ows:Identifier>\n",
      "            <ows:Title>Signal</ows:Title>\n",
      "            <ows:Abstract>netCDF file containing calculated change of mean over the timeperiod and ensemble members</ows:Abstract>\n",
      "            <wps:Reference href=\"http://localhost:8090/wpsoutputs/flyingpigeon/output_signal-42112890-c065-11e5-b603-ecf4bb9a61a2.nc\" mimeType=\"application/netcdf\" />\n",
      "        </wps:Output>\n",
      "    </wps:ProcessOutputs>\n",
      "</wps:ExecuteResponse>\n"
     ]
    }
   ],
   "source": [
    "r = requests.get(status_url)\n",
    "print r.status_code\n",
    "print r.text"
   ]
  },
  {
   "cell_type": "code",
   "execution_count": null,
   "metadata": {
    "collapsed": false
   },
   "outputs": [],
   "source": []
  },
  {
   "cell_type": "code",
   "execution_count": null,
   "metadata": {
    "collapsed": true
   },
   "outputs": [],
   "source": []
  }
 ],
 "metadata": {
  "kernelspec": {
   "display_name": "Python 2",
   "language": "python",
   "name": "python2"
  },
  "language_info": {
   "codemirror_mode": {
    "name": "ipython",
    "version": 2
   },
   "file_extension": ".py",
   "mimetype": "text/x-python",
   "name": "python",
   "nbconvert_exporter": "python",
   "pygments_lexer": "ipython2",
   "version": "2.7.11"
  }
 },
 "nbformat": 4,
 "nbformat_minor": 0
}
