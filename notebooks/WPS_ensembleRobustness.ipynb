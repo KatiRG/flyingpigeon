{
 "cells": [
  {
   "cell_type": "code",
   "execution_count": 1,
   "metadata": {
    "collapsed": true
   },
   "outputs": [],
   "source": [
    "\"\"\"Python WPS execute\"\"\"\n",
    "from owslib.wps import WebProcessingService, monitorExecution, printInputOutput\n",
    "from os import system"
   ]
  },
  {
   "cell_type": "code",
   "execution_count": 8,
   "metadata": {
    "collapsed": false
   },
   "outputs": [],
   "source": [
    "#wps_url = \"http://localhost:8093/wps\"\n",
    "wps_url = \"http://birdhouse-lsce.extra.cea.fr:8093/wps\"\n",
    "wps = WebProcessingService(url=wps_url, verbose=False)"
   ]
  },
  {
   "cell_type": "code",
   "execution_count": 9,
   "metadata": {
    "collapsed": false
   },
   "outputs": [
    {
     "name": "stdout",
     "output_type": "stream",
     "text": [
      "Flyingpigeon\n"
     ]
    }
   ],
   "source": [
    "print wps.identification.title"
   ]
  },
  {
   "cell_type": "code",
   "execution_count": 10,
   "metadata": {
    "collapsed": false
   },
   "outputs": [
    {
     "name": "stdout",
     "output_type": "stream",
     "text": [
      "visualisation : \t Just testing a nice script to visualise some variables\n",
      "extractpoints : \t Extract Timeseries for specified coordinates from grid data\n",
      "subset_countries : \t This process returns only the given polygon from input netCDF files.\n",
      "eobs_to_cordex : \t downloads EOBS data in adaped CORDEX format\n",
      "ensembleRobustness : \t Calculates the robustness as the ratio of noise to signal in an ensemle of timeseries\n"
     ]
    }
   ],
   "source": [
    "for process in wps.processes:\n",
    "    print '%s : \\t %s' % (process.identifier, process.abstract)"
   ]
  },
  {
   "cell_type": "code",
   "execution_count": 12,
   "metadata": {
    "collapsed": false
   },
   "outputs": [
    {
     "name": "stdout",
     "output_type": "stream",
     "text": [
      " identifier=resource, title=NetCDF Files, abstract=NetCDF Files, data type=ComplexData\n",
      " Supported Value: mimeType=application/x-netcdf, encoding=None, schema=None\n",
      " Default Value: mimeType=application/x-netcdf, encoding=None, schema=None \n",
      " minOccurs=1, maxOccurs=100\n",
      "\n",
      "\n",
      " identifier=start, title=Start Year, abstract=Beginn of the analysed period (e.g 1971; if not set, the first consistend year of the ensemble will be taken), data type=//www.w3.org/TR/xmlschema-2/#integer\n",
      " Any value allowed\n",
      " Default Value: None \n",
      " minOccurs=0, maxOccurs=1\n",
      "\n",
      "\n",
      " identifier=end, title=End Year, abstract=End of the analysed period (e.g. 2050 if not set, the last consistend year of the ensemble will be taken), data type=//www.w3.org/TR/xmlschema-2/#integer\n",
      " Any value allowed\n",
      " Default Value: None \n",
      " minOccurs=0, maxOccurs=1\n",
      "\n",
      "\n",
      " identifier=timeslice, title=Time slice, abstract=Time slice (in years) for robustness reference (default=10)), data type=//www.w3.org/TR/xmlschema-2/#integer\n",
      " Any value allowed\n",
      " Default Value: None \n",
      " minOccurs=0, maxOccurs=1\n",
      "\n",
      "\n",
      " identifier=variable, title=Variable, abstract=Variable to be expected in the input files (Variable will be detected if not set, ), data type=//www.w3.org/TR/xmlschema-2/#string\n",
      " Any value allowed\n",
      " Default Value: None \n",
      " minOccurs=0, maxOccurs=1\n",
      "\n",
      "\n"
     ]
    }
   ],
   "source": [
    "p = wps.describeprocess(identifier='ensembleRobustness')\n",
    "for input in p.dataInputs:\n",
    "    printInputOutput(input)\n",
    "    print '\\n'"
   ]
  },
  {
   "cell_type": "code",
   "execution_count": null,
   "metadata": {
    "collapsed": true
   },
   "outputs": [],
   "source": [
    "files = []\n",
    "\n",
    "for i in range(1,16): # \n",
    "    #files.append('file:///home/estimr1/EUCLEIA/indices/RX5day/DJF/RX5day_DJF_HadGEM3-A-N216_historical_r1i1p%s_19600101-20131230.nc' % (i))\n",
    "    files.append('file:///home/estimr1/EUCLEIA/indices/TG/yr/TG_yr_HadGEM3-A-N216_historical_r1i1p%s_19600101-20131230.nc' % (i))\n",
    "    #files.append('file:///home/nils/data/indices/TG_yr_HadGEM3-A-N216_historical_r1i1p%s_19600101-20131230.nc' % (i))\n",
    "    "
   ]
  },
  {
   "cell_type": "code",
   "execution_count": 14,
   "metadata": {
    "collapsed": false
   },
   "outputs": [
    {
     "data": {
      "text/plain": [
       "['file:///home/estimr1/EUCLEIA/indices/TG/yr/TG_yr_HadGEM3-A-N216_historical_r1i1p1_19600101-20131230.nc',\n",
       " 'file:///home/estimr1/EUCLEIA/indices/TG/yr/TG_yr_HadGEM3-A-N216_historical_r1i1p2_19600101-20131230.nc',\n",
       " 'file:///home/estimr1/EUCLEIA/indices/TG/yr/TG_yr_HadGEM3-A-N216_historical_r1i1p3_19600101-20131230.nc',\n",
       " 'file:///home/estimr1/EUCLEIA/indices/TG/yr/TG_yr_HadGEM3-A-N216_historical_r1i1p4_19600101-20131230.nc',\n",
       " 'file:///home/estimr1/EUCLEIA/indices/TG/yr/TG_yr_HadGEM3-A-N216_historical_r1i1p5_19600101-20131230.nc',\n",
       " 'file:///home/estimr1/EUCLEIA/indices/TG/yr/TG_yr_HadGEM3-A-N216_historical_r1i1p6_19600101-20131230.nc',\n",
       " 'file:///home/estimr1/EUCLEIA/indices/TG/yr/TG_yr_HadGEM3-A-N216_historical_r1i1p7_19600101-20131230.nc',\n",
       " 'file:///home/estimr1/EUCLEIA/indices/TG/yr/TG_yr_HadGEM3-A-N216_historical_r1i1p8_19600101-20131230.nc',\n",
       " 'file:///home/estimr1/EUCLEIA/indices/TG/yr/TG_yr_HadGEM3-A-N216_historical_r1i1p9_19600101-20131230.nc',\n",
       " 'file:///home/estimr1/EUCLEIA/indices/TG/yr/TG_yr_HadGEM3-A-N216_historical_r1i1p10_19600101-20131230.nc',\n",
       " 'file:///home/estimr1/EUCLEIA/indices/TG/yr/TG_yr_HadGEM3-A-N216_historical_r1i1p11_19600101-20131230.nc',\n",
       " 'file:///home/estimr1/EUCLEIA/indices/TG/yr/TG_yr_HadGEM3-A-N216_historical_r1i1p12_19600101-20131230.nc',\n",
       " 'file:///home/estimr1/EUCLEIA/indices/TG/yr/TG_yr_HadGEM3-A-N216_historical_r1i1p13_19600101-20131230.nc',\n",
       " 'file:///home/estimr1/EUCLEIA/indices/TG/yr/TG_yr_HadGEM3-A-N216_historical_r1i1p14_19600101-20131230.nc',\n",
       " 'file:///home/estimr1/EUCLEIA/indices/TG/yr/TG_yr_HadGEM3-A-N216_historical_r1i1p15_19600101-20131230.nc']"
      ]
     },
     "execution_count": 14,
     "metadata": {},
     "output_type": "execute_result"
    }
   ],
   "source": [
    "files "
   ]
  },
  {
   "cell_type": "code",
   "execution_count": 17,
   "metadata": {
    "collapsed": false
   },
   "outputs": [
    {
     "name": "stdout",
     "output_type": "stream",
     "text": [
      "ProcessSucceeded\n"
     ]
    }
   ],
   "source": [
    "from os.path import join\n",
    "\n",
    "execute = wps.execute(\n",
    "    identifier=\"ensembleRobustness\", #indices_clipping\",\n",
    "    inputs=[\n",
    "       (\"resource\",files[0]),\n",
    "       (\"resource\",files[1]),\n",
    "     #  (\"resource\",files[2]),\n",
    "     #  (\"resource\",files[3]),\n",
    "     #  (\"resource\",files[4]),\n",
    "     #  (\"resource\",files[5]),\n",
    "     #  (\"resource\",files[6]),\n",
    "     #  (\"resource\",files[7]),\n",
    "     #  (\"resource\",files[8]),\n",
    "     #  (\"resource\",files[9]),\n",
    "     #  (\"resource\",files[10]),\n",
    "     #  (\"resource\",files[11]),\n",
    "     #  (\"resource\",files[12]),\n",
    "     #  (\"resource\",files[13]),\n",
    "     #  (\"resource\",files[14])\n",
    "        (\"timeslice\",'10')\n",
    "           ])\n",
    "\n",
    "monitorExecution(execute, sleepSecs=5)\n",
    "print execute.getStatus()"
   ]
  },
  {
   "cell_type": "code",
   "execution_count": 18,
   "metadata": {
    "collapsed": false
   },
   "outputs": [
    {
     "name": "stdout",
     "output_type": "stream",
     "text": [
      "http://birdhouse-lsce.extra.cea.fr:8090/wpsoutputs/flyingpigeon/output_graphic-9633e38c-ce6f-11e5-a341-89eaa0f7b1a5.png\n",
      "http://birdhouse-lsce.extra.cea.fr:8090/wpsoutputs/flyingpigeon/output_high-9633e38c-ce6f-11e5-a341-89eaa0f7b1a5.nc\n",
      "http://birdhouse-lsce.extra.cea.fr:8090/wpsoutputs/flyingpigeon/output_low-9633e38c-ce6f-11e5-a341-89eaa0f7b1a5.nc\n",
      "http://birdhouse-lsce.extra.cea.fr:8090/wpsoutputs/flyingpigeon/output_signal-9633e38c-ce6f-11e5-a341-89eaa0f7b1a5.nc\n"
     ]
    }
   ],
   "source": [
    "for o in execute.processOutputs:\n",
    "    print o.reference    \n",
    "    "
   ]
  },
  {
   "cell_type": "markdown",
   "metadata": {
    "collapsed": false
   },
   "source": [
    "# call the module only "
   ]
  },
  {
   "cell_type": "code",
   "execution_count": null,
   "metadata": {
    "collapsed": true
   },
   "outputs": [],
   "source": [
    "from flyingpigeon.ensembleRobustness import worker"
   ]
  },
  {
   "cell_type": "code",
   "execution_count": null,
   "metadata": {
    "collapsed": false
   },
   "outputs": [],
   "source": [
    "files = []\n",
    "\n",
    "for i in range(1,16): # \n",
    "    files.append('/home/estimr1/EUCLEIA/indices/TG/DJF/TG_DJF_HadGEM3-A-N216_historical_r1i1p%s_19600101-20131230.nc' % (i))\n",
    "\n",
    "signal, low_agreement_mask, high_agreement_mask, graphic = worker(resource=files, start=None, end=None, timeslice=20, variable=None)\n",
    "\n",
    "from IPython.display import Image\n",
    "Image(filename=graphic)"
   ]
  },
  {
   "cell_type": "markdown",
   "metadata": {},
   "source": [
    "# build url for symetric WPS call:"
   ]
  },
  {
   "cell_type": "code",
   "execution_count": null,
   "metadata": {
    "collapsed": false
   },
   "outputs": [],
   "source": [
    "sync_req_url = \"{wps_url}?\" +\\\n",
    "    \"request=Execute\" +\\\n",
    "    \"&service=WPS\" +\\\n",
    "    \"&version=1.0.0\" +\\\n",
    "    \"&identifier=ensembleRobustness\" +\\\n",
    "    \"&DataInputs=resource={resource1};resource={resource2}\" +\\\n",
    "    \"&storeExecuteResponse=false\" +\\\n",
    "    \"&status=false\""
   ]
  },
  {
   "cell_type": "code",
   "execution_count": null,
   "metadata": {
    "collapsed": false
   },
   "outputs": [],
   "source": [
    "url=sync_req_url.format(\n",
    "    wps_url=wps_url,\n",
    "    resource1=files[0],\n",
    "    resource2=files[1],)\n",
    "print url   "
   ]
  },
  {
   "cell_type": "markdown",
   "metadata": {},
   "source": [
    "# build url for asymetric WPS call:"
   ]
  },
  {
   "cell_type": "code",
   "execution_count": null,
   "metadata": {
    "collapsed": false
   },
   "outputs": [],
   "source": [
    "import requests"
   ]
  },
  {
   "cell_type": "code",
   "execution_count": null,
   "metadata": {
    "collapsed": false
   },
   "outputs": [],
   "source": [
    "r = ''\n",
    "for i in range(1,16):\n",
    "    r= '%sresource={resource%s};' % (r,i)\n",
    "print r    "
   ]
  },
  {
   "cell_type": "code",
   "execution_count": null,
   "metadata": {
    "collapsed": false
   },
   "outputs": [],
   "source": [
    "async_req_url = \"{wps_url}?\" +\\\n",
    "    \"request=Execute\" +\\\n",
    "    \"&service=WPS\" +\\\n",
    "    \"&version=1.0.0\" +\\\n",
    "    \"&identifier=ensembleRobustness\" +\\\n",
    "    \"&DataInputs=\"+r+\\\n",
    "    \"&storeExecuteResponse=true\" +\\\n",
    "    \"&status=true\""
   ]
  },
  {
   "cell_type": "code",
   "execution_count": null,
   "metadata": {
    "collapsed": false
   },
   "outputs": [],
   "source": [
    "url=async_req_url.format(\n",
    "    wps_url=wps_url,\n",
    "    resource1=files[0],\n",
    "    resource2=files[1],\n",
    "    resource3=files[2],    \n",
    "    resource4=files[3],\n",
    "    resource5=files[4],\n",
    "    resource6=files[5],\n",
    "    resource7=files[6],\n",
    "    resource8=files[7],\n",
    "    resource9=files[8],\n",
    "    resource10=files[9],\n",
    "    resource11=files[10],\n",
    "    resource12=files[11],\n",
    "    resource13=files[12],\n",
    "    resource14=files[13],\n",
    "    resource15=files[14]\n",
    ")\n",
    "print url "
   ]
  },
  {
   "cell_type": "code",
   "execution_count": null,
   "metadata": {
    "collapsed": false
   },
   "outputs": [],
   "source": [
    "r = requests.get(url)\n",
    "from lxml import etree\n",
    "from io import BytesIO\n",
    "tree = etree.parse(BytesIO(r.content))\n",
    "#print etree.tostring(tree)\n",
    "status_url = tree.getroot().get(\"statusLocation\")\n",
    "print status_url"
   ]
  },
  {
   "cell_type": "code",
   "execution_count": null,
   "metadata": {
    "collapsed": false
   },
   "outputs": [],
   "source": [
    "r = requests.get(status_url)\n",
    "print r.status_code\n",
    "print r.text"
   ]
  },
  {
   "cell_type": "code",
   "execution_count": null,
   "metadata": {
    "collapsed": false
   },
   "outputs": [],
   "source": [
    "graphic = 'http://localhost:8090/wpsoutputs/flyingpigeon/output_graphic-5442f43a-ce61-11e5-a317-434222d428b1.png'\n",
    "\n",
    "from IPython.display import Image\n",
    "from IPython.core.display import HTML \n",
    "Image(url= graphic )"
   ]
  },
  {
   "cell_type": "code",
   "execution_count": null,
   "metadata": {
    "collapsed": true
   },
   "outputs": [],
   "source": []
  }
 ],
 "metadata": {
  "kernelspec": {
   "display_name": "Python 2",
   "language": "python",
   "name": "python2"
  },
  "language_info": {
   "codemirror_mode": {
    "name": "ipython",
    "version": 2
   },
   "file_extension": ".py",
   "mimetype": "text/x-python",
   "name": "python",
   "nbconvert_exporter": "python",
   "pygments_lexer": "ipython2",
   "version": "2.7.11"
  }
 },
 "nbformat": 4,
 "nbformat_minor": 0
}
