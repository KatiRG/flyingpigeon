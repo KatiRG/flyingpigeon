{
 "cells": [
  {
   "cell_type": "code",
   "execution_count": 1,
   "metadata": {
    "collapsed": true
   },
   "outputs": [],
   "source": [
    "#import tempfile\n",
    "import os\n",
    "import datetime\n",
    "import ocgis \n",
    "from ocgis.util.shp_process import ShpProcess\n",
    "from ocgis.util.shp_cabinet import ShpCabinetIterator\n",
    "from cdo import *   # python version\n",
    "cdo = Cdo()"
   ]
  },
  {
   "cell_type": "code",
   "execution_count": 2,
   "metadata": {
    "collapsed": true
   },
   "outputs": [],
   "source": [
    "# define the environment\n",
    "if 'obelix' in os.uname()[1] or 'asterix' in os.uname()[1]:\n",
    "    HOME = os.getenv('HOME')\n",
    "    OUT_PATH = '/home/estimr2/nhempelmann/data/extremoscop/'\n",
    "    CACHE = '/home/estimr2/nhempelmann/cache/'\n",
    "    IN_DIR = '/home/estimr2/EUROCORDEX/EOBS_v11/'\n",
    "else:\n",
    "    HOME = os.getenv('HOME')\n",
    "    OUT_DIR = HOME+'/data/extremoscop/'"
   ]
  },
  {
   "cell_type": "code",
   "execution_count": 3,
   "metadata": {
    "collapsed": true
   },
   "outputs": [],
   "source": [
    "# define ocgis environment\n",
    "\n",
    "ocgis.env.OVERWRITE = True\n",
    "ocgis.env.USE_CFUNITS = True\n",
    "SHP_DIR = os.path.join(HOME + '/birdhouse/flyingpigeon/flyingpigeon/processes/shapefiles/FRA/')\n",
    "ocgis.env.DIR_SHPCABINET = SHP_DIR\n",
    "#ocgis.env.DIR_OUTPUT = OUT_DIR\n",
    "sc = ocgis.ShpCabinet()\n",
    "geoms = 'regions-2016'\n",
    "sci = ShpCabinetIterator(geoms)"
   ]
  },
  {
   "cell_type": "code",
   "execution_count": 4,
   "metadata": {
    "collapsed": true
   },
   "outputs": [],
   "source": [
    "#ref_19611900 = [datetime.datetime(1961,1,1),datetime.datetime(1990,12,31)]\n",
    "#ref_19712000 = [datetime.datetime(1971,1,1),datetime.datetime(2000,12,31)]\n",
    "#ref_19762005 = [datetime.datetime(1976,1,1),datetime.datetime(2005,12,31)]\n",
    "vars = ['pr', 'tas', 'tasmin', 'tasmax']\n",
    "indices = ['R20mm']"
   ]
  },
  {
   "cell_type": "code",
   "execution_count": 5,
   "metadata": {
    "collapsed": true
   },
   "outputs": [],
   "source": [
    "# pr_file =  os.path.join(CACHE, 'pr_EOBS_0.22_rot_v11_19500101-20141231_COEDEXformat.nc')\n",
    "# pr_file =  os.path.join(IN_DIR, 'pr_EOBS_0.22_rot_v11_19500101-20141231.nc')"
   ]
  },
  {
   "cell_type": "code",
   "execution_count": 6,
   "metadata": {
    "collapsed": false
   },
   "outputs": [],
   "source": [
    "# pr_file"
   ]
  },
  {
   "cell_type": "code",
   "execution_count": 7,
   "metadata": {
    "collapsed": true
   },
   "outputs": [],
   "source": [
    "# define ocgis environment\n",
    "\n",
    "ocgis.env.OVERWRITE = True\n",
    "ocgis.env.USE_CFUNITS = True\n",
    "SHP_DIR = os.path.join(HOME + '/birdhouse/flyingpigeon/flyingpigeon/processes/shapefiles/FRA/')\n",
    "ocgis.env.DIR_SHPCABINET = SHP_DIR\n",
    "#ocgis.env.DIR_OUTPUT = OUT_DIR\n",
    "sc = ocgis.ShpCabinet()\n",
    "geoms = 'regions-2016'\n",
    "sci = ShpCabinetIterator(geoms)\n",
    "\n",
    "calc = [{'func': 'icclim_%s' % indices[0], 'name': indices[0]}]\n",
    "calc_group = ['year'] # [[12, 1, 2], 'unique'"
   ]
  },
  {
   "cell_type": "code",
   "execution_count": 8,
   "metadata": {
    "collapsed": false
   },
   "outputs": [
    {
     "name": "stdout",
     "output_type": "stream",
     "text": [
      "WARNING: Using the default (non-CF) Udunits database\n"
     ]
    }
   ],
   "source": [
    "#for nc in pr_file:\n",
    "dimension_map = {'X': {'variable': 'longitude', 'dimension': 'x', 'pos': 2},\n",
    "                 'Y': {'variable': 'latitude', 'dimension': 'y', 'pos': 1},\n",
    "                 'T': {'variable': 'time',  'dimension': 'time', 'pos': 0}} #, 'bounds': 'time_bnds'\n",
    "\n",
    "nc = 'pr_EOBS_0.22_rot_v11_19500101-20141231.nc'\n",
    "rd = ocgis.RequestDataset(os.path.join(IN_DIR, nc), 'pr', dimension_map = dimension_map, \n",
    "                          conform_units_to = \"kg m-2 s-1\")\n"
   ]
  },
  {
   "cell_type": "code",
   "execution_count": null,
   "metadata": {
    "collapsed": true
   },
   "outputs": [],
   "source": [
    "import sys\n",
    "sys.path.append(os.getenv('HOME')+'/birdhouse/flyingpigeon/flyingpigeon/')\n",
    "\n",
    "from timeseries import add_statistic"
   ]
  },
  {
   "cell_type": "code",
   "execution_count": null,
   "metadata": {
    "collapsed": true
   },
   "outputs": [],
   "source": [
    "for indice in indices:\n",
    "    for ugid in [1, 2, 3, 4, 5, 6, 7, 11,  13, 14, 15, 16, 17]: #  8, 9, 10, 12,\n",
    "        scenario = 'eobs'\n",
    "        prefix = nc.replace('pr', indice).replace('.nc', '')\n",
    "            # create foulder structure and define output dir:\n",
    "            \n",
    "        if not os.path.exists(os.path.join(OUT_PATH , 'timeseries',  indice ,scenario , str(ugid))):\n",
    "            os.makedirs(os.path.join(OUT_PATH , 'timeseries', indice ,scenario , str(ugid)))\n",
    "        OUT_DIR = os.path.join(OUT_PATH , 'timeseries', indice ,scenario , str(ugid))\n",
    "            \n",
    "        if not os.path.exists(os.path.join(OUT_PATH , 'polygons',  indice ,scenario, str(ugid))):\n",
    "            os.makedirs(os.path.join(OUT_PATH , 'polygons', indice ,scenario, str(ugid)))\n",
    "        ocgis.env.DIR_OUTPUT = os.path.join(OUT_PATH , 'polygons', indice ,scenario, str(ugid))\n",
    "            \n",
    "        output = os.path.join(OUT_DIR,prefix+'.nc') # cdo output\n",
    "            \n",
    "        # if not os.path.exists(output):\n",
    "        try:\n",
    "\n",
    "            rd = ocgis.RequestDataset(os.path.join(IN_DIR, nc), 'pr',  dimension_map = dimension_map)\n",
    "            # conform_units_to = \"kg m-2 s-1\",\n",
    "\n",
    "            geom_nc = ocgis.OcgOperations(dataset=rd, geom=geoms, output_format='nc', \n",
    "                                              select_ugid = [ugid], prefix=prefix , \n",
    "                                              add_auxiliary_files=False ,calc=calc, \n",
    "                                              calc_grouping=calc_group).execute() #\n",
    "\n",
    "            cdo.fldmean (input = str(geom_nc) , output = output )\n",
    "            \n",
    "            add_statistic(output , indice)\n",
    "\n",
    "            print ugid, prefix\n",
    "        except Exception as e:\n",
    "            print 'failed for file : %s \\n %s ' % (prefix, e )\n",
    "        #else: \n",
    "        #    print '%s \\t %s already processed' % (ugid, prefix) "
   ]
  },
  {
   "cell_type": "code",
   "execution_count": 10,
   "metadata": {
    "collapsed": false
   },
   "outputs": [
    {
     "data": {
      "text/plain": [
       "'/home/estimr2/nhempelmann/data/extremoscop/timeseries/R20mm/eobs/17/R20mm_EOBS_0.22_rot_v11_19500101-20141231.nc'"
      ]
     },
     "execution_count": 10,
     "metadata": {},
     "output_type": "execute_result"
    }
   ],
   "source": [
    "output "
   ]
  },
  {
   "cell_type": "code",
   "execution_count": null,
   "metadata": {
    "collapsed": true
   },
   "outputs": [],
   "source": []
  }
 ],
 "metadata": {
  "kernelspec": {
   "display_name": "Python 2",
   "language": "python",
   "name": "python2"
  },
  "language_info": {
   "codemirror_mode": {
    "name": "ipython",
    "version": 2
   },
   "file_extension": ".py",
   "mimetype": "text/x-python",
   "name": "python",
   "nbconvert_exporter": "python",
   "pygments_lexer": "ipython2",
   "version": "2.7.8"
  }
 },
 "nbformat": 4,
 "nbformat_minor": 0
}
