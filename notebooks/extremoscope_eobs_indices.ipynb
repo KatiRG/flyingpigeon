{
 "cells": [
  {
   "cell_type": "code",
   "execution_count": 1,
   "metadata": {
    "collapsed": true
   },
   "outputs": [],
   "source": [
    "#import tempfile\n",
    "import os\n",
    "import datetime\n",
    "import ocgis \n",
    "from ocgis.util.shp_process import ShpProcess\n",
    "from ocgis.util.shp_cabinet import ShpCabinetIterator\n",
    "from cdo import *   # python version\n",
    "cdo = Cdo()"
   ]
  },
  {
   "cell_type": "code",
   "execution_count": 2,
   "metadata": {
    "collapsed": true
   },
   "outputs": [],
   "source": [
    "# define the environment\n",
    "if 'obelix' in os.uname()[1] or 'asterix' in os.uname()[1]:\n",
    "    HOME = os.getenv('HOME')\n",
    "    OUT_PATH = '/home/estimr2/nhempelmann/data/extremoscop/'\n",
    "    CACHE = '/home/estimr2/nhempelmann/cache/'\n",
    "    IN_DIR = '/home/estimr2/EUROCORDEX/EOBS_v11/'\n",
    "else:\n",
    "    HOME = os.getenv('HOME')\n",
    "    OUT_DIR = HOME+'/data/extremoscop/'"
   ]
  },
  {
   "cell_type": "code",
   "execution_count": 3,
   "metadata": {
    "collapsed": true
   },
   "outputs": [],
   "source": [
    "# define ocgis environment\n",
    "\n",
    "ocgis.env.OVERWRITE = True\n",
    "ocgis.env.USE_CFUNITS = True\n",
    "SHP_DIR = os.path.join(HOME + '/birdhouse/flyingpigeon/flyingpigeon/processes/shapefiles/FRA/')\n",
    "ocgis.env.DIR_SHPCABINET = SHP_DIR\n",
    "#ocgis.env.DIR_OUTPUT = OUT_DIR\n",
    "sc = ocgis.ShpCabinet()\n",
    "geoms = 'regions-2016'\n",
    "sci = ShpCabinetIterator(geoms)"
   ]
  },
  {
   "cell_type": "code",
   "execution_count": 4,
   "metadata": {
    "collapsed": true
   },
   "outputs": [],
   "source": [
    "ref_19611900 = [datetime.datetime(1961,1,1),datetime.datetime(1990,12,31)]\n",
    "ref_19712000 = [datetime.datetime(1971,1,1),datetime.datetime(2000,12,31)]\n",
    "ref_19762005 = [datetime.datetime(1976,1,1),datetime.datetime(2005,12,31)]\n",
    "vars = ['pr', 'tas', 'tasmin', 'tasmax']\n",
    "indices = ['R20mm']"
   ]
  },
  {
   "cell_type": "code",
   "execution_count": 5,
   "metadata": {
    "collapsed": true
   },
   "outputs": [],
   "source": [
    "# pr_file =  os.path.join(CACHE, 'pr_EOBS_0.22_rot_v11_19500101-20141231_COEDEXformat.nc')\n",
    "# pr_file =  os.path.join(IN_DIR, 'pr_EOBS_0.22_rot_v11_19500101-20141231.nc')"
   ]
  },
  {
   "cell_type": "code",
   "execution_count": 6,
   "metadata": {
    "collapsed": false
   },
   "outputs": [],
   "source": [
    "# pr_file"
   ]
  },
  {
   "cell_type": "code",
   "execution_count": 7,
   "metadata": {
    "collapsed": true
   },
   "outputs": [],
   "source": [
    "# define ocgis environment\n",
    "\n",
    "ocgis.env.OVERWRITE = True\n",
    "ocgis.env.USE_CFUNITS = True\n",
    "SHP_DIR = os.path.join(HOME + '/birdhouse/flyingpigeon/flyingpigeon/processes/shapefiles/FRA/')\n",
    "ocgis.env.DIR_SHPCABINET = SHP_DIR\n",
    "#ocgis.env.DIR_OUTPUT = OUT_DIR\n",
    "sc = ocgis.ShpCabinet()\n",
    "geoms = 'regions-2016'\n",
    "sci = ShpCabinetIterator(geoms)\n",
    "\n",
    "calc = [{'func': 'icclim_%s' % indices[0], 'name': indices[0]}]\n",
    "calc_group = ['year'] # [[12, 1, 2], 'unique'"
   ]
  },
  {
   "cell_type": "code",
   "execution_count": 10,
   "metadata": {
    "collapsed": false
   },
   "outputs": [
    {
     "name": "stdout",
     "output_type": "stream",
     "text": [
      "WARNING: Using the default (non-CF) Udunits database\n"
     ]
    }
   ],
   "source": [
    "#for nc in pr_file:\n",
    "dimension_map = {'X': {'variable': 'longitude', 'dimension': 'x', 'pos': 2},\n",
    "                 'Y': {'variable': 'latitude', 'dimension': 'y', 'pos': 1},\n",
    "                 'T': {'variable': 'time',  'dimension': 'time', 'pos': 0}} #, 'bounds': 'time_bnds'\n",
    "\n",
    "nc = 'pr_EOBS_0.22_rot_v11_19500101-20141231.nc'\n",
    "rd = ocgis.RequestDataset(os.path.join(IN_DIR, nc), 'pr', dimension_map = dimension_map, \n",
    "                          conform_units_to = \"kg m-2 s-1\")\n"
   ]
  },
  {
   "cell_type": "code",
   "execution_count": 13,
   "metadata": {
    "collapsed": false
   },
   "outputs": [
    {
     "name": "stdout",
     "output_type": "stream",
     "text": [
      "1 R20mm_EOBS_0.22_rot_v11_19500101-20141231\n",
      "2 R20mm_EOBS_0.22_rot_v11_19500101-20141231\n",
      "3 R20mm_EOBS_0.22_rot_v11_19500101-20141231\n",
      "4 R20mm_EOBS_0.22_rot_v11_19500101-20141231\n",
      "5 R20mm_EOBS_0.22_rot_v11_19500101-20141231\n",
      "6 R20mm_EOBS_0.22_rot_v11_19500101-20141231\n",
      "7 R20mm_EOBS_0.22_rot_v11_19500101-20141231\n",
      "11 R20mm_EOBS_0.22_rot_v11_19500101-20141231\n",
      "13 R20mm_EOBS_0.22_rot_v11_19500101-20141231\n",
      "14 R20mm_EOBS_0.22_rot_v11_19500101-20141231\n",
      "15 R20mm_EOBS_0.22_rot_v11_19500101-20141231\n",
      "16 R20mm_EOBS_0.22_rot_v11_19500101-20141231\n",
      "17 R20mm_EOBS_0.22_rot_v11_19500101-20141231\n"
     ]
    }
   ],
   "source": [
    "for indice in indices:\n",
    "    for ugid in [1, 2, 3, 4, 5, 6, 7, 11,  13, 14, 15, 16, 17]: #  8, 9, 10, 12,\n",
    "        scenario = 'eobs'\n",
    "        prefix = nc.replace('pr', indice).replace('.nc', '')\n",
    "            # create foulder structure and define output dir:\n",
    "            \n",
    "        if not os.path.exists(os.path.join(OUT_PATH , 'timeseries',  indice ,scenario , str(ugid))):\n",
    "            os.makedirs(os.path.join(OUT_PATH , 'timeseries', indice ,scenario , str(ugid)))\n",
    "        OUT_DIR = os.path.join(OUT_PATH , 'timeseries', indice ,scenario , str(ugid))\n",
    "            \n",
    "        if not os.path.exists(os.path.join(OUT_PATH , 'polygons',  indice ,scenario, str(ugid))):\n",
    "            os.makedirs(os.path.join(OUT_PATH , 'polygons', indice ,scenario, str(ugid)))\n",
    "        ocgis.env.DIR_OUTPUT = os.path.join(OUT_PATH , 'polygons', indice ,scenario, str(ugid))\n",
    "            \n",
    "        output = os.path.join(OUT_DIR,prefix+'.nc') # cdo output\n",
    "            \n",
    "        # if not os.path.exists(output):\n",
    "        try:\n",
    "\n",
    "            rd = ocgis.RequestDataset(os.path.join(IN_DIR, nc), 'pr',  dimension_map = dimension_map)\n",
    "            # conform_units_to = \"kg m-2 s-1\",\n",
    "\n",
    "            geom_nc = ocgis.OcgOperations(dataset=rd, geom=geoms, output_format='nc', \n",
    "                                              select_ugid = [ugid], prefix=prefix , \n",
    "                                              add_auxiliary_files=False ,calc=calc, \n",
    "                                              calc_grouping=calc_group).execute() #\n",
    "\n",
    "            cdo.fldmean (input = str(geom_nc) , output = output )\n",
    "\n",
    "            print ugid, prefix\n",
    "        except Exception as e:\n",
    "            print 'failed for file : %s \\n %s ' % (prefix, e )\n",
    "        #else: \n",
    "        #    print '%s \\t %s already processed' % (ugid, prefix) "
   ]
  },
  {
   "cell_type": "code",
   "execution_count": 188,
   "metadata": {
    "collapsed": false
   },
   "outputs": [],
   "source": [
    "#geom_nc\n",
    "#output\n",
    "#cdo.timstd(input = str(output), output = '/home/estimr2/nhempelmann/data/extremoscop/test.nc')\n",
    "#output "
   ]
  },
  {
   "cell_type": "code",
   "execution_count": 166,
   "metadata": {
    "collapsed": false
   },
   "outputs": [],
   "source": [
    "import pandas as pd\n",
    "import netCDF4\n",
    "from numpy import squeeze\n",
    "import numpy as np\n",
    "\n",
    "file = '/home/estimr2/nhempelmann/data/extremoscop/timeseries/R20mm/eobs/1/R20mm_EOBS_0.22_rot_v11_19500101-20141231.nc'\n",
    "\n",
    "nc = netCDF4.Dataset(file, mode=\"a\")\n",
    "h =  squeeze(nc.variables[indice])\n",
    "times = nc.variables['time']\n",
    "jd = netCDF4.num2date(times[:],times.units)\n",
    "hs = pd.Series(h,index=jd)"
   ]
  },
  {
   "cell_type": "code",
   "execution_count": 190,
   "metadata": {
    "collapsed": false
   },
   "outputs": [],
   "source": [
    "def add_statistics2(nc_url, var):\n",
    "    \"\"\" add statistic variables to a given netCDF file for a given variable. \n",
    "    The statisitcs is calculated as a running 30 Year moving time window\"\"\"\n",
    " \n",
    "    import pandas as pd\n",
    "    import netCDF4\n",
    "    from numpy import squeeze\n",
    "    import numpy as np \n",
    "\n",
    "    nc = netCDF4.Dataset(nc_url, mode=\"a\")\n",
    "    h =  squeeze(nc.variables[var])\n",
    "    times = nc.variables['time']\n",
    "    jd = netCDF4.num2date(times[:],times.units)\n",
    "    hs = pd.Series(h,index=jd)\n",
    "    \n",
    "    showyear = cdo.showyear(input = file )\n",
    "    years = [int(i) for i in showyear[0].split(' ')]\n",
    "\n",
    "    nc.createDimension('ref_period', len(period))\n",
    "    \n",
    "    ref_period = nc.createVariable(varname= 'ref_period', datatype = 'i', dimensions='ref_period')\n",
    "    ref_median = nc.createVariable(varname= 'ref_median', datatype = 'float', dimensions='ref_period')\n",
    "    ref_mean = nc.createVariable(varname= 'ref_mean', datatype = 'float', dimensions='ref_period')\n",
    "    ref_std = nc.createVariable(varname= 'ref_std', datatype = 'float', dimensions='ref_period')\n",
    "\n",
    "    ref_period_att = {'standard_name':'ref_period',\n",
    "                  'long_name':'start year of reference period',\n",
    "                  'units':'year' }\n",
    "    ref_median_att = {'standard_name':'ref_median',\n",
    "                  'long_name':'median for reference period'}\n",
    "    ref_mean_att = {'standard_name':'ref_mean',\n",
    "                  'long_name':'mean for reference period'}\n",
    "    ref_std_att = {'standard_name':'ref_std',\n",
    "                  'long_name':'standart deviation for reference period'}\n",
    "\n",
    "\n",
    "    ref_period.setncatts(ref_period_att)\n",
    "    ref_std.setncatts(ref_std_att)\n",
    "    ref_mean.setncatts(ref_mean_att)\n",
    "    ref_median.setncatts(ref_median_att)\n",
    "\n",
    "\n",
    "    ref_periods = []\n",
    "    ref_stds = []\n",
    "    ref_medians = []\n",
    "    ref_means = []\n",
    "\n",
    "    for start in years[:-29]:\n",
    "        end = start + 30\n",
    "        ref_periods.append(start)\n",
    "        ref_stds.append(hs[str(start):str(end)].std())\n",
    "        ref_medians.append(hs[str(start):str(end)].median())\n",
    "        ref_means.append(hs[str(start):str(end)].mean())\n",
    "\n",
    "\n",
    "    ref_period[:] = ref_periods\n",
    "    ref_median[:] = ref_medians\n",
    "    ref_mean[:] = ref_means\n",
    "    ref_std[:] = ref_stds\n",
    "\n",
    "    nc.close()"
   ]
  },
  {
   "cell_type": "code",
   "execution_count": 197,
   "metadata": {
    "collapsed": false
   },
   "outputs": [],
   "source": [
    "import sys\n",
    "sys.path.append('/home/users/nhempel/birdhouse/flyingpigeon/flyingpigeon')\n",
    "\n",
    "from timeseries import add_statistics"
   ]
  },
  {
   "cell_type": "code",
   "execution_count": null,
   "metadata": {
    "collapsed": true
   },
   "outputs": [],
   "source": [
    "file = '/home/estimr2/nhempelmann/data/extremoscop/timeseries/R20mm/eobs/2/R20mm_EOBS_0.22_rot_v11_19500101-20141231.nc'\n",
    "print file , indice"
   ]
  },
  {
   "cell_type": "code",
   "execution_count": 198,
   "metadata": {
    "collapsed": false
   },
   "outputs": [],
   "source": [
    "add_statistics?"
   ]
  },
  {
   "cell_type": "code",
   "execution_count": 189,
   "metadata": {
    "collapsed": false
   },
   "outputs": [
    {
     "data": {
      "text/plain": [
       "'/home/estimr2/nhempelmann/data/extremoscop/timeseries/R20mm/eobs/2/R20mm_EOBS_0.22_rot_v11_19500101-20141231.nc'"
      ]
     },
     "execution_count": 189,
     "metadata": {},
     "output_type": "execute_result"
    }
   ],
   "source": [
    "file"
   ]
  },
  {
   "cell_type": "code",
   "execution_count": 129,
   "metadata": {
    "collapsed": false
   },
   "outputs": [],
   "source": [
    "showyear = cdo.showyear(input = file )\n",
    "years = [int(i) for i in showyear[0].split(' ')]"
   ]
  },
  {
   "cell_type": "code",
   "execution_count": 153,
   "metadata": {
    "collapsed": false
   },
   "outputs": [],
   "source": [
    "ref_periods = []\n",
    "ref_stds = []\n",
    "ref_medians = []\n",
    "ref_means = []\n",
    "\n",
    "for start in years[:-29]:\n",
    "    end = start + 30\n",
    "    ref_periods.append(start)\n",
    "    ref_stds.append(hs[str(start):str(end)].std())\n",
    "    ref_medians.append(hs[str(start):str(end)].median())\n",
    "    ref_means.append(hs[str(start):str(end)].mean())"
   ]
  },
  {
   "cell_type": "code",
   "execution_count": null,
   "metadata": {
    "collapsed": true
   },
   "outputs": [],
   "source": [
    "nc.createDimension('ref_period', len(period))"
   ]
  },
  {
   "cell_type": "code",
   "execution_count": 167,
   "metadata": {
    "collapsed": false
   },
   "outputs": [],
   "source": [
    "ref_period = nc.createVariable(varname= 'ref_period', datatype = 'i', dimensions='ref_period')\n",
    "ref_median = nc.createVariable(varname= 'ref_median', datatype = 'float', dimensions='ref_period')\n",
    "ref_mean = nc.createVariable(varname= 'ref_mean', datatype = 'float', dimensions='ref_period')\n",
    "ref_std = nc.createVariable(varname= 'ref_std', datatype = 'float', dimensions='ref_period')"
   ]
  },
  {
   "cell_type": "code",
   "execution_count": 168,
   "metadata": {
    "collapsed": false
   },
   "outputs": [],
   "source": [
    "ref_period[:] = ref_periods\n",
    "ref_median[:] = ref_medians\n",
    "ref_mean[:] = ref_mean\n",
    "ref_std[:] = ref_stds"
   ]
  },
  {
   "cell_type": "code",
   "execution_count": null,
   "metadata": {
    "collapsed": true
   },
   "outputs": [],
   "source": [
    "ref_period = nc.variables['ref_period']"
   ]
  },
  {
   "cell_type": "code",
   "execution_count": 169,
   "metadata": {
    "collapsed": false
   },
   "outputs": [],
   "source": [
    "ref_period_att = {'standard_name':'ref_period',\n",
    "                  'long_name':'start year of reference period',\n",
    "                  'units':'year' }\n",
    "ref_median_att = {'standard_name':'ref_median',\n",
    "                  'long_name':'median for reference period'}\n",
    "ref_mean_att = {'standard_name':'ref_mean',\n",
    "                  'long_name':'mean for reference period'}\n",
    "ref_std_att = {'standard_name':'ref_std',\n",
    "                  'long_name':'standart deviation for reference period'}\n",
    "\n",
    "ref_period.setncatts(ref_period_att)\n",
    "ref_std.setncatts(ref_std_att)\n",
    "ref_mean.setncatts(ref_mean_att)\n",
    "ref_median.setncatts(ref_median_att)"
   ]
  },
  {
   "cell_type": "code",
   "execution_count": 170,
   "metadata": {
    "collapsed": false
   },
   "outputs": [
    {
     "data": {
      "text/plain": [
       "'/home/estimr2/nhempelmann/data/extremoscop/timeseries/R20mm/eobs/1/R20mm_EOBS_0.22_rot_v11_19500101-20141231.nc'"
      ]
     },
     "execution_count": 170,
     "metadata": {},
     "output_type": "execute_result"
    }
   ],
   "source": [
    "nc.close()\n",
    "file"
   ]
  },
  {
   "cell_type": "code",
   "execution_count": 139,
   "metadata": {
    "collapsed": false
   },
   "outputs": [],
   "source": [
    "plt.plot(period,mean)\n",
    "plt.plot(period,median)\n",
    "\n",
    "plt.show()"
   ]
  },
  {
   "cell_type": "code",
   "execution_count": 39,
   "metadata": {
    "collapsed": false
   },
   "outputs": [
    {
     "name": "stdout",
     "output_type": "stream",
     "text": [
      "18.8503809238 19.3613986998 19.0443777937\n"
     ]
    }
   ],
   "source": [
    "std1 = hs['1961':'1990'].std()\n",
    "std2 = hs['1971':'2000'].std()\n",
    "std3 = hs['1976':'2005'].std()\n",
    "print std1, std2, std3 "
   ]
  },
  {
   "cell_type": "code",
   "execution_count": 40,
   "metadata": {
    "collapsed": false
   },
   "outputs": [
    {
     "name": "stdout",
     "output_type": "stream",
     "text": [
      "151.595237732 151.595237732 153.690475464\n"
     ]
    }
   ],
   "source": [
    "median1 = hs['1961':'1990'].median()\n",
    "median2 = hs['1971':'2000'].median()\n",
    "median3 = hs['1976':'2005'].median()\n",
    "print median1, median2, median3 "
   ]
  },
  {
   "cell_type": "code",
   "execution_count": 38,
   "metadata": {
    "collapsed": false
   },
   "outputs": [
    {
     "name": "stdout",
     "output_type": "stream",
     "text": [
      "355.336860972 374.863759612 362.688325549\n"
     ]
    }
   ],
   "source": [
    "var1 = hs['1961':'1990'].var()\n",
    "var2 = hs['1971':'2000'].var()\n",
    "var3 = hs['1976':'2005'].var()\n",
    "print var1, var2, var3 "
   ]
  },
  {
   "cell_type": "code",
   "execution_count": 70,
   "metadata": {
    "collapsed": false
   },
   "outputs": [
    {
     "data": {
      "text/plain": [
       "<netCDF4.Dimension at 0x2b8c9d83cb40>"
      ]
     },
     "execution_count": 70,
     "metadata": {},
     "output_type": "execute_result"
    }
   ],
   "source": [
    "nc.createDimension('ref_period', 35)"
   ]
  },
  {
   "cell_type": "code",
   "execution_count": null,
   "metadata": {
    "collapsed": true
   },
   "outputs": [],
   "source": [
    "ref_period = nc.createVariable(varname= 'ref_period', datatype = 'int', dimensions='ref_period')\n",
    "ref_median = nc.createVariable(varname= 'ref_median', datatype = 'float', dimensions='ref_period')\n",
    "ref_std = nc.createVariable(varname= 'ref_std', datatype = 'float', dimensions='ref_period')"
   ]
  },
  {
   "cell_type": "code",
   "execution_count": 62,
   "metadata": {
    "collapsed": false
   },
   "outputs": [],
   "source": [
    "ref_test = nc.createVariable(varname= 'ref_test', datatype = 'float', dimensions='ref_bnds')"
   ]
  },
  {
   "cell_type": "code",
   "execution_count": null,
   "metadata": {
    "collapsed": true
   },
   "outputs": [],
   "source": [
    "vals = [18.8503809238, 19.3613986998]\n",
    "ref_test. = vals"
   ]
  },
  {
   "cell_type": "code",
   "execution_count": 78,
   "metadata": {
    "collapsed": false
   },
   "outputs": [],
   "source": [
    "nc.close()"
   ]
  },
  {
   "cell_type": "code",
   "execution_count": null,
   "metadata": {
    "collapsed": true
   },
   "outputs": [],
   "source": [
    "#cdo.setreftime('1949-12-01,00:00:00,days', input=geom_file, output='/home/nils/data/EOBS/tx_0.22deg_rot_2014_Cordex.nc')\n",
    "#cdo.setname('tasmax', input='/home/nils/data/EOBS/tx_0.22deg_rot_2014_Cordex.nc' , output='/home/nils/data/EOBS/tasmax_EOBS-22_2014.nc')"
   ]
  }
 ],
 "metadata": {
  "kernelspec": {
   "display_name": "Python 2",
   "language": "python",
   "name": "python2"
  },
  "language_info": {
   "codemirror_mode": {
    "name": "ipython",
    "version": 2
   },
   "file_extension": ".py",
   "mimetype": "text/x-python",
   "name": "python",
   "nbconvert_exporter": "python",
   "pygments_lexer": "ipython2",
   "version": "2.7.8"
  }
 },
 "nbformat": 4,
 "nbformat_minor": 0
}
