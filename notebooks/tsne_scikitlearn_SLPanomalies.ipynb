{
 "cells": [
  {
   "cell_type": "code",
   "execution_count": 1,
   "metadata": {
    "collapsed": true
   },
   "outputs": [],
   "source": [
    "#Follows example of tSNE in scikit learn for MNIST dataset\n",
    "#http://alexanderfabisch.github.io/t-sne-in-scikit-learn.html\n",
    "\n",
    "#With extra dimensionality reduction using PCA before tSNE calculation\n",
    "\n",
    "\n",
    "#Created:       10.03.2016\n",
    "#Last modified: 11.03.2016 Added decade column to use as labels for plotting tSNE results\n",
    "#               14.03.2016 Added fn to select a cluster from the scatterplot, display it, and plot corresponding mean SLP"
   ]
  },
  {
   "cell_type": "code",
   "execution_count": 1,
   "metadata": {
    "collapsed": false
   },
   "outputs": [
    {
     "name": "stdout",
     "output_type": "stream",
     "text": [
      "Using matplotlib backend: Qt4Agg\n",
      "Populating the interactive namespace from numpy and matplotlib\n"
     ]
    }
   ],
   "source": [
    "#%pylab inline\n",
    "%pylab"
   ]
  },
  {
   "cell_type": "code",
   "execution_count": 3,
   "metadata": {
    "collapsed": false
   },
   "outputs": [],
   "source": [
    "#from matplotlib.pyplot import *\n",
    "#%matplotlib inline\n"
   ]
  },
  {
   "cell_type": "code",
   "execution_count": 4,
   "metadata": {
    "collapsed": false
   },
   "outputs": [],
   "source": [
    "import numpy as np\n",
    "from matplotlib import pyplot as plt\n",
    "\n",
    "from sklearn.decomposition import PCA\n",
    "from sklearn.manifold import TSNE"
   ]
  },
  {
   "cell_type": "code",
   "execution_count": 5,
   "metadata": {
    "collapsed": false
   },
   "outputs": [],
   "source": [
    "#pandas\n",
    "import pandas as pd\n",
    "import collections\n",
    "import os"
   ]
  },
  {
   "cell_type": "code",
   "execution_count": 6,
   "metadata": {
    "collapsed": false
   },
   "outputs": [],
   "source": [
    "#FOR SOME REASON, netCDF4 MODULES NO LONGER INSTALLED...\n",
    "#to read netCDF time\n",
    "#import netCDF4\n",
    "#from netCDF4 import num2date, date2num, date2index"
   ]
  },
  {
   "cell_type": "code",
   "execution_count": 7,
   "metadata": {
    "collapsed": false
   },
   "outputs": [
    {
     "data": {
      "text/html": [
       "<div>\n",
       "<table border=\"1\" class=\"dataframe\">\n",
       "  <thead>\n",
       "    <tr style=\"text-align: right;\">\n",
       "      <th></th>\n",
       "      <th>Date</th>\n",
       "      <th>Time</th>\n",
       "      <th>Month</th>\n",
       "      <th>Year</th>\n",
       "    </tr>\n",
       "  </thead>\n",
       "  <tbody>\n",
       "    <tr>\n",
       "      <th>0</th>\n",
       "      <td>1948-01-01</td>\n",
       "      <td>00:00:00</td>\n",
       "      <td>01</td>\n",
       "      <td>1948</td>\n",
       "    </tr>\n",
       "    <tr>\n",
       "      <th>1</th>\n",
       "      <td>1948-01-02</td>\n",
       "      <td>00:00:00</td>\n",
       "      <td>01</td>\n",
       "      <td>1948</td>\n",
       "    </tr>\n",
       "    <tr>\n",
       "      <th>2</th>\n",
       "      <td>1948-01-03</td>\n",
       "      <td>00:00:00</td>\n",
       "      <td>01</td>\n",
       "      <td>1948</td>\n",
       "    </tr>\n",
       "    <tr>\n",
       "      <th>3</th>\n",
       "      <td>1948-01-04</td>\n",
       "      <td>00:00:00</td>\n",
       "      <td>01</td>\n",
       "      <td>1948</td>\n",
       "    </tr>\n",
       "    <tr>\n",
       "      <th>4</th>\n",
       "      <td>1948-01-05</td>\n",
       "      <td>00:00:00</td>\n",
       "      <td>01</td>\n",
       "      <td>1948</td>\n",
       "    </tr>\n",
       "  </tbody>\n",
       "</table>\n",
       "</div>"
      ],
      "text/plain": [
       "         Date      Time Month  Year\n",
       "0  1948-01-01  00:00:00    01  1948\n",
       "1  1948-01-02  00:00:00    01  1948\n",
       "2  1948-01-03  00:00:00    01  1948\n",
       "3  1948-01-04  00:00:00    01  1948\n",
       "4  1948-01-05  00:00:00    01  1948"
      ]
     },
     "execution_count": 7,
     "metadata": {},
     "output_type": "execute_result"
    }
   ],
   "source": [
    "#READ IN TIME PRODUCED BY /home/users/cnangini/MIRROR/analogues/get_time.py\n",
    "dt = pd.DataFrame()\n",
    "dt = pd.read_csv('/home/nils/data/cathy/time_out.dat',delim_whitespace=True,header=None)\n",
    "dt.columns = ['Date', 'Time']\n",
    "\n",
    "#Make 2 new cols for month and year obtained from col[0] date string\n",
    "dt['Month'] = dt['Date'].str.split('-').str.get(1)  #.astype(int)\n",
    "dt['Year'] = dt['Date'].str.split('-').str.get(0).astype(int)\n",
    "\n",
    "dt.head(5)"
   ]
  },
  {
   "cell_type": "code",
   "execution_count": 8,
   "metadata": {
    "collapsed": false
   },
   "outputs": [
    {
     "data": {
      "text/plain": [
       "(24800, 5)"
      ]
     },
     "execution_count": 8,
     "metadata": {},
     "output_type": "execute_result"
    }
   ],
   "source": [
    "#MAKE A SEASONS COL\n",
    "\n",
    "#dt['Season'] = np.where(df['Month']=='Z', 'green', 'red')\n",
    "\n",
    "#http://stackoverflow.com/questions/21733893/pandas-dataframe-add-a-field-based-on-multiple-if-statements\n",
    "dt.loc[dt['Month'] == '12' ,'Season'] = 1\n",
    "dt.loc[dt['Month'] == '01' ,'Season'] = 1\n",
    "dt.loc[dt['Month'] == '02' ,'Season'] = 1\n",
    "dt.loc[dt['Month'] == '03' ,'Season'] = 2\n",
    "dt.loc[dt['Month'] == '04' ,'Season'] = 2\n",
    "dt.loc[dt['Month'] == '05' ,'Season'] = 2\n",
    "dt.loc[dt['Month'] == '06' ,'Season'] = 3\n",
    "dt.loc[dt['Month'] == '07' ,'Season'] = 3\n",
    "dt.loc[dt['Month'] == '08' ,'Season'] = 3\n",
    "dt.loc[dt['Month'] == '09' ,'Season'] = 4\n",
    "dt.loc[dt['Month'] == '10' ,'Season'] = 4\n",
    "dt.loc[dt['Month'] == '11' ,'Season'] = 4\n",
    "\n",
    "#df['Prediction'] = ((df['Sex']=='female') | ((df['Pclass']==1) & (df['Age']<18))).astype('int')\n",
    "\n",
    "#dt.head(75)\n",
    "dt.shape #(24800, 5)\n"
   ]
  },
  {
   "cell_type": "code",
   "execution_count": 9,
   "metadata": {
    "collapsed": false
   },
   "outputs": [
    {
     "data": {
      "text/html": [
       "<div>\n",
       "<table border=\"1\" class=\"dataframe\">\n",
       "  <thead>\n",
       "    <tr style=\"text-align: right;\">\n",
       "      <th></th>\n",
       "      <th>Date</th>\n",
       "      <th>Time</th>\n",
       "      <th>Month</th>\n",
       "      <th>Year</th>\n",
       "      <th>Season</th>\n",
       "      <th>archivePeriod</th>\n",
       "    </tr>\n",
       "  </thead>\n",
       "  <tbody>\n",
       "    <tr>\n",
       "      <th>0</th>\n",
       "      <td>1948-01-01</td>\n",
       "      <td>00:00:00</td>\n",
       "      <td>01</td>\n",
       "      <td>1948</td>\n",
       "      <td>1.0</td>\n",
       "      <td>0</td>\n",
       "    </tr>\n",
       "    <tr>\n",
       "      <th>1</th>\n",
       "      <td>1948-01-02</td>\n",
       "      <td>00:00:00</td>\n",
       "      <td>01</td>\n",
       "      <td>1948</td>\n",
       "      <td>1.0</td>\n",
       "      <td>0</td>\n",
       "    </tr>\n",
       "    <tr>\n",
       "      <th>2</th>\n",
       "      <td>1948-01-03</td>\n",
       "      <td>00:00:00</td>\n",
       "      <td>01</td>\n",
       "      <td>1948</td>\n",
       "      <td>1.0</td>\n",
       "      <td>0</td>\n",
       "    </tr>\n",
       "    <tr>\n",
       "      <th>3</th>\n",
       "      <td>1948-01-04</td>\n",
       "      <td>00:00:00</td>\n",
       "      <td>01</td>\n",
       "      <td>1948</td>\n",
       "      <td>1.0</td>\n",
       "      <td>0</td>\n",
       "    </tr>\n",
       "    <tr>\n",
       "      <th>4</th>\n",
       "      <td>1948-01-05</td>\n",
       "      <td>00:00:00</td>\n",
       "      <td>01</td>\n",
       "      <td>1948</td>\n",
       "      <td>1.0</td>\n",
       "      <td>0</td>\n",
       "    </tr>\n",
       "  </tbody>\n",
       "</table>\n",
       "</div>"
      ],
      "text/plain": [
       "         Date      Time Month  Year  Season  archivePeriod\n",
       "0  1948-01-01  00:00:00    01  1948     1.0              0\n",
       "1  1948-01-02  00:00:00    01  1948     1.0              0\n",
       "2  1948-01-03  00:00:00    01  1948     1.0              0\n",
       "3  1948-01-04  00:00:00    01  1948     1.0              0\n",
       "4  1948-01-05  00:00:00    01  1948     1.0              0"
      ]
     },
     "execution_count": 9,
     "metadata": {},
     "output_type": "execute_result"
    }
   ],
   "source": [
    "#MAKE A COL FOR ARCHIVE PERIOD\n",
    "\n",
    "dt['archivePeriod'] = np.where(dt['Year'] < 1986, 0, 1)\n",
    "\n",
    "dt.head(5)\n",
    "#dt.shape #(24800, 6)"
   ]
  },
  {
   "cell_type": "code",
   "execution_count": 10,
   "metadata": {
    "collapsed": false
   },
   "outputs": [
    {
     "data": {
      "text/plain": [
       "[1956, 1957, 1958, 1959, 1960, 1961, 1962, 1963, 1964]"
      ]
     },
     "execution_count": 10,
     "metadata": {},
     "output_type": "execute_result"
    }
   ],
   "source": [
    "arange(1956,1965).tolist()"
   ]
  },
  {
   "cell_type": "code",
   "execution_count": 11,
   "metadata": {
    "collapsed": false
   },
   "outputs": [
    {
     "data": {
      "text/html": [
       "<div>\n",
       "<table border=\"1\" class=\"dataframe\">\n",
       "  <thead>\n",
       "    <tr style=\"text-align: right;\">\n",
       "      <th></th>\n",
       "      <th>Date</th>\n",
       "      <th>Time</th>\n",
       "      <th>Month</th>\n",
       "      <th>Year</th>\n",
       "      <th>Season</th>\n",
       "      <th>archivePeriod</th>\n",
       "      <th>Decade</th>\n",
       "    </tr>\n",
       "  </thead>\n",
       "  <tbody>\n",
       "    <tr>\n",
       "      <th>24790</th>\n",
       "      <td>2015-11-15</td>\n",
       "      <td>00:00:00</td>\n",
       "      <td>11</td>\n",
       "      <td>2015</td>\n",
       "      <td>4.0</td>\n",
       "      <td>1</td>\n",
       "      <td>6.0</td>\n",
       "    </tr>\n",
       "    <tr>\n",
       "      <th>24791</th>\n",
       "      <td>2015-11-16</td>\n",
       "      <td>00:00:00</td>\n",
       "      <td>11</td>\n",
       "      <td>2015</td>\n",
       "      <td>4.0</td>\n",
       "      <td>1</td>\n",
       "      <td>6.0</td>\n",
       "    </tr>\n",
       "    <tr>\n",
       "      <th>24792</th>\n",
       "      <td>2015-11-17</td>\n",
       "      <td>00:00:00</td>\n",
       "      <td>11</td>\n",
       "      <td>2015</td>\n",
       "      <td>4.0</td>\n",
       "      <td>1</td>\n",
       "      <td>6.0</td>\n",
       "    </tr>\n",
       "    <tr>\n",
       "      <th>24793</th>\n",
       "      <td>2015-11-18</td>\n",
       "      <td>00:00:00</td>\n",
       "      <td>11</td>\n",
       "      <td>2015</td>\n",
       "      <td>4.0</td>\n",
       "      <td>1</td>\n",
       "      <td>6.0</td>\n",
       "    </tr>\n",
       "    <tr>\n",
       "      <th>24794</th>\n",
       "      <td>2015-11-19</td>\n",
       "      <td>00:00:00</td>\n",
       "      <td>11</td>\n",
       "      <td>2015</td>\n",
       "      <td>4.0</td>\n",
       "      <td>1</td>\n",
       "      <td>6.0</td>\n",
       "    </tr>\n",
       "    <tr>\n",
       "      <th>24795</th>\n",
       "      <td>2015-11-20</td>\n",
       "      <td>00:00:00</td>\n",
       "      <td>11</td>\n",
       "      <td>2015</td>\n",
       "      <td>4.0</td>\n",
       "      <td>1</td>\n",
       "      <td>6.0</td>\n",
       "    </tr>\n",
       "    <tr>\n",
       "      <th>24796</th>\n",
       "      <td>2015-11-21</td>\n",
       "      <td>00:00:00</td>\n",
       "      <td>11</td>\n",
       "      <td>2015</td>\n",
       "      <td>4.0</td>\n",
       "      <td>1</td>\n",
       "      <td>6.0</td>\n",
       "    </tr>\n",
       "    <tr>\n",
       "      <th>24797</th>\n",
       "      <td>2015-11-22</td>\n",
       "      <td>00:00:00</td>\n",
       "      <td>11</td>\n",
       "      <td>2015</td>\n",
       "      <td>4.0</td>\n",
       "      <td>1</td>\n",
       "      <td>6.0</td>\n",
       "    </tr>\n",
       "    <tr>\n",
       "      <th>24798</th>\n",
       "      <td>2015-11-23</td>\n",
       "      <td>00:00:00</td>\n",
       "      <td>11</td>\n",
       "      <td>2015</td>\n",
       "      <td>4.0</td>\n",
       "      <td>1</td>\n",
       "      <td>6.0</td>\n",
       "    </tr>\n",
       "    <tr>\n",
       "      <th>24799</th>\n",
       "      <td>2015-11-24</td>\n",
       "      <td>00:00:00</td>\n",
       "      <td>11</td>\n",
       "      <td>2015</td>\n",
       "      <td>4.0</td>\n",
       "      <td>1</td>\n",
       "      <td>6.0</td>\n",
       "    </tr>\n",
       "  </tbody>\n",
       "</table>\n",
       "</div>"
      ],
      "text/plain": [
       "             Date      Time Month  Year  Season  archivePeriod  Decade\n",
       "24790  2015-11-15  00:00:00    11  2015     4.0              1     6.0\n",
       "24791  2015-11-16  00:00:00    11  2015     4.0              1     6.0\n",
       "24792  2015-11-17  00:00:00    11  2015     4.0              1     6.0\n",
       "24793  2015-11-18  00:00:00    11  2015     4.0              1     6.0\n",
       "24794  2015-11-19  00:00:00    11  2015     4.0              1     6.0\n",
       "24795  2015-11-20  00:00:00    11  2015     4.0              1     6.0\n",
       "24796  2015-11-21  00:00:00    11  2015     4.0              1     6.0\n",
       "24797  2015-11-22  00:00:00    11  2015     4.0              1     6.0\n",
       "24798  2015-11-23  00:00:00    11  2015     4.0              1     6.0\n",
       "24799  2015-11-24  00:00:00    11  2015     4.0              1     6.0"
      ]
     },
     "execution_count": 11,
     "metadata": {},
     "output_type": "execute_result"
    }
   ],
   "source": [
    "#MAKE A COL FOR ARCHIVE DECADE\n",
    "#Note: not clear how to make conditional statement\n",
    "#http://stackoverflow.com/questions/23461502/evaluating-pandas-series-values-with-logical-expressions-and-if-statements\n",
    "\n",
    "dt.loc[dt['Year'] <= 1955 ,'Decade'] = 0\n",
    "dt.loc[dt['Year'].isin(arange(1956,1966).tolist())  ,'Decade'] = 1\n",
    "dt.loc[dt['Year'].isin(arange(1966,1976).tolist())  ,'Decade'] = 2\n",
    "dt.loc[dt['Year'].isin(arange(1976,1986).tolist())  ,'Decade'] = 3\n",
    "dt.loc[dt['Year'].isin(arange(1986,1996).tolist())  ,'Decade'] = 4\n",
    "dt.loc[dt['Year'].isin(arange(1996,2006).tolist())  ,'Decade'] = 5\n",
    "dt.loc[dt['Year'].isin(arange(2006,2016).tolist())  ,'Decade'] = 6\n",
    "\n",
    "dt.shape #(24800, 7)\n",
    "dt.iloc[[20000]]\n",
    "dt.iloc[[12300]]\n",
    "dt.loc[10000:10010]\n",
    "dt.tail(10)"
   ]
  },
  {
   "cell_type": "code",
   "execution_count": 12,
   "metadata": {
    "collapsed": false
   },
   "outputs": [
    {
     "data": {
      "text/plain": [
       "5"
      ]
     },
     "execution_count": 12,
     "metadata": {},
     "output_type": "execute_result"
    }
   ],
   "source": [
    "#WRITE SEASON, ARCHIVE PERIOD AND DECADE COLUMNS TO NDARRAY TO USE AS LABELS\n",
    "\n",
    "season = dt.iloc[:,4].values\n",
    "season = season.astype(np.int64)\n",
    "len(season) #24800\n",
    "season[len(season) - 1]\n",
    "\n",
    "archivePeriod = dt.iloc[:,5].values\n",
    "archivePeriod = archivePeriod.astype(np.int64)\n",
    "len(archivePeriod) #24800\n",
    "archivePeriod[20000]\n",
    "\n",
    "decade = dt.iloc[:,6].values\n",
    "decade = decade.astype(np.int64)\n",
    "len(decade) #24800\n",
    "decade[20000]"
   ]
  },
  {
   "cell_type": "code",
   "execution_count": 13,
   "metadata": {
    "collapsed": true
   },
   "outputs": [],
   "source": [
    "#MAP IMAGE INFO\n",
    "\n",
    "#Each map is a matrix of 53 LON x 20 LAT\n",
    "#Full dataset has 53 LON x 20 LAT x 24800 MAPS (1 map per date)"
   ]
  },
  {
   "cell_type": "code",
   "execution_count": 14,
   "metadata": {
    "collapsed": false
   },
   "outputs": [
    {
     "data": {
      "text/plain": [
       "26288000"
      ]
     },
     "execution_count": 14,
     "metadata": {},
     "output_type": "execute_result"
    }
   ],
   "source": [
    "53*20*24800"
   ]
  },
  {
   "cell_type": "code",
   "execution_count": 15,
   "metadata": {
    "collapsed": false
   },
   "outputs": [
    {
     "data": {
      "text/plain": [
       "1060"
      ]
     },
     "execution_count": 15,
     "metadata": {},
     "output_type": "execute_result"
    }
   ],
   "source": [
    "53*20"
   ]
  },
  {
   "cell_type": "code",
   "execution_count": 17,
   "metadata": {
    "collapsed": false
   },
   "outputs": [],
   "source": [
    "# Create dataframe of SLP data from netCDF file\n",
    "\n",
    "#File testI8.dat (header manually removed and stored in testI8_header.dat)\n",
    "# 5,456,000 lines x 5 cols => every 11 lines contain 53 LON values for 1 LAT value. \n",
    "# Thus there are 5,456,000/11 = 496,000 LAT values in total, corresponding to \n",
    "# 496,000/20 = 24,800 images (or dates)\n",
    "# Reshape to 24,800 DATE rows x (53*20 = 1060) cols = 26,288,000 values\n",
    "#Target (labels) file therefore is a 1D array of 24,800 elements\n",
    "\n",
    "df = pd.DataFrame()\n",
    "df = pd.read_csv('/home/nils/data/cathy/testI8.dat',delim_whitespace=True,header=None)"
   ]
  },
  {
   "cell_type": "code",
   "execution_count": 18,
   "metadata": {
    "collapsed": false
   },
   "outputs": [
    {
     "data": {
      "text/html": [
       "<div>\n",
       "<table border=\"1\" class=\"dataframe\">\n",
       "  <thead>\n",
       "    <tr style=\"text-align: right;\">\n",
       "      <th></th>\n",
       "      <th>0</th>\n",
       "      <th>1</th>\n",
       "      <th>2</th>\n",
       "      <th>3</th>\n",
       "      <th>4</th>\n",
       "    </tr>\n",
       "  </thead>\n",
       "  <tbody>\n",
       "    <tr>\n",
       "      <th>0</th>\n",
       "      <td>101562.0</td>\n",
       "      <td>101610.0</td>\n",
       "      <td>101655.0</td>\n",
       "      <td>101712.0</td>\n",
       "      <td>101762.0</td>\n",
       "    </tr>\n",
       "    <tr>\n",
       "      <th>1</th>\n",
       "      <td>101790.0</td>\n",
       "      <td>101810.0</td>\n",
       "      <td>101805.0</td>\n",
       "      <td>101787.0</td>\n",
       "      <td>101770.0</td>\n",
       "    </tr>\n",
       "    <tr>\n",
       "      <th>2</th>\n",
       "      <td>101742.0</td>\n",
       "      <td>101700.0</td>\n",
       "      <td>101682.0</td>\n",
       "      <td>101697.0</td>\n",
       "      <td>101680.0</td>\n",
       "    </tr>\n",
       "    <tr>\n",
       "      <th>3</th>\n",
       "      <td>101660.0</td>\n",
       "      <td>101695.0</td>\n",
       "      <td>101737.0</td>\n",
       "      <td>101737.0</td>\n",
       "      <td>101760.0</td>\n",
       "    </tr>\n",
       "    <tr>\n",
       "      <th>4</th>\n",
       "      <td>101800.0</td>\n",
       "      <td>101785.0</td>\n",
       "      <td>101767.0</td>\n",
       "      <td>101775.0</td>\n",
       "      <td>101732.0</td>\n",
       "    </tr>\n",
       "  </tbody>\n",
       "</table>\n",
       "</div>"
      ],
      "text/plain": [
       "          0         1         2         3         4\n",
       "0  101562.0  101610.0  101655.0  101712.0  101762.0\n",
       "1  101790.0  101810.0  101805.0  101787.0  101770.0\n",
       "2  101742.0  101700.0  101682.0  101697.0  101680.0\n",
       "3  101660.0  101695.0  101737.0  101737.0  101760.0\n",
       "4  101800.0  101785.0  101767.0  101775.0  101732.0"
      ]
     },
     "execution_count": 18,
     "metadata": {},
     "output_type": "execute_result"
    }
   ],
   "source": [
    "df.head(5)\n",
    "\n",
    "#df.index.name"
   ]
  },
  {
   "cell_type": "code",
   "execution_count": 19,
   "metadata": {
    "collapsed": false
   },
   "outputs": [
    {
     "data": {
      "text/plain": [
       "(5456000, 5)"
      ]
     },
     "execution_count": 19,
     "metadata": {},
     "output_type": "execute_result"
    }
   ],
   "source": [
    "#testI8.dat: 5,456,000 rows x 5 cols\n",
    "df.shape "
   ]
  },
  {
   "cell_type": "code",
   "execution_count": 20,
   "metadata": {
    "collapsed": false
   },
   "outputs": [
    {
     "data": {
      "text/plain": [
       "24800"
      ]
     },
     "execution_count": 20,
     "metadata": {},
     "output_type": "execute_result"
    }
   ],
   "source": [
    "df.shape[0]/(11*20)"
   ]
  },
  {
   "cell_type": "code",
   "execution_count": 21,
   "metadata": {
    "collapsed": false
   },
   "outputs": [],
   "source": [
    "#CONVERT TO (numDATE = 24800) x (53 LON * 20 LAT = 1060) MATRIX\n",
    "\n",
    "row = df.shape[0]/(11*20) #number of dates in dataset (11 lines/lat, 20 lat/date)\n",
    "col = 53 * 20\n",
    "\n",
    "#CONVERT DF TO MATRIX AND RESHAPE, OMITTING NaNs\n",
    "adata = df.values[np.logical_not(np.isnan(df.values))].reshape(row,col)\n"
   ]
  },
  {
   "cell_type": "code",
   "execution_count": 63,
   "metadata": {
    "collapsed": false,
    "scrolled": true
   },
   "outputs": [
    {
     "data": {
      "text/plain": [
       "24800"
      ]
     },
     "execution_count": 63,
     "metadata": {},
     "output_type": "execute_result"
    }
   ],
   "source": [
    "len(season)"
   ]
  },
  {
   "cell_type": "code",
   "execution_count": 23,
   "metadata": {
    "collapsed": false
   },
   "outputs": [
    {
     "data": {
      "text/html": [
       "<div>\n",
       "<table border=\"1\" class=\"dataframe\">\n",
       "  <thead>\n",
       "    <tr style=\"text-align: right;\">\n",
       "      <th></th>\n",
       "      <th>0</th>\n",
       "      <th>1</th>\n",
       "      <th>2</th>\n",
       "      <th>3</th>\n",
       "      <th>4</th>\n",
       "      <th>5</th>\n",
       "      <th>6</th>\n",
       "      <th>7</th>\n",
       "      <th>8</th>\n",
       "      <th>9</th>\n",
       "      <th>...</th>\n",
       "      <th>1050</th>\n",
       "      <th>1051</th>\n",
       "      <th>1052</th>\n",
       "      <th>1053</th>\n",
       "      <th>1054</th>\n",
       "      <th>1055</th>\n",
       "      <th>1056</th>\n",
       "      <th>1057</th>\n",
       "      <th>1058</th>\n",
       "      <th>1059</th>\n",
       "    </tr>\n",
       "  </thead>\n",
       "  <tbody>\n",
       "    <tr>\n",
       "      <th>0</th>\n",
       "      <td>101562.0</td>\n",
       "      <td>101610.0</td>\n",
       "      <td>101655.0</td>\n",
       "      <td>101712.0</td>\n",
       "      <td>101762.0</td>\n",
       "      <td>101790.0</td>\n",
       "      <td>101810.0</td>\n",
       "      <td>101805.0</td>\n",
       "      <td>101787.0</td>\n",
       "      <td>101770.0</td>\n",
       "      <td>...</td>\n",
       "      <td>100540.0</td>\n",
       "      <td>100607.0</td>\n",
       "      <td>100637.0</td>\n",
       "      <td>100625.0</td>\n",
       "      <td>100585.0</td>\n",
       "      <td>100545.0</td>\n",
       "      <td>100505.0</td>\n",
       "      <td>100487.0</td>\n",
       "      <td>100487.0</td>\n",
       "      <td>100507.0</td>\n",
       "    </tr>\n",
       "    <tr>\n",
       "      <th>1</th>\n",
       "      <td>101545.0</td>\n",
       "      <td>101602.0</td>\n",
       "      <td>101632.0</td>\n",
       "      <td>101645.0</td>\n",
       "      <td>101672.0</td>\n",
       "      <td>101715.0</td>\n",
       "      <td>101775.0</td>\n",
       "      <td>101802.0</td>\n",
       "      <td>101812.0</td>\n",
       "      <td>101832.0</td>\n",
       "      <td>...</td>\n",
       "      <td>99840.0</td>\n",
       "      <td>99920.0</td>\n",
       "      <td>99977.0</td>\n",
       "      <td>100027.0</td>\n",
       "      <td>100070.0</td>\n",
       "      <td>100117.0</td>\n",
       "      <td>100185.0</td>\n",
       "      <td>100257.0</td>\n",
       "      <td>100327.0</td>\n",
       "      <td>100390.0</td>\n",
       "    </tr>\n",
       "    <tr>\n",
       "      <th>2</th>\n",
       "      <td>101577.0</td>\n",
       "      <td>101577.0</td>\n",
       "      <td>101557.0</td>\n",
       "      <td>101532.0</td>\n",
       "      <td>101527.0</td>\n",
       "      <td>101560.0</td>\n",
       "      <td>101627.0</td>\n",
       "      <td>101682.0</td>\n",
       "      <td>101745.0</td>\n",
       "      <td>101825.0</td>\n",
       "      <td>...</td>\n",
       "      <td>98940.0</td>\n",
       "      <td>98915.0</td>\n",
       "      <td>98867.0</td>\n",
       "      <td>98810.0</td>\n",
       "      <td>98780.0</td>\n",
       "      <td>98792.0</td>\n",
       "      <td>98872.0</td>\n",
       "      <td>99017.0</td>\n",
       "      <td>99210.0</td>\n",
       "      <td>99430.0</td>\n",
       "    </tr>\n",
       "    <tr>\n",
       "      <th>3</th>\n",
       "      <td>101665.0</td>\n",
       "      <td>101642.0</td>\n",
       "      <td>101602.0</td>\n",
       "      <td>101557.0</td>\n",
       "      <td>101522.0</td>\n",
       "      <td>101505.0</td>\n",
       "      <td>101522.0</td>\n",
       "      <td>101557.0</td>\n",
       "      <td>101595.0</td>\n",
       "      <td>101657.0</td>\n",
       "      <td>...</td>\n",
       "      <td>99912.0</td>\n",
       "      <td>99842.0</td>\n",
       "      <td>99732.0</td>\n",
       "      <td>99577.0</td>\n",
       "      <td>99397.0</td>\n",
       "      <td>99207.0</td>\n",
       "      <td>99040.0</td>\n",
       "      <td>98920.0</td>\n",
       "      <td>98860.0</td>\n",
       "      <td>98870.0</td>\n",
       "    </tr>\n",
       "    <tr>\n",
       "      <th>4</th>\n",
       "      <td>101700.0</td>\n",
       "      <td>101607.0</td>\n",
       "      <td>101532.0</td>\n",
       "      <td>101470.0</td>\n",
       "      <td>101432.0</td>\n",
       "      <td>101425.0</td>\n",
       "      <td>101455.0</td>\n",
       "      <td>101505.0</td>\n",
       "      <td>101565.0</td>\n",
       "      <td>101657.0</td>\n",
       "      <td>...</td>\n",
       "      <td>100375.0</td>\n",
       "      <td>100280.0</td>\n",
       "      <td>100167.0</td>\n",
       "      <td>100017.0</td>\n",
       "      <td>99845.0</td>\n",
       "      <td>99650.0</td>\n",
       "      <td>99445.0</td>\n",
       "      <td>99242.0</td>\n",
       "      <td>99050.0</td>\n",
       "      <td>98880.0</td>\n",
       "    </tr>\n",
       "  </tbody>\n",
       "</table>\n",
       "<p>5 rows × 1060 columns</p>\n",
       "</div>"
      ],
      "text/plain": [
       "       0         1         2         3         4         5         6     \\\n",
       "0  101562.0  101610.0  101655.0  101712.0  101762.0  101790.0  101810.0   \n",
       "1  101545.0  101602.0  101632.0  101645.0  101672.0  101715.0  101775.0   \n",
       "2  101577.0  101577.0  101557.0  101532.0  101527.0  101560.0  101627.0   \n",
       "3  101665.0  101642.0  101602.0  101557.0  101522.0  101505.0  101522.0   \n",
       "4  101700.0  101607.0  101532.0  101470.0  101432.0  101425.0  101455.0   \n",
       "\n",
       "       7         8         9       ...         1050      1051      1052  \\\n",
       "0  101805.0  101787.0  101770.0    ...     100540.0  100607.0  100637.0   \n",
       "1  101802.0  101812.0  101832.0    ...      99840.0   99920.0   99977.0   \n",
       "2  101682.0  101745.0  101825.0    ...      98940.0   98915.0   98867.0   \n",
       "3  101557.0  101595.0  101657.0    ...      99912.0   99842.0   99732.0   \n",
       "4  101505.0  101565.0  101657.0    ...     100375.0  100280.0  100167.0   \n",
       "\n",
       "       1053      1054      1055      1056      1057      1058      1059  \n",
       "0  100625.0  100585.0  100545.0  100505.0  100487.0  100487.0  100507.0  \n",
       "1  100027.0  100070.0  100117.0  100185.0  100257.0  100327.0  100390.0  \n",
       "2   98810.0   98780.0   98792.0   98872.0   99017.0   99210.0   99430.0  \n",
       "3   99577.0   99397.0   99207.0   99040.0   98920.0   98860.0   98870.0  \n",
       "4  100017.0   99845.0   99650.0   99445.0   99242.0   99050.0   98880.0  \n",
       "\n",
       "[5 rows x 1060 columns]"
      ]
     },
     "execution_count": 23,
     "metadata": {},
     "output_type": "execute_result"
    }
   ],
   "source": [
    "#CONVERT adata FROM NETCDF FILE TO DATAFRAME SO THAT SLP ANOMALIES CAN BE COMPUTED\n",
    "\n",
    "dA = pd.DataFrame(adata)\n",
    "\n",
    "#column-wise yearly mean for each dimension: dA.mean(axis=0) #shape (1060,)\n",
    "#SLP ANOMALY (normalize by mean over entire reference period)\n",
    "\n",
    "dA_yrAnom = dA.div(dA.mean(axis=0)) #shape (24800, 1060)\n",
    "\n",
    "dA.head(5)"
   ]
  },
  {
   "cell_type": "code",
   "execution_count": 24,
   "metadata": {
    "collapsed": false
   },
   "outputs": [],
   "source": [
    "#LOOK AT INDIVIDUAL IMAGES OF RAW SLP\n",
    "\n",
    "#SLP, RAW, IMAGE 0\n",
    "img_all = df.values[np.logical_not(np.isnan(df.values))].reshape(row,20,53)\n",
    "img_all.shape\n",
    "\n",
    "fig = figure(figsize=(10, 10))\n",
    "img1 = img_all[0]\n",
    "title('SLP RAW, IMG 0')\n",
    "plt.imshow(img1)\n",
    "plt.colorbar()\n",
    "plt.gca().invert_yaxis()\n",
    "#plt.gca().invert_xaxis()\n",
    "\n",
    "\n",
    "#Correct. Compare with http://webportals.ipsl.jussieu.fr/ScientificApps/dev/forge_cathy/analogues/maps2_run.php?command=fill/line/lev=%28-inf%29%28995,1025,5%29%28inf%29/color=1/pal=mpl_PSU_plasma/key&dateStart=01-JAN-1948&dateEnd=01-JAN-1948\n",
    "\n",
    "#SLP, RAW, IMAGE 20000\n",
    "#fig = figure(figsize=(10, 10))\n",
    "#title('SLP RAW, IMG 20000')\n",
    "#imgn = img_all[20000]\n",
    "#plt.imshow(imgn)\n",
    "#plt.colorbar()\n",
    "#plt.gca().invert_yaxis()\n",
    "#plt.show()"
   ]
  },
  {
   "cell_type": "code",
   "execution_count": 39,
   "metadata": {
    "collapsed": false
   },
   "outputs": [
    {
     "data": {
      "image/png": "[encoded data removed]",
      "text/plain": [
       "<matplotlib.figure.Figure at 0x7f6de6a50590>"
      ]
     },
     "metadata": {},
     "output_type": "display_data"
    }
   ],
   "source": []
  },
  {
   "cell_type": "code",
   "execution_count": 25,
   "metadata": {
    "collapsed": true
   },
   "outputs": [],
   "source": [
    "#LOOK AT INDIVIDUAL IMAGES OF SLP ANOMALY (NORMALIZED BY MEAN OVER REF PERIOD)\n",
    "\n",
    "fig = figure(figsize=(10, 10))\n",
    "img0 = dA_yrAnom.iloc[0,:].reshape(20,53)\n",
    "title('SLP YEARLY ANOMALY, IMG 1')\n",
    "plt.imshow(img0)\n",
    "plt.colorbar()\n",
    "plt.gca().invert_yaxis()\n",
    "\n",
    "fig = figure(figsize=(10, 10))\n",
    "img0 = dA_yrAnom.iloc[20000,:].reshape(20,53)\n",
    "title('SLP YEARLY ANOMALY, IMG 20000')\n",
    "plt.imshow(img0)\n",
    "plt.colorbar()\n",
    "plt.gca().invert_yaxis()"
   ]
  },
  {
   "cell_type": "code",
   "execution_count": 26,
   "metadata": {
    "collapsed": false
   },
   "outputs": [
    {
     "data": {
      "text/html": [
       "<div>\n",
       "<table border=\"1\" class=\"dataframe\">\n",
       "  <thead>\n",
       "    <tr style=\"text-align: right;\">\n",
       "      <th></th>\n",
       "      <th>0</th>\n",
       "      <th>1</th>\n",
       "      <th>2</th>\n",
       "      <th>3</th>\n",
       "      <th>4</th>\n",
       "      <th>5</th>\n",
       "      <th>6</th>\n",
       "      <th>7</th>\n",
       "      <th>8</th>\n",
       "      <th>9</th>\n",
       "      <th>...</th>\n",
       "      <th>1050</th>\n",
       "      <th>1051</th>\n",
       "      <th>1052</th>\n",
       "      <th>1053</th>\n",
       "      <th>1054</th>\n",
       "      <th>1055</th>\n",
       "      <th>1056</th>\n",
       "      <th>1057</th>\n",
       "      <th>1058</th>\n",
       "      <th>1059</th>\n",
       "    </tr>\n",
       "  </thead>\n",
       "  <tbody>\n",
       "    <tr>\n",
       "      <th>152</th>\n",
       "      <td>101097.0</td>\n",
       "      <td>101172.0</td>\n",
       "      <td>101267.0</td>\n",
       "      <td>101317.0</td>\n",
       "      <td>101332.0</td>\n",
       "      <td>101375.0</td>\n",
       "      <td>101482.0</td>\n",
       "      <td>101575.0</td>\n",
       "      <td>101632.0</td>\n",
       "      <td>101700.0</td>\n",
       "      <td>...</td>\n",
       "      <td>102170.0</td>\n",
       "      <td>102192.0</td>\n",
       "      <td>102207.0</td>\n",
       "      <td>102212.0</td>\n",
       "      <td>102217.0</td>\n",
       "      <td>102222.0</td>\n",
       "      <td>102227.0</td>\n",
       "      <td>102222.0</td>\n",
       "      <td>102207.0</td>\n",
       "      <td>102175.0</td>\n",
       "    </tr>\n",
       "    <tr>\n",
       "      <th>153</th>\n",
       "      <td>101177.0</td>\n",
       "      <td>101267.0</td>\n",
       "      <td>101335.0</td>\n",
       "      <td>101360.0</td>\n",
       "      <td>101365.0</td>\n",
       "      <td>101420.0</td>\n",
       "      <td>101535.0</td>\n",
       "      <td>101650.0</td>\n",
       "      <td>101735.0</td>\n",
       "      <td>101817.0</td>\n",
       "      <td>...</td>\n",
       "      <td>101645.0</td>\n",
       "      <td>101667.0</td>\n",
       "      <td>101675.0</td>\n",
       "      <td>101682.0</td>\n",
       "      <td>101685.0</td>\n",
       "      <td>101692.0</td>\n",
       "      <td>101710.0</td>\n",
       "      <td>101745.0</td>\n",
       "      <td>101782.0</td>\n",
       "      <td>101812.0</td>\n",
       "    </tr>\n",
       "    <tr>\n",
       "      <th>154</th>\n",
       "      <td>101145.0</td>\n",
       "      <td>101182.0</td>\n",
       "      <td>101247.0</td>\n",
       "      <td>101297.0</td>\n",
       "      <td>101352.0</td>\n",
       "      <td>101440.0</td>\n",
       "      <td>101550.0</td>\n",
       "      <td>101637.0</td>\n",
       "      <td>101720.0</td>\n",
       "      <td>101820.0</td>\n",
       "      <td>...</td>\n",
       "      <td>101487.0</td>\n",
       "      <td>101580.0</td>\n",
       "      <td>101660.0</td>\n",
       "      <td>101725.0</td>\n",
       "      <td>101770.0</td>\n",
       "      <td>101787.0</td>\n",
       "      <td>101795.0</td>\n",
       "      <td>101795.0</td>\n",
       "      <td>101792.0</td>\n",
       "      <td>101782.0</td>\n",
       "    </tr>\n",
       "    <tr>\n",
       "      <th>155</th>\n",
       "      <td>101310.0</td>\n",
       "      <td>101352.0</td>\n",
       "      <td>101405.0</td>\n",
       "      <td>101430.0</td>\n",
       "      <td>101442.0</td>\n",
       "      <td>101480.0</td>\n",
       "      <td>101555.0</td>\n",
       "      <td>101622.0</td>\n",
       "      <td>101677.0</td>\n",
       "      <td>101747.0</td>\n",
       "      <td>...</td>\n",
       "      <td>101110.0</td>\n",
       "      <td>101317.0</td>\n",
       "      <td>101520.0</td>\n",
       "      <td>101705.0</td>\n",
       "      <td>101857.0</td>\n",
       "      <td>101977.0</td>\n",
       "      <td>102062.0</td>\n",
       "      <td>102117.0</td>\n",
       "      <td>102147.0</td>\n",
       "      <td>102155.0</td>\n",
       "    </tr>\n",
       "    <tr>\n",
       "      <th>156</th>\n",
       "      <td>101370.0</td>\n",
       "      <td>101390.0</td>\n",
       "      <td>101412.0</td>\n",
       "      <td>101435.0</td>\n",
       "      <td>101482.0</td>\n",
       "      <td>101537.0</td>\n",
       "      <td>101592.0</td>\n",
       "      <td>101657.0</td>\n",
       "      <td>101747.0</td>\n",
       "      <td>101845.0</td>\n",
       "      <td>...</td>\n",
       "      <td>100985.0</td>\n",
       "      <td>101050.0</td>\n",
       "      <td>101150.0</td>\n",
       "      <td>101270.0</td>\n",
       "      <td>101415.0</td>\n",
       "      <td>101565.0</td>\n",
       "      <td>101700.0</td>\n",
       "      <td>101815.0</td>\n",
       "      <td>101895.0</td>\n",
       "      <td>101940.0</td>\n",
       "    </tr>\n",
       "  </tbody>\n",
       "</table>\n",
       "<p>5 rows × 1060 columns</p>\n",
       "</div>"
      ],
      "text/plain": [
       "         0         1         2         3         4         5         6     \\\n",
       "152  101097.0  101172.0  101267.0  101317.0  101332.0  101375.0  101482.0   \n",
       "153  101177.0  101267.0  101335.0  101360.0  101365.0  101420.0  101535.0   \n",
       "154  101145.0  101182.0  101247.0  101297.0  101352.0  101440.0  101550.0   \n",
       "155  101310.0  101352.0  101405.0  101430.0  101442.0  101480.0  101555.0   \n",
       "156  101370.0  101390.0  101412.0  101435.0  101482.0  101537.0  101592.0   \n",
       "\n",
       "         7         8         9       ...         1050      1051      1052  \\\n",
       "152  101575.0  101632.0  101700.0    ...     102170.0  102192.0  102207.0   \n",
       "153  101650.0  101735.0  101817.0    ...     101645.0  101667.0  101675.0   \n",
       "154  101637.0  101720.0  101820.0    ...     101487.0  101580.0  101660.0   \n",
       "155  101622.0  101677.0  101747.0    ...     101110.0  101317.0  101520.0   \n",
       "156  101657.0  101747.0  101845.0    ...     100985.0  101050.0  101150.0   \n",
       "\n",
       "         1053      1054      1055      1056      1057      1058      1059  \n",
       "152  102212.0  102217.0  102222.0  102227.0  102222.0  102207.0  102175.0  \n",
       "153  101682.0  101685.0  101692.0  101710.0  101745.0  101782.0  101812.0  \n",
       "154  101725.0  101770.0  101787.0  101795.0  101795.0  101792.0  101782.0  \n",
       "155  101705.0  101857.0  101977.0  102062.0  102117.0  102147.0  102155.0  \n",
       "156  101270.0  101415.0  101565.0  101700.0  101815.0  101895.0  101940.0  \n",
       "\n",
       "[5 rows x 1060 columns]"
      ]
     },
     "execution_count": 26,
     "metadata": {},
     "output_type": "execute_result"
    }
   ],
   "source": [
    "#ADD SEASON TO ANOMALY DF TO CALCULATE SEASONAL ANOMALIES\n",
    "\n",
    "dA['Season'] = season\n",
    "dA_DJF = dA.loc[dA['Season'] == 1] #shape (6106, 1061)\n",
    "dA_MAM = dA.loc[dA['Season'] == 2] #shape (6256, 1061)\n",
    "dA_JJA = dA.loc[dA['Season'] == 3] #shape (6256, 1061)\n",
    "dA_SON = dA.loc[dA['Season'] == 4] #shape (6182, 1061)\n",
    "\n",
    "dA_DJF = dA_DJF.drop(['Season'], 1)\n",
    "dA_MAM = dA_MAM.drop(['Season'], 1)\n",
    "dA_JJA = dA_JJA.drop(['Season'], 1)\n",
    "dA_SON = dA_SON.drop(['Season'], 1)\n",
    "\n",
    "#column-wise seasonal mean for each dimension: dA_DJF.mean(axis=0) #shape (1060,)\n",
    "\n",
    "#seasonal SLP anomaly\n",
    "dA_DJFAnom = dA_DJF.div(dA_DJF.mean(axis=0)) #shape (24800, 1060)\n",
    "dA_MAMAnom = dA_MAM.div(dA_MAM.mean(axis=0)) #shape (24800, 1060)\n",
    "dA_JJAAnom = dA_JJA.div(dA_JJA.mean(axis=0)) #shape (24800, 1060)\n",
    "dA_SONAnom = dA_SON.div(dA_SON.mean(axis=0)) #shape (24800, 1060)\n",
    "\n",
    "dA_JJA.head(5)"
   ]
  },
  {
   "cell_type": "code",
   "execution_count": 27,
   "metadata": {
    "collapsed": false
   },
   "outputs": [],
   "source": [
    "#LOOK AT INDIVIDUAL IMAGES OF DJF SLP ANOMALY\n",
    "\n",
    "fig = figure(figsize=(10, 10))\n",
    "img0 = dA_DJFAnom.iloc[0,:].reshape(20,53)\n",
    "title('SLP DJF ANOMALY, IMG 1')\n",
    "plt.imshow(img0)\n",
    "plt.colorbar()\n",
    "plt.gca().invert_yaxis()"
   ]
  },
  {
   "cell_type": "code",
   "execution_count": 28,
   "metadata": {
    "collapsed": true
   },
   "outputs": [],
   "source": [
    "# Plotting function\n",
    "\n",
    "def plot_mnist(X, y, X_embedded, name, min_dist=10.0):\n",
    "    fig = figure(figsize=(10, 10))\n",
    "    ax = axes(frameon=True)\n",
    "    subplots_adjust(left=0.0, bottom=0.0, right=1.0, top=0.9,\n",
    "                    wspace=0.0, hspace=0.0)\n",
    "    scatter(X_embedded[:, 0], X_embedded[:, 1],\n",
    "            c=y, marker=\"x\")"
   ]
  },
  {
   "cell_type": "code",
   "execution_count": 29,
   "metadata": {
    "collapsed": false
   },
   "outputs": [],
   "source": [
    "#Define arrays for tSNE calculation\n",
    "#X, y = mnist.data / 255.0, mnist.target #data, labels\n",
    "\n",
    "X = adata #24800 x 1060\n",
    "y = season #24800 x 1"
   ]
  },
  {
   "cell_type": "code",
   "execution_count": 30,
   "metadata": {
    "collapsed": false
   },
   "outputs": [],
   "source": [
    "# Create subset and reduce to first 50 dimensions using PCA\n",
    "indices = np.arange(X.shape[0])\n",
    "np.random.shuffle(indices)\n",
    "n_train_samples = 5000\n",
    "\n",
    "X_pca = PCA(n_components=50).fit_transform(X) #shape (6256, 50)\n",
    "X_train = X_pca[indices[:n_train_samples]] #shape (5000, 50)\n",
    "y_train = y[indices[:n_train_samples]] #shape (5000,)\n",
    "y_train_archivePeriod = archivePeriod[indices[:n_train_samples]]\n",
    "y_train_decade = decade[indices[:n_train_samples]]"
   ]
  },
  {
   "cell_type": "code",
   "execution_count": 42,
   "metadata": {
    "collapsed": false
   },
   "outputs": [
    {
     "name": "stdout",
     "output_type": "stream",
     "text": [
      "[t-SNE] Computing pairwise distances...\n",
      "[t-SNE] Computing 121 nearest neighbors...\n",
      "[t-SNE] Computed conditional probabilities for sample 1000 / 5000\n",
      "[t-SNE] Computed conditional probabilities for sample 2000 / 5000\n",
      "[t-SNE] Computed conditional probabilities for sample 3000 / 5000\n",
      "[t-SNE] Computed conditional probabilities for sample 4000 / 5000\n",
      "[t-SNE] Computed conditional probabilities for sample 5000 / 5000\n",
      "[t-SNE] Mean sigma: 6400.609346\n",
      "[t-SNE] Iteration 25: error = 1.6653107, gradient norm = 0.0094800\n",
      "[t-SNE] Iteration 50: error = 1.6304889, gradient norm = 0.0054831\n",
      "[t-SNE] Iteration 75: error = 1.5221460, gradient norm = 0.0018386\n",
      "[t-SNE] Iteration 100: error = 1.4981953, gradient norm = 0.0015117\n",
      "[t-SNE] Error after 100 iterations with early exaggeration: 1.498195\n",
      "[t-SNE] Iteration 125: error = 1.4572191, gradient norm = 0.0011271\n",
      "[t-SNE] Iteration 150: error = 1.4436326, gradient norm = 0.0010503\n",
      "[t-SNE] Iteration 175: error = 1.4400251, gradient norm = 0.0010362\n",
      "[t-SNE] Iteration 200: error = 1.4390403, gradient norm = 0.0010318\n",
      "[t-SNE] Iteration 225: error = 1.4387625, gradient norm = 0.0010304\n",
      "[t-SNE] Iteration 250: error = 1.4386886, gradient norm = 0.0010301\n",
      "[t-SNE] Iteration 275: error = 1.4386662, gradient norm = 0.0010300\n",
      "[t-SNE] Iteration 300: error = 1.4386612, gradient norm = 0.0010300\n",
      "[t-SNE] Iteration 300: error difference 0.000000. Finished.\n",
      "[t-SNE] Error after 300 iterations: 1.438661\n"
     ]
    }
   ],
   "source": [
    "#RUN TSNE ON SUBSET OF 5000 PTS\n",
    "X_train_embedded = TSNE(n_components=2, perplexity=40, verbose=2).fit_transform(X_train) #shape (5000, 2)"
   ]
  },
  {
   "cell_type": "code",
   "execution_count": null,
   "metadata": {
    "collapsed": true
   },
   "outputs": [],
   "source": [
    "#RUN TSNE ON SLP DATA\n",
    "\n",
    "#Use all datapoints\n",
    "#NB: do this in ipython, not this notebook!\n",
    "\n",
    "X_pca = PCA(n_components=50).fit_transform(X)\n",
    "X_all = X_pca\n",
    "y_all = season\n",
    "X_all_embedded = TSNE(n_components=2, perplexity=40, verbose=2).fit_transform(X_all)\n",
    "\n",
    "#plot\n",
    "plot_mnist(X_all, y_all, X_all_embedded,\"t-SNE\", min_dist=20.0)"
   ]
  },
  {
   "cell_type": "code",
   "execution_count": 59,
   "metadata": {
    "collapsed": false
   },
   "outputs": [],
   "source": [
    "PCA?"
   ]
  },
  {
   "cell_type": "code",
   "execution_count": 55,
   "metadata": {
    "collapsed": false
   },
   "outputs": [
    {
     "data": {
      "text/plain": [
       "array([[ -7420.7080092 ,  -4305.19141059,  14974.62887328, ...,\n",
       "          -391.38305061,    437.95008601,    512.46037524],\n",
       "       [-11816.9267341 ,  -3571.02457268,  18446.99416837, ...,\n",
       "            43.59252083,    195.53888726,   -694.12622965],\n",
       "       [-14373.11920892, -13806.26331781,  13346.79338354, ...,\n",
       "          -135.62699498,   1305.38092886,    625.05674655],\n",
       "       ..., \n",
       "       [  1301.80097621, -11563.32046377, -15686.41235909, ...,\n",
       "          1205.53925954,   -873.96108598,    641.41276867],\n",
       "       [-10769.43326729,  -4677.49964874, -18093.52331202, ...,\n",
       "          1402.00265462,    -27.80190372,    646.57706237],\n",
       "       [-15999.62146418,  -7938.28753617, -14290.06313911, ...,\n",
       "          -340.14299184,    301.11507762,   -581.61854008]])"
      ]
     },
     "execution_count": 55,
     "metadata": {},
     "output_type": "execute_result"
    }
   ],
   "source": [
    "X_all"
   ]
  },
  {
   "cell_type": "code",
   "execution_count": 58,
   "metadata": {
    "collapsed": true
   },
   "outputs": [],
   "source": [
    "# Save to file\n",
    "#filename = '/home/nils/data/cathy/tsne_scikitlearn_analogues_allpts.npy'\n",
    "#np.save(filename, X_all_embedded)\n",
    "\n",
    " \n",
    "# Read from file\n",
    "X_tsne = np.load(filename) #shape (24800, 2)\n",
    "\n",
    "plot_mnist(X_all, y_all, X_tsne,\"t-SNE\", min_dist=20.0)"
   ]
  },
  {
   "cell_type": "code",
   "execution_count": 50,
   "metadata": {
    "collapsed": false
   },
   "outputs": [],
   "source": []
  },
  {
   "cell_type": "code",
   "execution_count": 40,
   "metadata": {
    "collapsed": true
   },
   "outputs": [],
   "source": [
    "#RUN TSNE ON YEARLY SLP ANOMALIES\n",
    "#X_yrAnom = dA_yrAnom.values #24800 x 1060\n",
    "label_season = season #24800 x 1\n",
    "\n",
    "#performed in ipython\n",
    "\n",
    "#### ##########\n",
    "###  RUN it with kmeans clustering --> sklearn.cluster.KMeans\n",
    "#### ##########\n",
    "\n",
    "#X_yrAnom_pca = PCA(n_components=50).fit_transform(X_yrAnom)\n",
    "#X_yrAnom_tsne = TSNE(n_components=2, perplexity=40, verbose=2).fit_transform(X_yrAnom)\n",
    "\n",
    "\n",
    "#[t-SNE] Computing pairwise distances...\n",
    "#[t-SNE] Computing 121 nearest neighbors...\n",
    "#[t-SNE] Computed conditional probabilities for sample 1000 / 24800\n",
    "#[t-SNE] Computed conditional probabilities for sample 2000 / 24800\n",
    "#[t-SNE] Computed conditional probabilities for sample 3000 / 24800\n",
    "#[t-SNE] Computed conditional probabilities for sample 4000 / 24800\n",
    "#[t-SNE] Computed conditional probabilities for sample 5000 / 24800\n",
    "#[t-SNE] Computed conditional probabilities for sample 6000 / 24800\n",
    "#[t-SNE] Computed conditional probabilities for sample 7000 / 24800\n",
    "#[t-SNE] Computed conditional probabilities for sample 8000 / 24800\n",
    "#[t-SNE] Computed conditional probabilities for sample 9000 / 24800\n",
    "#[t-SNE] Computed conditional probabilities for sample 10000 / 24800\n",
    "#[t-SNE] Computed conditional probabilities for sample 11000 / 24800\n",
    "#[t-SNE] Computed conditional probabilities for sample 12000 / 24800\n",
    "#[t-SNE] Computed conditional probabilities for sample 13000 / 24800\n",
    "#[t-SNE] Computed conditional probabilities for sample 14000 / 24800\n",
    "#[t-SNE] Computed conditional probabilities for sample 15000 / 24800\n",
    "#[t-SNE] Computed conditional probabilities for sample 16000 / 24800\n",
    "#[t-SNE] Computed conditional probabilities for sample 17000 / 24800\n",
    "#[t-SNE] Computed conditional probabilities for sample 18000 / 24800\n",
    "#[t-SNE] Computed conditional probabilities for sample 19000 / 24800\n",
    "#[t-SNE] Computed conditional probabilities for sample 20000 / 24800\n",
    "#[t-SNE] Computed conditional probabilities for sample 21000 / 24800\n",
    "#[t-SNE] Computed conditional probabilities for sample 22000 / 24800\n",
    "#[t-SNE] Computed conditional probabilities for sample 23000 / 24800\n",
    "#[t-SNE] Computed conditional probabilities for sample 24000 / 24800\n",
    "#[t-SNE] Computed conditional probabilities for sample 24800 / 24800\n",
    "#[t-SNE] Mean sigma: 0.067055\n",
    "#[t-SNE] Iteration 25: error = 0.8297511, gradient norm = 0.0000106\n",
    "#[t-SNE] Iteration 25: gradient norm 0.000011. Finished.\n",
    "#[t-SNE] Iteration 50: error = 0.8297430, gradient norm = 0.0007347\n",
    "#[t-SNE] Iteration 50: gradient norm 0.000735. Finished.\n",
    "#[t-SNE] Error after 50 iterations with early exaggeration: 0.829743\n",
    "#[t-SNE] Iteration 75: error = 0.8283891, gradient norm = 0.0033106\n",
    "#[t-SNE] Iteration 100: error = 0.8274307, gradient norm = 0.0025482\n",
    "#[t-SNE] Iteration 125: error = 0.8271999, gradient norm = 0.0024152\n",
    "#[t-SNE] Iteration 150: error = 0.8271373, gradient norm = 0.0023812\n",
    "#[t-SNE] Iteration 175: error = 0.8271213, gradient norm = 0.0023721\n",
    "#[t-SNE] Iteration 200: error = 0.8271173, gradient norm = 0.0023697\n",
    "#[t-SNE] Iteration 200: error difference 0.000000. Finished.\n",
    "#[t-SNE] Error after 200 iterations: 0.827117\n",
    "\n",
    "#filename = '/home/nils/data/cathy/tsne_yrAnom.npy'\n",
    "#np.save(filename, X_yrAnom_tsne)\n",
    "\n",
    "# Load TSNE results from file\n",
    "X_yrAnom_tsne = np.load(filename) #shape (24800, 2)"
   ]
  },
  {
   "cell_type": "code",
   "execution_count": 43,
   "metadata": {
    "collapsed": false
   },
   "outputs": [
    {
     "ename": "ValueError",
     "evalue": "Color array must be two-dimensional",
     "output_type": "error",
     "traceback": [
      "\u001b[1;31m---------------------------------------------------------------------------\u001b[0m",
      "\u001b[1;31mValueError\u001b[0m                                Traceback (most recent call last)",
      "\u001b[1;32m<ipython-input-43-958cfcaca653>\u001b[0m in \u001b[0;36m<module>\u001b[1;34m()\u001b[0m\n\u001b[0;32m      6\u001b[0m \u001b[0max\u001b[0m \u001b[1;33m=\u001b[0m \u001b[0maxes\u001b[0m\u001b[1;33m(\u001b[0m\u001b[0mframeon\u001b[0m\u001b[1;33m=\u001b[0m\u001b[0mTrue\u001b[0m\u001b[1;33m)\u001b[0m\u001b[1;33m\u001b[0m\u001b[0m\n\u001b[0;32m      7\u001b[0m \u001b[0mtitle\u001b[0m\u001b[1;33m(\u001b[0m\u001b[1;34m\"TSNE with PCA reduction on yearly SLP anomalies\"\u001b[0m\u001b[1;33m)\u001b[0m\u001b[1;33m\u001b[0m\u001b[0m\n\u001b[1;32m----> 8\u001b[1;33m \u001b[0mscatter\u001b[0m\u001b[1;33m(\u001b[0m\u001b[0mX_yrAnom_tsne\u001b[0m\u001b[1;33m[\u001b[0m\u001b[1;33m:\u001b[0m\u001b[1;33m,\u001b[0m \u001b[1;36m0\u001b[0m\u001b[1;33m]\u001b[0m\u001b[1;33m,\u001b[0m \u001b[0mX_yrAnom_tsne\u001b[0m\u001b[1;33m[\u001b[0m\u001b[1;33m:\u001b[0m\u001b[1;33m,\u001b[0m \u001b[1;36m1\u001b[0m\u001b[1;33m]\u001b[0m\u001b[1;33m,\u001b[0m \u001b[0mc\u001b[0m\u001b[1;33m=\u001b[0m\u001b[0mlabel_season\u001b[0m\u001b[1;33m,\u001b[0m \u001b[0mmarker\u001b[0m\u001b[1;33m=\u001b[0m\u001b[1;34m\"x\"\u001b[0m\u001b[1;33m)\u001b[0m\u001b[1;33m\u001b[0m\u001b[0m\n\u001b[0m\u001b[0;32m      9\u001b[0m \u001b[1;31m#scatter(X_tsne[:, 0], X_tsne[:, 1], c=season, marker=\"x\") #RAW SLP DATA, NOT ANOMALIES\u001b[0m\u001b[1;33m\u001b[0m\u001b[1;33m\u001b[0m\u001b[0m\n\u001b[0;32m     10\u001b[0m \u001b[0mcolorbar\u001b[0m\u001b[1;33m(\u001b[0m\u001b[0mticks\u001b[0m\u001b[1;33m=\u001b[0m\u001b[0mrange\u001b[0m\u001b[1;33m(\u001b[0m\u001b[1;36m4\u001b[0m\u001b[1;33m)\u001b[0m\u001b[1;33m)\u001b[0m\u001b[1;33m\u001b[0m\u001b[0m\n",
      "\u001b[1;32m/home/nils/.conda/envs/birdhouse/lib/python2.7/site-packages/matplotlib/pyplot.pyc\u001b[0m in \u001b[0;36mscatter\u001b[1;34m(x, y, s, c, marker, cmap, norm, vmin, vmax, alpha, linewidths, verts, edgecolors, hold, data, **kwargs)\u001b[0m\n\u001b[0;32m   3249\u001b[0m                          \u001b[0mvmin\u001b[0m\u001b[1;33m=\u001b[0m\u001b[0mvmin\u001b[0m\u001b[1;33m,\u001b[0m \u001b[0mvmax\u001b[0m\u001b[1;33m=\u001b[0m\u001b[0mvmax\u001b[0m\u001b[1;33m,\u001b[0m \u001b[0malpha\u001b[0m\u001b[1;33m=\u001b[0m\u001b[0malpha\u001b[0m\u001b[1;33m,\u001b[0m\u001b[1;33m\u001b[0m\u001b[0m\n\u001b[0;32m   3250\u001b[0m                          \u001b[0mlinewidths\u001b[0m\u001b[1;33m=\u001b[0m\u001b[0mlinewidths\u001b[0m\u001b[1;33m,\u001b[0m \u001b[0mverts\u001b[0m\u001b[1;33m=\u001b[0m\u001b[0mverts\u001b[0m\u001b[1;33m,\u001b[0m\u001b[1;33m\u001b[0m\u001b[0m\n\u001b[1;32m-> 3251\u001b[1;33m                          edgecolors=edgecolors, data=data, **kwargs)\n\u001b[0m\u001b[0;32m   3252\u001b[0m     \u001b[1;32mfinally\u001b[0m\u001b[1;33m:\u001b[0m\u001b[1;33m\u001b[0m\u001b[0m\n\u001b[0;32m   3253\u001b[0m         \u001b[0max\u001b[0m\u001b[1;33m.\u001b[0m\u001b[0mhold\u001b[0m\u001b[1;33m(\u001b[0m\u001b[0mwashold\u001b[0m\u001b[1;33m)\u001b[0m\u001b[1;33m\u001b[0m\u001b[0m\n",
      "\u001b[1;32m/home/nils/.conda/envs/birdhouse/lib/python2.7/site-packages/matplotlib/__init__.pyc\u001b[0m in \u001b[0;36minner\u001b[1;34m(ax, *args, **kwargs)\u001b[0m\n\u001b[0;32m   1810\u001b[0m                     warnings.warn(msg % (label_namer, func.__name__),\n\u001b[0;32m   1811\u001b[0m                                   RuntimeWarning, stacklevel=2)\n\u001b[1;32m-> 1812\u001b[1;33m             \u001b[1;32mreturn\u001b[0m \u001b[0mfunc\u001b[0m\u001b[1;33m(\u001b[0m\u001b[0max\u001b[0m\u001b[1;33m,\u001b[0m \u001b[1;33m*\u001b[0m\u001b[0margs\u001b[0m\u001b[1;33m,\u001b[0m \u001b[1;33m**\u001b[0m\u001b[0mkwargs\u001b[0m\u001b[1;33m)\u001b[0m\u001b[1;33m\u001b[0m\u001b[0m\n\u001b[0m\u001b[0;32m   1813\u001b[0m         \u001b[0mpre_doc\u001b[0m \u001b[1;33m=\u001b[0m \u001b[0minner\u001b[0m\u001b[1;33m.\u001b[0m\u001b[0m__doc__\u001b[0m\u001b[1;33m\u001b[0m\u001b[0m\n\u001b[0;32m   1814\u001b[0m         \u001b[1;32mif\u001b[0m \u001b[0mpre_doc\u001b[0m \u001b[1;32mis\u001b[0m \u001b[0mNone\u001b[0m\u001b[1;33m:\u001b[0m\u001b[1;33m\u001b[0m\u001b[0m\n",
      "\u001b[1;32m/home/nils/.conda/envs/birdhouse/lib/python2.7/site-packages/matplotlib/axes/_axes.pyc\u001b[0m in \u001b[0;36mscatter\u001b[1;34m(self, x, y, s, c, marker, cmap, norm, vmin, vmax, alpha, linewidths, verts, edgecolors, **kwargs)\u001b[0m\n\u001b[0;32m   3891\u001b[0m                 \u001b[0moffsets\u001b[0m\u001b[1;33m=\u001b[0m\u001b[0moffsets\u001b[0m\u001b[1;33m,\u001b[0m\u001b[1;33m\u001b[0m\u001b[0m\n\u001b[0;32m   3892\u001b[0m                 \u001b[0mtransOffset\u001b[0m\u001b[1;33m=\u001b[0m\u001b[0mkwargs\u001b[0m\u001b[1;33m.\u001b[0m\u001b[0mpop\u001b[0m\u001b[1;33m(\u001b[0m\u001b[1;34m'transform'\u001b[0m\u001b[1;33m,\u001b[0m \u001b[0mself\u001b[0m\u001b[1;33m.\u001b[0m\u001b[0mtransData\u001b[0m\u001b[1;33m)\u001b[0m\u001b[1;33m,\u001b[0m\u001b[1;33m\u001b[0m\u001b[0m\n\u001b[1;32m-> 3893\u001b[1;33m                 \u001b[0malpha\u001b[0m\u001b[1;33m=\u001b[0m\u001b[0malpha\u001b[0m\u001b[1;33m\u001b[0m\u001b[0m\n\u001b[0m\u001b[0;32m   3894\u001b[0m                 )\n\u001b[0;32m   3895\u001b[0m         \u001b[0mcollection\u001b[0m\u001b[1;33m.\u001b[0m\u001b[0mset_transform\u001b[0m\u001b[1;33m(\u001b[0m\u001b[0mmtransforms\u001b[0m\u001b[1;33m.\u001b[0m\u001b[0mIdentityTransform\u001b[0m\u001b[1;33m(\u001b[0m\u001b[1;33m)\u001b[0m\u001b[1;33m)\u001b[0m\u001b[1;33m\u001b[0m\u001b[0m\n",
      "\u001b[1;32m/home/nils/.conda/envs/birdhouse/lib/python2.7/site-packages/matplotlib/collections.pyc\u001b[0m in \u001b[0;36m__init__\u001b[1;34m(self, paths, sizes, **kwargs)\u001b[0m\n\u001b[0;32m    829\u001b[0m         \"\"\"\n\u001b[0;32m    830\u001b[0m \u001b[1;33m\u001b[0m\u001b[0m\n\u001b[1;32m--> 831\u001b[1;33m         \u001b[0mCollection\u001b[0m\u001b[1;33m.\u001b[0m\u001b[0m__init__\u001b[0m\u001b[1;33m(\u001b[0m\u001b[0mself\u001b[0m\u001b[1;33m,\u001b[0m \u001b[1;33m**\u001b[0m\u001b[0mkwargs\u001b[0m\u001b[1;33m)\u001b[0m\u001b[1;33m\u001b[0m\u001b[0m\n\u001b[0m\u001b[0;32m    832\u001b[0m         \u001b[0mself\u001b[0m\u001b[1;33m.\u001b[0m\u001b[0mset_paths\u001b[0m\u001b[1;33m(\u001b[0m\u001b[0mpaths\u001b[0m\u001b[1;33m)\u001b[0m\u001b[1;33m\u001b[0m\u001b[0m\n\u001b[0;32m    833\u001b[0m         \u001b[0mself\u001b[0m\u001b[1;33m.\u001b[0m\u001b[0mset_sizes\u001b[0m\u001b[1;33m(\u001b[0m\u001b[0msizes\u001b[0m\u001b[1;33m)\u001b[0m\u001b[1;33m\u001b[0m\u001b[0m\n",
      "\u001b[1;32m/home/nils/.conda/envs/birdhouse/lib/python2.7/site-packages/matplotlib/collections.pyc\u001b[0m in \u001b[0;36m__init__\u001b[1;34m(self, edgecolors, facecolors, linewidths, linestyles, antialiaseds, offsets, transOffset, norm, cmap, pickradius, hatch, urls, offset_position, zorder, **kwargs)\u001b[0m\n\u001b[0;32m    115\u001b[0m \u001b[1;33m\u001b[0m\u001b[0m\n\u001b[0;32m    116\u001b[0m         \u001b[0mself\u001b[0m\u001b[1;33m.\u001b[0m\u001b[0mset_edgecolor\u001b[0m\u001b[1;33m(\u001b[0m\u001b[0medgecolors\u001b[0m\u001b[1;33m)\u001b[0m\u001b[1;33m\u001b[0m\u001b[0m\n\u001b[1;32m--> 117\u001b[1;33m         \u001b[0mself\u001b[0m\u001b[1;33m.\u001b[0m\u001b[0mset_facecolor\u001b[0m\u001b[1;33m(\u001b[0m\u001b[0mfacecolors\u001b[0m\u001b[1;33m)\u001b[0m\u001b[1;33m\u001b[0m\u001b[0m\n\u001b[0m\u001b[0;32m    118\u001b[0m         \u001b[0mself\u001b[0m\u001b[1;33m.\u001b[0m\u001b[0mset_linewidth\u001b[0m\u001b[1;33m(\u001b[0m\u001b[0mlinewidths\u001b[0m\u001b[1;33m)\u001b[0m\u001b[1;33m\u001b[0m\u001b[0m\n\u001b[0;32m    119\u001b[0m         \u001b[0mself\u001b[0m\u001b[1;33m.\u001b[0m\u001b[0mset_linestyle\u001b[0m\u001b[1;33m(\u001b[0m\u001b[0mlinestyles\u001b[0m\u001b[1;33m)\u001b[0m\u001b[1;33m\u001b[0m\u001b[0m\n",
      "\u001b[1;32m/home/nils/.conda/envs/birdhouse/lib/python2.7/site-packages/matplotlib/collections.pyc\u001b[0m in \u001b[0;36mset_facecolor\u001b[1;34m(self, c)\u001b[0m\n\u001b[0;32m    610\u001b[0m             \u001b[0mc\u001b[0m \u001b[1;33m=\u001b[0m \u001b[0mmpl\u001b[0m\u001b[1;33m.\u001b[0m\u001b[0mrcParams\u001b[0m\u001b[1;33m[\u001b[0m\u001b[1;34m'patch.facecolor'\u001b[0m\u001b[1;33m]\u001b[0m\u001b[1;33m\u001b[0m\u001b[0m\n\u001b[0;32m    611\u001b[0m         \u001b[0mself\u001b[0m\u001b[1;33m.\u001b[0m\u001b[0m_facecolors_original\u001b[0m \u001b[1;33m=\u001b[0m \u001b[0mc\u001b[0m\u001b[1;33m\u001b[0m\u001b[0m\n\u001b[1;32m--> 612\u001b[1;33m         \u001b[0mself\u001b[0m\u001b[1;33m.\u001b[0m\u001b[0m_facecolors\u001b[0m \u001b[1;33m=\u001b[0m \u001b[0mmcolors\u001b[0m\u001b[1;33m.\u001b[0m\u001b[0mcolorConverter\u001b[0m\u001b[1;33m.\u001b[0m\u001b[0mto_rgba_array\u001b[0m\u001b[1;33m(\u001b[0m\u001b[0mc\u001b[0m\u001b[1;33m,\u001b[0m \u001b[0mself\u001b[0m\u001b[1;33m.\u001b[0m\u001b[0m_alpha\u001b[0m\u001b[1;33m)\u001b[0m\u001b[1;33m\u001b[0m\u001b[0m\n\u001b[0m\u001b[0;32m    613\u001b[0m         \u001b[0mself\u001b[0m\u001b[1;33m.\u001b[0m\u001b[0mstale\u001b[0m \u001b[1;33m=\u001b[0m \u001b[0mTrue\u001b[0m\u001b[1;33m\u001b[0m\u001b[0m\n\u001b[0;32m    614\u001b[0m \u001b[1;33m\u001b[0m\u001b[0m\n",
      "\u001b[1;32m/home/nils/.conda/envs/birdhouse/lib/python2.7/site-packages/matplotlib/colors.pyc\u001b[0m in \u001b[0;36mto_rgba_array\u001b[1;34m(self, c, alpha)\u001b[0m\n\u001b[0;32m    401\u001b[0m             \u001b[1;32mif\u001b[0m \u001b[0misinstance\u001b[0m\u001b[1;33m(\u001b[0m\u001b[0mc\u001b[0m\u001b[1;33m,\u001b[0m \u001b[0mnp\u001b[0m\u001b[1;33m.\u001b[0m\u001b[0mndarray\u001b[0m\u001b[1;33m)\u001b[0m\u001b[1;33m:\u001b[0m\u001b[1;33m\u001b[0m\u001b[0m\n\u001b[0;32m    402\u001b[0m                 \u001b[1;32mif\u001b[0m \u001b[0mc\u001b[0m\u001b[1;33m.\u001b[0m\u001b[0mndim\u001b[0m \u001b[1;33m!=\u001b[0m \u001b[1;36m2\u001b[0m \u001b[1;32mand\u001b[0m \u001b[0mc\u001b[0m\u001b[1;33m.\u001b[0m\u001b[0mdtype\u001b[0m\u001b[1;33m.\u001b[0m\u001b[0mkind\u001b[0m \u001b[1;32mnot\u001b[0m \u001b[1;32min\u001b[0m \u001b[1;34m'SU'\u001b[0m\u001b[1;33m:\u001b[0m\u001b[1;33m\u001b[0m\u001b[0m\n\u001b[1;32m--> 403\u001b[1;33m                     \u001b[1;32mraise\u001b[0m \u001b[0mValueError\u001b[0m\u001b[1;33m(\u001b[0m\u001b[1;34m\"Color array must be two-dimensional\"\u001b[0m\u001b[1;33m)\u001b[0m\u001b[1;33m\u001b[0m\u001b[0m\n\u001b[0m\u001b[0;32m    404\u001b[0m                 \u001b[1;32mif\u001b[0m \u001b[1;33m(\u001b[0m\u001b[0mc\u001b[0m\u001b[1;33m.\u001b[0m\u001b[0mndim\u001b[0m \u001b[1;33m==\u001b[0m \u001b[1;36m2\u001b[0m \u001b[1;32mand\u001b[0m \u001b[0mc\u001b[0m\u001b[1;33m.\u001b[0m\u001b[0mshape\u001b[0m\u001b[1;33m[\u001b[0m\u001b[1;36m1\u001b[0m\u001b[1;33m]\u001b[0m \u001b[1;33m==\u001b[0m \u001b[1;36m4\u001b[0m \u001b[1;32mand\u001b[0m \u001b[0mc\u001b[0m\u001b[1;33m.\u001b[0m\u001b[0mdtype\u001b[0m\u001b[1;33m.\u001b[0m\u001b[0mkind\u001b[0m \u001b[1;33m==\u001b[0m \u001b[1;34m'f'\u001b[0m\u001b[1;33m)\u001b[0m\u001b[1;33m:\u001b[0m\u001b[1;33m\u001b[0m\u001b[0m\n\u001b[0;32m    405\u001b[0m                     \u001b[1;32mif\u001b[0m \u001b[1;33m(\u001b[0m\u001b[0mc\u001b[0m\u001b[1;33m.\u001b[0m\u001b[0mravel\u001b[0m\u001b[1;33m(\u001b[0m\u001b[1;33m)\u001b[0m \u001b[1;33m>\u001b[0m \u001b[1;36m1\u001b[0m\u001b[1;33m)\u001b[0m\u001b[1;33m.\u001b[0m\u001b[0many\u001b[0m\u001b[1;33m(\u001b[0m\u001b[1;33m)\u001b[0m \u001b[1;32mor\u001b[0m \u001b[1;33m(\u001b[0m\u001b[0mc\u001b[0m\u001b[1;33m.\u001b[0m\u001b[0mravel\u001b[0m\u001b[1;33m(\u001b[0m\u001b[1;33m)\u001b[0m \u001b[1;33m<\u001b[0m \u001b[1;36m0\u001b[0m\u001b[1;33m)\u001b[0m\u001b[1;33m.\u001b[0m\u001b[0many\u001b[0m\u001b[1;33m(\u001b[0m\u001b[1;33m)\u001b[0m\u001b[1;33m:\u001b[0m\u001b[1;33m\u001b[0m\u001b[0m\n",
      "\u001b[1;31mValueError\u001b[0m: Color array must be two-dimensional"
     ]
    }
   ],
   "source": [
    "#PLOT TSNE EMBEDDING, ALL SEASONS\n",
    "X_yrAnom_tsne = X_train_embedded  \n",
    "\n",
    "#ALL SEASONS\n",
    "fig = figure(figsize=(10, 10))\n",
    "ax = axes(frameon=True) \n",
    "title(\"TSNE with PCA reduction on yearly SLP anomalies\")\n",
    "scatter(X_yrAnom_tsne[:, 0], X_yrAnom_tsne[:, 1], c=label_season, marker=\"x\")\n",
    "#scatter(X_tsne[:, 0], X_tsne[:, 1], c=season, marker=\"x\") #RAW SLP DATA, NOT ANOMALIES\n",
    "colorbar(ticks=range(4))\n",
    "clim(1, 4)\n",
    "text(5.5, 3.9, \"SON\", fontsize=12)\n",
    "text(5.5, 1.3, \"JJA\", fontsize=12)\n",
    "text(5.5, -1.4, \"MAM\", fontsize=12)\n",
    "text(5.5, -4, \"DJF\", fontsize=12)"
   ]
  },
  {
   "cell_type": "code",
   "execution_count": 39,
   "metadata": {
    "collapsed": false
   },
   "outputs": [
    {
     "data": {
      "text/html": [
       "<div>\n",
       "<table border=\"1\" class=\"dataframe\">\n",
       "  <thead>\n",
       "    <tr style=\"text-align: right;\">\n",
       "      <th></th>\n",
       "      <th>xcoord</th>\n",
       "      <th>ycoord</th>\n",
       "      <th>Date</th>\n",
       "      <th>Season</th>\n",
       "      <th>archivePeriod</th>\n",
       "      <th>Decade</th>\n",
       "    </tr>\n",
       "  </thead>\n",
       "  <tbody>\n",
       "    <tr>\n",
       "      <th>0</th>\n",
       "      <td>-0.461965</td>\n",
       "      <td>-0.677101</td>\n",
       "      <td>1948-01-01</td>\n",
       "      <td>1.0</td>\n",
       "      <td>0</td>\n",
       "      <td>0</td>\n",
       "    </tr>\n",
       "    <tr>\n",
       "      <th>1</th>\n",
       "      <td>-0.604743</td>\n",
       "      <td>-0.538666</td>\n",
       "      <td>1948-01-02</td>\n",
       "      <td>1.0</td>\n",
       "      <td>0</td>\n",
       "      <td>0</td>\n",
       "    </tr>\n",
       "    <tr>\n",
       "      <th>2</th>\n",
       "      <td>-1.105354</td>\n",
       "      <td>-1.144206</td>\n",
       "      <td>1948-01-03</td>\n",
       "      <td>1.0</td>\n",
       "      <td>0</td>\n",
       "      <td>0</td>\n",
       "    </tr>\n",
       "    <tr>\n",
       "      <th>3</th>\n",
       "      <td>-1.555567</td>\n",
       "      <td>-0.966212</td>\n",
       "      <td>1948-01-04</td>\n",
       "      <td>1.0</td>\n",
       "      <td>0</td>\n",
       "      <td>0</td>\n",
       "    </tr>\n",
       "    <tr>\n",
       "      <th>4</th>\n",
       "      <td>-1.815013</td>\n",
       "      <td>-0.758155</td>\n",
       "      <td>1948-01-05</td>\n",
       "      <td>1.0</td>\n",
       "      <td>0</td>\n",
       "      <td>0</td>\n",
       "    </tr>\n",
       "    <tr>\n",
       "      <th>5</th>\n",
       "      <td>-2.139731</td>\n",
       "      <td>-0.294086</td>\n",
       "      <td>1948-01-06</td>\n",
       "      <td>1.0</td>\n",
       "      <td>0</td>\n",
       "      <td>0</td>\n",
       "    </tr>\n",
       "    <tr>\n",
       "      <th>6</th>\n",
       "      <td>-2.115170</td>\n",
       "      <td>-0.277215</td>\n",
       "      <td>1948-01-07</td>\n",
       "      <td>1.0</td>\n",
       "      <td>0</td>\n",
       "      <td>0</td>\n",
       "    </tr>\n",
       "    <tr>\n",
       "      <th>7</th>\n",
       "      <td>-1.934536</td>\n",
       "      <td>-0.461872</td>\n",
       "      <td>1948-01-08</td>\n",
       "      <td>1.0</td>\n",
       "      <td>0</td>\n",
       "      <td>0</td>\n",
       "    </tr>\n",
       "    <tr>\n",
       "      <th>8</th>\n",
       "      <td>-1.138612</td>\n",
       "      <td>-0.821229</td>\n",
       "      <td>1948-01-09</td>\n",
       "      <td>1.0</td>\n",
       "      <td>0</td>\n",
       "      <td>0</td>\n",
       "    </tr>\n",
       "    <tr>\n",
       "      <th>9</th>\n",
       "      <td>-0.963943</td>\n",
       "      <td>-0.960517</td>\n",
       "      <td>1948-01-10</td>\n",
       "      <td>1.0</td>\n",
       "      <td>0</td>\n",
       "      <td>0</td>\n",
       "    </tr>\n",
       "  </tbody>\n",
       "</table>\n",
       "</div>"
      ],
      "text/plain": [
       "     xcoord    ycoord        Date  Season  archivePeriod  Decade\n",
       "0 -0.461965 -0.677101  1948-01-01     1.0              0       0\n",
       "1 -0.604743 -0.538666  1948-01-02     1.0              0       0\n",
       "2 -1.105354 -1.144206  1948-01-03     1.0              0       0\n",
       "3 -1.555567 -0.966212  1948-01-04     1.0              0       0\n",
       "4 -1.815013 -0.758155  1948-01-05     1.0              0       0\n",
       "5 -2.139731 -0.294086  1948-01-06     1.0              0       0\n",
       "6 -2.115170 -0.277215  1948-01-07     1.0              0       0\n",
       "7 -1.934536 -0.461872  1948-01-08     1.0              0       0\n",
       "8 -1.138612 -0.821229  1948-01-09     1.0              0       0\n",
       "9 -0.963943 -0.960517  1948-01-10     1.0              0       0"
      ]
     },
     "execution_count": 39,
     "metadata": {},
     "output_type": "execute_result"
    }
   ],
   "source": [
    "#CONVERT TSNE MATRIX TO DATAFRAME SO THAT IT CAN BE FILTERED\n",
    "#Add Date, Season, archivePeriod and Decade (from dt) as columns fo filtering\n",
    "\n",
    "dTSNE = pd.DataFrame(X_yrAnom_tsne)  #pd.DataFrame(X_tsne) #RAW SLP\n",
    "dTSNE['Date'] = dt['Date']\n",
    "dTSNE['Season'] = dt['Season']\n",
    "dTSNE['archivePeriod'] = archivePeriod\n",
    "dTSNE['Decade'] = decade\n",
    "\n",
    "dTSNE.columns = ['xcoord', 'ycoord', 'Date', 'Season', 'archivePeriod', 'Decade']\n",
    "\n",
    "dTSNE.head(10)"
   ]
  },
  {
   "cell_type": "code",
   "execution_count": 40,
   "metadata": {
    "collapsed": false
   },
   "outputs": [],
   "source": [
    "#ADD COLUMNS TO dA_yrAnom DATFRAME TO ALLOW FILTERING\n",
    "\n",
    "#VARIOUS LABEL COLUMNS\n",
    "dA_yrAnom['Date'] = dt['Date']\n",
    "dA_yrAnom['Season'] = dt['Season']\n",
    "dA_yrAnom['archivePeriod'] = archivePeriod\n",
    "dA_yrAnom['Decade'] = decade\n",
    "\n",
    "#X, Y COORDS OF THE TSNE EMBEDDING SO EVERYTHING IS IN ONE DATAFRAME AND CAN BE FILTERED AS DESIRED\n",
    "dA_yrAnom['x_TSNE'] = dTSNE['xcoord']\n",
    "dA_yrAnom['y_TSNE'] = dTSNE['ycoord']"
   ]
  },
  {
   "cell_type": "code",
   "execution_count": 188,
   "metadata": {
    "collapsed": false
   },
   "outputs": [
    {
     "data": {
      "text/html": [
       "<div>\n",
       "<table border=\"1\" class=\"dataframe\">\n",
       "  <thead>\n",
       "    <tr style=\"text-align: right;\">\n",
       "      <th></th>\n",
       "      <th>0</th>\n",
       "      <th>1</th>\n",
       "      <th>2</th>\n",
       "      <th>3</th>\n",
       "      <th>4</th>\n",
       "      <th>5</th>\n",
       "      <th>6</th>\n",
       "      <th>7</th>\n",
       "      <th>8</th>\n",
       "      <th>9</th>\n",
       "      <th>...</th>\n",
       "      <th>1056</th>\n",
       "      <th>1057</th>\n",
       "      <th>1058</th>\n",
       "      <th>1059</th>\n",
       "      <th>Date</th>\n",
       "      <th>Season</th>\n",
       "      <th>archivePeriod</th>\n",
       "      <th>Decade</th>\n",
       "      <th>x_TSNE</th>\n",
       "      <th>y_TSNE</th>\n",
       "    </tr>\n",
       "  </thead>\n",
       "  <tbody>\n",
       "    <tr>\n",
       "      <th>24795</th>\n",
       "      <td>0.998187</td>\n",
       "      <td>0.998329</td>\n",
       "      <td>0.998534</td>\n",
       "      <td>0.998702</td>\n",
       "      <td>0.998660</td>\n",
       "      <td>0.997908</td>\n",
       "      <td>0.996867</td>\n",
       "      <td>0.995707</td>\n",
       "      <td>0.994343</td>\n",
       "      <td>0.993094</td>\n",
       "      <td>...</td>\n",
       "      <td>0.984613</td>\n",
       "      <td>0.985128</td>\n",
       "      <td>0.986255</td>\n",
       "      <td>0.987984</td>\n",
       "      <td>2015-11-20</td>\n",
       "      <td>4</td>\n",
       "      <td>1</td>\n",
       "      <td>6</td>\n",
       "      <td>2.174449</td>\n",
       "      <td>1.346213</td>\n",
       "    </tr>\n",
       "    <tr>\n",
       "      <th>24796</th>\n",
       "      <td>0.996986</td>\n",
       "      <td>0.997247</td>\n",
       "      <td>0.997579</td>\n",
       "      <td>0.997865</td>\n",
       "      <td>0.997991</td>\n",
       "      <td>0.997682</td>\n",
       "      <td>0.996995</td>\n",
       "      <td>0.996366</td>\n",
       "      <td>0.995699</td>\n",
       "      <td>0.995078</td>\n",
       "      <td>...</td>\n",
       "      <td>0.990559</td>\n",
       "      <td>0.991548</td>\n",
       "      <td>0.992743</td>\n",
       "      <td>0.994093</td>\n",
       "      <td>2015-11-21</td>\n",
       "      <td>4</td>\n",
       "      <td>1</td>\n",
       "      <td>6</td>\n",
       "      <td>2.275168</td>\n",
       "      <td>1.195308</td>\n",
       "    </tr>\n",
       "    <tr>\n",
       "      <th>24797</th>\n",
       "      <td>0.996119</td>\n",
       "      <td>0.996853</td>\n",
       "      <td>0.997481</td>\n",
       "      <td>0.997836</td>\n",
       "      <td>0.998020</td>\n",
       "      <td>0.998105</td>\n",
       "      <td>0.998371</td>\n",
       "      <td>0.998655</td>\n",
       "      <td>0.998646</td>\n",
       "      <td>0.998693</td>\n",
       "      <td>...</td>\n",
       "      <td>0.989647</td>\n",
       "      <td>0.990359</td>\n",
       "      <td>0.991386</td>\n",
       "      <td>0.992687</td>\n",
       "      <td>2015-11-22</td>\n",
       "      <td>4</td>\n",
       "      <td>1</td>\n",
       "      <td>6</td>\n",
       "      <td>2.044314</td>\n",
       "      <td>-0.056447</td>\n",
       "    </tr>\n",
       "    <tr>\n",
       "      <th>24798</th>\n",
       "      <td>0.997527</td>\n",
       "      <td>0.997020</td>\n",
       "      <td>0.996693</td>\n",
       "      <td>0.996783</td>\n",
       "      <td>0.997154</td>\n",
       "      <td>0.997485</td>\n",
       "      <td>0.997899</td>\n",
       "      <td>0.998282</td>\n",
       "      <td>0.998371</td>\n",
       "      <td>0.998300</td>\n",
       "      <td>...</td>\n",
       "      <td>0.987814</td>\n",
       "      <td>0.987456</td>\n",
       "      <td>0.987295</td>\n",
       "      <td>0.987409</td>\n",
       "      <td>2015-11-23</td>\n",
       "      <td>4</td>\n",
       "      <td>1</td>\n",
       "      <td>6</td>\n",
       "      <td>0.169110</td>\n",
       "      <td>-1.620654</td>\n",
       "    </tr>\n",
       "    <tr>\n",
       "      <th>24799</th>\n",
       "      <td>1.000402</td>\n",
       "      <td>0.999875</td>\n",
       "      <td>0.998780</td>\n",
       "      <td>0.997423</td>\n",
       "      <td>0.996515</td>\n",
       "      <td>0.996285</td>\n",
       "      <td>0.996356</td>\n",
       "      <td>0.996513</td>\n",
       "      <td>0.996534</td>\n",
       "      <td>0.996483</td>\n",
       "      <td>...</td>\n",
       "      <td>0.984861</td>\n",
       "      <td>0.984167</td>\n",
       "      <td>0.983660</td>\n",
       "      <td>0.983281</td>\n",
       "      <td>2015-11-24</td>\n",
       "      <td>4</td>\n",
       "      <td>1</td>\n",
       "      <td>6</td>\n",
       "      <td>0.534276</td>\n",
       "      <td>-0.710061</td>\n",
       "    </tr>\n",
       "  </tbody>\n",
       "</table>\n",
       "<p>5 rows × 1066 columns</p>\n",
       "</div>"
      ],
      "text/plain": [
       "              0         1         2         3         4         5         6  \\\n",
       "24795  0.998187  0.998329  0.998534  0.998702  0.998660  0.997908  0.996867   \n",
       "24796  0.996986  0.997247  0.997579  0.997865  0.997991  0.997682  0.996995   \n",
       "24797  0.996119  0.996853  0.997481  0.997836  0.998020  0.998105  0.998371   \n",
       "24798  0.997527  0.997020  0.996693  0.996783  0.997154  0.997485  0.997899   \n",
       "24799  1.000402  0.999875  0.998780  0.997423  0.996515  0.996285  0.996356   \n",
       "\n",
       "              7         8         9    ...         1056      1057      1058  \\\n",
       "24795  0.995707  0.994343  0.993094    ...     0.984613  0.985128  0.986255   \n",
       "24796  0.996366  0.995699  0.995078    ...     0.990559  0.991548  0.992743   \n",
       "24797  0.998655  0.998646  0.998693    ...     0.989647  0.990359  0.991386   \n",
       "24798  0.998282  0.998371  0.998300    ...     0.987814  0.987456  0.987295   \n",
       "24799  0.996513  0.996534  0.996483    ...     0.984861  0.984167  0.983660   \n",
       "\n",
       "           1059        Date  Season  archivePeriod  Decade    x_TSNE    y_TSNE  \n",
       "24795  0.987984  2015-11-20       4              1       6  2.174449  1.346213  \n",
       "24796  0.994093  2015-11-21       4              1       6  2.275168  1.195308  \n",
       "24797  0.992687  2015-11-22       4              1       6  2.044314 -0.056447  \n",
       "24798  0.987409  2015-11-23       4              1       6  0.169110 -1.620654  \n",
       "24799  0.983281  2015-11-24       4              1       6  0.534276 -0.710061  \n",
       "\n",
       "[5 rows x 1066 columns]"
      ]
     },
     "execution_count": 188,
     "metadata": {},
     "output_type": "execute_result"
    }
   ],
   "source": [
    "dA_yrAnom.tail(5)"
   ]
  },
  {
   "cell_type": "code",
   "execution_count": 41,
   "metadata": {
    "collapsed": false
   },
   "outputs": [
    {
     "data": {
      "text/plain": [
       "<matplotlib.collections.PathCollection at 0x7f39a63c9890>"
      ]
     },
     "execution_count": 41,
     "metadata": {},
     "output_type": "execute_result"
    }
   ],
   "source": [
    "#PLOT TSNE BY SEASON\n",
    "\n",
    "#DJF\n",
    "fig = figure(figsize=(10, 10))\n",
    "title(\"TSNE FROM YEARLY ANOMALY, DJF only\")\n",
    "scatter(dTSNE.loc[dTSNE['Season'] == 1].values[:, 0],dTSNE.loc[dTSNE['Season'] == 1].values[:, 1], marker=\"x\")\n",
    "#savefig(\"TSNE_DJF.png\")\n",
    "\n",
    "#JJA\n",
    "fig = figure(figsize=(10, 10))\n",
    "title(\"TSNE FROM YEARLY ANOMALY, JJA only\")\n",
    "scatter(dTSNE.loc[dTSNE['Season'] == 3].values[:, 0],dTSNE.loc[dTSNE['Season'] == 3].values[:, 1], marker=\"x\")\n",
    "#savefig(\"TSNE_JJA.png\")\n"
   ]
  },
  {
   "cell_type": "code",
   "execution_count": 42,
   "metadata": {
    "collapsed": true
   },
   "outputs": [],
   "source": [
    "#PLOTTING FNS \n",
    "\n",
    "#PLOT POINTS IN A SPECIFIED BOUNDARY BOX ON THE EMBEDDING PLOT\n",
    "def plot_cluster(df, xbox, ybox, colour):\n",
    "    df_cl = df.loc[(df['x_TSNE'] > xbox[0]) & (df['x_TSNE'] < xbox[1]) & (df['y_TSNE'] > ybox[0]) & (df['y_TSNE'] < ybox[1])]\n",
    "    scatter(df_cl['x_TSNE'], df_cl['y_TSNE'], c=colour)\n",
    "    #print df_cl\n",
    "\n",
    "\n",
    "#PLOT MEAN CLUSTER SLP\n",
    "def plot_clusterSLP(df, xbox, ybox, title1, idx):\n",
    "    df_cl = df.loc[(df['x_TSNE'] > xbox[0]) & (df['x_TSNE'] < xbox[1]) & (df['y_TSNE'] > ybox[0]) & (df['y_TSNE'] < ybox[1])]\n",
    "          \n",
    "    subplot(4,1,idx)\n",
    "    title(title1)\n",
    "    plt.imshow(df_cl.drop(['Date', 'Season', 'archivePeriod', 'Decade', 'x_TSNE', 'y_TSNE'], 1).mean().reshape(20,53))\n",
    "    colorbar()"
   ]
  },
  {
   "cell_type": "code",
   "execution_count": 43,
   "metadata": {
    "collapsed": false
   },
   "outputs": [],
   "source": [
    "#PLOT TSNE DJF CLUSTERS\n",
    "TSNE_DJF = dA_yrAnom.loc[dA['Season'] == 1]\n",
    "\n",
    "fig = figure(figsize=(10, 10))\n",
    "title('TSNE FROM YEARLY ANOMALY, DJF')\n",
    "scatter(TSNE_DJF['x_TSNE'].values, TSNE_DJF['y_TSNE'].values, marker=\"x\")\n",
    "plot_cluster(TSNE_DJF, [-1.5, -0.5], [-2.4, -1.9], 'r')\n",
    "plot_cluster(TSNE_DJF, [-2.6, -1.2], [1.8, 2.6], 'g')\n",
    "plot_cluster(TSNE_DJF, [1.8, 2.7], [0.7, 1.5], 'y')\n",
    "plot_cluster(TSNE_DJF, [2.1, 3.0], [-0.8, 0.2], 'm')\n",
    "#outliers\n",
    "plot_cluster(TSNE_DJF, [-0.5, -0.3], [-3.1, -3.0], 'r') #2 dates: 1980-02-19, 1996-01-15\n",
    "plot_cluster(TSNE_DJF, [-2.20, -2.10], [-2.60, -2.45], 'y') #4 dates: 1976-01-25, 1989-01-14, 2003-01-30, 2015-01-08"
   ]
  },
  {
   "cell_type": "code",
   "execution_count": 44,
   "metadata": {
    "collapsed": false
   },
   "outputs": [],
   "source": [
    "#PLOT TSNE DJF MEAN CLUSTER SLP\n",
    "\n",
    "fig = figure(figsize=(10, 10))\n",
    "plot_clusterSLP(TSNE_DJF, [-1.5, -0.5], [-2.4, -1.9], 'Mean DJF SLP, TSNE red cluster', 1)\n",
    "plot_clusterSLP(TSNE_DJF, [-2.6, -1.2], [1.8, 2.6], 'Mean DJF SLP, TSNE green cluster', 2)\n",
    "plot_clusterSLP(TSNE_DJF, [1.8, 2.7], [0.7, 1.5], 'Mean DJF SLP, TSNE yellow cluster', 3)\n",
    "plot_clusterSLP(TSNE_DJF, [2.1, 3.0], [-0.8, 0.2], 'Mean DJF SLP, TSNE magenta cluster', 4)"
   ]
  }
 ],
 "metadata": {
  "kernelspec": {
   "display_name": "Python 2",
   "language": "python",
   "name": "python2"
  },
  "language_info": {
   "codemirror_mode": {
    "name": "ipython",
    "version": 2
   },
   "file_extension": ".py",
   "mimetype": "text/x-python",
   "name": "python",
   "nbconvert_exporter": "python",
   "pygments_lexer": "ipython2",
   "version": "2.7.11"
  }
 },
 "nbformat": 4,
 "nbformat_minor": 0
}
