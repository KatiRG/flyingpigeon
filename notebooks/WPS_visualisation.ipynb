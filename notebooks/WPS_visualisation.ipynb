{
 "cells": [
  {
   "cell_type": "code",
   "execution_count": 2,
   "metadata": {
    "collapsed": true
   },
   "outputs": [],
   "source": [
    "\"\"\"Python WPS execute\"\"\"\n",
    "from owslib.wps import WebProcessingService, monitorExecution\n",
    "from os import system"
   ]
  },
  {
   "cell_type": "code",
   "execution_count": 3,
   "metadata": {
    "collapsed": false
   },
   "outputs": [
    {
     "data": {
      "text/plain": [
       "'0.10.3'"
      ]
     },
     "execution_count": 3,
     "metadata": {},
     "output_type": "execute_result"
    }
   ],
   "source": [
    "import owslib\n",
    "owslib.__version__ # version must be >=0.10.3"
   ]
  },
  {
   "cell_type": "code",
   "execution_count": 4,
   "metadata": {
    "collapsed": false
   },
   "outputs": [],
   "source": [
    "# wps = WebProcessingService(url=\"http://birdhouse-lsce.extra.cea.fr:8093/wps\", verbose=False)\n",
    "wps = WebProcessingService(url=\"http://localhost:8093/wps\", verbose=False)\n",
    "#wps = WebProcessingService(url=\"https://birdhouse-lsce.extra.cea.fr:28093/wps\", verbose=False,\n",
    "#verify=False)"
   ]
  },
  {
   "cell_type": "code",
   "execution_count": 5,
   "metadata": {
    "collapsed": false
   },
   "outputs": [
    {
     "name": "stdout",
     "output_type": "stream",
     "text": [
      "Flyingpigeon\n"
     ]
    }
   ],
   "source": [
    "print wps.identification.title"
   ]
  },
  {
   "cell_type": "code",
   "execution_count": 6,
   "metadata": {
    "collapsed": false
   },
   "outputs": [
    {
     "name": "stdout",
     "output_type": "stream",
     "text": [
      "visualisation : \t Just testing a nice script to visualise some variables\n",
      "extractpoints : \t Extract Timeseries for specified coordinates from grid data\n",
      "segetalflora : \t Species biodiversity of segetal flora. Imput files: variable:tas , domain: EUR-11 or EUR-44\n",
      "indices_single : \t This process calculates climate indices based on one single variable.\n",
      "subset_countries : \t This process returns only the given polygon from input netCDF files.\n",
      "eobs_to_cordex : \t downloades EOBS data in adaped CORDEX format\n",
      "modelUncertainty : \t Calculates the ensemble mean and uncertainty mask\n"
     ]
    }
   ],
   "source": [
    "for process in wps.processes:\n",
    "    print '%s : \\t %s' % (process.identifier, process.abstract)"
   ]
  },
  {
   "cell_type": "code",
   "execution_count": 16,
   "metadata": {
    "collapsed": true
   },
   "outputs": [],
   "source": [
    "td_path = 'http://webportals.ipsl.jussieu.fr/thredds/fileServer/EUROCORDEX/extremoscope_FRA_20151009/polygons/TG/yr/rcp45/13/'\n",
    "\n",
    "file1 = 'TG_rcp45_CNRM-CERFACS-CNRM-CM5_RCA4_1971-2100.nc'\n",
    "file2 = 'TG_rcp45_CNRM-CM5_CCLM4-8-17_1971-2100.nc'\n",
    "file3 = 'TG_rcp45_CNRM-CM5_CNRM-ALADIN53_1971-2100.nc'"
   ]
  },
  {
   "cell_type": "code",
   "execution_count": 17,
   "metadata": {
    "collapsed": false
   },
   "outputs": [
    {
     "name": "stdout",
     "output_type": "stream",
     "text": [
      "ProcessSucceeded\n",
      "http://birdhouse-lsce.extra.cea.fr:8090/wpsoutputs/flyingpigeon/plotout_spagetti-a7ed1dfe-a40e-11e5-8d9d-525400d4a26a.html\n",
      "http://birdhouse-lsce.extra.cea.fr:8090/wpsoutputs/flyingpigeon/plotout_uncertainty-a7ed1dfe-a40e-11e5-8d9d-525400d4a26a.html\n"
     ]
    }
   ],
   "source": [
    "from os.path import join\n",
    "\n",
    "execute = wps.execute(\n",
    "    identifier=\"visualisation\", #indices_clipping\",\n",
    "    inputs=[\n",
    "       (\"resource\",join(td_path, file1)),\n",
    "       (\"resource\",join(td_path, file2)),\n",
    "       (\"resource\",join(td_path, file3)),\n",
    "       # (\"variable\" , \"TG\"), \n",
    "       ])\n",
    "\n",
    "monitorExecution(execute, sleepSecs=5)\n",
    "\n",
    "print execute.getStatus()\n",
    "\n",
    "for o in execute.processOutputs:\n",
    "    print o.reference"
   ]
  },
  {
   "cell_type": "code",
   "execution_count": null,
   "metadata": {
    "collapsed": true
   },
   "outputs": [],
   "source": []
  }
 ],
 "metadata": {
  "kernelspec": {
   "display_name": "Python 2",
   "language": "python",
   "name": "python2"
  },
  "language_info": {
   "codemirror_mode": {
    "name": "ipython",
    "version": 2
   },
   "file_extension": ".py",
   "mimetype": "text/x-python",
   "name": "python",
   "nbconvert_exporter": "python",
   "pygments_lexer": "ipython2",
   "version": "2.7.11"
  }
 },
 "nbformat": 4,
 "nbformat_minor": 0
}
