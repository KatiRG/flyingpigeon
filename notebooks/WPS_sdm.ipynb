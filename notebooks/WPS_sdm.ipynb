{
 "cells": [
  {
   "cell_type": "code",
   "execution_count": 1,
   "metadata": {
    "collapsed": true
   },
   "outputs": [],
   "source": [
    "\"\"\"Python WPS execute\"\"\"\n",
    "from owslib.wps import WebProcessingService, monitorExecution, printInputOutput\n",
    "from os import system"
   ]
  },
  {
   "cell_type": "code",
   "execution_count": 3,
   "metadata": {
    "collapsed": false
   },
   "outputs": [],
   "source": [
    "wps_url = \"http://localhost:8093/wps\"\n",
    "#wps_url = \"http://birdhouse-lsce.extra.cea.fr:8093/wps\"\n",
    "wps = WebProcessingService(url=wps_url, verbose=False)"
   ]
  },
  {
   "cell_type": "code",
   "execution_count": 4,
   "metadata": {
    "collapsed": false
   },
   "outputs": [
    {
     "name": "stdout",
     "output_type": "stream",
     "text": [
      "Flyingpigeon\n"
     ]
    }
   ],
   "source": [
    "print wps.identification.title"
   ]
  },
  {
   "cell_type": "code",
   "execution_count": 5,
   "metadata": {
    "collapsed": false
   },
   "outputs": [
    {
     "name": "stdout",
     "output_type": "stream",
     "text": [
      "subset_continents : \t Returns only the selected polygon for each input dataset\n",
      "subset_countries : \t Returns only the selected polygon for each input dataset\n",
      "subset_regionseurope : \t Returns the selected European administrative region defined in the GADM database (v2.5) for each input dataset.\n",
      "subset_points : \t Extract timeseries for specified coordinates from gridded datasets\n",
      "indices_simple : \t Climate indices based on one single input variable.\n",
      "indices_percentile : \t Climate indices based on one single input variable                             and the percentile of a reference period.\n",
      "weatherregimes_reanalyse : \t Weather Regimes based on pressure patterns, fetching selected Realayses Datasets\n",
      "weatherregimes_model : \t Weather Regimes based on pressure patterns, fetching selected Realayses Datasets\n",
      "weatherregimes_projection : \t Weather Regimes detection based on trained reference statistics\n",
      "analogs_detection : \t Search for days with analogue pressure pattern for reanalyses data sets\n",
      "analogs_model : \t Search for days with analogue pressure pattern in a climate model data set\n",
      "analogs_compare : \t Search in a dataset for days with analogue pressure pattern for a given period in             a reanalyses dataset\n",
      "analogs_viewer : \t Visualisation of text output of analogue process\n",
      "segetalflora : \t Species biodiversity of segetal flora. Imput files: variable:tas , domain: EUR-11 or EUR-44\n",
      "sdm_gbiffetch : \t Species occurence search in Global Biodiversity              Infrastructure Facillity (GBIF)\n",
      "sdm_getindices : \t Indices preparation for SDM process\n",
      "sdm_csvindices : \t Species distribution model for tree species based on GBIF             presence/absence data and precalculated Indices\n",
      "sdm_csv : \t Species distribution model for tree species based on             GBIF presence/absence data and climate model data. Indices will             be calculated while processing\n",
      "sdm_allinone : \t Species distribution model for tree species based on             scientific species name and raw model data. GBIF data fetch and             indices calculation will be done within the process\n",
      "robustness : \t Calculates the robustness as the ratio of noise to signal in an ensemle of timeseries\n",
      "plot_timeseries : \t Outputs some timeseries of the file field means. Spaghetti and uncertainty plot\n",
      "fetch : \t This process downloads resources (limited to 50GB)             to the local file system of the birdhouse compute provider\n",
      "wps_c4i_simple_indice : \t Computes single input indices of temperature TG, TX, TN, TXx, TXn, TNx, TNn, SU, TR, CSU, GD4, FD, CFD, ID, HD17; of rainfall: CDD, CWD, RR, RR1, SDII, R10mm, R20mm, RX1day, RX5day; and of snowfall: SD, SD1, SD5, SD50. This processes is also available in Climate4Impact and uses ICCLIM.\n",
      "spatial_analog : \t Spatial analogs based on climate indices\n"
     ]
    }
   ],
   "source": [
    "for process in wps.processes:\n",
    "    print '%s : \\t %s' % (process.identifier, process.abstract)"
   ]
  },
  {
   "cell_type": "markdown",
   "metadata": {},
   "source": [
    "# Step1: Fetching occurence data for Fagus Sylvatica"
   ]
  },
  {
   "cell_type": "code",
   "execution_count": 6,
   "metadata": {
    "collapsed": false
   },
   "outputs": [
    {
     "name": "stdout",
     "output_type": "stream",
     "text": [
      " identifier=taxon_name, title=Tree Species, abstract=Scientific name of tree species, data type=//www.w3.org/TR/xmlschema-2/#string\n",
      " Any value allowed\n",
      " Default Value: Fagus sylvatica \n",
      " minOccurs=0, maxOccurs=1\n",
      "\n",
      "\n",
      " identifier=BBox, title=Bounding Box, abstract=coordinates to define the region for occurence data fetch, data type=BoundingBoxData\n",
      " Supported Value: EPSG:4326\n",
      " Default Value: EPSG:4326 \n",
      " minOccurs=1, maxOccurs=1\n",
      "\n",
      "\n"
     ]
    }
   ],
   "source": [
    "p = wps.describeprocess(identifier='sdm_gbiffetch')\n",
    "for input in p.dataInputs:\n",
    "    printInputOutput(input)\n",
    "    print '\\n'"
   ]
  },
  {
   "cell_type": "code",
   "execution_count": 8,
   "metadata": {
    "collapsed": false
   },
   "outputs": [
    {
     "ename": "TypeError",
     "evalue": "execute() got an unexpected keyword argument 'async'",
     "output_type": "error",
     "traceback": [
      "\u001b[0;31m---------------------------------------------------------------------------\u001b[0m",
      "\u001b[0;31mTypeError\u001b[0m                                 Traceback (most recent call last)",
      "\u001b[0;32m<ipython-input-8-271b2c719da1>\u001b[0m in \u001b[0;36m<module>\u001b[0;34m()\u001b[0m\n\u001b[1;32m      5\u001b[0m     \u001b[0;34m(\u001b[0m\u001b[0;34m'BBox'\u001b[0m\u001b[0;34m,\u001b[0m \u001b[0;34m'-10.0, 30.0, 10.0, 40.0'\u001b[0m\u001b[0;34m)\u001b[0m\u001b[0;34m\u001b[0m\u001b[0m\n\u001b[1;32m      6\u001b[0m     ],\n\u001b[0;32m----> 7\u001b[0;31m     \u001b[0masync\u001b[0m\u001b[0;34m=\u001b[0m\u001b[0mFalse\u001b[0m\u001b[0;34m,\u001b[0m\u001b[0;34m\u001b[0m\u001b[0m\n\u001b[0m\u001b[1;32m      8\u001b[0m     )\n",
      "\u001b[0;31mTypeError\u001b[0m: execute() got an unexpected keyword argument 'async'"
     ]
    }
   ],
   "source": [
    "execute = wps.execute(\n",
    "    identifier=\"sdm_gbiffetch\",\n",
    "    inputs=[\n",
    "    ('taxon_name','Fagus sylvatica'),\n",
    "    ('BBox', '-10.0, 30.0, 10.0, 40.0')\n",
    "    ],\n",
    "    async=False,\n",
    "    )\n"
   ]
  },
  {
   "cell_type": "code",
   "execution_count": 7,
   "metadata": {
    "collapsed": false
   },
   "outputs": [
    {
     "name": "stdout",
     "output_type": "stream",
     "text": [
      "http://localhost:8090/wpsoutputs/flyingpigeon/output_csv-be40b922-c10d-11e6-86e6-142d277ef1f3.csv\n",
      "http://localhost:8090/wpsoutputs/flyingpigeon/output_map-be40b922-c10d-11e6-86e6-142d277ef1f3.png\n"
     ]
    }
   ],
   "source": [
    "# check process if completed ...\n",
    "monitorExecution(execute, sleepSecs=5)\n",
    "\n",
    "for o in execute.processOutputs:\n",
    "    print o.reference"
   ]
  },
  {
   "cell_type": "code",
   "execution_count": 8,
   "metadata": {
    "collapsed": false
   },
   "outputs": [
    {
     "data": {
      "text/html": [
       "<img src=\"http://localhost:8090/wpsoutputs/flyingpigeon/output_map-be40b922-c10d-11e6-86e6-142d277ef1f3.png\"/>"
      ],
      "text/plain": [
       "<IPython.core.display.Image object>"
      ]
     },
     "execution_count": 8,
     "metadata": {},
     "output_type": "execute_result"
    }
   ],
   "source": [
    "graphic = execute.processOutputs[1].reference\n",
    "from IPython.display import Image\n",
    "from IPython.core.display import HTML \n",
    "Image(url= graphic)"
   ]
  },
  {
   "cell_type": "markdown",
   "metadata": {},
   "source": [
    "# Step2: Calculate Indices:"
   ]
  },
  {
   "cell_type": "code",
   "execution_count": 14,
   "metadata": {
    "collapsed": false
   },
   "outputs": [],
   "source": [
    "# Define location of input climate data (tas, tasmin, tasmax or pr depending on selected indice)\n",
    "\n",
    "from os import getenv\n",
    "HOME = getenv('HOME')\n",
    "\n",
    "resources = [\n",
    "    'file://' + HOME + '/birdhouse/var/lib/pywps/cache/malleefowl/esgf1.dkrz.de/thredds/fileServer/cordex/cordex/output/EUR-44/CLMcom/MPI-M-MPI-ESM-LR/historical/r1i1p1/CLMcom-CCLM4-8-17/v1/day/tasmax/v20140520/tasmax_EUR-44_MPI-M-MPI-ESM-LR_historical_r1i1p1_CLMcom-CCLM4-8-17_v1_day_19960101-20001231.nc',\n",
    "    'file://' + HOME+'/birdhouse/var/lib/pywps/cache/malleefowl/./cordexesg.dmi.dk/thredds/fileServer/cordex_noncommercial/cordex/output/EUR-44/HMS/CNRM-CERFACS-CNRM-CM5/historical/r1i1p1/HMS-ALADIN52/v1/day/tas/v20140804/tas_EUR-44_CNRM-CERFACS-CNRM-CM5_historical_r1i1p1_HMS-ALADIN52_v1_day_20010101-20051231.nc'\n",
    "    ]"
   ]
  },
  {
   "cell_type": "code",
   "execution_count": 15,
   "metadata": {
    "collapsed": false
   },
   "outputs": [
    {
     "data": {
      "text/plain": [
       "['file:///home/nils/birdhouse/var/lib/pywps/cache/malleefowl/esgf1.dkrz.de/thredds/fileServer/cordex/cordex/output/EUR-44/CLMcom/MPI-M-MPI-ESM-LR/historical/r1i1p1/CLMcom-CCLM4-8-17/v1/day/tasmax/v20140520/tasmax_EUR-44_MPI-M-MPI-ESM-LR_historical_r1i1p1_CLMcom-CCLM4-8-17_v1_day_19960101-20001231.nc',\n",
       " 'file:///home/nils/birdhouse/var/lib/pywps/cache/malleefowl/./cordexesg.dmi.dk/thredds/fileServer/cordex_noncommercial/cordex/output/EUR-44/HMS/CNRM-CERFACS-CNRM-CM5/historical/r1i1p1/HMS-ALADIN52/v1/day/tas/v20140804/tas_EUR-44_CNRM-CERFACS-CNRM-CM5_historical_r1i1p1_HMS-ALADIN52_v1_day_20010101-20051231.nc']"
      ]
     },
     "execution_count": 15,
     "metadata": {},
     "output_type": "execute_result"
    }
   ],
   "source": [
    "resources"
   ]
  },
  {
   "cell_type": "code",
   "execution_count": 16,
   "metadata": {
    "collapsed": false,
    "scrolled": true
   },
   "outputs": [
    {
     "name": "stdout",
     "output_type": "stream",
     "text": [
      " identifier=resources, title=NetCDF File, abstract=NetCDF File, data type=ComplexData\n",
      " Supported Value: mimeType=application/x-netcdf, encoding=None, schema=None\n",
      " Default Value: mimeType=application/x-netcdf, encoding=None, schema=None \n",
      " minOccurs=1, maxOccurs=500\n",
      "\n",
      "\n",
      " identifier=input_indices, title=Indices, abstract=Climate indices related to growth conditions                 of tree species, data type=//www.w3.org/TR/xmlschema-2/#string\n",
      " Allowed Value: CDD_AMJJAS\n",
      " Allowed Value: CFD_ONDJFM\n",
      " Allowed Value: FD_ONDJFM\n",
      " Allowed Value: FD_April\n",
      " Allowed Value: FD_May\n",
      " Allowed Value: FD_June\n",
      " Allowed Value: GD4_yr\n",
      " Allowed Value: ID_yr\n",
      " Allowed Value: PRCPTOT_yr\n",
      " Allowed Value: PRCPTOT_ONDJFM\n",
      " Allowed Value: PRCPTOT_AMJJAS\n",
      " Allowed Value: PRCPTOT_JJA\n",
      " Allowed Value: PRCPTOT_MAM\n",
      " Allowed Value: PRCPTOT_JJA\n",
      " Allowed Value: RR1_yr\n",
      " Allowed Value: SU_yr\n",
      " Allowed Value: TG_yr\n",
      " Allowed Value: TG_AMJJAS\n",
      " Allowed Value: TG_ONDJFM\n",
      " Allowed Value: TG_JJA\n",
      " Allowed Value: TNn_yr\n",
      " Allowed Value: TNn_AMJJAS\n",
      " Allowed Value: TG_ONDJFM\n",
      " Allowed Value: TNn_Jan\n",
      " Default Value: None \n",
      " minOccurs=0, maxOccurs=10\n",
      "\n",
      "\n",
      " identifier=archive_format, title=Archive format, abstract=Result files will be compressed into archives.                 Choose an appropriate format, data type=//www.w3.org/TR/xmlschema-2/#string\n",
      " Allowed Value: zip\n",
      " Allowed Value: tar\n",
      " Default Value: tar \n",
      " minOccurs=0, maxOccurs=1\n",
      "\n",
      "\n"
     ]
    }
   ],
   "source": [
    "p = wps.describeprocess(identifier='sdm_getindices')\n",
    "for input in p.dataInputs:\n",
    "    printInputOutput(input)\n",
    "    print '\\n'"
   ]
  },
  {
   "cell_type": "code",
   "execution_count": 17,
   "metadata": {
    "collapsed": false
   },
   "outputs": [
    {
     "name": "stdout",
     "output_type": "stream",
     "text": [
      "http://localhost:8090/wpsoutputs/flyingpigeon/output_indices-94fb1c2e-c09f-11e6-b657-142d277ef1f3.tar\n"
     ]
    }
   ],
   "source": [
    "execute = wps.execute(\n",
    "    identifier=\"sdm_getindices\",\n",
    "    inputs=[\n",
    "    ('resources',resources[0]),\n",
    "    ('resources',resources[1]),\n",
    "    ('input_indices', 'TG_JJA'),\n",
    "    ('input_indices', 'SU_yr'),\n",
    "    ('input_indices', 'ID_yr')\n",
    "    ],\n",
    "    #outputs = [('logout', 'True'),('tarout', 'True') ,('anomaliesout', 'True') ]\n",
    "    )\n",
    "# check process if completed ...\n",
    "monitorExecution(execute, sleepSecs=5)\n",
    "for o in execute.processOutputs:\n",
    "    print o.reference"
   ]
  },
  {
   "cell_type": "code",
   "execution_count": null,
   "metadata": {
    "collapsed": true
   },
   "outputs": [],
   "source": []
  }
 ],
 "metadata": {
  "anaconda-cloud": {},
  "kernelspec": {
   "display_name": "Python 2",
   "language": "python",
   "name": "python2"
  },
  "language_info": {
   "codemirror_mode": {
    "name": "ipython",
    "version": 2
   },
   "file_extension": ".py",
   "mimetype": "text/x-python",
   "name": "python",
   "nbconvert_exporter": "python",
   "pygments_lexer": "ipython2",
   "version": "2.7.12"
  }
 },
 "nbformat": 4,
 "nbformat_minor": 0
}
