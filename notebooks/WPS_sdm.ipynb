{
 "cells": [
  {
   "cell_type": "code",
   "execution_count": 1,
   "metadata": {
    "collapsed": true
   },
   "outputs": [],
   "source": [
    "\"\"\"Python WPS execute\"\"\"\n",
    "from owslib.wps import WebProcessingService, monitorExecution, printInputOutput\n",
    "from os import system"
   ]
  },
  {
   "cell_type": "code",
   "execution_count": 2,
   "metadata": {
    "collapsed": false
   },
   "outputs": [],
   "source": [
    "wps_url = \"http://localhost:8093/wps\"\n",
    "#wps_url = \"http://birdhouse-lsce.extra.cea.fr:8093/wps\"\n",
    "wps = WebProcessingService(url=wps_url, verbose=False)"
   ]
  },
  {
   "cell_type": "code",
   "execution_count": 3,
   "metadata": {
    "collapsed": false
   },
   "outputs": [
    {
     "name": "stdout",
     "output_type": "stream",
     "text": [
      "Flyingpigeon\n"
     ]
    }
   ],
   "source": [
    "print wps.identification.title"
   ]
  },
  {
   "cell_type": "code",
   "execution_count": 4,
   "metadata": {
    "collapsed": false
   },
   "outputs": [
    {
     "name": "stdout",
     "output_type": "stream",
     "text": [
      "visualisation : \t Just testing a nice script to visualise some variables\n",
      "sdm : \t Species distribution model (SDM)\n",
      "segetalflora : \t Species biodiversity of segetal flora. Imput files: variable:tas , domain: EUR-11 or EUR-44\n",
      "indices_single : \t This process calculates climate indices based on one single variable.\n",
      "subset_countries : \t This process returns only the given polygon from input netCDF files.\n",
      "eobs_to_cordex : \t downloads EOBS data in adaped CORDEX format\n",
      "ensembleRobustness : \t Calculates the robustness as the ratio of noise to signal in an ensemle of timeseries\n",
      "analogs : \t Search for days with analog pressure pattern\n",
      "fetch : \t This process downloads resources (limited to 50GB) to the local file system and returns a textfile with appropriate pathes\n"
     ]
    }
   ],
   "source": [
    "for process in wps.processes:\n",
    "    print '%s : \\t %s' % (process.identifier, process.abstract)"
   ]
  },
  {
   "cell_type": "code",
   "execution_count": 5,
   "metadata": {
    "collapsed": false
   },
   "outputs": [
    {
     "name": "stdout",
     "output_type": "stream",
     "text": [
      " identifier=resources, title=NetCDF File, abstract=NetCDF File, data type=ComplexData\n",
      " Supported Value: mimeType=application/x-netcdf, encoding=None, schema=None\n",
      " Default Value: mimeType=application/x-netcdf, encoding=None, schema=None \n",
      " minOccurs=1, maxOccurs=500\n",
      "\n",
      "\n",
      " identifier=gbif, title=GBIF zip file, abstract=GBIF zip url containing a CSV files with tree locations (e.g.: http://api.gbif.org/v1/occurrence/download/request/0013848-160118175350007.zip), data type=//www.w3.org/TR/xmlschema-2/#string\n",
      " Any value allowed\n",
      " Default Value:  http://api.gbif.org/v1/occurrence/download/request/0013848-160118175350007.zip \n",
      " minOccurs=0, maxOccurs=1\n",
      "\n",
      "\n",
      " identifier=indices, title=Indices, abstract=Climate indices related to growth condition of tree species, data type=//www.w3.org/TR/xmlschema-2/#string\n",
      " Allowed Value: TG_JJA\n",
      " Allowed Value: TNn_Jan\n",
      " Allowed Value: PRCPTOT_JJA\n",
      " Default Value: TG_JJA \n",
      " minOccurs=0, maxOccurs=3\n",
      "\n",
      "\n",
      " identifier=period, title=Reference period, abstract=Reference period for climate condition (all = entire timeserie), data type=//www.w3.org/TR/xmlschema-2/#string\n",
      " Allowed Value: all\n",
      " Allowed Value: 1951-1980\n",
      " Allowed Value: 1961-1990\n",
      " Allowed Value: 1971-2000\n",
      " Allowed Value: 1981-2010\n",
      " Default Value: all \n",
      " minOccurs=0, maxOccurs=1\n",
      "\n",
      "\n"
     ]
    }
   ],
   "source": [
    "p = wps.describeprocess(identifier='sdm')\n",
    "for input in p.dataInputs:\n",
    "    printInputOutput(input)\n",
    "    print '\\n'"
   ]
  },
  {
   "cell_type": "code",
   "execution_count": 6,
   "metadata": {
    "collapsed": true
   },
   "outputs": [],
   "source": [
    "resources = ['/home/nils/.conda/envs/birdhouse/var/lib/cache/pywps/esgf1.dkrz.de/thredds/fileServer/cordex/cordex/output/EUR-11/CLMcom/ICHEC-EC-EARTH/historical/r12i1p1/CLMcom-CCLM4-8-17/v1/day/tas/v20140515/tas_EUR-11_ICHEC-EC-EARTH_historical_r12i1p1_CLMcom-CCLM4-8-17_v1_day_20010101-20051231.nc',\n",
    "'/home/nils/.conda/envs/birdhouse/var/lib/cache/pywps/esgf1.dkrz.de/thredds/fileServer/cordex/cordex/output/EUR-11/CLMcom/ICHEC-EC-EARTH/historical/r12i1p1/CLMcom-CCLM4-8-17/v1/day/pr/v20140515/pr_EUR-11_ICHEC-EC-EARTH_historical_r12i1p1_CLMcom-CCLM4-8-17_v1_day_20010101-20051231.nc',\n",
    "'/home/nils/.conda/envs/birdhouse/var/lib/cache/pywps/esgf1.dkrz.de/thredds/fileServer/cordex/cordex/output/EUR-11/CLMcom/ICHEC-EC-EARTH/historical/r12i1p1/CLMcom-CCLM4-8-17/v1/day/tasmin/v20140515/tasmin_EUR-11_ICHEC-EC-EARTH_historical_r12i1p1_CLMcom-CCLM4-8-17_v1_day_20010101-20051231.nc']"
   ]
  },
  {
   "cell_type": "code",
   "execution_count": 7,
   "metadata": {
    "collapsed": false
   },
   "outputs": [
    {
     "data": {
      "text/plain": [
       "['/home/nils/.conda/envs/birdhouse/var/lib/cache/pywps/esgf1.dkrz.de/thredds/fileServer/cordex/cordex/output/EUR-11/CLMcom/ICHEC-EC-EARTH/historical/r12i1p1/CLMcom-CCLM4-8-17/v1/day/tas/v20140515/tas_EUR-11_ICHEC-EC-EARTH_historical_r12i1p1_CLMcom-CCLM4-8-17_v1_day_20010101-20051231.nc',\n",
       " '/home/nils/.conda/envs/birdhouse/var/lib/cache/pywps/esgf1.dkrz.de/thredds/fileServer/cordex/cordex/output/EUR-11/CLMcom/ICHEC-EC-EARTH/historical/r12i1p1/CLMcom-CCLM4-8-17/v1/day/pr/v20140515/pr_EUR-11_ICHEC-EC-EARTH_historical_r12i1p1_CLMcom-CCLM4-8-17_v1_day_20010101-20051231.nc',\n",
       " '/home/nils/.conda/envs/birdhouse/var/lib/cache/pywps/esgf1.dkrz.de/thredds/fileServer/cordex/cordex/output/EUR-11/CLMcom/ICHEC-EC-EARTH/historical/r12i1p1/CLMcom-CCLM4-8-17/v1/day/tasmin/v20140515/tasmin_EUR-11_ICHEC-EC-EARTH_historical_r12i1p1_CLMcom-CCLM4-8-17_v1_day_20010101-20051231.nc']"
      ]
     },
     "execution_count": 7,
     "metadata": {},
     "output_type": "execute_result"
    }
   ],
   "source": [
    "resources"
   ]
  },
  {
   "cell_type": "code",
   "execution_count": 8,
   "metadata": {
    "collapsed": true
   },
   "outputs": [],
   "source": [
    "gbif_url = 'http://api.gbif.org/v1/occurrence/download/request/0013848-160118175350007.zip'"
   ]
  },
  {
   "cell_type": "code",
   "execution_count": null,
   "metadata": {
    "collapsed": true
   },
   "outputs": [],
   "source": [
    "indices = ['TG_JJA', 'TNn_Jan', 'PRCPTOT_JJA']"
   ]
  },
  {
   "cell_type": "code",
   "execution_count": 26,
   "metadata": {
    "collapsed": false
   },
   "outputs": [],
   "source": [
    "period='all'"
   ]
  },
  {
   "cell_type": "markdown",
   "metadata": {},
   "source": [
    "# build url for asymetric WPS call:"
   ]
  },
  {
   "cell_type": "code",
   "execution_count": 10,
   "metadata": {
    "collapsed": false
   },
   "outputs": [],
   "source": [
    "import requests"
   ]
  },
  {
   "cell_type": "code",
   "execution_count": 16,
   "metadata": {
    "collapsed": false
   },
   "outputs": [
    {
     "name": "stdout",
     "output_type": "stream",
     "text": [
      "resource={resource1};resource={resource2};resource={resource3};gbif={gbif1};indices={indices1};indices={indices2};indices={indices3};\n"
     ]
    }
   ],
   "source": [
    "r = ''\n",
    "for i in range(1,4):\n",
    "    r= '%sresource={resource%s};' % (r,i)\n",
    "r = r + 'gbif={gbif1};'    \n",
    "l = ''\n",
    "for i in range(1,4):\n",
    "    l= '%sindices={indices%s};' % (l,i)\n",
    "r = r + l \n",
    "print r "
   ]
  },
  {
   "cell_type": "code",
   "execution_count": 22,
   "metadata": {
    "collapsed": false
   },
   "outputs": [],
   "source": [
    "async_req_url = \"{wps_url}?\" +\\\n",
    "    \"request=Execute\" +\\\n",
    "    \"&service=WPS\" +\\\n",
    "    \"&version=1.0.0\" +\\\n",
    "    \"&identifier=sdm\" +\\\n",
    "    \"&DataInputs=resource={resource1};resource={resource2};resource={resource3};gbif={gbif1};period={period}=indices={indices1};indices={indices2};indices={indices3}\"+ \\\n",
    "    \"&storeExecuteResponse=true\" +\\\n",
    "    \"&status=true\""
   ]
  },
  {
   "cell_type": "code",
   "execution_count": 27,
   "metadata": {
    "collapsed": false
   },
   "outputs": [
    {
     "name": "stdout",
     "output_type": "stream",
     "text": [
      "http://localhost:8093/wps?request=Execute&service=WPS&version=1.0.0&identifier=sdm&DataInputs=resource=/home/nils/.conda/envs/birdhouse/var/lib/cache/pywps/esgf1.dkrz.de/thredds/fileServer/cordex/cordex/output/EUR-11/CLMcom/ICHEC-EC-EARTH/historical/r12i1p1/CLMcom-CCLM4-8-17/v1/day/tas/v20140515/tas_EUR-11_ICHEC-EC-EARTH_historical_r12i1p1_CLMcom-CCLM4-8-17_v1_day_20010101-20051231.nc;resource=/home/nils/.conda/envs/birdhouse/var/lib/cache/pywps/esgf1.dkrz.de/thredds/fileServer/cordex/cordex/output/EUR-11/CLMcom/ICHEC-EC-EARTH/historical/r12i1p1/CLMcom-CCLM4-8-17/v1/day/pr/v20140515/pr_EUR-11_ICHEC-EC-EARTH_historical_r12i1p1_CLMcom-CCLM4-8-17_v1_day_20010101-20051231.nc;resource=/home/nils/.conda/envs/birdhouse/var/lib/cache/pywps/esgf1.dkrz.de/thredds/fileServer/cordex/cordex/output/EUR-11/CLMcom/ICHEC-EC-EARTH/historical/r12i1p1/CLMcom-CCLM4-8-17/v1/day/tasmin/v20140515/tasmin_EUR-11_ICHEC-EC-EARTH_historical_r12i1p1_CLMcom-CCLM4-8-17_v1_day_20010101-20051231.nc;gbif=http://api.gbif.org/v1/occurrence/download/request/0013848-160118175350007.zip;indices=TG_JJA;indices=TNn_Jan;indices=PRCPTOT_JJA&storeExecuteResponse=true&status=true\n"
     ]
    }
   ],
   "source": [
    "url=async_req_url.format(\n",
    "    wps_url=wps_url,\n",
    "    resource1=resources[0],\n",
    "    resource2=resources[1],\n",
    "    resource3=resources[2],\n",
    "    gbif1=gbif_url,\n",
    "    indices1=indices[0],\n",
    "    indices2=indices[1],\n",
    "    indices3=indices[2],\n",
    "    period=period,\n",
    "    )\n",
    "print url "
   ]
  },
  {
   "cell_type": "code",
   "execution_count": 28,
   "metadata": {
    "collapsed": false
   },
   "outputs": [
    {
     "name": "stdout",
     "output_type": "stream",
     "text": [
      "http://localhost:8090/wpsoutputs/flyingpigeon/pywps-d276081e-eba4-11e5-a76c-c960bbeb35c0.xml\n"
     ]
    }
   ],
   "source": [
    "r = requests.get(url)\n",
    "from lxml import etree\n",
    "from io import BytesIO\n",
    "tree = etree.parse(BytesIO(r.content))\n",
    "#print etree.tostring(tree)\n",
    "status_url = tree.getroot().get(\"statusLocation\")\n",
    "print status_url"
   ]
  },
  {
   "cell_type": "code",
   "execution_count": 29,
   "metadata": {
    "collapsed": false
   },
   "outputs": [
    {
     "name": "stdout",
     "output_type": "stream",
     "text": [
      "200\n",
      "<?xml version=\"1.0\" encoding=\"utf-8\"?>\n",
      "<wps:ExecuteResponse xmlns:wps=\"http://www.opengis.net/wps/1.0.0\" xmlns:ows=\"http://www.opengis.net/ows/1.1\" xmlns:xlink=\"http://www.w3.org/1999/xlink\" xmlns:xsi=\"http://www.w3.org/2001/XMLSchema-instance\" xsi:schemaLocation=\"http://www.opengis.net/wps/1.0.0 http://schemas.opengis.net/wps/1.0.0/wpsExecute_response.xsd\" service=\"WPS\" version=\"1.0.0\" xml:lang=\"en-CA\" serviceInstance=\"http://localhost:8093/wps?service=WPS&amp;request=GetCapabilities&amp;version=1.0.0\" statusLocation=\"http://localhost:8090/wpsoutputs/flyingpigeon/pywps-d276081e-eba4-11e5-a76c-c960bbeb35c0.xml\">\n",
      "    <wps:Process wps:processVersion=\"0.3\">\n",
      "        <ows:Identifier>sdm</ows:Identifier>\n",
      "        <ows:Title>Species distribution model</ows:Title>\n",
      "        <ows:Abstract>Species distribution model (SDM) </ows:Abstract>\n",
      "        <ows:Metadata xlink:title=\"SDM\" xlink:href=\"http://localhost:8093/wps?service=WPS&amp;request=DescribeProcess&amp;version=1.0.0&amp;identifier=sdm\" />\n",
      "    </wps:Process>\n",
      "    <wps:Status creationTime=\"2016-03-16T19:28:06Z\">\n",
      "        <wps:ProcessFailed>\n",
      "            <ows:ExceptionReport version=\"1.0.0\">\n",
      "                <ows:Exception exceptionCode=\"MissingParameterValue\" locator=\"resources\" />\n",
      "            </ows:ExceptionReport>\n",
      "        </wps:ProcessFailed>\n",
      "    </wps:Status>\n",
      "</wps:ExecuteResponse>\n",
      "\n"
     ]
    }
   ],
   "source": [
    "r = requests.get(status_url)\n",
    "print r.status_code\n",
    "print r.text"
   ]
  },
  {
   "cell_type": "code",
   "execution_count": null,
   "metadata": {
    "collapsed": false
   },
   "outputs": [],
   "source": [
    "graphic = 'http://localhost:8090/wpsoutputs/flyingpigeon/output_graphic-5442f43a-ce61-11e5-a317-434222d428b1.png'\n",
    "\n",
    "from IPython.display import Image\n",
    "from IPython.core.display import HTML \n",
    "Image(url= graphic )"
   ]
  }
 ],
 "metadata": {
  "kernelspec": {
   "display_name": "Python 2",
   "language": "python",
   "name": "python2"
  },
  "language_info": {
   "codemirror_mode": {
    "name": "ipython",
    "version": 2
   },
   "file_extension": ".py",
   "mimetype": "text/x-python",
   "name": "python",
   "nbconvert_exporter": "python",
   "pygments_lexer": "ipython2",
   "version": "2.7.11"
  }
 },
 "nbformat": 4,
 "nbformat_minor": 0
}
