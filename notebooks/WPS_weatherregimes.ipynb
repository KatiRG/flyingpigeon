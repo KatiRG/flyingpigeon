{
 "cells": [
  {
   "cell_type": "code",
   "execution_count": 2,
   "metadata": {
    "collapsed": false
   },
   "outputs": [],
   "source": [
    "from os import listdir, system, path\n",
    "\n",
    "\"\"\"Python WPS execute\"\"\"\n",
    "from owslib.wps import WebProcessingService, monitorExecution, printInputOutput\n",
    "#wps_url = \"http://birdhouse-lsce.extra.cea.fr:8093/wps\"\n",
    "wps_url = \"http://localhost:8093/wps\"\n",
    "wps = WebProcessingService(url=wps_url, verbose=False)"
   ]
  },
  {
   "cell_type": "code",
   "execution_count": 3,
   "metadata": {
    "collapsed": false
   },
   "outputs": [
    {
     "name": "stdout",
     "output_type": "stream",
     "text": [
      "Flyingpigeon\n",
      "visualisation : \t Just testing a nice script to visualise some variables\n",
      "sdm : \t Species distribution model (SDM)\n",
      "weatherregimes : \t Weather Regimes based on pressure patterns (kmean method)\n",
      "extractpoints : \t Extract Timeseries for specified coordinates from grid data\n",
      "segetalflora : \t Species biodiversity of segetal flora. Imput files: variable:tas , domain: EUR-11 or EUR-44\n",
      "indices_single : \t This process calculates climate indices based on one single variable.\n",
      "indices_percentile : \t This process calculates climate indices based on one single variable and based on percentils of a referece period.\n",
      "subset_countries : \t This process returns only the given polygon from input netCDF files.\n",
      "eobs_to_cordex : \t downloads EOBS data in adaped CORDEX format\n",
      "ensembleRobustness : \t Calculates the robustness as the ratio of noise to signal in an ensemle of timeseries\n",
      "analogs : \t Search for days with analog pressure pattern\n",
      "fetch : \t This process downloads resources (limited to 50GB)             to the local file system of the birdhouse compute provider\n"
     ]
    }
   ],
   "source": [
    "print wps.identification.title\n",
    "\n",
    "for process in wps.processes:\n",
    "    print '%s : \\t %s' % (process.identifier, process.abstract)"
   ]
  },
  {
   "cell_type": "code",
   "execution_count": 4,
   "metadata": {
    "collapsed": false
   },
   "outputs": [
    {
     "name": "stdout",
     "output_type": "stream",
     "text": [
      " identifier=resources, title=NetCDF File, abstract=NetCDF File, data type=ComplexData\n",
      " Supported Value: mimeType=application/x-netcdf, encoding=None, schema=None\n",
      " Default Value: mimeType=application/x-netcdf, encoding=None, schema=None \n",
      " minOccurs=1, maxOccurs=500\n",
      "\n",
      "\n",
      " identifier=BBox, title=Region, abstract=coordinates to define the region: (minlon,minlat,maxlon,maxlat), data type=//www.w3.org/TR/xmlschema-2/#string\n",
      " Any value allowed\n",
      " Default Value: -80,50,22.5,70 \n",
      " minOccurs=0, maxOccurs=1\n",
      "\n",
      "\n",
      " identifier=time_region, title=Time region, abstract=Select the months to define the time region (None == whole year will be analysed), data type=//www.w3.org/TR/xmlschema-2/#string\n",
      " Allowed Value: 10,11,12,1,2,3\n",
      " Allowed Value: 4,5,6,7,8,9\n",
      " Allowed Value: 12,1,2\n",
      " Allowed Value: 3,4,5\n",
      " Allowed Value: 6,7,8\n",
      " Allowed Value: 9,10,11\n",
      " Allowed Value: None\n",
      " Default Value: 12,1,2 \n",
      " minOccurs=0, maxOccurs=1\n",
      "\n",
      "\n",
      " identifier=observation, title=Observation Data, abstract=Choose an observation dataset for comparison, data type=//www.w3.org/TR/xmlschema-2/#string\n",
      " Allowed Value: NCEP\n",
      " Default Value: NCEP \n",
      " minOccurs=0, maxOccurs=1\n",
      "\n",
      "\n"
     ]
    }
   ],
   "source": [
    "p = wps.describeprocess(identifier='weatherregimes')\n",
    "for input in p.dataInputs:\n",
    "    printInputOutput(input)\n",
    "    print '\\n'"
   ]
  },
  {
   "cell_type": "code",
   "execution_count": 5,
   "metadata": {
    "collapsed": true
   },
   "outputs": [],
   "source": [
    "p = '/home/estimr1/EUCLEIA/gws-access.ceda.ac.uk/public/mohc_shared/EUCLEIA/MOHC/HadGEM3-A-N216/historical/r1i1p1/'\n",
    "#p = '/home/nils/data/eucleia/gws-access.ceda.ac.uk/public/mohc_shared/EUCLEIA/MOHC/HadGEM3-A-N216/historical/r1i1p1/'\n",
    "resources = ['file://%s' % path.join(p,f) for f in listdir(p) if 'psl_' in f ]"
   ]
  },
  {
   "cell_type": "code",
   "execution_count": 6,
   "metadata": {
    "collapsed": false
   },
   "outputs": [
    {
     "name": "stdout",
     "output_type": "stream",
     "text": [
      "resources={resource0};resources={resource1};resources={resource2};resources={resource3};resources={resource4};resources={resource5};\n"
     ]
    }
   ],
   "source": [
    "import requests\n",
    "r = ''\n",
    "for i in range(len(resources)):\n",
    "    r= '%sresources={resource%s};' % (r,i)\n",
    "print r "
   ]
  },
  {
   "cell_type": "code",
   "execution_count": 7,
   "metadata": {
    "collapsed": false
   },
   "outputs": [
    {
     "name": "stdout",
     "output_type": "stream",
     "text": [
      "http://localhost:8093/wps?request=Execute&service=WPS&version=1.0.0&identifier=weatherregimes&DataInputs=resources=file:///home/estimr1/EUCLEIA/gws-access.ceda.ac.uk/public/mohc_shared/EUCLEIA/MOHC/HadGEM3-A-N216/historical/r1i1p1/psl_day_HadGEM3-A-N216_historical_r1i1p1_19800101-19891230.nc;resources=file:///home/estimr1/EUCLEIA/gws-access.ceda.ac.uk/public/mohc_shared/EUCLEIA/MOHC/HadGEM3-A-N216/historical/r1i1p1/psl_day_HadGEM3-A-N216_historical_r1i1p1_19600101-19691230.nc;resources=file:///home/estimr1/EUCLEIA/gws-access.ceda.ac.uk/public/mohc_shared/EUCLEIA/MOHC/HadGEM3-A-N216/historical/r1i1p1/psl_day_HadGEM3-A-N216_historical_r1i1p1_19700101-19791230.nc;resources=file:///home/estimr1/EUCLEIA/gws-access.ceda.ac.uk/public/mohc_shared/EUCLEIA/MOHC/HadGEM3-A-N216/historical/r1i1p1/psl_day_HadGEM3-A-N216_historical_r1i1p1_20100101-20131230.nc;resources=file:///home/estimr1/EUCLEIA/gws-access.ceda.ac.uk/public/mohc_shared/EUCLEIA/MOHC/HadGEM3-A-N216/historical/r1i1p1/psl_day_HadGEM3-A-N216_historical_r1i1p1_20000101-20091230.nc;resources=file:///home/estimr1/EUCLEIA/gws-access.ceda.ac.uk/public/mohc_shared/EUCLEIA/MOHC/HadGEM3-A-N216/historical/r1i1p1/psl_day_HadGEM3-A-N216_historical_r1i1p1_19900101-19991230.nc;&storeExecuteResponse=true&status=true\n"
     ]
    }
   ],
   "source": [
    "async_req_url = \"{wps_url}?\" +\\\n",
    "    \"request=Execute\" +\\\n",
    "    \"&service=WPS\" +\\\n",
    "    \"&version=1.0.0\" +\\\n",
    "    \"&identifier=weatherregimes\" +\\\n",
    "    \"&DataInputs=\"+r+\\\n",
    "    \"&storeExecuteResponse=true\" +\\\n",
    "    \"&status=true\"\n",
    "  \n",
    "  \n",
    "url=async_req_url.format(\n",
    "    wps_url=wps_url,\n",
    "    resource0=resources[0],\n",
    "    resource1=resources[1],\n",
    "    resource2=resources[2],    \n",
    "    resource3=resources[3],\n",
    "    resource4=resources[4],\n",
    "    resource5=resources[5],\n",
    ")\n",
    "print url   "
   ]
  },
  {
   "cell_type": "code",
   "execution_count": 8,
   "metadata": {
    "collapsed": false
   },
   "outputs": [
    {
     "name": "stdout",
     "output_type": "stream",
     "text": [
      "<wps:ExecuteResponse xmlns:wps=\"http://www.opengis.net/wps/1.0.0\" xmlns:ows=\"http://www.opengis.net/ows/1.1\" xmlns:xlink=\"http://www.w3.org/1999/xlink\" xmlns:xsi=\"http://www.w3.org/2001/XMLSchema-instance\" xsi:schemaLocation=\"http://www.opengis.net/wps/1.0.0 http://schemas.opengis.net/wps/1.0.0/wpsExecute_response.xsd\" service=\"WPS\" version=\"1.0.0\" xml:lang=\"en-CA\" serviceInstance=\"http://localhost:8093/wps?service=WPS&amp;request=GetCapabilities&amp;version=1.0.0\" statusLocation=\"http://localhost:8090/wpsoutputs/flyingpigeon/pywps-891d907a-0264-11e6-a605-b1dada5c91c5.xml\">\n",
      "    <wps:Process wps:processVersion=\"0.1\">\n",
      "        <ows:Identifier>weatherregimes</ows:Identifier>\n",
      "        <ows:Title>Weather Regimes</ows:Title>\n",
      "        <ows:Abstract>Weather Regimes based on pressure patterns (kmean method)</ows:Abstract>\n",
      "        <ows:Metadata xlink:title=\"Weather Regimes\" xlink:href=\"http://localhost:8093/wps?service=WPS&amp;request=DescribeProcess&amp;version=1.0.0&amp;identifier=weatherregimes\"/>\n",
      "    </wps:Process>\n",
      "    <wps:Status creationTime=\"2016-04-14T19:15:50Z\">\n",
      "        <wps:ProcessAccepted>Process weatherregimes accepted</wps:ProcessAccepted>\n",
      "    </wps:Status>\n",
      "</wps:ExecuteResponse>\n",
      "http://localhost:8090/wpsoutputs/flyingpigeon/pywps-891d907a-0264-11e6-a605-b1dada5c91c5.xml\n"
     ]
    }
   ],
   "source": [
    "r = requests.get(url)\n",
    "from lxml import etree\n",
    "from io import BytesIO\n",
    "tree = etree.parse(BytesIO(r.content))\n",
    "print etree.tostring(tree)\n",
    "status_url = tree.getroot().get(\"statusLocation\")\n",
    "print status_url"
   ]
  },
  {
   "cell_type": "code",
   "execution_count": 9,
   "metadata": {
    "collapsed": false
   },
   "outputs": [
    {
     "name": "stdout",
     "output_type": "stream",
     "text": [
      "200\n",
      "<?xml version=\"1.0\" encoding=\"utf-8\"?>\n",
      "<wps:ExecuteResponse xmlns:wps=\"http://www.opengis.net/wps/1.0.0\" xmlns:ows=\"http://www.opengis.net/ows/1.1\" xmlns:xlink=\"http://www.w3.org/1999/xlink\" xmlns:xsi=\"http://www.w3.org/2001/XMLSchema-instance\" xsi:schemaLocation=\"http://www.opengis.net/wps/1.0.0 http://schemas.opengis.net/wps/1.0.0/wpsExecute_response.xsd\" service=\"WPS\" version=\"1.0.0\" xml:lang=\"en-CA\" serviceInstance=\"http://localhost:8093/wps?service=WPS&amp;request=GetCapabilities&amp;version=1.0.0\" statusLocation=\"http://localhost:8090/wpsoutputs/flyingpigeon/pywps-891d907a-0264-11e6-a605-b1dada5c91c5.xml\">\n",
      "    <wps:Process wps:processVersion=\"0.1\">\n",
      "        <ows:Identifier>weatherregimes</ows:Identifier>\n",
      "        <ows:Title>Weather Regimes</ows:Title>\n",
      "        <ows:Abstract>Weather Regimes based on pressure patterns (kmean method)</ows:Abstract>\n",
      "        <ows:Metadata xlink:title=\"Weather Regimes\" xlink:href=\"http://localhost:8093/wps?service=WPS&amp;request=DescribeProcess&amp;version=1.0.0&amp;identifier=weatherregimes\" />\n",
      "    </wps:Process>\n",
      "    <wps:Status creationTime=\"2016-04-14T19:15:54Z\">\n",
      "        <wps:ProcessStarted percentCompleted=\"0\">Process weatherregimes started</wps:ProcessStarted>\n",
      "    </wps:Status>\n",
      "</wps:ExecuteResponse>\n",
      "\n"
     ]
    }
   ],
   "source": [
    "r = requests.get(status_url)\n",
    "print r.status_code\n",
    "print r.text"
   ]
  }
 ],
 "metadata": {
  "kernelspec": {
   "display_name": "Python 2",
   "language": "python",
   "name": "python2"
  },
  "language_info": {
   "codemirror_mode": {
    "name": "ipython",
    "version": 2
   },
   "file_extension": ".py",
   "mimetype": "text/x-python",
   "name": "python",
   "nbconvert_exporter": "python",
   "pygments_lexer": "ipython2",
   "version": "2.7.11"
  }
 },
 "nbformat": 4,
 "nbformat_minor": 0
}
