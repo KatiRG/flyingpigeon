{
 "cells": [
  {
   "cell_type": "markdown",
   "metadata": {},
   "source": [
    "## run request with owslib"
   ]
  },
  {
   "cell_type": "code",
   "execution_count": 1,
   "metadata": {
    "collapsed": true
   },
   "outputs": [],
   "source": [
    "from owslib.wps import WebProcessingService, monitorExecution, printInputOutput"
   ]
  },
  {
   "cell_type": "code",
   "execution_count": 2,
   "metadata": {
    "collapsed": false
   },
   "outputs": [],
   "source": [
    "wps = WebProcessingService(url=\"http://birdhouse-lsce.extra.cea.fr:8094/wps\", verbose=False)"
   ]
  },
  {
   "cell_type": "code",
   "execution_count": 3,
   "metadata": {
    "collapsed": false
   },
   "outputs": [
    {
     "name": "stdout",
     "output_type": "stream",
     "text": [
      "helloworld : \t Welcome user and say hello ...\n",
      "ultimatequestionprocess : \t Numerical solution that is the answer to Life, Universe and Everything. The process is an improvement to Deep Tought computer (therefore version 2.0) since it no longer takes 7.5 milion years, but only a few seconds to give a response, with an update of status every 10 seconds.\n",
      "dummyprocess : \t The Dummy process is used for testing the WPS structure. The process will accept 2 input numbers and will return the XML result with an add one and subtract one operation\n",
      "wordcount : \t Counts words in a given text ...\n",
      "inout : \t Just testing data types like date, datetime etc ...\n",
      "multiplesources : \t Process with multiple different sources ...\n",
      "chomsky : \t Generates a random chomsky text ...\n",
      "zonal_mean : \t zonal mean in NetCDF File.\n"
     ]
    }
   ],
   "source": [
    "for process in wps.processes:\n",
    "    print '%s : \\t %s' % (process.identifier, process.abstract, )"
   ]
  },
  {
   "cell_type": "code",
   "execution_count": null,
   "metadata": {
    "collapsed": true
   },
   "outputs": [],
   "source": [
    "p = wps.describeprocess(identifier='ultimatequestionprocess')\n",
    "for input in p.dataInputs:\n",
    "    printInputOutput(input)\n",
    "    "
   ]
  },
  {
   "cell_type": "code",
   "execution_count": 6,
   "metadata": {
    "collapsed": false
   },
   "outputs": [
    {
     "ename": "XMLSyntaxError",
     "evalue": "Opening and ending tag mismatch: hr line 5 and body, line 6, column 8",
     "output_type": "error",
     "traceback": [
      "\u001b[1;36m  File \u001b[1;32m\"<string>\"\u001b[1;36m, line \u001b[1;32munknown\u001b[0m\n\u001b[1;31mXMLSyntaxError\u001b[0m\u001b[1;31m:\u001b[0m Opening and ending tag mismatch: hr line 5 and body, line 6, column 8\n"
     ]
    }
   ],
   "source": [
    "execute = wps.execute(\n",
    "    identifier=\"ultimatequestionprocess\", \n",
    "    inputs=[])\n",
    "\n",
    "monitorExecution(execute, sleepSecs=5)\n",
    "\n",
    "print execute.getStatus()\n",
    "\n",
    "for o in execute.processOutputs:\n",
    "    print o.reference\n",
    "   "
   ]
  },
  {
   "cell_type": "markdown",
   "metadata": {},
   "source": [
    "## run sync request with get parameters"
   ]
  },
  {
   "cell_type": "code",
   "execution_count": 7,
   "metadata": {
    "collapsed": true
   },
   "outputs": [],
   "source": [
    "sync_req_url = \"http://birdhouse-lsce.extra.cea.fr:8094/wps?\" +\\\n",
    "    \"request=Execute\" +\\\n",
    "    \"&service=WPS\" +\\\n",
    "    \"&version=1.0.0\" +\\\n",
    "    \"&identifier=ultimatequestionprocess\" +\\\n",
    "    \"&DataInputs=\" +\\\n",
    "    \"&storeExecuteResponse=false\" +\\\n",
    "    \"&status=false\""
   ]
  },
  {
   "cell_type": "code",
   "execution_count": 8,
   "metadata": {
    "collapsed": false
   },
   "outputs": [
    {
     "name": "stdout",
     "output_type": "stream",
     "text": [
      "http://birdhouse-lsce.extra.cea.fr:8094/wps?request=Execute&service=WPS&version=1.0.0&identifier=ultimatequestionprocess&DataInputs=&storeExecuteResponse=false&status=false\n"
     ]
    }
   ],
   "source": [
    "url=sync_req_url.format()\n",
    "print url   "
   ]
  },
  {
   "cell_type": "code",
   "execution_count": 9,
   "metadata": {
    "collapsed": false
   },
   "outputs": [
    {
     "name": "stdout",
     "output_type": "stream",
     "text": [
      "502\n",
      "<html>\r\n",
      "<head><title>502 Bad Gateway</title></head>\r\n",
      "<body bgcolor=\"white\">\r\n",
      "<center><h1>502 Bad Gateway</h1></center>\r\n",
      "<hr><center>nginx/1.8.0</center>\r\n",
      "</body>\r\n",
      "</html>\r\n",
      "\n"
     ]
    }
   ],
   "source": [
    "import requests\n",
    "r = requests.get(url)\n",
    "print r.status_code\n",
    "print r.text"
   ]
  },
  {
   "cell_type": "markdown",
   "metadata": {},
   "source": [
    "## run async request with get parameters"
   ]
  },
  {
   "cell_type": "code",
   "execution_count": 18,
   "metadata": {
    "collapsed": true
   },
   "outputs": [],
   "source": [
    "async_req_url = \"http://birdhouse-lsce.extra.cea.fr:8094/wps?\" +\\\n",
    "    \"request=Execute\" +\\\n",
    "    \"&service=WPS\" +\\\n",
    "    \"&version=1.0.0\" +\\\n",
    "    \"&identifier=ultimatequestionprocess\" +\\\n",
    "    \"&DataInputs=\" +\\\n",
    "    \"&storeExecuteResponse=true\" +\\\n",
    "    \"&status=true\""
   ]
  },
  {
   "cell_type": "code",
   "execution_count": 19,
   "metadata": {
    "collapsed": false
   },
   "outputs": [
    {
     "name": "stdout",
     "output_type": "stream",
     "text": [
      "http://birdhouse-lsce.extra.cea.fr:8094/wps?request=Execute&service=WPS&version=1.0.0&identifier=ultimatequestionprocess&DataInputs=&storeExecuteResponse=true&status=true\n"
     ]
    }
   ],
   "source": [
    "url=async_req_url.format()\n",
    "print url   "
   ]
  },
  {
   "cell_type": "code",
   "execution_count": 20,
   "metadata": {
    "collapsed": false
   },
   "outputs": [
    {
     "name": "stdout",
     "output_type": "stream",
     "text": [
      "http://birdhouse-lsce.extra.cea.fr:8090/wpsoutputs/emu/pywps-7e9ce004-beaa-11e5-ac13-79c338e72e5f.xml\n"
     ]
    }
   ],
   "source": [
    "r = requests.get(url)\n",
    "from lxml import etree\n",
    "from io import BytesIO\n",
    "tree = etree.parse(BytesIO(r.content))\n",
    "#print etree.tostring(tree)\n",
    "status_url = tree.getroot().get(\"statusLocation\")\n",
    "print status_url"
   ]
  },
  {
   "cell_type": "code",
   "execution_count": 33,
   "metadata": {
    "collapsed": false
   },
   "outputs": [
    {
     "name": "stdout",
     "output_type": "stream",
     "text": [
      "200\n",
      "<?xml version=\"1.0\" encoding=\"utf-8\"?>\n",
      "<wps:ExecuteResponse xmlns:wps=\"http://www.opengis.net/wps/1.0.0\" xmlns:ows=\"http://www.opengis.net/ows/1.1\" xmlns:xlink=\"http://www.w3.org/1999/xlink\" xmlns:xsi=\"http://www.w3.org/2001/XMLSchema-instance\" xsi:schemaLocation=\"http://www.opengis.net/wps/1.0.0 http://schemas.opengis.net/wps/1.0.0/wpsExecute_response.xsd\" service=\"WPS\" version=\"1.0.0\" xml:lang=\"en-CA\" serviceInstance=\"http://birdhouse-lsce.extra.cea.fr:8094/wps?service=WPS&amp;request=GetCapabilities&amp;version=1.0.0\" statusLocation=\"http://birdhouse-lsce.extra.cea.fr:8090/wpsoutputs/emu/pywps-7e9ce004-beaa-11e5-ac13-79c338e72e5f.xml\">\n",
      "    <wps:Process wps:processVersion=\"2.0\">\n",
      "        <ows:Identifier>ultimatequestionprocess</ows:Identifier>\n",
      "        <ows:Title>Answer to Life, the Universe and Everything</ows:Title>\n",
      "        <ows:Abstract>Numerical solution that is the answer to Life, Universe and Everything. The process is an improvement to Deep Tought computer (therefore version 2.0) since it no longer takes 7.5 milion years, but only a few seconds to give a response, with an update of status every 10 seconds.</ows:Abstract>\n",
      "    </wps:Process>\n",
      "    <wps:Status creationTime=\"2016-01-19T13:51:58Z\">\n",
      "        <wps:ProcessSucceeded>PyWPS Process ultimatequestionprocess successfully calculated</wps:ProcessSucceeded>\n",
      "    </wps:Status>\n",
      "    <wps:ProcessOutputs>\n",
      "        <wps:Output>\n",
      "            <ows:Identifier>answer</ows:Identifier>\n",
      "            <ows:Title>The numerical answer to Life, Universe and Everything</ows:Title>\n",
      "            <wps:Data>\n",
      "                <wps:LiteralData dataType=\"integer\">42</wps:LiteralData>\n",
      "            </wps:Data>\n",
      "        </wps:Output>\n",
      "    </wps:ProcessOutputs>\n",
      "</wps:ExecuteResponse>\n"
     ]
    }
   ],
   "source": [
    "r = requests.get(status_url)\n",
    "print r.status_code\n",
    "print r.text"
   ]
  },
  {
   "cell_type": "code",
   "execution_count": null,
   "metadata": {
    "collapsed": true
   },
   "outputs": [],
   "source": []
  },
  {
   "cell_type": "code",
   "execution_count": null,
   "metadata": {
    "collapsed": true
   },
   "outputs": [],
   "source": []
  }
 ],
 "metadata": {
  "kernelspec": {
   "display_name": "Python 2",
   "language": "python",
   "name": "python2"
  },
  "language_info": {
   "codemirror_mode": {
    "name": "ipython",
    "version": 2
   },
   "file_extension": ".py",
   "mimetype": "text/x-python",
   "name": "python",
   "nbconvert_exporter": "python",
   "pygments_lexer": "ipython2",
   "version": "2.7.11"
  }
 },
 "nbformat": 4,
 "nbformat_minor": 0
}
