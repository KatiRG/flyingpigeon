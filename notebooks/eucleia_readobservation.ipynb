{
 "metadata": {
  "name": "",
  "signature": "sha256:70b7ac2c3cb9fead91150e39de59c0a101a09b1d95a32c7d355d24bf8d783fb8"
 },
 "nbformat": 3,
 "nbformat_minor": 0,
 "worksheets": [
  {
   "cells": [
    {
     "cell_type": "code",
     "collapsed": false,
     "input": [
      "import os\n",
      "from pandas import DataFrame, read_csv\n",
      "import matplotlib.pyplot as plt\n",
      "import pandas as pd\n",
      "import numpy as np\n",
      "import datetime as dt\n",
      "\n",
      "import sys\n",
      "\n",
      "%matplotlib inline"
     ],
     "language": "python",
     "metadata": {},
     "outputs": [],
     "prompt_number": 1
    },
    {
     "cell_type": "code",
     "collapsed": false,
     "input": [
      "# set up workspace\n",
      "\n",
      "if 'obelix' in os.uname()[1] or 'asterix' in os.uname()[1]:\n",
      "    env = '/home/estimr2/nhempelmann'\n",
      "else: \n",
      "    env = os.getenv('HOME')\n",
      "    "
     ],
     "language": "python",
     "metadata": {},
     "outputs": [],
     "prompt_number": 2
    },
    {
     "cell_type": "code",
     "collapsed": false,
     "input": [
      "# Path to raw data\n",
      "\n",
      "frpath = os.path.join(env+'/data/euclia/fr/')\n",
      "ukpath = os.path.join(env+'/data/euclia/uk/')\n",
      "\n",
      "csvfiles = [f for f in os.listdir(frpath) if os.path.isfile(os.path.join(frpath,f))] # txt files containing french data"
     ],
     "language": "python",
     "metadata": {},
     "outputs": [],
     "prompt_number": 3
    },
    {
     "cell_type": "code",
     "collapsed": false,
     "input": [
      "from IPython.display import display, clear_output\n",
      "\n",
      "ukrr = pd.read_csv(os.path.join(ukpath,'SouthUKrain.dat'),\n",
      "#                 names = ['Oxford_606','Rothamsted_471','Wisley_719','BognorRegis_782','CambridgeBG_454','Eastbourne_808','EastMalling_744','Goodhurst_742','Hampstead_695','Larkhill_888','OtterbourneWWks_855','WightShanklin_878','Woburn_458'],\n",
      "                 usecols=[0,1,2,3,4,5,6,7,8,9,10,11,12,13,14],\n",
      "                 parse_dates = [0],\n",
      "                 sep='\\t',\n",
      "                 keep_date_col = True,\n",
      "                  na_values=-999,\n",
      "                 index_col =[0])\n",
      "ukrr.columns = ['Oxford_606','Rothamsted_471','Wisley_719','BognorRegis_782','CambridgeBG_454','Eastbourne_808','EastMalling_744','Goodhurst_742','Hampstead_695','HamptonWWks_711','Larkhill_888','OtterbourneWWks_855','WightShanklin_878','Woburn_458']\n",
      "\n",
      "# pd.DatetimeIndex(ukrr['date'],Freq=day )\n",
      "\n",
      "rr = ukrr\n",
      "\n",
      "for f in (csvfiles):\n",
      "  csvfile = os.path.join(frpath + f)\n",
      "  try : \n",
      "    frrr = pd.read_csv(csvfile,\n",
      "                 usecols=[0,1,2],\n",
      "                 parse_dates = [1],\n",
      "                 sep=';',\n",
      "                 keep_date_col = True,\n",
      "                 na_values=-999,\n",
      "                 index_col =[1])\n",
      "    frrr.columns = ['ID','RR']\n",
      "    if (frrr['ID'].nunique()== 1):\n",
      "      ID =  \"ID%d\" % pd.unique(frrr['ID'].values.ravel())\n",
      "      frrr.columns = ['ID',ID]\n",
      "    else:\n",
      "      print 'file', f , 'hase more than one ID'\n",
      "    if ID in rr.columns.values:\n",
      "      rr.update(frrr[ID])\n",
      "    else:   \n",
      "      rr[ID] = frrr[ID]\n",
      "    clear_output(wait=True)\n",
      "    print 'read raw data for %s ' % (ID)\n",
      "  except:\n",
      "    print 'failed for ', f\n",
      "\n",
      "clear_output(wait=True)  \n",
      "print '**** All raw data read into memory'"
     ],
     "language": "python",
     "metadata": {},
     "outputs": [
      {
       "output_type": "stream",
       "stream": "stdout",
       "text": [
        "**** All raw data read into memory\n"
       ]
      }
     ],
     "prompt_number": 6
    },
    {
     "cell_type": "code",
     "collapsed": false,
     "input": [
      "# save as csv\n",
      "\n",
      "rr.to_csv(os.path.join(env+'/data/euclia/allstations.csv')) "
     ],
     "language": "python",
     "metadata": {},
     "outputs": [],
     "prompt_number": 7
    },
    {
     "cell_type": "code",
     "collapsed": false,
     "input": [],
     "language": "python",
     "metadata": {},
     "outputs": []
    }
   ],
   "metadata": {}
  }
 ]
}