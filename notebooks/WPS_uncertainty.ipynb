{
 "cells": [
  {
   "cell_type": "code",
   "execution_count": 1,
   "metadata": {
    "collapsed": true
   },
   "outputs": [],
   "source": [
    "\"\"\"Python WPS execute\"\"\"\n",
    "from owslib.wps import WebProcessingService, monitorExecution\n",
    "from os import system"
   ]
  },
  {
   "cell_type": "code",
   "execution_count": 2,
   "metadata": {
    "collapsed": false
   },
   "outputs": [
    {
     "data": {
      "text/plain": [
       "'0.11-dev'"
      ]
     },
     "execution_count": 2,
     "metadata": {},
     "output_type": "execute_result"
    }
   ],
   "source": [
    "import owslib\n",
    "owslib.__version__ # version must be >=0.10.3"
   ]
  },
  {
   "cell_type": "code",
   "execution_count": 9,
   "metadata": {
    "collapsed": false
   },
   "outputs": [],
   "source": [
    "#wps = WebProcessingService(url=\"http://birdhouse-lsce.extra.cea.fr:8093/wps\", verbose=False)\n",
    "wps = WebProcessingService(url=\"http://localhost:8093/wps\", verbose=False)"
   ]
  },
  {
   "cell_type": "code",
   "execution_count": 10,
   "metadata": {
    "collapsed": false
   },
   "outputs": [
    {
     "name": "stdout",
     "output_type": "stream",
     "text": [
      "Flyingpigeon\n"
     ]
    }
   ],
   "source": [
    "print wps.identification.title"
   ]
  },
  {
   "cell_type": "code",
   "execution_count": 11,
   "metadata": {
    "collapsed": false
   },
   "outputs": [
    {
     "name": "stdout",
     "output_type": "stream",
     "text": [
      "subset_continents : \t Returns only the selected polygon for each input dataset\n",
      "subset_countries : \t Returns only the selected polygon for each input dataset\n",
      "subset_regionseurope : \t Returns the selected European administrative region defined in the GADM database (v2.5) for each input dataset.\n",
      "subset_points : \t Extract Timeseries for specified coordinates from gridded datasets\n",
      "indices_simple : \t Climate indices based on one single input variable.\n",
      "indices_percentile : \t Climate indices based on one single input variable and the percentile of a reference period.\n",
      "weatherregimes_reanalyse : \t Weather Regimes based on pressure patterns, fetching selected Realayses Datasets\n",
      "weatherregimes_model : \t Weather Regimes based on pressure patterns, fetching selected Realayses Datasets\n",
      "weatherregimes_projection : \t Weather Regimes detection based on trained reference statistics\n",
      "analogs_detection : \t Search for days with analogue pressure pattern for reanalyses data sets\n",
      "analogs_model : \t Search for days with analogue pressure pattern in a climate model data set\n",
      "analogs_compare : \t Search in a dataset for days with analogue pressure pattern for a given period in a reanalyses dataset\n",
      "analogs_viewer : \t Visualisation of text output of analogue process\n",
      "segetalflora : \t Species biodiversity of segetal flora. Imput files: variable:tas , domain: EUR-11 or EUR-44\n",
      "sdm_gbifsearch : \t Species distribution model for tree species based on GBIF presence/absence data and climate indices\n",
      "sdm_csv : \t Species distribution model for tree species based on GBIF presence/absence data and climate indices\n",
      "robustness : \t Calculates the robustness as the ratio of noise to signal in an ensemle of timeseries\n",
      "plot_timeseries : \t Plots of the file means over time. Spaghetti and uncertainty plot\n",
      "fetch : \t This process downloads resources (limited to 50GB)             to the local file system of the birdhouse compute provider\n",
      "wps_c4i_simple_indice : \t Computes single input indices of temperature TG, TX, TN, TXx, TXn, TNx, TNn, SU, TR, CSU, GD4, FD, CFD, ID, HD17; of rainfall: CDD, CWD, RR, RR1, SDII, R10mm, R20mm, RX1day, RX5day; and of snowfall: SD, SD1, SD5, SD50. This processes is also available in Climate4Impact and uses ICCLIM.\n",
      "spatial_analog : \t Spatial analogs based on climate indices\n"
     ]
    }
   ],
   "source": [
    "for process in wps.processes:\n",
    "    print '%s : \\t %s' % (process.identifier, process.abstract)"
   ]
  },
  {
   "cell_type": "code",
   "execution_count": 16,
   "metadata": {
    "collapsed": true
   },
   "outputs": [],
   "source": [
    "files = []\n",
    "\n",
    "for i in range(1,16): \n",
    "    files.append('file:///home/estimr2/EUCLEIA/indices/RX5day/DJF/RX5day_DJF_HadGEM3-A-N216_historical_r1i1p%s_19600101-20131230.nc' % (i))\n",
    "    "
   ]
  },
  {
   "cell_type": "code",
   "execution_count": 17,
   "metadata": {
    "collapsed": false,
    "scrolled": true
   },
   "outputs": [
    {
     "data": {
      "text/plain": [
       "['file:///home/estimr2/EUCLEIA/indices/RX5day/DJF/RX5day_DJF_HadGEM3-A-N216_historical_r1i1p1_19600101-20131230.nc',\n",
       " 'file:///home/estimr2/EUCLEIA/indices/RX5day/DJF/RX5day_DJF_HadGEM3-A-N216_historical_r1i1p2_19600101-20131230.nc',\n",
       " 'file:///home/estimr2/EUCLEIA/indices/RX5day/DJF/RX5day_DJF_HadGEM3-A-N216_historical_r1i1p3_19600101-20131230.nc',\n",
       " 'file:///home/estimr2/EUCLEIA/indices/RX5day/DJF/RX5day_DJF_HadGEM3-A-N216_historical_r1i1p4_19600101-20131230.nc',\n",
       " 'file:///home/estimr2/EUCLEIA/indices/RX5day/DJF/RX5day_DJF_HadGEM3-A-N216_historical_r1i1p5_19600101-20131230.nc',\n",
       " 'file:///home/estimr2/EUCLEIA/indices/RX5day/DJF/RX5day_DJF_HadGEM3-A-N216_historical_r1i1p6_19600101-20131230.nc',\n",
       " 'file:///home/estimr2/EUCLEIA/indices/RX5day/DJF/RX5day_DJF_HadGEM3-A-N216_historical_r1i1p7_19600101-20131230.nc',\n",
       " 'file:///home/estimr2/EUCLEIA/indices/RX5day/DJF/RX5day_DJF_HadGEM3-A-N216_historical_r1i1p8_19600101-20131230.nc',\n",
       " 'file:///home/estimr2/EUCLEIA/indices/RX5day/DJF/RX5day_DJF_HadGEM3-A-N216_historical_r1i1p9_19600101-20131230.nc',\n",
       " 'file:///home/estimr2/EUCLEIA/indices/RX5day/DJF/RX5day_DJF_HadGEM3-A-N216_historical_r1i1p10_19600101-20131230.nc',\n",
       " 'file:///home/estimr2/EUCLEIA/indices/RX5day/DJF/RX5day_DJF_HadGEM3-A-N216_historical_r1i1p11_19600101-20131230.nc',\n",
       " 'file:///home/estimr2/EUCLEIA/indices/RX5day/DJF/RX5day_DJF_HadGEM3-A-N216_historical_r1i1p12_19600101-20131230.nc',\n",
       " 'file:///home/estimr2/EUCLEIA/indices/RX5day/DJF/RX5day_DJF_HadGEM3-A-N216_historical_r1i1p13_19600101-20131230.nc',\n",
       " 'file:///home/estimr2/EUCLEIA/indices/RX5day/DJF/RX5day_DJF_HadGEM3-A-N216_historical_r1i1p14_19600101-20131230.nc',\n",
       " 'file:///home/estimr2/EUCLEIA/indices/RX5day/DJF/RX5day_DJF_HadGEM3-A-N216_historical_r1i1p15_19600101-20131230.nc']"
      ]
     },
     "execution_count": 17,
     "metadata": {},
     "output_type": "execute_result"
    }
   ],
   "source": [
    "files"
   ]
  },
  {
   "cell_type": "code",
   "execution_count": 13,
   "metadata": {
    "collapsed": false
   },
   "outputs": [
    {
     "name": "stdout",
     "output_type": "stream",
     "text": [
      " owslib.wps.WPSException : {'locator': 'None', 'code': 'NoApplicableCode', 'text': 'Failed to execute WPS process [robustness]: failed to sort the input files'}\n",
      "ProcessFailed\n"
     ]
    }
   ],
   "source": [
    "from os.path import join\n",
    "\n",
    "execute = wps.execute(\n",
    "    identifier=\"robustness\", \n",
    "    inputs=[\n",
    "       (\"resource\",files[0]),\n",
    "       (\"resource\",files[1]),\n",
    "       (\"resource\",files[2]),\n",
    "       (\"resource\",files[3]),\n",
    "        (\"resource\",files[4]),\n",
    "        (\"resource\",files[5]),\n",
    "        (\"resource\",files[6]),\n",
    "        (\"resource\",files[7]),\n",
    "        (\"resource\",files[8]),\n",
    "        (\"resource\",files[9]),\n",
    "        (\"resource\",files[10]),\n",
    "        (\"resource\",files[11]),\n",
    "        (\"resource\",files[12]),\n",
    "        (\"resource\",files[13]),\n",
    "        (\"resource\",files[14])\n",
    "           ])\n",
    "\n",
    "monitorExecution(execute, sleepSecs=5)\n",
    "\n",
    "print execute.getStatus()\n",
    "\n",
    "for o in execute.processOutputs:\n",
    "    print o.reference"
   ]
  },
  {
   "cell_type": "code",
   "execution_count": 14,
   "metadata": {
    "collapsed": false
   },
   "outputs": [
    {
     "name": "stderr",
     "output_type": "stream",
     "text": [
      "/homel/nhempel/.conda/envs/flyingpigeon/lib/python2.7/site-packages/ocgis/util/environment.py:33: UserWarning: Consider setting the system environment variable \"GDAL_DATA=/homel/nhempel/.conda/envs/flyingpigeon/share/gdal\" to improve load performance\n",
      "  warn(msg)\n"
     ]
    }
   ],
   "source": [
    "from flyingpigeon import utils "
   ]
  },
  {
   "cell_type": "code",
   "execution_count": 37,
   "metadata": {
    "collapsed": false
   },
   "outputs": [],
   "source": [
    "reload(utils)\n",
    "resource = []\n",
    "\n",
    "for i in range(1,16): \n",
    "    resource.append('/home/estimr2/EUCLEIA/indices/RX5day/DJF/RX5day_DJF_HadGEM3-A-N216_historical_r1i1p%s_19600101-20131230.nc' % (i))\n",
    "\n",
    "dic = utils.sort_by_filename(resource)"
   ]
  },
  {
   "cell_type": "code",
   "execution_count": 36,
   "metadata": {
    "collapsed": false
   },
   "outputs": [
    {
     "data": {
      "text/plain": [
       "array([1961-01-16 12:00:00, 1962-01-16 12:00:00, 1963-01-16 12:00:00,\n",
       "       1964-01-16 12:00:00, 1965-01-16 12:00:00, 1966-01-16 12:00:00,\n",
       "       1967-01-16 12:00:00, 1968-01-16 12:00:00, 1969-01-16 12:00:00,\n",
       "       1970-01-16 12:00:00, 1971-01-16 12:00:00, 1972-01-16 12:00:00,\n",
       "       1973-01-16 12:00:00, 1974-01-16 12:00:00, 1975-01-16 12:00:00,\n",
       "       1976-01-16 12:00:00, 1977-01-16 12:00:00, 1978-01-16 12:00:00,\n",
       "       1979-01-16 12:00:00, 1980-01-16 12:00:00, 1981-01-16 12:00:00,\n",
       "       1982-01-16 12:00:00, 1983-01-16 12:00:00, 1984-01-16 12:00:00,\n",
       "       1985-01-16 12:00:00, 1986-01-16 12:00:00, 1987-01-16 12:00:00,\n",
       "       1988-01-16 12:00:00, 1989-01-16 12:00:00, 1990-01-16 12:00:00,\n",
       "       1991-01-16 12:00:00, 1992-01-16 12:00:00, 1993-01-16 12:00:00,\n",
       "       1994-01-16 12:00:00, 1995-01-16 12:00:00, 1996-01-16 12:00:00,\n",
       "       1997-01-16 12:00:00, 1998-01-16 12:00:00, 1999-01-16 12:00:00,\n",
       "       2000-01-16 12:00:00, 2001-01-16 12:00:00, 2002-01-16 12:00:00,\n",
       "       2003-01-16 12:00:00, 2004-01-16 12:00:00, 2005-01-16 12:00:00,\n",
       "       2006-01-16 12:00:00, 2007-01-16 12:00:00, 2008-01-16 12:00:00,\n",
       "       2009-01-16 12:00:00, 2010-01-16 12:00:00, 2011-01-16 12:00:00,\n",
       "       2012-01-16 12:00:00, 2013-01-16 12:00:00], dtype=object)"
      ]
     },
     "execution_count": 36,
     "metadata": {},
     "output_type": "execute_result"
    }
   ],
   "source": [
    "reload(utils)\n",
    "utils.get_time(resource[0])"
   ]
  },
  {
   "cell_type": "code",
   "execution_count": 33,
   "metadata": {
    "collapsed": false
   },
   "outputs": [
    {
     "data": {
      "text/plain": [
       "'/home/estimr2/EUCLEIA/indices/RX5day/DJF/RX5day_DJF_HadGEM3-A-N216_historical_r1i1p1_19600101-20131230.nc'"
      ]
     },
     "execution_count": 33,
     "metadata": {},
     "output_type": "execute_result"
    }
   ],
   "source": [
    "resource[0]"
   ]
  },
  {
   "cell_type": "code",
   "execution_count": 38,
   "metadata": {
    "collapsed": false
   },
   "outputs": [
    {
     "data": {
      "text/plain": [
       "{'RX5day_DJF_HadGEM3-A-N216_historical_r1i1p10_19610116-20130116': ['/home/estimr2/EUCLEIA/indices/RX5day/DJF/RX5day_DJF_HadGEM3-A-N216_historical_r1i1p10_19600101-20131230.nc'],\n",
       " 'RX5day_DJF_HadGEM3-A-N216_historical_r1i1p11_19610116-20130116': ['/home/estimr2/EUCLEIA/indices/RX5day/DJF/RX5day_DJF_HadGEM3-A-N216_historical_r1i1p11_19600101-20131230.nc'],\n",
       " 'RX5day_DJF_HadGEM3-A-N216_historical_r1i1p12_19610116-20130116': ['/home/estimr2/EUCLEIA/indices/RX5day/DJF/RX5day_DJF_HadGEM3-A-N216_historical_r1i1p12_19600101-20131230.nc'],\n",
       " 'RX5day_DJF_HadGEM3-A-N216_historical_r1i1p13_19610116-20130116': ['/home/estimr2/EUCLEIA/indices/RX5day/DJF/RX5day_DJF_HadGEM3-A-N216_historical_r1i1p13_19600101-20131230.nc'],\n",
       " 'RX5day_DJF_HadGEM3-A-N216_historical_r1i1p14_19610116-20130116': ['/home/estimr2/EUCLEIA/indices/RX5day/DJF/RX5day_DJF_HadGEM3-A-N216_historical_r1i1p14_19600101-20131230.nc'],\n",
       " 'RX5day_DJF_HadGEM3-A-N216_historical_r1i1p15_19610116-20130116': ['/home/estimr2/EUCLEIA/indices/RX5day/DJF/RX5day_DJF_HadGEM3-A-N216_historical_r1i1p15_19600101-20131230.nc'],\n",
       " 'RX5day_DJF_HadGEM3-A-N216_historical_r1i1p1_19610116-20130116': ['/home/estimr2/EUCLEIA/indices/RX5day/DJF/RX5day_DJF_HadGEM3-A-N216_historical_r1i1p1_19600101-20131230.nc'],\n",
       " 'RX5day_DJF_HadGEM3-A-N216_historical_r1i1p2_19610116-20130116': ['/home/estimr2/EUCLEIA/indices/RX5day/DJF/RX5day_DJF_HadGEM3-A-N216_historical_r1i1p2_19600101-20131230.nc'],\n",
       " 'RX5day_DJF_HadGEM3-A-N216_historical_r1i1p3_19610116-20130116': ['/home/estimr2/EUCLEIA/indices/RX5day/DJF/RX5day_DJF_HadGEM3-A-N216_historical_r1i1p3_19600101-20131230.nc'],\n",
       " 'RX5day_DJF_HadGEM3-A-N216_historical_r1i1p4_19610116-20130116': ['/home/estimr2/EUCLEIA/indices/RX5day/DJF/RX5day_DJF_HadGEM3-A-N216_historical_r1i1p4_19600101-20131230.nc'],\n",
       " 'RX5day_DJF_HadGEM3-A-N216_historical_r1i1p5_19610116-20130116': ['/home/estimr2/EUCLEIA/indices/RX5day/DJF/RX5day_DJF_HadGEM3-A-N216_historical_r1i1p5_19600101-20131230.nc'],\n",
       " 'RX5day_DJF_HadGEM3-A-N216_historical_r1i1p6_19610116-20130116': ['/home/estimr2/EUCLEIA/indices/RX5day/DJF/RX5day_DJF_HadGEM3-A-N216_historical_r1i1p6_19600101-20131230.nc'],\n",
       " 'RX5day_DJF_HadGEM3-A-N216_historical_r1i1p7_19610116-20130116': ['/home/estimr2/EUCLEIA/indices/RX5day/DJF/RX5day_DJF_HadGEM3-A-N216_historical_r1i1p7_19600101-20131230.nc'],\n",
       " 'RX5day_DJF_HadGEM3-A-N216_historical_r1i1p8_19610116-20130116': ['/home/estimr2/EUCLEIA/indices/RX5day/DJF/RX5day_DJF_HadGEM3-A-N216_historical_r1i1p8_19600101-20131230.nc'],\n",
       " 'RX5day_DJF_HadGEM3-A-N216_historical_r1i1p9_19610116-20130116': ['/home/estimr2/EUCLEIA/indices/RX5day/DJF/RX5day_DJF_HadGEM3-A-N216_historical_r1i1p9_19600101-20131230.nc']}"
      ]
     },
     "execution_count": 38,
     "metadata": {},
     "output_type": "execute_result"
    }
   ],
   "source": [
    "dic"
   ]
  },
  {
   "cell_type": "code",
   "execution_count": null,
   "metadata": {
    "collapsed": true
   },
   "outputs": [],
   "source": []
  }
 ],
 "metadata": {
  "anaconda-cloud": {},
  "kernelspec": {
   "display_name": "Python [default]",
   "language": "python",
   "name": "python2"
  },
  "language_info": {
   "codemirror_mode": {
    "name": "ipython",
    "version": 2
   },
   "file_extension": ".py",
   "mimetype": "text/x-python",
   "name": "python",
   "nbconvert_exporter": "python",
   "pygments_lexer": "ipython2",
   "version": "2.7.12"
  }
 },
 "nbformat": 4,
 "nbformat_minor": 0
}
