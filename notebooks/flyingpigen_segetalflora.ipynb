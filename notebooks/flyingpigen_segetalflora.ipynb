{
 "metadata": {
  "kernelspec": {
   "display_name": "Python 2",
   "language": "python",
   "name": "python2"
  },
  "language_info": {
   "codemirror_mode": {
    "name": "ipython",
    "version": 2
   },
   "file_extension": ".py",
   "mimetype": "text/x-python",
   "name": "python",
   "nbconvert_exporter": "python",
   "pygments_lexer": "ipython2",
   "version": "2.7.8"
  },
  "name": "",
  "signature": "sha256:cfc48d06fe2d40433f1e78dcc3e48861ec9fbde292959e414e20455a55a1565a"
 },
 "nbformat": 3,
 "nbformat_minor": 0,
 "worksheets": [
  {
   "cells": [
    {
     "cell_type": "code",
     "collapsed": true,
     "input": [
      "from owslib.wps import WebProcessingService, monitorExecution\n",
      "wps = WebProcessingService(url=\"http://localhost:8093/wps\", verbose=False)"
     ],
     "language": "python",
     "metadata": {},
     "outputs": [],
     "prompt_number": 6
    },
    {
     "cell_type": "code",
     "collapsed": false,
     "input": [
      "wps.identification.title"
     ],
     "language": "python",
     "metadata": {},
     "outputs": [
      {
       "metadata": {},
       "output_type": "pyout",
       "prompt_number": 7,
       "text": [
        "'Flyingpigeon'"
       ]
      }
     ],
     "prompt_number": 7
    },
    {
     "cell_type": "code",
     "collapsed": false,
     "input": [
      "for process in wps.processes:\n",
      "    print '%s : \\t %s' % (process.identifier, process.abstract)"
     ],
     "language": "python",
     "metadata": {},
     "outputs": [
      {
       "output_type": "stream",
       "stream": "stdout",
       "text": [
        "visualisation : \t Just testing a nice script to visualise some variables\n",
        "extractpoints : \t Extract Timeseries for specified coordinates from grid data\n",
        "analogs : \t Search for days with analog pressure pattern\n",
        "ensembles : \t calling cdo operation to calculate ensembles operations\n",
        "indice : \t Calculation of climate indices based on icclim\n",
        "vbd : \t Collection of models to calculate variables related to vector born diseases\n",
        "segetalflora : \t Species biodiversity of segetal flora\n",
        "eobs_to_cordex : \t Converts EOBS data into CORDEX format\n",
        "simple_indice : \t This process calculates a climate indice for the given input netcdf files.\n",
        "multiple_indices : \t This process calculates multiple climate indices for the given input netcdf files.\n",
        "indices_clipping : \t This process calculates multiple climate indices for the given input netcdf files and clips regions.\n",
        "simple_clipping : \t This process returns only the given region from NetCDF file.\n"
       ]
      }
     ],
     "prompt_number": 8
    },
    {
     "cell_type": "code",
     "collapsed": false,
     "input": [
      "# generate temperature (tas) plot of netcdf file\n",
      "execute = wps.execute(\n",
      "    identifier=\"segetalflora\",\n",
      "    inputs=[\n",
      "    (\"netcdf_file\",\"http://localhost:8090/wpscache/tas_EUR-11_MPI-M-MPI-ESM-LR_historical_r1i1p1_CLMcom-CCLM4-8-17_v1_sem_197101-198010.nc\"),\n",
      "    #(\"netcdf_file\",\"http://localhost:8090/wpscache/tas_EUR-11_MPI-M-MPI-ESM-LR_historical_r1i1p1_CLMcom-CCLM4-8-17_v1_sem_198101-199010.nc\"),\n",
      "    #(\"netcdf_file\",\"http://localhost:8090/wpscache/tas_EUR-11_MPI-M-MPI-ESM-LR_historical_r1i1p1_CLMcom-CCLM4-8-17_v1_sem_199101-200010.nc\"),  \n",
      "    #(\"netcdf_file\",\"http://localhost:8090/wpscache/tas_EUR-11_MPI-M-MPI-ESM-LR_historical_r1i1p1_CLMcom-CCLM4-8-17_v1_sem_20010115-20051016.nc\"),\n",
      "    ],\n",
      "#    climate_type = 2, \n",
      "#    culture_type = ['fallow']\n",
      "    )\n",
      "#output= [('out_fieldmeans', True),('out_polygons', True),('out_tas', True)]   \n",
      "# check process if completed ...\n",
      "monitorExecution(execute, sleepSecs=5)"
     ],
     "language": "python",
     "metadata": {
      "scrolled": true
     },
     "outputs": [
      {
       "output_type": "stream",
       "stream": "stderr",
       "text": [
        "ERROR:owslib:Error: code=NoApplicableCode, locator=None, text=Remote server says: [http://localhost:8090/wpscache/tas_EUR-11_MPI-M-MPI-ESM-LR_historical_r1i1p1_CLMcom-CCLM4-8-17_v1_sem_197101-198010.nc] not found\n"
       ]
      },
      {
       "output_type": "stream",
       "stream": "stdout",
       "text": [
        " owslib.wps.WPSException : {'locator': 'None', 'code': 'NoApplicableCode', 'text': 'Remote server says: [http://localhost:8090/wpscache/tas_EUR-11_MPI-M-MPI-ESM-LR_historical_r1i1p1_CLMcom-CCLM4-8-17_v1_sem_197101-198010.nc] not found'}\n"
       ]
      }
     ],
     "prompt_number": 9
    },
    {
     "cell_type": "code",
     "collapsed": false,
     "input": [
      "execute.getStatus()"
     ],
     "language": "python",
     "metadata": {},
     "outputs": [
      {
       "metadata": {},
       "output_type": "pyout",
       "prompt_number": 21,
       "text": [
        "'ProcessSucceeded'"
       ]
      }
     ],
     "prompt_number": 21
    },
    {
     "cell_type": "code",
     "collapsed": false,
     "input": [
      "for o in execute.processOutputs:\n",
      "    print o.reference ,'\\n'"
     ],
     "language": "python",
     "metadata": {},
     "outputs": [
      {
       "output_type": "stream",
       "stream": "stdout",
       "text": [
        "http://localhost:8090/wpsoutputs/flyingpigeon/tar_fieldmeans-08c86694-f63e-11e4-9f97-ecf4bb9a61a2.tar \n",
        "\n",
        "http://localhost:8090/wpsoutputs/flyingpigeon/tar_polygons-08c86694-f63e-11e4-9f97-ecf4bb9a61a2.tar \n",
        "\n",
        "http://localhost:8090/wpsoutputs/flyingpigeon/tar_tas-08c86694-f63e-11e4-9f97-ecf4bb9a61a2.tar \n",
        "\n"
       ]
      }
     ],
     "prompt_number": 22
    },
    {
     "cell_type": "code",
     "collapsed": true,
     "input": [
      "tar_fieldmeans-9a527ecc-f5aa-11e4-ad05-ecf4bb9a61a2.tar \n",
      "tar_fieldmeans-72fea968-f5aa-11e4-ad05-ecf4bb9a61a2.tar "
     ],
     "language": "python",
     "metadata": {},
     "outputs": [],
     "prompt_number": null
    },
    {
     "cell_type": "code",
     "collapsed": true,
     "input": [
      "from malleefowl import wpslogging as logging\n",
      "logger = logging.getLogger(__name__)"
     ],
     "language": "python",
     "metadata": {},
     "outputs": [],
     "prompt_number": 132
    },
    {
     "cell_type": "code",
     "collapsed": true,
     "input": [],
     "language": "python",
     "metadata": {},
     "outputs": [],
     "prompt_number": null
    }
   ],
   "metadata": {}
  }
 ]
}