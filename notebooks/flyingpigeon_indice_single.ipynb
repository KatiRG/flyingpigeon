{
 "cells": [
  {
   "cell_type": "markdown",
   "metadata": {},
   "source": [
    "Execute WPS icclim processes with PHYTHON "
   ]
  },
  {
   "cell_type": "code",
   "execution_count": 38,
   "metadata": {
    "collapsed": false
   },
   "outputs": [],
   "source": [
    "from owslib.wps import WebProcessingService, monitorExecution\n",
    "wps = WebProcessingService(url=\"http://localhost:8093/wps\", verbose=False, skip_caps=False)"
   ]
  },
  {
   "cell_type": "markdown",
   "metadata": {},
   "source": [
    "Explore some informations:"
   ]
  },
  {
   "cell_type": "code",
   "execution_count": 39,
   "metadata": {
    "collapsed": false
   },
   "outputs": [
    {
     "data": {
      "text/plain": [
       "'Flyingpigeon'"
      ]
     },
     "execution_count": 39,
     "metadata": {},
     "output_type": "execute_result"
    }
   ],
   "source": [
    "wps.identification.title"
   ]
  },
  {
   "cell_type": "code",
   "execution_count": 40,
   "metadata": {
    "collapsed": false
   },
   "outputs": [],
   "source": [
    "for process in wps.processes:\n",
    "    process.identifier, process.title"
   ]
  },
  {
   "cell_type": "code",
   "execution_count": 44,
   "metadata": {
    "collapsed": false
   },
   "outputs": [
    {
     "name": "stdout",
     "output_type": "stream",
     "text": [
      "visualisation \t : Just testing a nice script to visualise some variables \n",
      "extractpoints \t : Extract Timeseries for specified coordinates from grid data \n",
      "segetalflora \t : Species biodiversity of segetal flora. Imput files: variable:tas , domain: EUR-11 or EUR-44 \n",
      "indices_single \t : This process calculates climate indices based on one single variable. \n",
      "subset_countries \t : This process returns only the given polygon from input netCDF files. \n",
      "eobs_to_cordex \t : downloades EOBS data in adaped CORDEX format \n",
      "modelUncertainty \t : Calculates the ensemble mean and uncertainty mask \n"
     ]
    }
   ],
   "source": [
    "for process in wps.processes:\n",
    "    print '%s \\t : %s '% (process.identifier, process.abstract) "
   ]
  },
  {
   "cell_type": "code",
   "execution_count": 48,
   "metadata": {
    "collapsed": false
   },
   "outputs": [
    {
     "name": "stdout",
     "output_type": "stream",
     "text": [
      "http://localhost:8090/wpsoutputs/flyingpigeon/output-2c8a7bec-7bf6-11e5-927d-1cc1de57e207.tar\n"
     ]
    }
   ],
   "source": [
    "execute = wps.execute(\n",
    "    identifier=\"indices_single\",\n",
    "    inputs=[\n",
    "    ('indices','GD4'),\n",
    "    ('groupings','yr'),\n",
    "    ('resource','file:///homel/nhempel/data/cache/pywps/tas_EUR-44_MPI-M-MPI-ESM-LR_historical_r1i1p1_CLMcom-CCLM4-8-17_v1_day_19860101-19901231.nc'), \n",
    "    ('polygons','FRA'),\n",
    "    ('polygons','DEU')],\n",
    "    #outputs = [('logout', 'True'),('tarout', 'True') ,('anomaliesout', 'True') ]\n",
    "    )\n",
    "# check process if completed ...\n",
    "monitorExecution(execute, sleepSecs=5)\n",
    "\n",
    "o = execute.processOutputs[0]\n",
    "print o.reference"
   ]
  },
  {
   "cell_type": "code",
   "execution_count": null,
   "metadata": {
    "collapsed": true
   },
   "outputs": [],
   "source": []
  }
 ],
 "metadata": {
  "kernelspec": {
   "display_name": "Python 2",
   "language": "python",
   "name": "python2"
  },
  "language_info": {
   "codemirror_mode": {
    "name": "ipython",
    "version": 2
   },
   "file_extension": ".py",
   "mimetype": "text/x-python",
   "name": "python",
   "nbconvert_exporter": "python",
   "pygments_lexer": "ipython2",
   "version": "2.7.10"
  }
 },
 "nbformat": 4,
 "nbformat_minor": 0
}
