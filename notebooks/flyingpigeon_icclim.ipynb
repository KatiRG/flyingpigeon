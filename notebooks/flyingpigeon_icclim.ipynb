{
 "cells": [
  {
   "cell_type": "markdown",
   "metadata": {},
   "source": [
    "Execute WPS icclim processes with PHYTHON "
   ]
  },
  {
   "cell_type": "code",
   "execution_count": 1,
   "metadata": {
    "collapsed": false
   },
   "outputs": [],
   "source": [
    "from owslib.wps import WebProcessingService, monitorExecution\n",
    "wps = WebProcessingService(url=\"http://localhost:8093/wps\", verbose=False, skip_caps=False)"
   ]
  },
  {
   "cell_type": "markdown",
   "metadata": {},
   "source": [
    "Explore some informations:"
   ]
  },
  {
   "cell_type": "code",
   "execution_count": 2,
   "metadata": {
    "collapsed": false
   },
   "outputs": [
    {
     "data": {
      "text/plain": [
       "'Flyingpigeon'"
      ]
     },
     "execution_count": 2,
     "metadata": {},
     "output_type": "execute_result"
    }
   ],
   "source": [
    "wps.identification.title"
   ]
  },
  {
   "cell_type": "code",
   "execution_count": 3,
   "metadata": {
    "collapsed": false
   },
   "outputs": [],
   "source": [
    "for process in wps.processes:\n",
    "    process.identifier, process.title"
   ]
  },
  {
   "cell_type": "code",
   "execution_count": 4,
   "metadata": {
    "collapsed": false
   },
   "outputs": [
    {
     "name": "stdout",
     "output_type": "stream",
     "text": [
      "visualisation \t : Just testing a nice script to visualise some variables \n",
      "extractpoints \t : Extract Timeseries for specified coordinates from grid data \n",
      "analogs \t : Search for days with analog pressure pattern \n",
      "ensembles \t : calling cdo operation to calculate ensembles operations \n",
      "indice \t : Calculation of climate indices based on icclim \n",
      "vbd \t : Collection of models to calculate variables related to vector born diseases \n",
      "eobs_to_cordex \t : Converts EOBS data into CORDEX format \n",
      "simple_indice \t : This process calculates a climate indice for the given input netcdf files. \n",
      "multiple_indices \t : This process calculates multiple climate indices for the given input netcdf files. \n",
      "indices_clipping \t : This process calculates multiple climate indices for the given input netcdf files and clips regions. \n",
      "simple_clipping \t : This process returns only the given region from NetCDF file. \n"
     ]
    }
   ],
   "source": [
    "for process in wps.processes:\n",
    "    print '%s \\t : %s '% (process.identifier, process.abstract) "
   ]
  },
  {
   "cell_type": "code",
   "execution_count": 5,
   "metadata": {
    "collapsed": false
   },
   "outputs": [],
   "source": [
    "execute = wps.execute(\n",
    "    identifier=\"indice\",\n",
    "    inputs=[\n",
    "    ('R20mm','True'),\n",
    "    (\"netcdf_file\",\n",
    "     \"http://localhost:8090/wpscache/pr_EUR-44_MPI-M-MPI-ESM-LR_rcp85_r1i1p1_CLMcom-CCLM4-8-17_v1_day_20110101-20151231.nc\")],\n",
    "    #outputs = [('logout', 'True'),('tarout', 'True') ,('anomaliesout', 'True') ]\n",
    "    )\n",
    "# check process if completed ...\n",
    "monitorExecution(execute, sleepSecs=5)"
   ]
  },
  {
   "cell_type": "code",
   "execution_count": 6,
   "metadata": {
    "collapsed": false
   },
   "outputs": [
    {
     "name": "stdout",
     "output_type": "stream",
     "text": [
      "http://localhost:8090/wpsoutputs/flyingpigeon/anomaliesout-a963d158-f5ab-11e4-8822-ecf4bb9a61a2.tar\n"
     ]
    }
   ],
   "source": [
    "o = execute.processOutputs[0]\n",
    "print o.reference"
   ]
  },
  {
   "cell_type": "code",
   "execution_count": 60,
   "metadata": {
    "collapsed": false
   },
   "outputs": [
    {
     "name": "stdout",
     "output_type": "stream",
     "text": [
      "http://localhost:8090/wpsoutputs/flyingpigeon/logout-a0b60a30-e9c1-11e4-9b70-1cc1de57e207.txt\n"
     ]
    }
   ],
   "source": [
    "o = execute.processOutputs[1]\n",
    "print o.reference"
   ]
  },
  {
   "cell_type": "code",
   "execution_count": 61,
   "metadata": {
    "collapsed": false
   },
   "outputs": [],
   "source": [
    "import tarfile"
   ]
  },
  {
   "cell_type": "code",
   "execution_count": null,
   "metadata": {
    "collapsed": false
   },
   "outputs": [],
   "source": []
  }
 ],
 "metadata": {
  "kernelspec": {
   "display_name": "Python 2",
   "language": "python",
   "name": "python2"
  },
  "language_info": {
   "codemirror_mode": {
    "name": "ipython",
    "version": 2
   },
   "file_extension": ".py",
   "mimetype": "text/x-python",
   "name": "python",
   "nbconvert_exporter": "python",
   "pygments_lexer": "ipython2",
   "version": "2.7.8"
  }
 },
 "nbformat": 4,
 "nbformat_minor": 0
}
