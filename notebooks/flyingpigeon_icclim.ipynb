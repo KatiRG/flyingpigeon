{
 "metadata": {
  "name": "",
  "signature": "sha256:af12294f78e934091e41ce5e865aef737705a8dc670ce39c9c0b6329abce05aa"
 },
 "nbformat": 3,
 "nbformat_minor": 0,
 "worksheets": [
  {
   "cells": [
    {
     "cell_type": "markdown",
     "metadata": {},
     "source": [
      "Execute WPS icclim processes with PHYTHON "
     ]
    },
    {
     "cell_type": "code",
     "collapsed": false,
     "input": [
      "from owslib.wps import WebProcessingService, monitorExecution\n",
      "wps = WebProcessingService(url=\"http://localhost:8093/wps\", verbose=False, skip_caps=False)"
     ],
     "language": "python",
     "metadata": {},
     "outputs": [],
     "prompt_number": 1
    },
    {
     "cell_type": "markdown",
     "metadata": {},
     "source": [
      "Explore some informations:"
     ]
    },
    {
     "cell_type": "code",
     "collapsed": false,
     "input": [
      "wps.identification.title"
     ],
     "language": "python",
     "metadata": {},
     "outputs": [
      {
       "metadata": {},
       "output_type": "pyout",
       "prompt_number": 35,
       "text": [
        "'Flyingpigeon'"
       ]
      }
     ],
     "prompt_number": 35
    },
    {
     "cell_type": "code",
     "collapsed": false,
     "input": [
      "for process in wps.processes:\n",
      "    process.identifier, process.title"
     ],
     "language": "python",
     "metadata": {},
     "outputs": [],
     "prompt_number": 41
    },
    {
     "cell_type": "code",
     "collapsed": false,
     "input": [
      "for process in wps.processes:\n",
      "    print '%s \\t : %s '% (process.identifier, process.abstract) "
     ],
     "language": "python",
     "metadata": {},
     "outputs": [
      {
       "output_type": "stream",
       "stream": "stdout",
       "text": [
        "visualisation \t : Just testing a nice script to visualise some variables \n",
        "extractpoints \t : Extract Timeseries for specified coordinates from grid data \n",
        "analogs \t : Search for days with analog pressure pattern \n",
        "ensembles \t : calling cdo operation to calculate ensembles operations \n",
        "indice \t : Calculation of climate indices based on icclim \n",
        "vbd \t : Collection of models to calculate variables related to vector born diseases \n",
        "sflora \t : Species biodiversity of segetal Flora \n",
        "eobs_to_cordex \t : Converts EOBS data into CORDEX format \n",
        "simple_indice \t : This process calculates a climate indice for the given input netcdf files. \n",
        "multiple_indices \t : This process calculates multiple climate indices for the given input netcdf files. \n",
        "indices_clipping \t : This process calculates multiple climate indices for the given input netcdf files and clips regions. \n",
        "simple_clipping \t : This process returns only the given region from NetCDF file. \n"
       ]
      }
     ],
     "prompt_number": 49
    },
    {
     "cell_type": "code",
     "collapsed": false,
     "input": [
      "execute = wps.execute(\n",
      "    identifier=\"indice\",\n",
      "    inputs=[\n",
      "    ('R20mm','True'),\n",
      "    (\"netcdf_file\",\n",
      "     \"http://localhost:8090/wpscache/pr_EUR-44_MPI-M-MPI-ESM-LR_rcp85_r1i1p1_CLMcom-CCLM4-8-17_v1_day_20110101-20151231.nc\")],\n",
      "    #outputs = [('logout', 'True'),('tarout', 'True') ,('anomaliesout', 'True') ]\n",
      "    )\n",
      "# check process if completed ...\n",
      "monitorExecution(execute, sleepSecs=5)"
     ],
     "language": "python",
     "metadata": {},
     "outputs": [],
     "prompt_number": 58
    },
    {
     "cell_type": "code",
     "collapsed": false,
     "input": [
      "o = execute.processOutputs[0]\n",
      "print o.reference"
     ],
     "language": "python",
     "metadata": {},
     "outputs": [
      {
       "output_type": "stream",
       "stream": "stdout",
       "text": [
        "http://localhost:8090/wpsoutputs/flyingpigeon/anomaliesout-a0b60a30-e9c1-11e4-9b70-1cc1de57e207.tar\n"
       ]
      }
     ],
     "prompt_number": 59
    },
    {
     "cell_type": "code",
     "collapsed": false,
     "input": [
      "o = execute.processOutputs[1]\n",
      "print o.reference"
     ],
     "language": "python",
     "metadata": {},
     "outputs": [
      {
       "output_type": "stream",
       "stream": "stdout",
       "text": [
        "http://localhost:8090/wpsoutputs/flyingpigeon/logout-a0b60a30-e9c1-11e4-9b70-1cc1de57e207.txt\n"
       ]
      }
     ],
     "prompt_number": 60
    },
    {
     "cell_type": "code",
     "collapsed": false,
     "input": [
      "import tarfile"
     ],
     "language": "python",
     "metadata": {},
     "outputs": [],
     "prompt_number": 61
    },
    {
     "cell_type": "code",
     "collapsed": false,
     "input": [],
     "language": "python",
     "metadata": {},
     "outputs": []
    }
   ],
   "metadata": {}
  }
 ]
}