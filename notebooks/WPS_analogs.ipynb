{
 "cells": [
  {
   "cell_type": "code",
   "execution_count": 1,
   "metadata": {
    "collapsed": true
   },
   "outputs": [],
   "source": [
    "\"\"\"Python WPS execute\"\"\"\n",
    "from owslib.wps import WebProcessingService, monitorExecution, printInputOutput\n",
    "from os import system\n",
    "import time"
   ]
  },
  {
   "cell_type": "code",
   "execution_count": 2,
   "metadata": {
    "collapsed": false
   },
   "outputs": [],
   "source": [
    "#wps_url = \"http://birdhouse-lsce.extra.cea.fr:8093/wps\"\n",
    "wps_url = \"http://localhost:8093/wps\"\n",
    "wps = WebProcessingService(url=wps_url, verbose=False)"
   ]
  },
  {
   "cell_type": "code",
   "execution_count": 3,
   "metadata": {
    "collapsed": false
   },
   "outputs": [
    {
     "name": "stdout",
     "output_type": "stream",
     "text": [
      "Flyingpigeon:\n",
      "#############\n",
      "subset_continents : \t Returns only the selected polygon for each input dataset\n",
      "subset_countries : \t Returns only the selected polygon for each input dataset\n",
      "subset_regionseurope : \t Returns only the selected polygon for each input dataset\n",
      "subset_points : \t Extract Timeseries for specified coordinates from gridded datasets\n",
      "indices_single : \t This process calculates climate indices based on one single input variable.\n",
      "indices_percentile : \t Calculation of climate indices based on one single input variable and based on percentils of a referece period.\n",
      "weatherregimes_reanalyse : \t Weather Regimes based on pressure patterns, fetching selected Realayses Datasets\n",
      "weatherregimes_models : \t Weather Regimes based on pressure patterns, fetching selected Realayses Datasets\n",
      "weatherregimes_compare : \t Weather Regimes based on pressure patterns, fetching selected Realayses Datasets\n",
      "robustness : \t Calculates the robustness as the ratio of noise to signal in an ensemle of timeseries\n",
      "analogs : \t Search for days with analog pressure pattern\n",
      "analogs_viewer : \t Visualisation of text output of analogue process\n",
      "segetalflora : \t Species biodiversity of segetal flora. Imput files: variable:tas , domain: EUR-11 or EUR-44\n",
      "sdm_gbifsearch : \t Species distribution model for tree species based on GBIF presens/absence data and climate indices\n",
      "sdm_csv : \t Species distribution model for tree species based on GBIF presens/absence data and climate indices\n",
      "plot_timeseries : \t Plots of the filesmeans over time. Spagetti and uncertainty plot\n",
      "eobs_to_cordex : \t downloads EOBS data in adaped CORDEX format\n",
      "fetch : \t This process downloads resources (limited to 50GB)             to the local file system of the birdhouse compute provider\n"
     ]
    }
   ],
   "source": [
    "print wps.identification.title + ':'\n",
    "print '#############'\n",
    "for process in wps.processes:\n",
    "    print '%s : \\t %s' % (process.identifier, process.abstract)"
   ]
  },
  {
   "cell_type": "code",
   "execution_count": 4,
   "metadata": {
    "collapsed": false
   },
   "outputs": [
    {
     "name": "stdout",
     "output_type": "stream",
     "text": [
      " identifier=experiment, title=Data experiment, abstract=Choose the experiment (if 'None' is selected, provide a resource), data type=//www.w3.org/TR/xmlschema-2/#string\n",
      " Allowed Value: NCEP_slp\n",
      " Allowed Value: NCEP_z1000\n",
      " Allowed Value: NCEP_z925\n",
      " Allowed Value: NCEP_z850\n",
      " Allowed Value: NCEP_z700\n",
      " Allowed Value: NCEP_z600\n",
      " Allowed Value: NCEP_z500\n",
      " Allowed Value: NCEP_z400\n",
      " Allowed Value: NCEP_z300\n",
      " Allowed Value: NCEP_z250\n",
      " Allowed Value: NCEP_z200\n",
      " Allowed Value: NCEP_z150\n",
      " Allowed Value: NCEP_z100\n",
      " Allowed Value: NCEP_z70\n",
      " Allowed Value: NCEP_z50\n",
      " Allowed Value: NCEP_z30\n",
      " Allowed Value: NCEP_z20\n",
      " Allowed Value: NCEP_z10\n",
      " Allowed Value: 20CRV2_prmsl\n",
      " Allowed Value: 20CRV2_z1000\n",
      " Allowed Value: 20CRV2_z950\n",
      " Allowed Value: 20CRV2_z900\n",
      " Allowed Value: 20CRV2_z850\n",
      " Allowed Value: 20CRV2_z800\n",
      " Allowed Value: 20CRV2_z750\n",
      " Allowed Value: 20CRV2_z700\n",
      " Allowed Value: 20CRV2_z650\n",
      " Allowed Value: 20CRV2_z600\n",
      " Allowed Value: 20CRV2_z550\n",
      " Allowed Value: 20CRV2_z500\n",
      " Allowed Value: 20CRV2_z450\n",
      " Allowed Value: 20CRV2_z400\n",
      " Allowed Value: 20CRV2_z350\n",
      " Allowed Value: 20CRV2_z300\n",
      " Allowed Value: 20CRV2_z250\n",
      " Allowed Value: 20CRV2_z200\n",
      " Allowed Value: 20CRV2_z150\n",
      " Allowed Value: 20CRV2_z100\n",
      " Allowed Value: 20CRV2_z70\n",
      " Allowed Value: 20CRV2_z50\n",
      " Allowed Value: 20CRV2_z30\n",
      " Allowed Value: 20CRV2_z20\n",
      " Allowed Value: 20CRV2_z10\n",
      " Allowed Value: 20CRV2c_prmsl\n",
      " Allowed Value: 20CRV2c_z1000\n",
      " Allowed Value: 20CRV2c_z950\n",
      " Allowed Value: 20CRV2c_z900\n",
      " Allowed Value: 20CRV2c_z850\n",
      " Allowed Value: 20CRV2c_z800\n",
      " Allowed Value: 20CRV2c_z750\n",
      " Allowed Value: 20CRV2c_z700\n",
      " Allowed Value: 20CRV2c_z650\n",
      " Allowed Value: 20CRV2c_z600\n",
      " Allowed Value: 20CRV2c_z550\n",
      " Allowed Value: 20CRV2c_z500\n",
      " Allowed Value: 20CRV2c_z450\n",
      " Allowed Value: 20CRV2c_z400\n",
      " Allowed Value: 20CRV2c_z350\n",
      " Allowed Value: 20CRV2c_z300\n",
      " Allowed Value: 20CRV2c_z250\n",
      " Allowed Value: 20CRV2c_z200\n",
      " Allowed Value: 20CRV2c_z150\n",
      " Allowed Value: 20CRV2c_z100\n",
      " Allowed Value: 20CRV2c_z70\n",
      " Allowed Value: 20CRV2c_z50\n",
      " Allowed Value: 20CRV2c_z30\n",
      " Allowed Value: 20CRV2c_z20\n",
      " Allowed Value: 20CRV2c_z10\n",
      " Default Value: NCEP \n",
      " minOccurs=0, maxOccurs=1\n",
      "\n",
      "\n",
      " identifier=region, title=Region, abstract=coordinates to define the region: (minlon,minlat,maxlon,maxlat), data type=//www.w3.org/TR/xmlschema-2/#string\n",
      " Any value allowed\n",
      " Default Value: -80,50,22.5,70 \n",
      " minOccurs=0, maxOccurs=1\n",
      "\n",
      "\n",
      " identifier=dateSt, title=Start date of analyse period, abstract=This is a Date: 2013-07-15, data type=//www.w3.org/TR/xmlschema-2/#string\n",
      " Any value allowed\n",
      " Default Value: 2013-07-15 \n",
      " minOccurs=0, maxOccurs=1\n",
      "\n",
      "\n",
      " identifier=dateEn, title=End date of analyse period, abstract=This is a Date: 2013-12-31, data type=//www.w3.org/TR/xmlschema-2/#string\n",
      " Any value allowed\n",
      " Default Value: 2014-12-31 \n",
      " minOccurs=0, maxOccurs=1\n",
      "\n",
      "\n",
      " identifier=refSt, title=Start reference period, abstract=Start YEAR of reference period, data type=//www.w3.org/TR/xmlschema-2/#string\n",
      " Any value allowed\n",
      " Default Value: 1955-01-01 \n",
      " minOccurs=0, maxOccurs=1\n",
      "\n",
      "\n",
      " identifier=refEn, title=End reference period, abstract=End YEAR of reference period, data type=//www.w3.org/TR/xmlschema-2/#string\n",
      " Any value allowed\n",
      " Default Value: 1957-12-31 \n",
      " minOccurs=0, maxOccurs=1\n",
      "\n",
      "\n",
      " identifier=normalize, title=normalisation, abstract=Normalize by substraction of annual cycle, data type=//www.w3.org/TR/xmlschema-2/#string\n",
      " Allowed Value: None\n",
      " Allowed Value: base\n",
      " Allowed Value: sim\n",
      " Allowed Value: own\n",
      " Default Value: base \n",
      " minOccurs=0, maxOccurs=1\n",
      "\n",
      "\n",
      " identifier=dist, title=Distance, abstract=Distance function to define analogues, data type=//www.w3.org/TR/xmlschema-2/#string\n",
      " Allowed Value: euclidean\n",
      " Allowed Value: mahalanobis\n",
      " Allowed Value: cosine\n",
      " Allowed Value: of\n",
      " Default Value: euclidean \n",
      " minOccurs=0, maxOccurs=1\n",
      "\n",
      "\n",
      " identifier=outformat, title=output file format, abstract=Choose the output format for the analog output file, data type=//www.w3.org/TR/xmlschema-2/#string\n",
      " Allowed Value: ascii\n",
      " Allowed Value: netCDF4\n",
      " Default Value: ascii \n",
      " minOccurs=0, maxOccurs=1\n",
      "\n",
      "\n",
      " identifier=timewin, title=Time window, abstract=Nr of days following the analog day, data type=//www.w3.org/TR/xmlschema-2/#integer\n",
      " Any value allowed\n",
      " Default Value: 30 \n",
      " minOccurs=0, maxOccurs=1\n",
      "\n",
      "\n"
     ]
    }
   ],
   "source": [
    "# print out some information for input argumnets\n",
    "p = wps.describeprocess(identifier='analogs')\n",
    "for input in p.dataInputs:\n",
    "    printInputOutput(input)\n",
    "    print '\\n'"
   ]
  },
  {
   "cell_type": "code",
   "execution_count": 5,
   "metadata": {
    "collapsed": true
   },
   "outputs": [],
   "source": [
    "wps.execute?"
   ]
  },
  {
   "cell_type": "code",
   "execution_count": null,
   "metadata": {
    "collapsed": false
   },
   "outputs": [],
   "source": [
    "from os.path import join\n",
    "\n",
    "# call async with sleepSecs\n",
    "\n",
    "start_time = time.time()\n",
    "\n",
    "execute = wps.execute(\n",
    "    identifier=\"analogs\", \n",
    "    inputs=[(\"dist\",'euclidean')], async=True)\n",
    "\n",
    "monitorExecution(execute, sleepSecs=1)\n",
    "\n",
    "print time.time() - start_time, \"seconds\"\n",
    "\n",
    "print execute.getStatus()\n",
    "\n",
    "for o in execute.processOutputs:\n",
    "    print o.reference"
   ]
  },
  {
   "cell_type": "code",
   "execution_count": 15,
   "metadata": {
    "collapsed": false
   },
   "outputs": [
    {
     "name": "stdout",
     "output_type": "stream",
     "text": [
      "17.2760841846 seconds\n",
      "ProcessSucceeded\n",
      "http://localhost:8090/wpsoutputs/flyingpigeon/analogs-dbc8ad9a-378f-11e6-b788-2961bc5eb4c9.txt\n",
      "http://localhost:8090/wpsoutputs/flyingpigeon/config-dbc8ad9a-378f-11e6-b788-2961bc5eb4c9.txt\n"
     ]
    }
   ],
   "source": [
    "# call sync\n",
    "\n",
    "start_time = time.time()\n",
    "\n",
    "execute = wps.execute(\n",
    "    identifier=\"analogs\", \n",
    "    inputs=[(\"dist\",'euclidean')], async=False)\n",
    "\n",
    "print time.time() - start_time, \"seconds\"\n",
    "\n",
    "print execute.getStatus()\n",
    "\n",
    "for o in execute.processOutputs:\n",
    "    print o.reference"
   ]
  },
  {
   "cell_type": "code",
   "execution_count": 14,
   "metadata": {
    "collapsed": false
   },
   "outputs": [
    {
     "name": "stdout",
     "output_type": "stream",
     "text": [
      "68.4199931622 seconds\n",
      "ProcessSucceeded\n",
      "http://localhost:8090/wpsoutputs/flyingpigeon/analogs-8aecb83e-37b8-11e6-98bd-c5347f71c295.txt\n",
      "http://localhost:8090/wpsoutputs/flyingpigeon/config-8aecb83e-37b8-11e6-98bd-c5347f71c295.txt\n"
     ]
    }
   ],
   "source": [
    "# case 1, async\n",
    "\n",
    "inputs=[(\"dateSt\",'2013-01-01'),(\"refEn\",'1995-12-31')]\n",
    "\n",
    "start_time = time.time()\n",
    "\n",
    "execute = wps.execute(identifier=\"analogs\", inputs=inputs, async=True)\n",
    "\n",
    "monitorExecution(execute, sleepSecs=1)\n",
    "\n",
    "print time.time() - start_time, \"seconds\"\n",
    "\n",
    "print execute.getStatus()\n",
    "\n",
    "for o in execute.processOutputs:\n",
    "    print o.reference"
   ]
  },
  {
   "cell_type": "code",
   "execution_count": 15,
   "metadata": {
    "collapsed": false
   },
   "outputs": [
    {
     "name": "stdout",
     "output_type": "stream",
     "text": [
      "232.320956945 seconds\n",
      "ProcessSucceeded\n",
      "http://localhost:8090/wpsoutputs/flyingpigeon/analogs-3ed42aa0-37bc-11e6-98bd-c5347f71c295.txt\n",
      "http://localhost:8090/wpsoutputs/flyingpigeon/config-3ed42aa0-37bc-11e6-98bd-c5347f71c295.txt\n"
     ]
    }
   ],
   "source": [
    "# case 2, async\n",
    "\n",
    "inputs=[(\"dateSt\",'2005-01-01'),(\"refEn\",'1995-12-31')]\n",
    "\n",
    "start_time = time.time()\n",
    "\n",
    "execute = wps.execute(identifier=\"analogs\", inputs=inputs, async=True)\n",
    "\n",
    "monitorExecution(execute, sleepSecs=1)\n",
    "\n",
    "print time.time() - start_time, \"seconds\"\n",
    "\n",
    "print execute.getStatus()\n",
    "\n",
    "for o in execute.processOutputs:\n",
    "    print o.reference"
   ]
  },
  {
   "cell_type": "code",
   "execution_count": null,
   "metadata": {
    "collapsed": true
   },
   "outputs": [],
   "source": []
  }
 ],
 "metadata": {
  "kernelspec": {
   "display_name": "Python 2",
   "language": "python",
   "name": "python2"
  },
  "language_info": {
   "codemirror_mode": {
    "name": "ipython",
    "version": 2
   },
   "file_extension": ".py",
   "mimetype": "text/x-python",
   "name": "python",
   "nbconvert_exporter": "python",
   "pygments_lexer": "ipython2",
   "version": "2.7.11"
  }
 },
 "nbformat": 4,
 "nbformat_minor": 0
}
