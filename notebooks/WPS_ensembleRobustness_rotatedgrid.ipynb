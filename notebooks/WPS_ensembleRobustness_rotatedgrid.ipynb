{
 "cells": [
  {
   "cell_type": "code",
   "execution_count": 1,
   "metadata": {
    "collapsed": true
   },
   "outputs": [],
   "source": [
    "\"\"\"Python WPS execute\"\"\"\n",
    "from owslib.wps import WebProcessingService, monitorExecution, printInputOutput\n",
    "from os import system"
   ]
  },
  {
   "cell_type": "code",
   "execution_count": 2,
   "metadata": {
    "collapsed": false
   },
   "outputs": [],
   "source": [
    "#import owslib\n",
    "#owslib.__version__ # version must be >=0.10.3"
   ]
  },
  {
   "cell_type": "code",
   "execution_count": 3,
   "metadata": {
    "collapsed": false
   },
   "outputs": [],
   "source": [
    "wps_url = \"http://localhost:8093/wps\"\n",
    "#wps_url = \"http://birdhouse-lsce.extra.cea.fr:8093/wps\"\n",
    "wps = WebProcessingService(url=wps_url, verbose=False)"
   ]
  },
  {
   "cell_type": "code",
   "execution_count": 4,
   "metadata": {
    "collapsed": false
   },
   "outputs": [
    {
     "name": "stdout",
     "output_type": "stream",
     "text": [
      "Flyingpigeon\n"
     ]
    }
   ],
   "source": [
    "print wps.identification.title"
   ]
  },
  {
   "cell_type": "code",
   "execution_count": 5,
   "metadata": {
    "collapsed": false
   },
   "outputs": [
    {
     "name": "stdout",
     "output_type": "stream",
     "text": [
      "visualisation : \t Just testing a nice script to visualise some variables\n",
      "segetalflora : \t Species biodiversity of segetal flora. Imput files: variable:tas , domain: EUR-11 or EUR-44\n",
      "indices_single : \t This process calculates climate indices based on one single variable.\n",
      "subset_countries : \t This process returns only the given polygon from input netCDF files.\n",
      "eobs_to_cordex : \t downloads EOBS data in adaped CORDEX format\n",
      "ensembleRobustness : \t Calculates the robustness as the ratio of noise to signal in an ensemle of timeseries\n",
      "analogs : \t Search for days with analog pressure pattern\n",
      "fetch : \t This process downloads resources (limited to 50GB) to the local file system and returns a textfile with appropriate pathes\n"
     ]
    }
   ],
   "source": [
    "for process in wps.processes:\n",
    "    print '%s : \\t %s' % (process.identifier, process.abstract)"
   ]
  },
  {
   "cell_type": "code",
   "execution_count": 6,
   "metadata": {
    "collapsed": false
   },
   "outputs": [
    {
     "name": "stdout",
     "output_type": "stream",
     "text": [
      " identifier=resource, title=NetCDF Files, abstract=NetCDF Files, data type=ComplexData\n",
      " Supported Value: mimeType=application/x-netcdf, encoding=None, schema=None\n",
      " Default Value: mimeType=application/x-netcdf, encoding=None, schema=None \n",
      " minOccurs=1, maxOccurs=100\n",
      "\n",
      "\n",
      " identifier=start, title=Start Year, abstract=Beginn of the analysed period (e.g 1971; if not set, the first consistend year of the ensemble will be taken), data type=//www.w3.org/TR/xmlschema-2/#integer\n",
      " Any value allowed\n",
      " Default Value: None \n",
      " minOccurs=0, maxOccurs=1\n",
      "\n",
      "\n",
      " identifier=end, title=End Year, abstract=End of the analysed period (e.g. 2050 if not set, the last consistend year of the ensemble will be taken), data type=//www.w3.org/TR/xmlschema-2/#integer\n",
      " Any value allowed\n",
      " Default Value: None \n",
      " minOccurs=0, maxOccurs=1\n",
      "\n",
      "\n",
      " identifier=timeslice, title=Time slice, abstract=Time slice (in years) for robustness reference (default=10)), data type=//www.w3.org/TR/xmlschema-2/#integer\n",
      " Any value allowed\n",
      " Default Value: None \n",
      " minOccurs=0, maxOccurs=1\n",
      "\n",
      "\n",
      " identifier=variable, title=Variable, abstract=Variable to be expected in the input files (Variable will be detected if not set, ), data type=//www.w3.org/TR/xmlschema-2/#string\n",
      " Any value allowed\n",
      " Default Value: None \n",
      " minOccurs=0, maxOccurs=1\n",
      "\n",
      "\n"
     ]
    }
   ],
   "source": [
    "p = wps.describeprocess(identifier='ensembleRobustness')\n",
    "for input in p.dataInputs:\n",
    "    printInputOutput(input)\n",
    "    print '\\n'"
   ]
  },
  {
   "cell_type": "code",
   "execution_count": 10,
   "metadata": {
    "collapsed": false
   },
   "outputs": [],
   "source": [
    "path = 'file:///homel/nhempel/data/cache/pywps/'\n",
    "\n",
    "files = ['tas_EUR-44_NOAA-GFDL-GFDL-ESM2M_historical_r1i1p1_SMHI-RCA4_v1_sem_198012-199011.nc',\n",
    "'tas_EUR-44_NOAA-GFDL-GFDL-ESM2M_historical_r1i1p1_SMHI-RCA4_v1_sem_199012-200011.nc',\n",
    "'tas_EUR-44_NOAA-GFDL-GFDL-ESM2M_historical_r1i1p1_SMHI-RCA4_v1_sem_200012-200511.nc',\n",
    "'tas_EUR-44_NOAA-GFDL-GFDL-ESM2M_rcp45_r1i1p1_SMHI-RCA4_v1_sem_200512-201011.nc',\n",
    "'tas_EUR-44_NOAA-GFDL-GFDL-ESM2M_rcp45_r1i1p1_SMHI-RCA4_v1_sem_201012-202011.nc',\n",
    "'tas_EUR-44_NOAA-GFDL-GFDL-ESM2M_rcp45_r1i1p1_SMHI-RCA4_v1_sem_202012-203011.nc',\n",
    "'tas_EUR-44_NOAA-GFDL-GFDL-ESM2M_rcp45_r1i1p1_SMHI-RCA4_v1_sem_203012-204011.nc'   \n",
    "]"
   ]
  },
  {
   "cell_type": "code",
   "execution_count": 12,
   "metadata": {
    "collapsed": false
   },
   "outputs": [
    {
     "name": "stdout",
     "output_type": "stream",
     "text": [
      "ProcessSucceeded\n",
      "http://localhost:8090/wpsoutputs/flyingpigeon/output_graphic-bedc7e18-d723-11e5-a1ca-3563193f887d.png\n",
      "http://localhost:8090/wpsoutputs/flyingpigeon/output_high-bedc7e18-d723-11e5-a1ca-3563193f887d.nc\n",
      "http://localhost:8090/wpsoutputs/flyingpigeon/output_text-bedc7e18-d723-11e5-a1ca-3563193f887d.txt\n",
      "http://localhost:8090/wpsoutputs/flyingpigeon/output_low-bedc7e18-d723-11e5-a1ca-3563193f887d.nc\n",
      "http://localhost:8090/wpsoutputs/flyingpigeon/output_signal-bedc7e18-d723-11e5-a1ca-3563193f887d.nc\n"
     ]
    }
   ],
   "source": [
    "from os.path import join\n",
    "\n",
    "execute = wps.execute(\n",
    "    identifier=\"ensembleRobustness\", #indices_clipping\",\n",
    "    inputs=[\n",
    "       (\"resource\",path+files[0]),\n",
    "       (\"resource\",path+files[1]),\n",
    "       (\"resource\",path+files[2]),\n",
    "        (\"resource\",path+files[3]),\n",
    "        (\"resource\",path+files[4]),\n",
    "        (\"resource\",path+files[5]),\n",
    "        (\"start\",'1991'),\n",
    "        (\"end\",'2005'),\n",
    "       #(\"resource\",path+files[3]),\n",
    "       (\"timeslice\",'1'),\n",
    "        (\"variable\",'tas')\n",
    "           ])\n",
    "\n",
    "monitorExecution(execute, sleepSecs=5)\n",
    "print execute.getStatus()\n",
    "\n",
    "for o in execute.processOutputs:\n",
    "    print o.reference\n",
    "    "
   ]
  },
  {
   "cell_type": "code",
   "execution_count": 13,
   "metadata": {
    "collapsed": false
   },
   "outputs": [
    {
     "data": {
      "text/html": [
       "<img src=\"http://localhost:8090/wpsoutputs/flyingpigeon/output_graphic-bedc7e18-d723-11e5-a1ca-3563193f887d.png\"/>"
      ],
      "text/plain": [
       "<IPython.core.display.Image object>"
      ]
     },
     "execution_count": 13,
     "metadata": {},
     "output_type": "execute_result"
    }
   ],
   "source": [
    "graphic = 'http://localhost:8090/wpsoutputs/flyingpigeon/output_graphic-bedc7e18-d723-11e5-a1ca-3563193f887d.png'\n",
    "\n",
    "from IPython.display import Image\n",
    "from IPython.core.display import HTML \n",
    "Image(url= graphic )"
   ]
  }
 ],
 "metadata": {
  "kernelspec": {
   "display_name": "Python 2",
   "language": "python",
   "name": "python2"
  },
  "language_info": {
   "codemirror_mode": {
    "name": "ipython",
    "version": 2
   },
   "file_extension": ".py",
   "mimetype": "text/x-python",
   "name": "python",
   "nbconvert_exporter": "python",
   "pygments_lexer": "ipython2",
   "version": "2.7.11"
  }
 },
 "nbformat": 4,
 "nbformat_minor": 0
}
