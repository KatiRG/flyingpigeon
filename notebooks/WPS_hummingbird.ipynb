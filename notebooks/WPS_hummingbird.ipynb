{
 "cells": [
  {
   "cell_type": "markdown",
   "metadata": {},
   "source": [
    "## run request with owslib"
   ]
  },
  {
   "cell_type": "code",
   "execution_count": 1,
   "metadata": {
    "collapsed": true
   },
   "outputs": [],
   "source": [
    "from owslib.wps import WebProcessingService, monitorExecution, printInputOutput"
   ]
  },
  {
   "cell_type": "code",
   "execution_count": 3,
   "metadata": {
    "collapsed": false
   },
   "outputs": [],
   "source": [
    "# wps = WebProcessingService(url=\"http://localhost:8092/wps\", verbose=False)\n",
    "wps = WebProcessingService(url=\"http://birdhouse-lsce.extra.cea.fr:8092/wps\", verbose=False)"
   ]
  },
  {
   "cell_type": "code",
   "execution_count": 4,
   "metadata": {
    "collapsed": false
   },
   "outputs": [
    {
     "name": "stdout",
     "output_type": "stream",
     "text": [
      "ncmeta : \t Retrieve Metadata of NetCDF File\n",
      "cdo_sinfo : \t Apply CDO sinfo on NetCDF File.\n",
      "cdo_operation : \t Apply CDO Operation like monmax on NetCDF File.\n",
      "ensembles : \t Calling cdo to calculate ensembles operations.\n",
      "cfchecker : \t The cfchecker checks NetCDF files for compliance to the CF standard.\n",
      "tika : \t Extracts Metadata of Files\n",
      "qa_cfchecker : \t Qualtiy Assurance Tools by DKRZ: cfchecker checks NetCDF files for compliance to the CF standard.\n",
      "qa_checker : \t Qualtiy Assurance Tools by DKRZ: project specific checks for cordex, cmip5, ...\n",
      "ioos_cchecker : \t The IOOS Compliance Checker is a Python tool to check local/remote datasets against a variety of compliance standards.\n"
     ]
    }
   ],
   "source": [
    "for process in wps.processes:\n",
    "    print '%s : \\t %s' % (process.identifier, process.abstract, )"
   ]
  },
  {
   "cell_type": "code",
   "execution_count": 5,
   "metadata": {
    "collapsed": false
   },
   "outputs": [
    {
     "name": "stdout",
     "output_type": "stream",
     "text": [
      " identifier=netcdf_file, title=NetCDF File, abstract=NetCDF File, data type=ComplexData\n",
      " Supported Value: mimeType=application/x-netcdf, encoding=None, schema=None\n",
      " Default Value: mimeType=application/x-netcdf, encoding=None, schema=None \n",
      " minOccurs=1, maxOccurs=100\n"
     ]
    }
   ],
   "source": [
    "p = wps.describeprocess(identifier='cdo_sinfo')\n",
    "for input in p.dataInputs:\n",
    "    printInputOutput(input)\n",
    "    "
   ]
  },
  {
   "cell_type": "code",
   "execution_count": 6,
   "metadata": {
    "collapsed": true
   },
   "outputs": [],
   "source": [
    "in_file1 = 'file:///home/estimr1/EUCLEIA/gws-access.ceda.ac.uk/public/mohc_shared/EUCLEIA/MOHC/HadGEM3-A-N216/historical/r1i1p1/tas_day_HadGEM3-A-N216_historical_r1i1p1_19600101-19691230.nc'\n",
    "#in_file1 = 'file:///homel/nhempel/data/NCEP/slp.1948-2014_NA.nc'\n",
    "#in_file1 = 'file:///home/pingu/Public/data/esgf-archive/CORDEX/cordex/output/WAS-44/MPI-CSC/MPI-M-MPI-ESM-LR/historical/r1i1p1/MPI-CSC-REMO2009/v1/day/tasmax/v20140918/tasmax_WAS-44_MPI-M-MPI-ESM-LR_historical_r1i1p1_MPI-CSC-REMO2009_v1_day_20010101-20051231.nc'"
   ]
  },
  {
   "cell_type": "code",
   "execution_count": 7,
   "metadata": {
    "collapsed": false
   },
   "outputs": [
    {
     "name": "stderr",
     "output_type": "stream",
     "text": [
      "ERROR:owslib:Error: code=MissingParameterValue, locator=netcdf_file, text=\n"
     ]
    },
    {
     "name": "stdout",
     "output_type": "stream",
     "text": [
      " owslib.wps.WPSException : {'locator': 'netcdf_file', 'code': 'MissingParameterValue', 'text': ''}\n",
      "ProcessFailed\n"
     ]
    }
   ],
   "source": [
    "execute = wps.execute(\n",
    "    identifier=\"cdo_sinfo\", \n",
    "    inputs=[\n",
    "    (\"dataset\",in_file1)\n",
    "    ])\n",
    "\n",
    "monitorExecution(execute, sleepSecs=5)\n",
    "\n",
    "print execute.getStatus()\n",
    "\n",
    "for o in execute.processOutputs:\n",
    "    print o.reference"
   ]
  },
  {
   "cell_type": "markdown",
   "metadata": {},
   "source": [
    "## run sync request with get parameters"
   ]
  },
  {
   "cell_type": "code",
   "execution_count": null,
   "metadata": {
    "collapsed": true
   },
   "outputs": [],
   "source": [
    "sync_req_url = \"http://localhost:8093/wps?\" +\\\n",
    "    \"request=Execute\" +\\\n",
    "    \"&service=WPS\" +\\\n",
    "    \"&version=1.0.0\" +\\\n",
    "    \"&identifier=subset_countries\" +\\\n",
    "    \"&DataInputs=resource={resource};region={region}\" +\\\n",
    "    \"&storeExecuteResponse=false\" +\\\n",
    "    \"&status=false\""
   ]
  },
  {
   "cell_type": "code",
   "execution_count": null,
   "metadata": {
    "collapsed": false
   },
   "outputs": [],
   "source": [
    "url=sync_req_url.format(\n",
    "    resource=in_file1,\n",
    "    region='FRA')\n",
    "print url   "
   ]
  },
  {
   "cell_type": "code",
   "execution_count": null,
   "metadata": {
    "collapsed": false
   },
   "outputs": [],
   "source": [
    "import requests\n",
    "r = requests.get(url)\n",
    "print r.status_code\n",
    "print r.text"
   ]
  },
  {
   "cell_type": "markdown",
   "metadata": {},
   "source": [
    "## run async request with get parameters"
   ]
  },
  {
   "cell_type": "code",
   "execution_count": null,
   "metadata": {
    "collapsed": true
   },
   "outputs": [],
   "source": [
    "async_req_url = \"http://localhost:8093/wps?\" +\\\n",
    "    \"request=Execute\" +\\\n",
    "    \"&service=WPS\" +\\\n",
    "    \"&version=1.0.0\" +\\\n",
    "    \"&identifier=subset_countries\" +\\\n",
    "    \"&DataInputs=resource={resource};region={region}\" +\\\n",
    "    \"&storeExecuteResponse=true\" +\\\n",
    "    \"&status=true\""
   ]
  },
  {
   "cell_type": "code",
   "execution_count": null,
   "metadata": {
    "collapsed": false
   },
   "outputs": [],
   "source": [
    "url=async_req_url.format(\n",
    "    resource=in_file1,\n",
    "    region='FRA')\n",
    "print url   "
   ]
  },
  {
   "cell_type": "code",
   "execution_count": null,
   "metadata": {
    "collapsed": false
   },
   "outputs": [],
   "source": [
    "r = requests.get(url)\n",
    "from lxml import etree\n",
    "from io import BytesIO\n",
    "tree = etree.parse(BytesIO(r.content))\n",
    "#print etree.tostring(tree)\n",
    "status_url = tree.getroot().get(\"statusLocation\")\n",
    "print status_url"
   ]
  },
  {
   "cell_type": "code",
   "execution_count": null,
   "metadata": {
    "collapsed": false
   },
   "outputs": [],
   "source": [
    "r = requests.get(status_url)\n",
    "print r.status_code\n",
    "print r.text"
   ]
  },
  {
   "cell_type": "code",
   "execution_count": null,
   "metadata": {
    "collapsed": true
   },
   "outputs": [],
   "source": []
  }
 ],
 "metadata": {
  "kernelspec": {
   "display_name": "Python 2",
   "language": "python",
   "name": "python2"
  },
  "language_info": {
   "codemirror_mode": {
    "name": "ipython",
    "version": 2
   },
   "file_extension": ".py",
   "mimetype": "text/x-python",
   "name": "python",
   "nbconvert_exporter": "python",
   "pygments_lexer": "ipython2",
   "version": "2.7.11"
  }
 },
 "nbformat": 4,
 "nbformat_minor": 0
}
